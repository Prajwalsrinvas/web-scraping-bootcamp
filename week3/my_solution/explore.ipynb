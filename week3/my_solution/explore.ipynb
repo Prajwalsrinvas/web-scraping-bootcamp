{
 "cells": [
  {
   "attachments": {},
   "cell_type": "markdown",
   "metadata": {},
   "source": [
    "## Section 6: Project 1 - Portfolio Valuation With Google Finance"
   ]
  },
  {
   "cell_type": "code",
   "execution_count": 1,
   "metadata": {},
   "outputs": [],
   "source": [
    "import json\n",
    "import requests\n",
    "from bs4 import BeautifulSoup\n",
    "import pandas as pd"
   ]
  },
  {
   "cell_type": "code",
   "execution_count": 2,
   "metadata": {},
   "outputs": [],
   "source": [
    "# user input\n",
    "with open(\"stocks.json\") as f:\n",
    "    stocks = json.load(f)"
   ]
  },
  {
   "cell_type": "code",
   "execution_count": 3,
   "metadata": {},
   "outputs": [
    {
     "data": {
      "text/plain": [
       "{'output_currency': 'USD',\n",
       " 'stocks': [{'ticker': 'BNS', 'exchange': 'TSE', 'quantity': 100},\n",
       "  {'ticker': 'GOOGL', 'exchange': 'NASDAQ', 'quantity': 30},\n",
       "  {'ticker': 'SHOP', 'exchange': 'TSE', 'quantity': 10},\n",
       "  {'ticker': 'MSFT', 'exchange': 'NASDAQ', 'quantity': 2}]}"
      ]
     },
     "execution_count": 3,
     "metadata": {},
     "output_type": "execute_result"
    }
   ],
   "source": [
    "stocks"
   ]
  },
  {
   "cell_type": "code",
   "execution_count": 4,
   "metadata": {},
   "outputs": [],
   "source": [
    "def convert_currency(price, input_currency, output_currency):\n",
    "    if input_currency == output_currency:\n",
    "        return price\n",
    "    url = f\"https://www.google.com/finance/quote/{input_currency}-{output_currency}\"\n",
    "    resp = requests.get(url)\n",
    "    soup = BeautifulSoup(resp.content, \"html.parser\")\n",
    "    conversion_rate = float(\n",
    "        soup.find(\"div\", attrs={\"data-entity-type\": \"3\"})[\"data-last-price\"]\n",
    "    )\n",
    "    converted_price = round(price * conversion_rate, 2)\n",
    "    return converted_price"
   ]
  },
  {
   "cell_type": "code",
   "execution_count": 5,
   "metadata": {},
   "outputs": [],
   "source": [
    "def get_price(ticker, exchange, output_currency):\n",
    "    print(f\"Crawling {ticker}:{exchange}\")\n",
    "    url = f\"https://www.google.com/finance/quote/{ticker}:{exchange}\"\n",
    "    resp = requests.get(url)\n",
    "    soup = BeautifulSoup(resp.content, \"html.parser\")\n",
    "    stock_info = soup.find(\"div\", attrs={\"data-entity-type\": \"0\"})\n",
    "    input_currency = stock_info[\"data-currency-code\"]\n",
    "    price = float(stock_info[\"data-last-price\"])\n",
    "    converted_price = convert_currency(price, input_currency, output_currency)\n",
    "    print(f\"{input_currency} {price} ==> {output_currency} {converted_price}\\n\")\n",
    "    return converted_price"
   ]
  },
  {
   "cell_type": "code",
   "execution_count": 6,
   "metadata": {},
   "outputs": [
    {
     "name": "stdout",
     "output_type": "stream",
     "text": [
      "Crawling BNS:TSE\n",
      "CAD 66.65 ==> USD 49.29\n",
      "\n",
      "Crawling GOOGL:NASDAQ\n",
      "USD 123.39 ==> USD 123.39\n",
      "\n",
      "Crawling SHOP:TSE\n",
      "CAD 81.8 ==> USD 60.49\n",
      "\n",
      "Crawling MSFT:NASDAQ\n",
      "USD 316.95 ==> USD 316.95\n",
      "\n"
     ]
    }
   ],
   "source": [
    "output_currency = stocks[\"output_currency\"]\n",
    "total_portfolio_value = 0\n",
    "for stock in stocks[\"stocks\"]:\n",
    "    price = get_price(stock[\"ticker\"], stock[\"exchange\"], output_currency)\n",
    "    market_value = price * stock[\"quantity\"]\n",
    "    stock.update({\"price\": price, \"market_value\": market_value})\n",
    "    total_portfolio_value += market_value\n",
    "total_portfolio_value = round(total_portfolio_value, 2)"
   ]
  },
  {
   "cell_type": "code",
   "execution_count": 7,
   "metadata": {},
   "outputs": [],
   "source": [
    "# add percent_allocation\n",
    "for stock in stocks[\"stocks\"]:\n",
    "    percent_allocation = round((stock[\"market_value\"] / total_portfolio_value) * 100, 2)\n",
    "    stock.update({\"percent_allocation\": percent_allocation})"
   ]
  },
  {
   "cell_type": "code",
   "execution_count": 8,
   "metadata": {},
   "outputs": [
    {
     "data": {
      "text/plain": [
       "{'output_currency': 'USD',\n",
       " 'stocks': [{'ticker': 'BNS',\n",
       "   'exchange': 'TSE',\n",
       "   'quantity': 100,\n",
       "   'price': 49.29,\n",
       "   'market_value': 4929.0,\n",
       "   'percent_allocation': 49.94},\n",
       "  {'ticker': 'GOOGL',\n",
       "   'exchange': 'NASDAQ',\n",
       "   'quantity': 30,\n",
       "   'price': 123.39,\n",
       "   'market_value': 3701.7,\n",
       "   'percent_allocation': 37.51},\n",
       "  {'ticker': 'SHOP',\n",
       "   'exchange': 'TSE',\n",
       "   'quantity': 10,\n",
       "   'price': 60.49,\n",
       "   'market_value': 604.9,\n",
       "   'percent_allocation': 6.13},\n",
       "  {'ticker': 'MSFT',\n",
       "   'exchange': 'NASDAQ',\n",
       "   'quantity': 2,\n",
       "   'price': 316.95,\n",
       "   'market_value': 633.9,\n",
       "   'percent_allocation': 6.42}]}"
      ]
     },
     "execution_count": 8,
     "metadata": {},
     "output_type": "execute_result"
    }
   ],
   "source": [
    "stocks"
   ]
  },
  {
   "cell_type": "code",
   "execution_count": 9,
   "metadata": {},
   "outputs": [
    {
     "name": "stdout",
     "output_type": "stream",
     "text": [
      "| ticker   | exchange   |   quantity |   price |   market_value |   percent_allocation |\n",
      "|:---------|:-----------|-----------:|--------:|---------------:|---------------------:|\n",
      "| BNS      | TSE        |        100 |   49.29 |         4929   |                49.94 |\n",
      "| GOOGL    | NASDAQ     |         30 |  123.39 |         3701.7 |                37.51 |\n",
      "| SHOP     | TSE        |         10 |   60.49 |          604.9 |                 6.13 |\n",
      "| MSFT     | NASDAQ     |          2 |  316.95 |          633.9 |                 6.42 |\n"
     ]
    }
   ],
   "source": [
    "print(pd.DataFrame(stocks[\"stocks\"]).to_markdown(index=False))"
   ]
  },
  {
   "cell_type": "code",
   "execution_count": 10,
   "metadata": {},
   "outputs": [
    {
     "name": "stdout",
     "output_type": "stream",
     "text": [
      "Total portfolio value: USD 9869.5\n"
     ]
    }
   ],
   "source": [
    "print(f\"Total portfolio value: {output_currency} {total_portfolio_value}\")"
   ]
  },
  {
   "cell_type": "code",
   "execution_count": null,
   "metadata": {},
   "outputs": [],
   "source": []
  }
 ],
 "metadata": {
  "kernelspec": {
   "display_name": "base",
   "language": "python",
   "name": "python3"
  },
  "language_info": {
   "codemirror_mode": {
    "name": "ipython",
    "version": 3
   },
   "file_extension": ".py",
   "mimetype": "text/x-python",
   "name": "python",
   "nbconvert_exporter": "python",
   "pygments_lexer": "ipython3",
   "version": "3.10.9"
  },
  "orig_nbformat": 4
 },
 "nbformat": 4,
 "nbformat_minor": 2
}
