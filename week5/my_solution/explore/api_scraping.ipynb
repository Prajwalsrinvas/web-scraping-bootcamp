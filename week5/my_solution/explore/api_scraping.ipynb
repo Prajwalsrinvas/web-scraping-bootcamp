{
 "cells": [
  {
   "attachments": {},
   "cell_type": "markdown",
   "metadata": {},
   "source": [
    "## Section 9: Project 2 - Image Scraper"
   ]
  },
  {
   "attachments": {},
   "cell_type": "markdown",
   "metadata": {},
   "source": [
    "### Using API Scraping"
   ]
  },
  {
   "cell_type": "code",
   "execution_count": 8,
   "metadata": {},
   "outputs": [],
   "source": [
    "import requests\n",
    "import os\n",
    "import jmespath as jp\n",
    "from tqdm.auto import tqdm\n",
    "import time"
   ]
  },
  {
   "attachments": {},
   "cell_type": "markdown",
   "metadata": {},
   "source": [
    "API response: https://jsonhero.io/j/S6YVDIDz5X7Z"
   ]
  },
  {
   "attachments": {},
   "cell_type": "markdown",
   "metadata": {},
   "source": [
    "JSON Hero gives the JPATH for a given node, so we can parse using JPATH, instead of python dictionaries"
   ]
  },
  {
   "cell_type": "code",
   "execution_count": 9,
   "metadata": {},
   "outputs": [],
   "source": [
    "# !pip install jmespath"
   ]
  },
  {
   "cell_type": "code",
   "execution_count": 10,
   "metadata": {},
   "outputs": [],
   "source": [
    "def hit_unsplash_api(keyword, page=1):\n",
    "    headers = {\n",
    "        \"authority\": \"unsplash.com\",\n",
    "        \"accept\": \"*/*\",\n",
    "        \"accept-language\": \"en-US\",\n",
    "        \"referer\": \"https://unsplash.com/s/photos/pandas\",\n",
    "        \"sec-ch-ua\": '\"Google Chrome\";v=\"113\", \"Chromium\";v=\"113\", \"Not-A.Brand\";v=\"24\"',\n",
    "        \"sec-ch-ua-mobile\": \"?0\",\n",
    "        \"sec-ch-ua-platform\": '\"Linux\"',\n",
    "        \"sec-fetch-dest\": \"empty\",\n",
    "        \"sec-fetch-mode\": \"cors\",\n",
    "        \"sec-fetch-site\": \"same-origin\",\n",
    "        \"user-agent\": \"Mozilla/5.0 (X11; Linux x86_64) AppleWebKit/537.36 (KHTML, like Gecko) Chrome/113.0.0.0 Safari/537.36\",\n",
    "    }\n",
    "    params = {\n",
    "        \"query\": keyword,\n",
    "        \"per_page\": \"10\",\n",
    "        \"page\": f\"{page}\",\n",
    "    }\n",
    "    response = requests.get(\n",
    "        \"https://unsplash.com/napi/search/photos\", params=params, headers=headers\n",
    "    )\n",
    "    time.sleep(1)\n",
    "    data = response.json()\n",
    "    jmes_path = \"results[?premium==`false`].links.download\"\n",
    "    image_links = jp.search(jmes_path, data)\n",
    "    return image_links"
   ]
  },
  {
   "cell_type": "code",
   "execution_count": 11,
   "metadata": {},
   "outputs": [],
   "source": [
    "def get_image_links(keyword, image_count):\n",
    "    images_per_page = 10\n",
    "    all_image_links = []\n",
    "\n",
    "    print(f\"[x] {keyword=}\")\n",
    "    pages_to_crawl = (image_count // images_per_page) + 1\n",
    "    print(f\"[x] {pages_to_crawl=}\")\n",
    "\n",
    "    if image_count < images_per_page:\n",
    "        image_links = hit_unsplash_api(keyword)\n",
    "        all_image_links.extend(image_links)\n",
    "    else:\n",
    "        for page in tqdm(\n",
    "            range(1, pages_to_crawl + 1),\n",
    "            desc=\"Getting links\",\n",
    "        ):\n",
    "            image_links = hit_unsplash_api(keyword, page=page)\n",
    "            all_image_links.extend(image_links)\n",
    "\n",
    "    print(f\"[x] Found {len(all_image_links)} '{keyword}' free images\")\n",
    "    return all_image_links"
   ]
  },
  {
   "cell_type": "code",
   "execution_count": 12,
   "metadata": {},
   "outputs": [],
   "source": [
    "def download_images(keyword, image_links):\n",
    "    BASE_FOLDER = \"images\"\n",
    "    keyword = keyword.lower().replace(\" \", \"_\")\n",
    "    os.makedirs(os.path.join(BASE_FOLDER, keyword), exist_ok=True)\n",
    "    print(f\"[x] Downloading {image_count} images\")\n",
    "    image_links = image_links[:image_count]\n",
    "    for index, image_link in tqdm(\n",
    "        enumerate(image_links, start=1),\n",
    "        desc=\"Downloading images\",\n",
    "        total=len(image_links),\n",
    "    ):\n",
    "        response = requests.get(image_link)\n",
    "        image_path = os.path.join(BASE_FOLDER, keyword, f\"{keyword}_{index}.jpg\")\n",
    "        with open(image_path, \"wb\") as f:\n",
    "            f.write(response.content)"
   ]
  },
  {
   "cell_type": "code",
   "execution_count": 13,
   "metadata": {},
   "outputs": [],
   "source": [
    "keywords = {\n",
    "    \"Outer Space\": 5,\n",
    "    \"redpanda\": 10,\n",
    "    \"Mountain Range\": 15,\n",
    "    \"fractals\": 20,\n",
    "    \"Animals and birds\": 25,\n",
    "}"
   ]
  },
  {
   "cell_type": "code",
   "execution_count": 14,
   "metadata": {},
   "outputs": [
    {
     "name": "stdout",
     "output_type": "stream",
     "text": [
      "[x] keyword='Outer Space'\n",
      "[x] pages_to_crawl=1\n",
      "[x] Found 8 'Outer Space' free images\n",
      "[x] Downloading 5 images\n"
     ]
    },
    {
     "data": {
      "application/vnd.jupyter.widget-view+json": {
       "model_id": "b8ea3e5195614f24b6b605b11ba188bc",
       "version_major": 2,
       "version_minor": 0
      },
      "text/plain": [
       "Downloading images:   0%|          | 0/5 [00:00<?, ?it/s]"
      ]
     },
     "metadata": {},
     "output_type": "display_data"
    },
    {
     "name": "stdout",
     "output_type": "stream",
     "text": [
      "\n",
      "[x] keyword='redpanda'\n",
      "[x] pages_to_crawl=2\n"
     ]
    },
    {
     "data": {
      "application/vnd.jupyter.widget-view+json": {
       "model_id": "529ae9ec48c2471289ebae72d9ad7559",
       "version_major": 2,
       "version_minor": 0
      },
      "text/plain": [
       "Getting links:   0%|          | 0/2 [00:00<?, ?it/s]"
      ]
     },
     "metadata": {},
     "output_type": "display_data"
    },
    {
     "name": "stdout",
     "output_type": "stream",
     "text": [
      "[x] Found 10 'redpanda' free images\n",
      "[x] Downloading 10 images\n"
     ]
    },
    {
     "data": {
      "application/vnd.jupyter.widget-view+json": {
       "model_id": "10555d54124f4eb2b53d25709602125b",
       "version_major": 2,
       "version_minor": 0
      },
      "text/plain": [
       "Downloading images:   0%|          | 0/10 [00:00<?, ?it/s]"
      ]
     },
     "metadata": {},
     "output_type": "display_data"
    },
    {
     "name": "stdout",
     "output_type": "stream",
     "text": [
      "\n",
      "[x] keyword='Mountain Range'\n",
      "[x] pages_to_crawl=2\n"
     ]
    },
    {
     "data": {
      "application/vnd.jupyter.widget-view+json": {
       "model_id": "f7ca1715a5784d04bb3b5680b1e1daf4",
       "version_major": 2,
       "version_minor": 0
      },
      "text/plain": [
       "Getting links:   0%|          | 0/2 [00:00<?, ?it/s]"
      ]
     },
     "metadata": {},
     "output_type": "display_data"
    },
    {
     "name": "stdout",
     "output_type": "stream",
     "text": [
      "[x] Found 16 'Mountain Range' free images\n",
      "[x] Downloading 15 images\n"
     ]
    },
    {
     "data": {
      "application/vnd.jupyter.widget-view+json": {
       "model_id": "e755a05b20074e88bda30045d8de573e",
       "version_major": 2,
       "version_minor": 0
      },
      "text/plain": [
       "Downloading images:   0%|          | 0/15 [00:00<?, ?it/s]"
      ]
     },
     "metadata": {},
     "output_type": "display_data"
    },
    {
     "name": "stdout",
     "output_type": "stream",
     "text": [
      "\n",
      "[x] keyword='fractals'\n",
      "[x] pages_to_crawl=3\n"
     ]
    },
    {
     "data": {
      "application/vnd.jupyter.widget-view+json": {
       "model_id": "050bbd50f52d4b05a897c0964a2c758b",
       "version_major": 2,
       "version_minor": 0
      },
      "text/plain": [
       "Getting links:   0%|          | 0/3 [00:00<?, ?it/s]"
      ]
     },
     "metadata": {},
     "output_type": "display_data"
    },
    {
     "name": "stdout",
     "output_type": "stream",
     "text": [
      "[x] Found 25 'fractals' free images\n",
      "[x] Downloading 20 images\n"
     ]
    },
    {
     "data": {
      "application/vnd.jupyter.widget-view+json": {
       "model_id": "3df0da7c1e9b443d91e7b015b5a117ad",
       "version_major": 2,
       "version_minor": 0
      },
      "text/plain": [
       "Downloading images:   0%|          | 0/20 [00:00<?, ?it/s]"
      ]
     },
     "metadata": {},
     "output_type": "display_data"
    },
    {
     "name": "stdout",
     "output_type": "stream",
     "text": [
      "\n",
      "[x] keyword='Animals and birds'\n",
      "[x] pages_to_crawl=3\n"
     ]
    },
    {
     "data": {
      "application/vnd.jupyter.widget-view+json": {
       "model_id": "4c5f7a40ced74ade967e8d52eee78218",
       "version_major": 2,
       "version_minor": 0
      },
      "text/plain": [
       "Getting links:   0%|          | 0/3 [00:00<?, ?it/s]"
      ]
     },
     "metadata": {},
     "output_type": "display_data"
    },
    {
     "name": "stdout",
     "output_type": "stream",
     "text": [
      "[x] Found 25 'Animals and birds' free images\n",
      "[x] Downloading 25 images\n"
     ]
    },
    {
     "data": {
      "application/vnd.jupyter.widget-view+json": {
       "model_id": "d373ac7118fd4c22870631f1427b9569",
       "version_major": 2,
       "version_minor": 0
      },
      "text/plain": [
       "Downloading images:   0%|          | 0/25 [00:00<?, ?it/s]"
      ]
     },
     "metadata": {},
     "output_type": "display_data"
    },
    {
     "name": "stdout",
     "output_type": "stream",
     "text": [
      "\n"
     ]
    }
   ],
   "source": [
    "for keyword, image_count in keywords.items():\n",
    "    image_links = get_image_links(keyword, image_count)\n",
    "    download_images(keyword, image_links)\n",
    "    print()"
   ]
  },
  {
   "cell_type": "code",
   "execution_count": null,
   "metadata": {},
   "outputs": [],
   "source": []
  }
 ],
 "metadata": {
  "kernelspec": {
   "display_name": "base",
   "language": "python",
   "name": "python3"
  },
  "language_info": {
   "codemirror_mode": {
    "name": "ipython",
    "version": 3
   },
   "file_extension": ".py",
   "mimetype": "text/x-python",
   "name": "python",
   "nbconvert_exporter": "python",
   "pygments_lexer": "ipython3",
   "version": "3.10.9"
  },
  "orig_nbformat": 4
 },
 "nbformat": 4,
 "nbformat_minor": 2
}
