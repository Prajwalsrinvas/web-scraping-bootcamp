{
 "cells": [
  {
   "attachments": {},
   "cell_type": "markdown",
   "metadata": {},
   "source": [
    "## Section 9: Project 2 - Image Scraper"
   ]
  },
  {
   "attachments": {},
   "cell_type": "markdown",
   "metadata": {},
   "source": [
    "### Using HTML Scraping"
   ]
  },
  {
   "cell_type": "code",
   "execution_count": 1,
   "metadata": {},
   "outputs": [],
   "source": [
    "import requests\n",
    "from selectolax.lexbor import LexborHTMLParser\n",
    "import os\n",
    "from tqdm.auto import tqdm"
   ]
  },
  {
   "cell_type": "code",
   "execution_count": 2,
   "metadata": {},
   "outputs": [],
   "source": [
    "def get_image_links(keyword):\n",
    "    headers = {\n",
    "        \"authority\": \"unsplash.com\",\n",
    "        \"accept\": \"text/html,application/xhtml+xml,application/xml;q=0.9,image/avif,image/webp,image/apng,*/*;q=0.8,application/signed-exchange;v=b3;q=0.7\",\n",
    "        \"accept-language\": \"en-US,en;q=0.9\",\n",
    "        \"cache-control\": \"no-cache\",\n",
    "        \"pragma\": \"no-cache\",\n",
    "        \"referer\": \"https://www.google.com/\",\n",
    "        \"sec-ch-ua\": '\"Google Chrome\";v=\"113\", \"Chromium\";v=\"113\", \"Not-A.Brand\";v=\"24\"',\n",
    "        \"sec-ch-ua-mobile\": \"?0\",\n",
    "        \"sec-ch-ua-platform\": '\"Linux\"',\n",
    "        \"sec-fetch-dest\": \"document\",\n",
    "        \"sec-fetch-mode\": \"navigate\",\n",
    "        \"sec-fetch-site\": \"same-origin\",\n",
    "        \"sec-fetch-user\": \"?1\",\n",
    "        \"upgrade-insecure-requests\": \"1\",\n",
    "        \"user-agent\": \"Mozilla/5.0 (X11; Linux x86_64) AppleWebKit/537.36 (KHTML, like Gecko) Chrome/113.0.0.0 Safari/537.36\",\n",
    "    }\n",
    "    response = requests.get(f\"https://unsplash.com/s/photos/{keyword}\", headers=headers)\n",
    "    tree = LexborHTMLParser(response.text)\n",
    "    all_image_links = [\n",
    "        node.attributes[\"href\"]\n",
    "        for node in tree.css('a[data-test=\"non-sponsored-photo-download-button\"]')\n",
    "    ]\n",
    "    print(f\"[x] Found {len(all_image_links)} '{keyword}' images\")\n",
    "    return all_image_links"
   ]
  },
  {
   "cell_type": "code",
   "execution_count": 3,
   "metadata": {},
   "outputs": [],
   "source": [
    "def download_images(keyword, all_image_links, image_count):\n",
    "    BASE_FOLDER = \"images\"\n",
    "    keyword = keyword.lower().replace(\" \", \"_\")\n",
    "    os.makedirs(os.path.join(BASE_FOLDER, keyword), exist_ok=True)\n",
    "    print(f\"[x] Downloading {image_count} images\")\n",
    "    image_links = all_image_links[:image_count]\n",
    "    for index, image_link in tqdm(\n",
    "        enumerate(image_links, start=1),\n",
    "        desc=\"Downloading images\",\n",
    "        total=len(image_links),\n",
    "    ):\n",
    "        response = requests.get(image_link)\n",
    "        image_path = os.path.join(BASE_FOLDER, keyword, f\"{keyword}_{index}.jpg\")\n",
    "        with open(image_path, \"wb\") as f:\n",
    "            f.write(response.content)"
   ]
  },
  {
   "cell_type": "code",
   "execution_count": 4,
   "metadata": {},
   "outputs": [],
   "source": [
    "keywords = {\n",
    "    \"Outer Space\": 2,\n",
    "    \"redpanda\": 3,\n",
    "    \"Mountain Range\": 2,\n",
    "    \"fractals\": 3,\n",
    "    \"Animals and birds\": 3,\n",
    "}"
   ]
  },
  {
   "cell_type": "code",
   "execution_count": 5,
   "metadata": {},
   "outputs": [
    {
     "name": "stdout",
     "output_type": "stream",
     "text": [
      "[x] Found 16 'Outer Space' images\n",
      "[x] Downloading 2 images\n"
     ]
    },
    {
     "data": {
      "application/vnd.jupyter.widget-view+json": {
       "model_id": "487a6accb5184e90884fa38b3018f942",
       "version_major": 2,
       "version_minor": 0
      },
      "text/plain": [
       "Downloading images:   0%|          | 0/2 [00:00<?, ?it/s]"
      ]
     },
     "metadata": {},
     "output_type": "display_data"
    },
    {
     "name": "stdout",
     "output_type": "stream",
     "text": [
      "\n",
      "[x] Found 10 'redpanda' images\n",
      "[x] Downloading 3 images\n"
     ]
    },
    {
     "data": {
      "application/vnd.jupyter.widget-view+json": {
       "model_id": "7d6751ca7b544f299350c8833863239f",
       "version_major": 2,
       "version_minor": 0
      },
      "text/plain": [
       "Downloading images:   0%|          | 0/3 [00:00<?, ?it/s]"
      ]
     },
     "metadata": {},
     "output_type": "display_data"
    },
    {
     "name": "stdout",
     "output_type": "stream",
     "text": [
      "\n",
      "[x] Found 16 'Mountain Range' images\n",
      "[x] Downloading 2 images\n"
     ]
    },
    {
     "data": {
      "application/vnd.jupyter.widget-view+json": {
       "model_id": "2381d27ef2ad479da012bcab46895ecd",
       "version_major": 2,
       "version_minor": 0
      },
      "text/plain": [
       "Downloading images:   0%|          | 0/2 [00:00<?, ?it/s]"
      ]
     },
     "metadata": {},
     "output_type": "display_data"
    },
    {
     "name": "stdout",
     "output_type": "stream",
     "text": [
      "\n",
      "[x] Found 16 'fractals' images\n",
      "[x] Downloading 3 images\n"
     ]
    },
    {
     "data": {
      "application/vnd.jupyter.widget-view+json": {
       "model_id": "b1c159cd3751491f9c5fc9cf53c7cea7",
       "version_major": 2,
       "version_minor": 0
      },
      "text/plain": [
       "Downloading images:   0%|          | 0/3 [00:00<?, ?it/s]"
      ]
     },
     "metadata": {},
     "output_type": "display_data"
    },
    {
     "name": "stdout",
     "output_type": "stream",
     "text": [
      "\n",
      "[x] Found 16 'Animals and birds' images\n",
      "[x] Downloading 3 images\n"
     ]
    },
    {
     "data": {
      "application/vnd.jupyter.widget-view+json": {
       "model_id": "4cb0a9d67a474e93b7ba6e0da3ac7227",
       "version_major": 2,
       "version_minor": 0
      },
      "text/plain": [
       "Downloading images:   0%|          | 0/3 [00:00<?, ?it/s]"
      ]
     },
     "metadata": {},
     "output_type": "display_data"
    },
    {
     "name": "stdout",
     "output_type": "stream",
     "text": [
      "\n"
     ]
    }
   ],
   "source": [
    "for keyword, image_count in keywords.items():\n",
    "    all_image_links = get_image_links(keyword)\n",
    "    download_images(keyword, all_image_links, image_count)\n",
    "    print()"
   ]
  },
  {
   "cell_type": "code",
   "execution_count": null,
   "metadata": {},
   "outputs": [],
   "source": []
  }
 ],
 "metadata": {
  "kernelspec": {
   "display_name": "base",
   "language": "python",
   "name": "python3"
  },
  "language_info": {
   "codemirror_mode": {
    "name": "ipython",
    "version": 3
   },
   "file_extension": ".py",
   "mimetype": "text/x-python",
   "name": "python",
   "nbconvert_exporter": "python",
   "pygments_lexer": "ipython3",
   "version": "3.10.9"
  },
  "orig_nbformat": 4
 },
 "nbformat": 4,
 "nbformat_minor": 2
}
