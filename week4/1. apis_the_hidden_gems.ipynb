{
 "cells": [
  {
   "attachments": {},
   "cell_type": "markdown",
   "metadata": {},
   "source": [
    "## Section 7: APIs: The Hidden Gems"
   ]
  },
  {
   "attachments": {},
   "cell_type": "markdown",
   "metadata": {},
   "source": [
    "### Replicating an API request\n",
    "\n",
    "**chrome devtools network tab -> cURL -> python (using httpie/postman/curlconverter)**"
   ]
  },
  {
   "cell_type": "code",
   "execution_count": 1,
   "metadata": {},
   "outputs": [],
   "source": [
    "import requests\n",
    "from pprint import pprint"
   ]
  },
  {
   "cell_type": "code",
   "execution_count": 2,
   "metadata": {},
   "outputs": [],
   "source": [
    "headers = {\n",
    "    \"Content-Type\": \"application/json\",\n",
    "    \"accept\": \"*/*\",\n",
    "    \"accept-language\": \"en-US,en;q=0.9\",\n",
    "    \"apollographql-client-name\": \"wl-web\",\n",
    "    \"apollographql-client-version\": \"6d001c1\",\n",
    "    \"authority\": \"use1-prod-th.rbictg.com\",\n",
    "    \"origin\": \"https://www.timhortons.ca\",\n",
    "    \"sec-ch-ua\": '\"Google Chrome\";v=\"113\", \"Chromium\";v=\"113\", \"Not-A.Brand\";v=\"24\"',\n",
    "    \"sec-ch-ua-mobile\": \"?0\",\n",
    "    \"sec-ch-ua-platform\": '\"Linux\"',\n",
    "    \"sec-fetch-dest\": \"empty\",\n",
    "    \"sec-fetch-mode\": \"cors\",\n",
    "    \"sec-fetch-site\": \"cross-site\",\n",
    "    \"user-agent\": \"Mozilla/5.0 (X11; Linux x86_64) AppleWebKit/537.36 (KHTML, like Gecko) Chrome/113.0.0.0 Safari/537.36\",\n",
    "    \"x-forter-token\": \"96ee0b7374c34d56a9ce2eae6d2732c8_1684681732309__UDF43-m4_13ck_tt\",\n",
    "    \"x-session-id\": \"A78659A2-78F8-4FD4-9E50-2D59A9A8985D\",\n",
    "    \"x-ui-language\": \"en\",\n",
    "    \"x-ui-platform\": \"web\",\n",
    "    \"x-ui-region\": \"CA\",\n",
    "    \"x-user-datetime\": \"2023-05-21T20:39:14+05:30\",\n",
    "}"
   ]
  },
  {
   "cell_type": "code",
   "execution_count": 3,
   "metadata": {},
   "outputs": [],
   "source": [
    "json_data = [\n",
    "    {\n",
    "        \"operationName\": \"GetRestaurants\",\n",
    "        \"variables\": {\n",
    "            \"input\": {\n",
    "                \"filter\": \"NEARBY\",\n",
    "                \"coordinates\": {\n",
    "                    \"userLat\": 43.653226,\n",
    "                    \"userLng\": -79.3831843,\n",
    "                    \"searchRadius\": 8000,\n",
    "                },\n",
    "                \"first\": 20,\n",
    "                \"status\": \"OPEN\",\n",
    "            },\n",
    "        },\n",
    "        \"query\": \"query GetRestaurants($input: RestaurantsInput) {\\n  restaurants(input: $input) {\\n    pageInfo {\\n      hasNextPage\\n      endCursor\\n      __typename\\n    }\\n    totalCount\\n    nodes {\\n      ...RestaurantNodeFragment\\n      __typename\\n    }\\n    __typename\\n  }\\n}\\n\\nfragment RestaurantNodeFragment on RestaurantNode {\\n  _id\\n  storeId\\n  isAvailable\\n  posVendor\\n  chaseMerchantId\\n  curbsideHours {\\n    ...OperatingHoursFragment\\n    __typename\\n  }\\n  deliveryHours {\\n    ...OperatingHoursFragment\\n    __typename\\n  }\\n  diningRoomHours {\\n    ...OperatingHoursFragment\\n    __typename\\n  }\\n  distanceInMiles\\n  drinkStationType\\n  driveThruHours {\\n    ...OperatingHoursFragment\\n    __typename\\n  }\\n  driveThruLaneType\\n  email\\n  environment\\n  franchiseGroupId\\n  franchiseGroupName\\n  frontCounterClosed\\n  hasBreakfast\\n  hasBurgersForBreakfast\\n  hasCatering\\n  hasCurbside\\n  hasDelivery\\n  hasDineIn\\n  hasDriveThru\\n  hasTableService\\n  hasMobileOrdering\\n  hasLateNightMenu\\n  hasParking\\n  hasPlayground\\n  hasTakeOut\\n  hasWifi\\n  hasLoyalty\\n  id\\n  isDarkKitchen\\n  isFavorite\\n  isHalal\\n  isRecent\\n  latitude\\n  longitude\\n  mobileOrderingStatus\\n  name\\n  number\\n  parkingType\\n  phoneNumber\\n  physicalAddress {\\n    address1\\n    address2\\n    city\\n    country\\n    postalCode\\n    stateProvince\\n    stateProvinceShort\\n    __typename\\n  }\\n  playgroundType\\n  pos {\\n    vendor\\n    __typename\\n  }\\n  posRestaurantId\\n  restaurantImage {\\n    asset {\\n      _id\\n      metadata {\\n        lqip\\n        palette {\\n          dominant {\\n            background\\n            foreground\\n            __typename\\n          }\\n          __typename\\n        }\\n        __typename\\n      }\\n      __typename\\n    }\\n    crop {\\n      top\\n      bottom\\n      left\\n      right\\n      __typename\\n    }\\n    hotspot {\\n      height\\n      width\\n      x\\n      y\\n      __typename\\n    }\\n    __typename\\n  }\\n  restaurantPosData {\\n    _id\\n    __typename\\n  }\\n  status\\n  vatNumber\\n  __typename\\n}\\n\\nfragment OperatingHoursFragment on OperatingHours {\\n  friClose\\n  friOpen\\n  monClose\\n  monOpen\\n  satClose\\n  satOpen\\n  sunClose\\n  sunOpen\\n  thrClose\\n  thrOpen\\n  tueClose\\n  tueOpen\\n  wedClose\\n  wedOpen\\n  __typename\\n}\\n\",\n",
    "    },\n",
    "]"
   ]
  },
  {
   "cell_type": "code",
   "execution_count": 4,
   "metadata": {},
   "outputs": [],
   "source": [
    "response = requests.post(\n",
    "    \"https://use1-prod-th.rbictg.com/graphql\", headers=headers, json=json_data\n",
    ")"
   ]
  },
  {
   "cell_type": "code",
   "execution_count": 5,
   "metadata": {},
   "outputs": [
    {
     "data": {
      "text/plain": [
       "20"
      ]
     },
     "execution_count": 5,
     "metadata": {},
     "output_type": "execute_result"
    }
   ],
   "source": [
    "restaurants = [i[\"name\"] for i in response.json()[0][\"data\"][\"restaurants\"][\"nodes\"]]\n",
    "len(restaurants)"
   ]
  },
  {
   "cell_type": "code",
   "execution_count": 6,
   "metadata": {},
   "outputs": [
    {
     "name": "stdout",
     "output_type": "stream",
     "text": [
      "['65 Queen St West Toronto, Ontario M5H 2M5 - Canada',\n",
      " '218 Yonge Street Toronto, Ontario M5B 2H1 - Canada',\n",
      " '120 Adelaide St W Unit Fc-09 Toronto, Ontario M5H 1T1 - Canada',\n",
      " '1 Richmond Street West Toronto, Ontario M5H 3W4 - Canada',\n",
      " '2 Queen St East Toronto, Ontario M5C 3G7 - Canada',\n",
      " '595 Bay Street Toronto, Ontario M5G 2C2 - Canada',\n",
      " '333 Bay Street (PATH) Toronto, Ontario M5H 2R2 - Canada',\n",
      " 'St. Mike’s Hospital Main Cafeteria - 30 Bond St Toronto, Ontario M5B 1W8 - '\n",
      " 'Canada',\n",
      " 'St. Mike’s Hospital PTG Building - 36 Queen Street Toronto, Ontario M5B 1W8 '\n",
      " '- Canada',\n",
      " '10 Dundas St E , Suite 104 Toronto, Ontario M5B 2G8 - Canada',\n",
      " '26 Dundas Street Toronto, Ontario M5B 2L6 - Canada',\n",
      " '130 King St West Toronto, Ontario M5X 1A9 - Canada',\n",
      " '100 King Street West Toronto, Ontario M5X 2A1 - Canada',\n",
      " '438 University Avenue Toronto, Ontario M5G 2K8 - Canada',\n",
      " '148 Simcoe Street Toronto, Ontario M5H 3G4 - Canada',\n",
      " '40 King St W Toronto, Ontario M5H 3Y2 - Canada',\n",
      " '170 University Ave Toronto, Ontario M5H 3B3 - Canada',\n",
      " '77 King Street West Toronto, Ontario M5K 2A1 - Canada',\n",
      " '150 King Steet West Toronto, Ontario M5J 1J9 - Canada',\n",
      " '70 Gerrard Street West Toronto, Ontario M5G 1J5 - Canada']\n"
     ]
    }
   ],
   "source": [
    "pprint(restaurants)"
   ]
  },
  {
   "attachments": {},
   "cell_type": "markdown",
   "metadata": {},
   "source": [
    "### challenge: get open positions from Tims Careers page"
   ]
  },
  {
   "cell_type": "code",
   "execution_count": 7,
   "metadata": {},
   "outputs": [],
   "source": [
    "def get_lat_lng(address):\n",
    "    params = {\n",
    "        \"q\": address,\n",
    "    }\n",
    "\n",
    "    response = requests.get(\"https://geocode.maps.co/search\", params=params)\n",
    "    return response.json()[0][\"lat\"], response.json()[0][\"lon\"]"
   ]
  },
  {
   "cell_type": "code",
   "execution_count": 8,
   "metadata": {},
   "outputs": [],
   "source": [
    "def get_jobs(address, results_count):\n",
    "    headers = {\n",
    "        \"authority\": \"api.higherme.com\",\n",
    "        \"accept\": \"application/json, text/plain, */*\",\n",
    "        \"accept-language\": \"en-US,en;q=0.9\",\n",
    "        \"higherme-client-version\": \"2023.0.12.0a\",\n",
    "        \"origin\": \"https://app.higherme.com\",\n",
    "        \"sec-ch-ua\": '\"Google Chrome\";v=\"113\", \"Chromium\";v=\"113\", \"Not-A.Brand\";v=\"24\"',\n",
    "        \"sec-ch-ua-mobile\": \"?0\",\n",
    "        \"sec-ch-ua-platform\": '\"Linux\"',\n",
    "        \"sec-fetch-dest\": \"empty\",\n",
    "        \"sec-fetch-mode\": \"cors\",\n",
    "        \"sec-fetch-site\": \"same-site\",\n",
    "        \"user-agent\": \"Mozilla/5.0 (X11; Linux x86_64) AppleWebKit/537.36 (KHTML, like Gecko) Chrome/113.0.0.0 Safari/537.36\",\n",
    "    }\n",
    "    lat, lng = get_lat_lng(address)\n",
    "    print(f\"Fetching {results_count} jobs for {address=} with {lat=} and {lng=}\")\n",
    "    response = requests.get(\n",
    "        f\"https://api.higherme.com/classic/jobs?page=1&includes=location,location.company&limit={results_count}&filters[brand.id]=58bd9e7f472bd&filters[lat]={lat}&filters[lng]={lng}&filters[distance]=6.25&sort[distance]=asc\",\n",
    "        headers=headers,\n",
    "    )\n",
    "    jobs = []\n",
    "    for position in response.json()[\"data\"]:\n",
    "        attributes = position[\"attributes\"]\n",
    "        title = attributes[\"title\"]\n",
    "        full_time = attributes[\"full_time\"]\n",
    "        distance = attributes[\"distance\"]\n",
    "        requirements = attributes[\"requirements\"]\n",
    "        jobs.append(\n",
    "            {\n",
    "                \"title\": title,\n",
    "                \"full_time\": full_time,\n",
    "                \"distance\": distance,\n",
    "                \"requirements\": requirements,\n",
    "            }\n",
    "        )\n",
    "    return jobs"
   ]
  },
  {
   "cell_type": "code",
   "execution_count": 9,
   "metadata": {},
   "outputs": [
    {
     "name": "stdout",
     "output_type": "stream",
     "text": [
      "Fetching 5 jobs for address='Toronto ON, Canada' with lat='43.6534817' and lng='-79.3839347'\n"
     ]
    }
   ],
   "source": [
    "jobs = get_jobs(address=\"Toronto ON, Canada\", results_count=5)"
   ]
  },
  {
   "cell_type": "code",
   "execution_count": 10,
   "metadata": {},
   "outputs": [
    {
     "name": "stdout",
     "output_type": "stream",
     "text": [
      "[{'title': 'Baker',\n",
      "  'full_time': False,\n",
      "  'distance': 0.4,\n",
      "  'requirements': ['Customer service background preferred',\n",
      "                   'Must be able to lift 25 lbs',\n",
      "                   'Previous experience in Quick Service an asset',\n",
      "                   'Friendly and outgoing',\n",
      "                   'Flexible schedule']},\n",
      " {'title': 'Night Shift Team Member',\n",
      "  'full_time': False,\n",
      "  'distance': 0.4,\n",
      "  'requirements': ['Customer service background preferred',\n",
      "                   'Must be able to lift 25 lbs',\n",
      "                   'Previous experience in Quick Service an asset',\n",
      "                   'Friendly and outgoing',\n",
      "                   'Flexible schedule']},\n",
      " {'title': 'Team Member',\n",
      "  'full_time': False,\n",
      "  'distance': 0.4,\n",
      "  'requirements': ['Customer service background preferred',\n",
      "                   'Must be able to lift 25 lbs',\n",
      "                   'Previous experience in Quick Service an asset',\n",
      "                   'Friendly and outgoing',\n",
      "                   'Flexible schedule']},\n",
      " {'title': 'Supervisor',\n",
      "  'full_time': True,\n",
      "  'distance': 0.4,\n",
      "  'requirements': []},\n",
      " {'title': 'Team Member',\n",
      "  'full_time': True,\n",
      "  'distance': 0.7,\n",
      "  'requirements': []}]\n"
     ]
    }
   ],
   "source": [
    "pprint(jobs, sort_dicts=False)"
   ]
  },
  {
   "cell_type": "code",
   "execution_count": null,
   "metadata": {},
   "outputs": [],
   "source": []
  }
 ],
 "metadata": {
  "kernelspec": {
   "display_name": "Python 3",
   "language": "python",
   "name": "python3"
  },
  "language_info": {
   "codemirror_mode": {
    "name": "ipython",
    "version": 3
   },
   "file_extension": ".py",
   "mimetype": "text/x-python",
   "name": "python",
   "nbconvert_exporter": "python",
   "pygments_lexer": "ipython3",
   "version": "3.10.9"
  },
  "orig_nbformat": 4
 },
 "nbformat": 4,
 "nbformat_minor": 2
}
