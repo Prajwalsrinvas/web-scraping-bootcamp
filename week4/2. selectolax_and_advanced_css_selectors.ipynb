{
 "cells": [
  {
   "attachments": {},
   "cell_type": "markdown",
   "metadata": {},
   "source": [
    "## Section 8: Selectolax And Advanced CSS Selectors"
   ]
  },
  {
   "cell_type": "code",
   "execution_count": 61,
   "metadata": {},
   "outputs": [],
   "source": [
    "# !pip install selectolax"
   ]
  },
  {
   "cell_type": "code",
   "execution_count": 62,
   "metadata": {},
   "outputs": [],
   "source": [
    "import requests\n",
    "from selectolax.lexbor import LexborHTMLParser\n",
    "from pprint import pprint"
   ]
  },
  {
   "cell_type": "code",
   "execution_count": 63,
   "metadata": {},
   "outputs": [],
   "source": [
    "url = \"https://books.toscrape.com/\"\n",
    "resp = requests.get(url)\n",
    "tree = LexborHTMLParser(resp.text)"
   ]
  },
  {
   "cell_type": "code",
   "execution_count": 64,
   "metadata": {},
   "outputs": [],
   "source": [
    "node = tree.css(\"div\")[0]"
   ]
  },
  {
   "cell_type": "code",
   "execution_count": 65,
   "metadata": {},
   "outputs": [
    {
     "data": {
      "text/plain": [
       "selectolax.lexbor.LexborNode"
      ]
     },
     "execution_count": 65,
     "metadata": {},
     "output_type": "execute_result"
    }
   ],
   "source": [
    "type(node)"
   ]
  },
  {
   "cell_type": "code",
   "execution_count": 66,
   "metadata": {},
   "outputs": [
    {
     "data": {
      "text/plain": [
       "{'class': 'page_inner'}"
      ]
     },
     "execution_count": 66,
     "metadata": {},
     "output_type": "execute_result"
    }
   ],
   "source": [
    "node.attributes"
   ]
  },
  {
   "cell_type": "code",
   "execution_count": 67,
   "metadata": {},
   "outputs": [
    {
     "data": {
      "text/plain": [
       "'\\n            \\n                Books to Scrape We love being scraped!\\n\\n\\n                \\n            \\n        '"
      ]
     },
     "execution_count": 67,
     "metadata": {},
     "output_type": "execute_result"
    }
   ],
   "source": [
    "node.text()"
   ]
  },
  {
   "cell_type": "code",
   "execution_count": 68,
   "metadata": {},
   "outputs": [
    {
     "data": {
      "text/plain": [
       "'\\n            \\n        '"
      ]
     },
     "execution_count": 68,
     "metadata": {},
     "output_type": "execute_result"
    }
   ],
   "source": [
    "node.text(deep=False)"
   ]
  },
  {
   "cell_type": "code",
   "execution_count": 69,
   "metadata": {},
   "outputs": [
    {
     "name": "stdout",
     "output_type": "stream",
     "text": [
      "('<div class=\"page_inner\">\\n'\n",
      " '            <div class=\"row\">\\n'\n",
      " '                <div class=\"col-sm-8 h1\"><a href=\"index.html\">Books to '\n",
      " 'Scrape</a><small> We love being scraped!</small>\\n'\n",
      " '</div>\\n'\n",
      " '\\n'\n",
      " '                \\n'\n",
      " '            </div>\\n'\n",
      " '        </div>')\n"
     ]
    }
   ],
   "source": [
    "pprint(node.html)"
   ]
  },
  {
   "attachments": {},
   "cell_type": "markdown",
   "metadata": {},
   "source": [
    "### CSS Combinators"
   ]
  },
  {
   "attachments": {},
   "cell_type": "markdown",
   "metadata": {},
   "source": [
    "- `space` (space combinator): Selects all `<div>` elements that are descendants of an element with the class `container`.  \n",
    "\n",
    "- `>` (child combinator): Selects all `<li>` elements that are direct children of the `<ul>` element.  \n",
    "\n",
    "- `+` (adjacent sibling combinator): Selects the `<div>` element with the class `sibling` that is immediately preceded by a `<div>` element with the class `parent`.  \n",
    "\n",
    "- ` ` (descendant combinator): Selects the `<div>` element with the class `descendant` that is a descendant of an element with the class `ancestor`."
   ]
  },
  {
   "cell_type": "code",
   "execution_count": 70,
   "metadata": {},
   "outputs": [],
   "source": [
    "with open(\"test.html\") as f:\n",
    "    html = f.read()\n",
    "tree = LexborHTMLParser(html)"
   ]
  },
  {
   "cell_type": "code",
   "execution_count": 72,
   "metadata": {},
   "outputs": [
    {
     "name": "stdout",
     "output_type": "stream",
     "text": [
      "['Element 1', 'Element 2']\n",
      "['Item 1', 'Item 2']\n",
      "['Sibling Element']\n",
      "['Descendant Element']\n"
     ]
    }
   ],
   "source": [
    "divs_in_container = tree.css(\".container div\")\n",
    "lis_in_ul = tree.css(\"ul > li\")\n",
    "sibling_of_parent = tree.css(\".parent + .sibling\")\n",
    "descendant_of_ancestor = tree.css(\".ancestor .descendant\")\n",
    "\n",
    "print([node.text() for node in divs_in_container])\n",
    "print([node.text() for node in lis_in_ul])\n",
    "print([node.text() for node in sibling_of_parent])\n",
    "print([node.text() for node in descendant_of_ancestor])"
   ]
  },
  {
   "attachments": {},
   "cell_type": "markdown",
   "metadata": {},
   "source": [
    "### Types of selectors"
   ]
  },
  {
   "attachments": {},
   "cell_type": "markdown",
   "metadata": {},
   "source": [
    "1. **Simple Selectors**: These selectors target elements based on a single condition or criterion, such as tag name, class, ID, or attribute.\n",
    "\n",
    "   ```python\n",
    "   # Simple selector: Tag name\n",
    "   doc.css('div')\n",
    "\n",
    "   # Simple selector: Class\n",
    "   doc.css('.container')\n",
    "\n",
    "   # Simple selector: ID\n",
    "   doc.css('#my-element')\n",
    "\n",
    "   # Simple selector: Attribute\n",
    "   doc.css('a[href]')\n",
    "   ```\n",
    "\n",
    "2. **Compound Selectors**: These selectors combine multiple simple selectors together. They target elements that satisfy all the specified conditions.\n",
    "\n",
    "   ```python\n",
    "   # Compound selector: Tag name and class\n",
    "   doc.css('div.container')\n",
    "\n",
    "   # Compound selector: Tag name and attribute\n",
    "   doc.css('a[href].external')\n",
    "\n",
    "   # Compound selector: Class and attribute\n",
    "   doc.css('.container.highlight')\n",
    "   ```\n",
    "\n",
    "3. **Complex Selectors**: These selectors target elements based on their relationships with other elements, such as parent-child, sibling, or ancestor-descendant relationships.\n",
    "\n",
    "   ```python\n",
    "   # Complex selector: Descendant\n",
    "   doc.css('div span')\n",
    "\n",
    "   # Complex selector: Child\n",
    "   doc.css('ul > li')\n",
    "\n",
    "   # Complex selector: Adjacent sibling\n",
    "   doc.css('.parent + .sibling')\n",
    "\n",
    "   # Complex selector: Ancestor-descendant\n",
    "   doc.css('.ancestor .descendant')\n",
    "   ```\n",
    "\n",
    "4. **Selector Lists**: Selector lists are collections of multiple selectors separated by commas. They target elements that match any of the individual selectors within the list.\n",
    "\n",
    "   ```python\n",
    "   # Selector list: Tag names\n",
    "   doc.css('h1, h2, h3')\n",
    "\n",
    "   # Selector list: Classes\n",
    "   doc.css('.primary, .secondary')\n",
    "\n",
    "   # Selector list: Multiple conditions\n",
    "   doc.css('input[type=\"text\"], input[type=\"email\"]')\n",
    "   ```"
   ]
  }
 ],
 "metadata": {
  "kernelspec": {
   "display_name": "Python 3",
   "language": "python",
   "name": "python3"
  },
  "language_info": {
   "codemirror_mode": {
    "name": "ipython",
    "version": 3
   },
   "file_extension": ".py",
   "mimetype": "text/x-python",
   "name": "python",
   "nbconvert_exporter": "python",
   "pygments_lexer": "ipython3",
   "version": "3.10.9"
  },
  "orig_nbformat": 4
 },
 "nbformat": 4,
 "nbformat_minor": 2
}
