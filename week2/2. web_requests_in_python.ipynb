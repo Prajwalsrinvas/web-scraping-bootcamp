{
    "cells": [
        {
            "attachments": {},
            "cell_type": "markdown",
            "metadata": {},
            "source": [
                "## Section 4: Web Requests In Python"
            ]
        },
        {
            "attachments": {},
            "cell_type": "markdown",
            "metadata": {},
            "source": [
                "### urllib module"
            ]
        },
        {
            "cell_type": "code",
            "execution_count": 28,
            "metadata": {},
            "outputs": [],
            "source": [
                "from urllib.request import urlopen"
            ]
        },
        {
            "cell_type": "code",
            "execution_count": 29,
            "metadata": {},
            "outputs": [],
            "source": [
                "url = \"https://quotes.toscrape.com/\""
            ]
        },
        {
            "cell_type": "code",
            "execution_count": 30,
            "metadata": {},
            "outputs": [
                {
                    "data": {
                        "text/html": [
                            "<pre style=\"white-space:pre;overflow-x:auto;line-height:normal;font-family:Menlo,'DejaVu Sans Mono',consolas,'Courier New',monospace\"><span style=\"font-weight: bold\">&lt;</span><span style=\"color: #ff00ff; text-decoration-color: #ff00ff; font-weight: bold\">http.client.HTTPResponse</span><span style=\"color: #000000; text-decoration-color: #000000\"> object at </span><span style=\"color: #008080; text-decoration-color: #008080; font-weight: bold\">0x7fd924a36df0</span><span style=\"font-weight: bold\">&gt;</span>\n",
                            "</pre>\n"
                        ],
                        "text/plain": [
                            "\u001b[1m<\u001b[0m\u001b[1;95mhttp.client.HTTPResponse\u001b[0m\u001b[39m object at \u001b[0m\u001b[1;36m0x7fd924a36df0\u001b[0m\u001b[1m>\u001b[0m\n"
                        ]
                    },
                    "metadata": {},
                    "output_type": "display_data"
                }
            ],
            "source": [
                "resp = urlopen(url)\n",
                "resp"
            ]
        },
        {
            "cell_type": "code",
            "execution_count": 31,
            "metadata": {},
            "outputs": [
                {
                    "data": {
                        "text/html": [
                            "<pre style=\"white-space:pre;overflow-x:auto;line-height:normal;font-family:Menlo,'DejaVu Sans Mono',consolas,'Courier New',monospace\"><span style=\"color: #008080; text-decoration-color: #008080; font-weight: bold\">200</span>\n",
                            "</pre>\n"
                        ],
                        "text/plain": [
                            "\u001b[1;36m200\u001b[0m\n"
                        ]
                    },
                    "metadata": {},
                    "output_type": "display_data"
                }
            ],
            "source": [
                "resp.status"
            ]
        },
        {
            "cell_type": "code",
            "execution_count": 32,
            "metadata": {},
            "outputs": [
                {
                    "data": {
                        "text/html": [
                            "<pre style=\"white-space:pre;overflow-x:auto;line-height:normal;font-family:Menlo,'DejaVu Sans Mono',consolas,'Courier New',monospace\"><span style=\"color: #008000; text-decoration-color: #008000\">b'&lt;!DOCTYPE html&gt;\\n&lt;html lang=\"en\"&gt;\\n&lt;head&gt;\\n\\t&lt;meta charset=\"UTF-8\"&gt;\\n\\t&lt;title&gt;Quotes to Scrape&lt;/title&gt;\\n    &lt;link rel=\"stylesheet\" href=\"/static/bootstrap.min.css\"&gt;\\n    &lt;link rel=\"stylesheet\" href=\"/static/main.css\"&gt;\\n&lt;/head&gt;\\n&lt;body&gt;\\n    &lt;div class=\"container\"&gt;\\n        &lt;div class=\"row header-box\"&gt;\\n            &lt;div class=\"col-md-8\"&gt;\\n                &lt;h1&gt;\\n                    &lt;a href=\"/\" style=\"text-decoration: none\"&gt;Quotes to Scrape&lt;/a&gt;\\n                &lt;/h1&gt;\\n            &lt;/div&gt;\\n            &lt;div class=\"col-md-4\"&gt;\\n                &lt;p&gt;\\n                \\n                    &lt;a href=\"/login\"&gt;Login&lt;/a&gt;\\n                \\n                &lt;/p&gt;\\n            &lt;/div&gt;\\n        &lt;/div&gt;\\n    \\n\\n&lt;div class=\"row\"&gt;\\n    &lt;div class=\"col-md-8\"&gt;\\n\\n    &lt;div class=\"quote\" itemscope itemtype=\"http://schema.org/CreativeWork\"&gt;\\n        &lt;span class=\"text\" itemprop=\"text\"&gt;\\xe2\\x80\\x9cThe world as we have created it is a process of our thinking. It cannot be changed without changing our thinking.\\xe2\\x80\\x9d&lt;/span&gt;\\n        &lt;span&gt;by &lt;small class=\"author\" itemprop=\"author\"&gt;Albert Einstein&lt;/small&gt;\\n        &lt;a href=\"/author/Albert-Einstein\"&gt;(about)&lt;/a&gt;\\n        &lt;/span&gt;\\n        &lt;div class=\"tags\"&gt;\\n            Tags:\\n            &lt;meta class=\"keywords\" itemprop=\"keywords\" content=\"change,deep-thoughts,thinking,world\" /    &gt; \\n            \\n            &lt;a class=\"tag\" href=\"/tag/change/page/1/\"&gt;change&lt;/a&gt;\\n            \\n            &lt;a class=\"tag\" href=\"/tag/deep-thoughts/page/1/\"&gt;deep-thoughts&lt;/a&gt;\\n            \\n            &lt;a class=\"tag\" href=\"/tag/thinking/page/1/\"&gt;thinking&lt;/a&gt;\\n            \\n            &lt;a class=\"tag\" href=\"/tag/world/page/1/\"&gt;world&lt;/a&gt;\\n            \\n        &lt;/div&gt;\\n    &lt;/div&gt;\\n\\n    &lt;div class=\"quote\" itemscope itemtype=\"http://schema.org/CreativeWork\"&gt;\\n        &lt;span class=\"text\" itemprop=\"text\"&gt;\\xe2\\x80\\x9cIt is our choices, Harry, that show what we truly are, far more than our abilities.\\xe2\\x80\\x9d&lt;/span&gt;\\n        &lt;span&gt;by &lt;small class=\"author\" itemprop=\"author\"&gt;J.K. Rowling&lt;/small&gt;\\n        &lt;a href=\"/author/J-K-Rowling\"&gt;(about)&lt;/a&gt;\\n        &lt;/span&gt;\\n        &lt;div class=\"tags\"&gt;\\n            Tags:\\n            &lt;meta class=\"keywords\" itemprop=\"keywords\" content=\"abilities,choices\" /    &gt; \\n            \\n            &lt;a class=\"tag\" href=\"/tag/abilities/page/1/\"&gt;abilities&lt;/a&gt;\\n            \\n            &lt;a class=\"tag\" href=\"/tag/choices/page/1/\"&gt;choices&lt;/a&gt;\\n            \\n        &lt;/div&gt;\\n    &lt;/div&gt;\\n\\n    &lt;div class=\"quote\" itemscope itemtype=\"http://schema.org/CreativeWork\"&gt;\\n        &lt;span class=\"text\" itemprop=\"text\"&gt;\\xe2\\x80\\x9cThere are only two ways to live your life. One is as though nothing is a miracle. The other is as though everything is a miracle.\\xe2\\x80\\x9d&lt;/span&gt;\\n        &lt;span&gt;by &lt;small class=\"author\" itemprop=\"author\"&gt;Albert Einstein&lt;/small&gt;\\n        &lt;a href=\"/author/Albert-Einstein\"&gt;(about)&lt;/a&gt;\\n        &lt;/span&gt;\\n        &lt;div class=\"tags\"&gt;\\n            Tags:\\n            &lt;meta class=\"keywords\" itemprop=\"keywords\" content=\"inspirational,life,live,miracle,miracles\" /    &gt; \\n            \\n            &lt;a class=\"tag\" href=\"/tag/inspirational/page/1/\"&gt;inspirational&lt;/a&gt;\\n            \\n            &lt;a class=\"tag\" href=\"/tag/life/page/1/\"&gt;life&lt;/a&gt;\\n            \\n            &lt;a class=\"tag\" href=\"/tag/live/page/1/\"&gt;live&lt;/a&gt;\\n            \\n            &lt;a class=\"tag\" href=\"/tag/miracle/page/1/\"&gt;miracle&lt;/a&gt;\\n            \\n            &lt;a class=\"tag\" href=\"/tag/miracles/page/1/\"&gt;miracles&lt;/a&gt;\\n            \\n        &lt;/div&gt;\\n    &lt;/div&gt;\\n\\n    &lt;div class=\"quote\" itemscope itemtype=\"http://schema.org/CreativeWork\"&gt;\\n        &lt;span class=\"text\" itemprop=\"text\"&gt;\\xe2\\x80\\x9cThe person, be it gentleman or lady, who has not pleasure in a good novel, must be intolerably stupid.\\xe2\\x80\\x9d&lt;/span&gt;\\n        &lt;span&gt;by &lt;small class=\"author\" itemprop=\"author\"&gt;Jane Austen&lt;/small&gt;\\n        &lt;a href=\"/author/Jane-Austen\"&gt;(about)&lt;/a&gt;\\n        &lt;/span&gt;\\n        &lt;div class=\"tags\"&gt;\\n            Tags:\\n            &lt;meta class=\"keywords\" itemprop=\"keywords\" content=\"aliteracy,books,classic,humor\" /    &gt; \\n            \\n            &lt;a class=\"tag\" href=\"/tag/aliteracy/page/1/\"&gt;aliteracy&lt;/a&gt;\\n            \\n            &lt;a class=\"tag\" href=\"/tag/books/page/1/\"&gt;books&lt;/a&gt;\\n            \\n            &lt;a class=\"tag\" href=\"/tag/classic/page/1/\"&gt;classic&lt;/a&gt;\\n            \\n            &lt;a class=\"tag\" href=\"/tag/humor/page/1/\"&gt;humor&lt;/a&gt;\\n            \\n        &lt;/div&gt;\\n    &lt;/div&gt;\\n\\n    &lt;div class=\"quote\" itemscope itemtype=\"http://schema.org/CreativeWork\"&gt;\\n        &lt;span class=\"text\" itemprop=\"text\"&gt;\\xe2\\x80\\x9cImperfection is beauty, madness is genius and it&amp;#39;s better to be absolutely ridiculous than absolutely boring.\\xe2\\x80\\x9d&lt;/span&gt;\\n        &lt;span&gt;by &lt;small class=\"author\" itemprop=\"author\"&gt;Marilyn Monroe&lt;/small&gt;\\n        &lt;a href=\"/author/Marilyn-Monroe\"&gt;(about)&lt;/a&gt;\\n        &lt;/span&gt;\\n        &lt;div class=\"tags\"&gt;\\n            Tags:\\n            &lt;meta class=\"keywords\" itemprop=\"keywords\" content=\"be-yourself,inspirational\" /    &gt; \\n            \\n            &lt;a class=\"tag\" href=\"/tag/be-yourself/page/1/\"&gt;be-yourself&lt;/a&gt;\\n            \\n            &lt;a class=\"tag\" href=\"/tag/inspirational/page/1/\"&gt;inspirational&lt;/a&gt;\\n            \\n        &lt;/div&gt;\\n    &lt;/div&gt;\\n\\n    &lt;div class=\"quote\" itemscope itemtype=\"http://schema.org/CreativeWork\"&gt;\\n        &lt;span class=\"text\" itemprop=\"text\"&gt;\\xe2\\x80\\x9cTry not to become a man of success. Rather become a man of value.\\xe2\\x80\\x9d&lt;/span&gt;\\n        &lt;span&gt;by &lt;small class=\"author\" itemprop=\"author\"&gt;Albert Einstein&lt;/small&gt;\\n        &lt;a href=\"/author/Albert-Einstein\"&gt;(about)&lt;/a&gt;\\n        &lt;/span&gt;\\n        &lt;div class=\"tags\"&gt;\\n            Tags:\\n            &lt;meta class=\"keywords\" itemprop=\"keywords\" content=\"adulthood,success,value\" /    &gt; \\n            \\n            &lt;a class=\"tag\" href=\"/tag/adulthood/page/1/\"&gt;adulthood&lt;/a&gt;\\n            \\n            &lt;a class=\"tag\" href=\"/tag/success/page/1/\"&gt;success&lt;/a&gt;\\n            \\n            &lt;a class=\"tag\" href=\"/tag/value/page/1/\"&gt;value&lt;/a&gt;\\n            \\n        &lt;/div&gt;\\n    &lt;/div&gt;\\n\\n    &lt;div class=\"quote\" itemscope itemtype=\"http://schema.org/CreativeWork\"&gt;\\n        &lt;span class=\"text\" itemprop=\"text\"&gt;\\xe2\\x80\\x9cIt is better to be hated for what you are than to be loved for what you are not.\\xe2\\x80\\x9d&lt;/span&gt;\\n        &lt;span&gt;by &lt;small class=\"author\" itemprop=\"author\"&gt;Andr\\xc3\\xa9 Gide&lt;/small&gt;\\n        &lt;a href=\"/author/Andre-Gide\"&gt;(about)&lt;/a&gt;\\n        &lt;/span&gt;\\n        &lt;div class=\"tags\"&gt;\\n            Tags:\\n            &lt;meta class=\"keywords\" itemprop=\"keywords\" content=\"life,love\" /    &gt; \\n            \\n            &lt;a class=\"tag\" href=\"/tag/life/page/1/\"&gt;life&lt;/a&gt;\\n            \\n            &lt;a class=\"tag\" href=\"/tag/love/page/1/\"&gt;love&lt;/a&gt;\\n            \\n        &lt;/div&gt;\\n    &lt;/div&gt;\\n\\n    &lt;div class=\"quote\" itemscope itemtype=\"http://schema.org/CreativeWork\"&gt;\\n        &lt;span class=\"text\" itemprop=\"text\"&gt;\\xe2\\x80\\x9cI have not failed. I&amp;#39;ve just found 10,000 ways that won&amp;#39;t work.\\xe2\\x80\\x9d&lt;/span&gt;\\n        &lt;span&gt;by &lt;small class=\"author\" itemprop=\"author\"&gt;Thomas A. Edison&lt;/small&gt;\\n        &lt;a href=\"/author/Thomas-A-Edison\"&gt;(about)&lt;/a&gt;\\n        &lt;/span&gt;\\n        &lt;div class=\"tags\"&gt;\\n            Tags:\\n            &lt;meta class=\"keywords\" itemprop=\"keywords\" content=\"edison,failure,inspirational,paraphrased\" /    &gt; \\n            \\n            &lt;a class=\"tag\" href=\"/tag/edison/page/1/\"&gt;edison&lt;/a&gt;\\n            \\n            &lt;a class=\"tag\" href=\"/tag/failure/page/1/\"&gt;failure&lt;/a&gt;\\n            \\n            &lt;a class=\"tag\" href=\"/tag/inspirational/page/1/\"&gt;inspirational&lt;/a&gt;\\n            \\n            &lt;a class=\"tag\" href=\"/tag/paraphrased/page/1/\"&gt;paraphrased&lt;/a&gt;\\n            \\n        &lt;/div&gt;\\n    &lt;/div&gt;\\n\\n    &lt;div class=\"quote\" itemscope itemtype=\"http://schema.org/CreativeWork\"&gt;\\n        &lt;span class=\"text\" itemprop=\"text\"&gt;\\xe2\\x80\\x9cA woman is like a tea bag; you never know how strong it is until it&amp;#39;s in hot water.\\xe2\\x80\\x9d&lt;/span&gt;\\n        &lt;span&gt;by &lt;small class=\"author\" itemprop=\"author\"&gt;Eleanor Roosevelt&lt;/small&gt;\\n        &lt;a href=\"/author/Eleanor-Roosevelt\"&gt;(about)&lt;/a&gt;\\n        &lt;/span&gt;\\n        &lt;div class=\"tags\"&gt;\\n            Tags:\\n            &lt;meta class=\"keywords\" itemprop=\"keywords\" content=\"misattributed-eleanor-roosevelt\" /    &gt; \\n            \\n            &lt;a class=\"tag\" href=\"/tag/misattributed-eleanor-roosevelt/page/1/\"&gt;misattributed-eleanor-roosevelt&lt;/a&gt;\\n            \\n        &lt;/div&gt;\\n    &lt;/div&gt;\\n\\n    &lt;div class=\"quote\" itemscope itemtype=\"http://schema.org/CreativeWork\"&gt;\\n        &lt;span class=\"text\" itemprop=\"text\"&gt;\\xe2\\x80\\x9cA day without sunshine is like, you know, night.\\xe2\\x80\\x9d&lt;/span&gt;\\n        &lt;span&gt;by &lt;small class=\"author\" itemprop=\"author\"&gt;Steve Martin&lt;/small&gt;\\n        &lt;a href=\"/author/Steve-Martin\"&gt;(about)&lt;/a&gt;\\n        &lt;/span&gt;\\n        &lt;div class=\"tags\"&gt;\\n            Tags:\\n            &lt;meta class=\"keywords\" itemprop=\"keywords\" content=\"humor,obvious,simile\" /    &gt; \\n            \\n            &lt;a class=\"tag\" href=\"/tag/humor/page/1/\"&gt;humor&lt;/a&gt;\\n            \\n            &lt;a class=\"tag\" href=\"/tag/obvious/page/1/\"&gt;obvious&lt;/a&gt;\\n            \\n            &lt;a class=\"tag\" href=\"/tag/simile/page/1/\"&gt;simile&lt;/a&gt;\\n            \\n        &lt;/div&gt;\\n    &lt;/div&gt;\\n\\n    &lt;nav&gt;\\n        &lt;ul class=\"pager\"&gt;\\n            \\n            \\n            &lt;li class=\"next\"&gt;\\n                &lt;a href=\"/page/2/\"&gt;Next &lt;span aria-hidden=\"true\"&gt;&amp;rarr;&lt;/span&gt;&lt;/a&gt;\\n            &lt;/li&gt;\\n            \\n        &lt;/ul&gt;\\n    &lt;/nav&gt;\\n    &lt;/div&gt;\\n    &lt;div class=\"col-md-4 tags-box\"&gt;\\n        \\n            &lt;h2&gt;Top Ten tags&lt;/h2&gt;\\n            \\n            &lt;span class=\"tag-item\"&gt;\\n            &lt;a class=\"tag\" style=\"font-size: 28px\" href=\"/tag/love/\"&gt;love&lt;/a&gt;\\n            &lt;/span&gt;\\n            \\n            &lt;span class=\"tag-item\"&gt;\\n            &lt;a class=\"tag\" style=\"font-size: 26px\" href=\"/tag/inspirational/\"&gt;inspirational&lt;/a&gt;\\n            &lt;/span&gt;\\n            \\n            &lt;span class=\"tag-item\"&gt;\\n            &lt;a class=\"tag\" style=\"font-size: 26px\" href=\"/tag/life/\"&gt;life&lt;/a&gt;\\n            &lt;/span&gt;\\n            \\n            &lt;span class=\"tag-item\"&gt;\\n            &lt;a class=\"tag\" style=\"font-size: 24px\" href=\"/tag/humor/\"&gt;humor&lt;/a&gt;\\n            &lt;/span&gt;\\n            \\n            &lt;span class=\"tag-item\"&gt;\\n            &lt;a class=\"tag\" style=\"font-size: 22px\" href=\"/tag/books/\"&gt;books&lt;/a&gt;\\n            &lt;/span&gt;\\n            \\n            &lt;span class=\"tag-item\"&gt;\\n            &lt;a class=\"tag\" style=\"font-size: 14px\" href=\"/tag/reading/\"&gt;reading&lt;/a&gt;\\n            &lt;/span&gt;\\n            \\n            &lt;span class=\"tag-item\"&gt;\\n            &lt;a class=\"tag\" style=\"font-size: 10px\" href=\"/tag/friendship/\"&gt;friendship&lt;/a&gt;\\n            &lt;/span&gt;\\n            \\n            &lt;span class=\"tag-item\"&gt;\\n            &lt;a class=\"tag\" style=\"font-size: 8px\" href=\"/tag/friends/\"&gt;friends&lt;/a&gt;\\n            &lt;/span&gt;\\n            \\n            &lt;span class=\"tag-item\"&gt;\\n            &lt;a class=\"tag\" style=\"font-size: 8px\" href=\"/tag/truth/\"&gt;truth&lt;/a&gt;\\n            &lt;/span&gt;\\n            \\n            &lt;span class=\"tag-item\"&gt;\\n            &lt;a class=\"tag\" style=\"font-size: 6px\" href=\"/tag/simile/\"&gt;simile&lt;/a&gt;\\n            &lt;/span&gt;\\n            \\n        \\n    &lt;/div&gt;\\n&lt;/div&gt;\\n\\n    &lt;/div&gt;\\n    &lt;footer class=\"footer\"&gt;\\n        &lt;div class=\"container\"&gt;\\n            &lt;p class=\"text-muted\"&gt;\\n                Quotes by: &lt;a href=\"https://www.goodreads.com/quotes\"&gt;GoodReads.com&lt;/a&gt;\\n            &lt;/p&gt;\\n            &lt;p class=\"copyright\"&gt;\\n                Made with &lt;span class=\\'sh-red\\'&gt;\\xe2\\x9d\\xa4&lt;/span&gt; by &lt;a href=\"https://scrapinghub.com\"&gt;Scrapinghub&lt;/a&gt;\\n            &lt;/p&gt;\\n        &lt;/div&gt;\\n    &lt;/footer&gt;\\n&lt;/body&gt;\\n&lt;/html&gt;'</span>\n",
                            "</pre>\n"
                        ],
                        "text/plain": [
                            "\u001b[32mb'\u001b[0m\u001b[32m<\u001b[0m\u001b[32m!DOCTYPE html\u001b[0m\u001b[32m>\u001b[0m\u001b[32m\\n\u001b[0m\u001b[32m<\u001b[0m\u001b[32mhtml\u001b[0m\u001b[32m \u001b[0m\u001b[32mlang\u001b[0m\u001b[32m=\u001b[0m\u001b[32m\"en\"\u001b[0m\u001b[32m>\u001b[0m\u001b[32m\\n\u001b[0m\u001b[32m<\u001b[0m\u001b[32mhead\u001b[0m\u001b[32m>\u001b[0m\u001b[32m\\n\\t\u001b[0m\u001b[32m<\u001b[0m\u001b[32mmeta\u001b[0m\u001b[32m \u001b[0m\u001b[32mcharset\u001b[0m\u001b[32m=\u001b[0m\u001b[32m\"UTF\u001b[0m\u001b[32m-8\"\u001b[0m\u001b[32m>\u001b[0m\u001b[32m\\n\\t\u001b[0m\u001b[32m<\u001b[0m\u001b[32mtitle\u001b[0m\u001b[32m>\u001b[0m\u001b[32mQuotes to Scrape\u001b[0m\u001b[32m<\u001b[0m\u001b[32m/title\u001b[0m\u001b[32m>\u001b[0m\u001b[32m\\n    \u001b[0m\u001b[32m<\u001b[0m\u001b[32mlink\u001b[0m\u001b[32m \u001b[0m\u001b[32mrel\u001b[0m\u001b[32m=\u001b[0m\u001b[32m\"stylesheet\"\u001b[0m\u001b[32m \u001b[0m\u001b[32mhref\u001b[0m\u001b[32m=\"/static/bootstrap.min.css\"\u001b[0m\u001b[32m>\u001b[0m\u001b[32m\\n    \u001b[0m\u001b[32m<\u001b[0m\u001b[32mlink\u001b[0m\u001b[32m \u001b[0m\u001b[32mrel\u001b[0m\u001b[32m=\u001b[0m\u001b[32m\"stylesheet\"\u001b[0m\u001b[32m \u001b[0m\u001b[32mhref\u001b[0m\u001b[32m=\"/static/main.css\"\u001b[0m\u001b[32m>\u001b[0m\u001b[32m\\n\u001b[0m\u001b[32m<\u001b[0m\u001b[32m/head\u001b[0m\u001b[32m>\u001b[0m\u001b[32m\\n\u001b[0m\u001b[32m<\u001b[0m\u001b[32mbody\u001b[0m\u001b[32m>\u001b[0m\u001b[32m\\n    \u001b[0m\u001b[32m<\u001b[0m\u001b[32mdiv\u001b[0m\u001b[32m \u001b[0m\u001b[32mclass\u001b[0m\u001b[32m=\u001b[0m\u001b[32m\"container\"\u001b[0m\u001b[32m>\u001b[0m\u001b[32m\\n        \u001b[0m\u001b[32m<\u001b[0m\u001b[32mdiv\u001b[0m\u001b[32m \u001b[0m\u001b[32mclass\u001b[0m\u001b[32m=\u001b[0m\u001b[32m\"row\u001b[0m\u001b[32m header-box\"\u001b[0m\u001b[32m>\u001b[0m\u001b[32m\\n            \u001b[0m\u001b[32m<\u001b[0m\u001b[32mdiv\u001b[0m\u001b[32m \u001b[0m\u001b[32mclass\u001b[0m\u001b[32m=\u001b[0m\u001b[32m\"col\u001b[0m\u001b[32m-md-8\"\u001b[0m\u001b[32m>\u001b[0m\u001b[32m\\n                \u001b[0m\u001b[32m<\u001b[0m\u001b[32mh1\u001b[0m\u001b[32m>\u001b[0m\u001b[32m\\n                    \u001b[0m\u001b[32m<\u001b[0m\u001b[32ma\u001b[0m\u001b[32m \u001b[0m\u001b[32mhref\u001b[0m\u001b[32m=\"/\" \u001b[0m\u001b[32mstyle\u001b[0m\u001b[32m=\u001b[0m\u001b[32m\"text\u001b[0m\u001b[32m-decoration: none\"\u001b[0m\u001b[32m>\u001b[0m\u001b[32mQuotes to Scrape\u001b[0m\u001b[32m<\u001b[0m\u001b[32m/a\u001b[0m\u001b[32m>\u001b[0m\u001b[32m\\n                \u001b[0m\u001b[32m<\u001b[0m\u001b[32m/h1\u001b[0m\u001b[32m>\u001b[0m\u001b[32m\\n            \u001b[0m\u001b[32m<\u001b[0m\u001b[32m/div\u001b[0m\u001b[32m>\u001b[0m\u001b[32m\\n            \u001b[0m\u001b[32m<\u001b[0m\u001b[32mdiv\u001b[0m\u001b[32m \u001b[0m\u001b[32mclass\u001b[0m\u001b[32m=\u001b[0m\u001b[32m\"col\u001b[0m\u001b[32m-md-4\"\u001b[0m\u001b[32m>\u001b[0m\u001b[32m\\n                \u001b[0m\u001b[32m<\u001b[0m\u001b[32mp\u001b[0m\u001b[32m>\u001b[0m\u001b[32m\\n                \\n                    \u001b[0m\u001b[32m<\u001b[0m\u001b[32ma\u001b[0m\u001b[32m \u001b[0m\u001b[32mhref\u001b[0m\u001b[32m=\"/login\"\u001b[0m\u001b[32m>\u001b[0m\u001b[32mLogin\u001b[0m\u001b[32m<\u001b[0m\u001b[32m/a\u001b[0m\u001b[32m>\u001b[0m\u001b[32m\\n                \\n                \u001b[0m\u001b[32m<\u001b[0m\u001b[32m/p\u001b[0m\u001b[32m>\u001b[0m\u001b[32m\\n            \u001b[0m\u001b[32m<\u001b[0m\u001b[32m/div\u001b[0m\u001b[32m>\u001b[0m\u001b[32m\\n        \u001b[0m\u001b[32m<\u001b[0m\u001b[32m/div\u001b[0m\u001b[32m>\u001b[0m\u001b[32m\\n    \\n\\n\u001b[0m\u001b[32m<\u001b[0m\u001b[32mdiv\u001b[0m\u001b[32m \u001b[0m\u001b[32mclass\u001b[0m\u001b[32m=\u001b[0m\u001b[32m\"row\"\u001b[0m\u001b[32m>\u001b[0m\u001b[32m\\n    \u001b[0m\u001b[32m<\u001b[0m\u001b[32mdiv\u001b[0m\u001b[32m \u001b[0m\u001b[32mclass\u001b[0m\u001b[32m=\u001b[0m\u001b[32m\"col\u001b[0m\u001b[32m-md-8\"\u001b[0m\u001b[32m>\u001b[0m\u001b[32m\\n\\n    \u001b[0m\u001b[32m<\u001b[0m\u001b[32mdiv\u001b[0m\u001b[32m \u001b[0m\u001b[32mclass\u001b[0m\u001b[32m=\u001b[0m\u001b[32m\"quote\"\u001b[0m\u001b[32m itemscope \u001b[0m\u001b[32mitemtype\u001b[0m\u001b[32m=\u001b[0m\u001b[32m\"http\u001b[0m\u001b[32m://schema.org/CreativeWork\"\u001b[0m\u001b[32m>\u001b[0m\u001b[32m\\n        \u001b[0m\u001b[32m<\u001b[0m\u001b[32mspan\u001b[0m\u001b[32m \u001b[0m\u001b[32mclass\u001b[0m\u001b[32m=\u001b[0m\u001b[32m\"text\"\u001b[0m\u001b[32m \u001b[0m\u001b[32mitemprop\u001b[0m\u001b[32m=\u001b[0m\u001b[32m\"text\"\u001b[0m\u001b[32m>\u001b[0m\u001b[32m\\xe2\\x80\\x9cThe world as we have created it is a process of our thinking. It cannot be changed without changing our thinking.\\xe2\\x80\\x9d\u001b[0m\u001b[32m<\u001b[0m\u001b[32m/span\u001b[0m\u001b[32m>\u001b[0m\u001b[32m\\n        \u001b[0m\u001b[32m<\u001b[0m\u001b[32mspan\u001b[0m\u001b[32m>\u001b[0m\u001b[32mby \u001b[0m\u001b[32m<\u001b[0m\u001b[32msmall\u001b[0m\u001b[32m \u001b[0m\u001b[32mclass\u001b[0m\u001b[32m=\u001b[0m\u001b[32m\"author\"\u001b[0m\u001b[32m \u001b[0m\u001b[32mitemprop\u001b[0m\u001b[32m=\u001b[0m\u001b[32m\"author\"\u001b[0m\u001b[32m>\u001b[0m\u001b[32mAlbert Einstein\u001b[0m\u001b[32m<\u001b[0m\u001b[32m/small\u001b[0m\u001b[32m>\u001b[0m\u001b[32m\\n        \u001b[0m\u001b[32m<\u001b[0m\u001b[32ma\u001b[0m\u001b[32m \u001b[0m\u001b[32mhref\u001b[0m\u001b[32m=\"/author/Albert-Einstein\"\u001b[0m\u001b[32m>\u001b[0m\u001b[32m(\u001b[0m\u001b[32mabout\u001b[0m\u001b[32m)\u001b[0m\u001b[32m<\u001b[0m\u001b[32m/a\u001b[0m\u001b[32m>\u001b[0m\u001b[32m\\n        \u001b[0m\u001b[32m<\u001b[0m\u001b[32m/span\u001b[0m\u001b[32m>\u001b[0m\u001b[32m\\n        \u001b[0m\u001b[32m<\u001b[0m\u001b[32mdiv\u001b[0m\u001b[32m \u001b[0m\u001b[32mclass\u001b[0m\u001b[32m=\u001b[0m\u001b[32m\"tags\"\u001b[0m\u001b[32m>\u001b[0m\u001b[32m\\n            Tags:\\n            \u001b[0m\u001b[32m<\u001b[0m\u001b[32mmeta\u001b[0m\u001b[32m \u001b[0m\u001b[32mclass\u001b[0m\u001b[32m=\u001b[0m\u001b[32m\"keywords\"\u001b[0m\u001b[32m \u001b[0m\u001b[32mitemprop\u001b[0m\u001b[32m=\u001b[0m\u001b[32m\"keywords\"\u001b[0m\u001b[32m \u001b[0m\u001b[32mcontent\u001b[0m\u001b[32m=\u001b[0m\u001b[32m\"change\u001b[0m\u001b[32m,deep-thoughts,thinking,world\" /    \u001b[0m\u001b[32m>\u001b[0m\u001b[32m \\n            \\n            \u001b[0m\u001b[32m<\u001b[0m\u001b[32ma\u001b[0m\u001b[32m \u001b[0m\u001b[32mclass\u001b[0m\u001b[32m=\u001b[0m\u001b[32m\"tag\"\u001b[0m\u001b[32m \u001b[0m\u001b[32mhref\u001b[0m\u001b[32m=\"/tag/change/page/1/\"\u001b[0m\u001b[32m>\u001b[0m\u001b[32mchange\u001b[0m\u001b[32m<\u001b[0m\u001b[32m/a\u001b[0m\u001b[32m>\u001b[0m\u001b[32m\\n            \\n            \u001b[0m\u001b[32m<\u001b[0m\u001b[32ma\u001b[0m\u001b[32m \u001b[0m\u001b[32mclass\u001b[0m\u001b[32m=\u001b[0m\u001b[32m\"tag\"\u001b[0m\u001b[32m \u001b[0m\u001b[32mhref\u001b[0m\u001b[32m=\"/tag/deep-thoughts/page/1/\"\u001b[0m\u001b[32m>\u001b[0m\u001b[32mdeep-thoughts\u001b[0m\u001b[32m<\u001b[0m\u001b[32m/a\u001b[0m\u001b[32m>\u001b[0m\u001b[32m\\n            \\n            \u001b[0m\u001b[32m<\u001b[0m\u001b[32ma\u001b[0m\u001b[32m \u001b[0m\u001b[32mclass\u001b[0m\u001b[32m=\u001b[0m\u001b[32m\"tag\"\u001b[0m\u001b[32m \u001b[0m\u001b[32mhref\u001b[0m\u001b[32m=\"/tag/thinking/page/1/\"\u001b[0m\u001b[32m>\u001b[0m\u001b[32mthinking\u001b[0m\u001b[32m<\u001b[0m\u001b[32m/a\u001b[0m\u001b[32m>\u001b[0m\u001b[32m\\n            \\n            \u001b[0m\u001b[32m<\u001b[0m\u001b[32ma\u001b[0m\u001b[32m \u001b[0m\u001b[32mclass\u001b[0m\u001b[32m=\u001b[0m\u001b[32m\"tag\"\u001b[0m\u001b[32m \u001b[0m\u001b[32mhref\u001b[0m\u001b[32m=\"/tag/world/page/1/\"\u001b[0m\u001b[32m>\u001b[0m\u001b[32mworld\u001b[0m\u001b[32m<\u001b[0m\u001b[32m/a\u001b[0m\u001b[32m>\u001b[0m\u001b[32m\\n            \\n        \u001b[0m\u001b[32m<\u001b[0m\u001b[32m/div\u001b[0m\u001b[32m>\u001b[0m\u001b[32m\\n    \u001b[0m\u001b[32m<\u001b[0m\u001b[32m/div\u001b[0m\u001b[32m>\u001b[0m\u001b[32m\\n\\n    \u001b[0m\u001b[32m<\u001b[0m\u001b[32mdiv\u001b[0m\u001b[32m \u001b[0m\u001b[32mclass\u001b[0m\u001b[32m=\u001b[0m\u001b[32m\"quote\"\u001b[0m\u001b[32m itemscope \u001b[0m\u001b[32mitemtype\u001b[0m\u001b[32m=\u001b[0m\u001b[32m\"http\u001b[0m\u001b[32m://schema.org/CreativeWork\"\u001b[0m\u001b[32m>\u001b[0m\u001b[32m\\n        \u001b[0m\u001b[32m<\u001b[0m\u001b[32mspan\u001b[0m\u001b[32m \u001b[0m\u001b[32mclass\u001b[0m\u001b[32m=\u001b[0m\u001b[32m\"text\"\u001b[0m\u001b[32m \u001b[0m\u001b[32mitemprop\u001b[0m\u001b[32m=\u001b[0m\u001b[32m\"text\"\u001b[0m\u001b[32m>\u001b[0m\u001b[32m\\xe2\\x80\\x9cIt is our choices, Harry, that show what we truly are, far more than our abilities.\\xe2\\x80\\x9d\u001b[0m\u001b[32m<\u001b[0m\u001b[32m/span\u001b[0m\u001b[32m>\u001b[0m\u001b[32m\\n        \u001b[0m\u001b[32m<\u001b[0m\u001b[32mspan\u001b[0m\u001b[32m>\u001b[0m\u001b[32mby \u001b[0m\u001b[32m<\u001b[0m\u001b[32msmall\u001b[0m\u001b[32m \u001b[0m\u001b[32mclass\u001b[0m\u001b[32m=\u001b[0m\u001b[32m\"author\"\u001b[0m\u001b[32m \u001b[0m\u001b[32mitemprop\u001b[0m\u001b[32m=\u001b[0m\u001b[32m\"author\"\u001b[0m\u001b[32m>\u001b[0m\u001b[32mJ.K. Rowling\u001b[0m\u001b[32m<\u001b[0m\u001b[32m/small\u001b[0m\u001b[32m>\u001b[0m\u001b[32m\\n        \u001b[0m\u001b[32m<\u001b[0m\u001b[32ma\u001b[0m\u001b[32m \u001b[0m\u001b[32mhref\u001b[0m\u001b[32m=\"/author/J-K-Rowling\"\u001b[0m\u001b[32m>\u001b[0m\u001b[32m(\u001b[0m\u001b[32mabout\u001b[0m\u001b[32m)\u001b[0m\u001b[32m<\u001b[0m\u001b[32m/a\u001b[0m\u001b[32m>\u001b[0m\u001b[32m\\n        \u001b[0m\u001b[32m<\u001b[0m\u001b[32m/span\u001b[0m\u001b[32m>\u001b[0m\u001b[32m\\n        \u001b[0m\u001b[32m<\u001b[0m\u001b[32mdiv\u001b[0m\u001b[32m \u001b[0m\u001b[32mclass\u001b[0m\u001b[32m=\u001b[0m\u001b[32m\"tags\"\u001b[0m\u001b[32m>\u001b[0m\u001b[32m\\n            Tags:\\n            \u001b[0m\u001b[32m<\u001b[0m\u001b[32mmeta\u001b[0m\u001b[32m \u001b[0m\u001b[32mclass\u001b[0m\u001b[32m=\u001b[0m\u001b[32m\"keywords\"\u001b[0m\u001b[32m \u001b[0m\u001b[32mitemprop\u001b[0m\u001b[32m=\u001b[0m\u001b[32m\"keywords\"\u001b[0m\u001b[32m \u001b[0m\u001b[32mcontent\u001b[0m\u001b[32m=\u001b[0m\u001b[32m\"abilities\u001b[0m\u001b[32m,choices\" /    \u001b[0m\u001b[32m>\u001b[0m\u001b[32m \\n            \\n            \u001b[0m\u001b[32m<\u001b[0m\u001b[32ma\u001b[0m\u001b[32m \u001b[0m\u001b[32mclass\u001b[0m\u001b[32m=\u001b[0m\u001b[32m\"tag\"\u001b[0m\u001b[32m \u001b[0m\u001b[32mhref\u001b[0m\u001b[32m=\"/tag/abilities/page/1/\"\u001b[0m\u001b[32m>\u001b[0m\u001b[32mabilities\u001b[0m\u001b[32m<\u001b[0m\u001b[32m/a\u001b[0m\u001b[32m>\u001b[0m\u001b[32m\\n            \\n            \u001b[0m\u001b[32m<\u001b[0m\u001b[32ma\u001b[0m\u001b[32m \u001b[0m\u001b[32mclass\u001b[0m\u001b[32m=\u001b[0m\u001b[32m\"tag\"\u001b[0m\u001b[32m \u001b[0m\u001b[32mhref\u001b[0m\u001b[32m=\"/tag/choices/page/1/\"\u001b[0m\u001b[32m>\u001b[0m\u001b[32mchoices\u001b[0m\u001b[32m<\u001b[0m\u001b[32m/a\u001b[0m\u001b[32m>\u001b[0m\u001b[32m\\n            \\n        \u001b[0m\u001b[32m<\u001b[0m\u001b[32m/div\u001b[0m\u001b[32m>\u001b[0m\u001b[32m\\n    \u001b[0m\u001b[32m<\u001b[0m\u001b[32m/div\u001b[0m\u001b[32m>\u001b[0m\u001b[32m\\n\\n    \u001b[0m\u001b[32m<\u001b[0m\u001b[32mdiv\u001b[0m\u001b[32m \u001b[0m\u001b[32mclass\u001b[0m\u001b[32m=\u001b[0m\u001b[32m\"quote\"\u001b[0m\u001b[32m itemscope \u001b[0m\u001b[32mitemtype\u001b[0m\u001b[32m=\u001b[0m\u001b[32m\"http\u001b[0m\u001b[32m://schema.org/CreativeWork\"\u001b[0m\u001b[32m>\u001b[0m\u001b[32m\\n        \u001b[0m\u001b[32m<\u001b[0m\u001b[32mspan\u001b[0m\u001b[32m \u001b[0m\u001b[32mclass\u001b[0m\u001b[32m=\u001b[0m\u001b[32m\"text\"\u001b[0m\u001b[32m \u001b[0m\u001b[32mitemprop\u001b[0m\u001b[32m=\u001b[0m\u001b[32m\"text\"\u001b[0m\u001b[32m>\u001b[0m\u001b[32m\\xe2\\x80\\x9cThere are only two ways to live your life. One is as though nothing is a miracle. The other is as though everything is a miracle.\\xe2\\x80\\x9d\u001b[0m\u001b[32m<\u001b[0m\u001b[32m/span\u001b[0m\u001b[32m>\u001b[0m\u001b[32m\\n        \u001b[0m\u001b[32m<\u001b[0m\u001b[32mspan\u001b[0m\u001b[32m>\u001b[0m\u001b[32mby \u001b[0m\u001b[32m<\u001b[0m\u001b[32msmall\u001b[0m\u001b[32m \u001b[0m\u001b[32mclass\u001b[0m\u001b[32m=\u001b[0m\u001b[32m\"author\"\u001b[0m\u001b[32m \u001b[0m\u001b[32mitemprop\u001b[0m\u001b[32m=\u001b[0m\u001b[32m\"author\"\u001b[0m\u001b[32m>\u001b[0m\u001b[32mAlbert Einstein\u001b[0m\u001b[32m<\u001b[0m\u001b[32m/small\u001b[0m\u001b[32m>\u001b[0m\u001b[32m\\n        \u001b[0m\u001b[32m<\u001b[0m\u001b[32ma\u001b[0m\u001b[32m \u001b[0m\u001b[32mhref\u001b[0m\u001b[32m=\"/author/Albert-Einstein\"\u001b[0m\u001b[32m>\u001b[0m\u001b[32m(\u001b[0m\u001b[32mabout\u001b[0m\u001b[32m)\u001b[0m\u001b[32m<\u001b[0m\u001b[32m/a\u001b[0m\u001b[32m>\u001b[0m\u001b[32m\\n        \u001b[0m\u001b[32m<\u001b[0m\u001b[32m/span\u001b[0m\u001b[32m>\u001b[0m\u001b[32m\\n        \u001b[0m\u001b[32m<\u001b[0m\u001b[32mdiv\u001b[0m\u001b[32m \u001b[0m\u001b[32mclass\u001b[0m\u001b[32m=\u001b[0m\u001b[32m\"tags\"\u001b[0m\u001b[32m>\u001b[0m\u001b[32m\\n            Tags:\\n            \u001b[0m\u001b[32m<\u001b[0m\u001b[32mmeta\u001b[0m\u001b[32m \u001b[0m\u001b[32mclass\u001b[0m\u001b[32m=\u001b[0m\u001b[32m\"keywords\"\u001b[0m\u001b[32m \u001b[0m\u001b[32mitemprop\u001b[0m\u001b[32m=\u001b[0m\u001b[32m\"keywords\"\u001b[0m\u001b[32m \u001b[0m\u001b[32mcontent\u001b[0m\u001b[32m=\u001b[0m\u001b[32m\"inspirational\u001b[0m\u001b[32m,life,live,miracle,miracles\" /    \u001b[0m\u001b[32m>\u001b[0m\u001b[32m \\n            \\n            \u001b[0m\u001b[32m<\u001b[0m\u001b[32ma\u001b[0m\u001b[32m \u001b[0m\u001b[32mclass\u001b[0m\u001b[32m=\u001b[0m\u001b[32m\"tag\"\u001b[0m\u001b[32m \u001b[0m\u001b[32mhref\u001b[0m\u001b[32m=\"/tag/inspirational/page/1/\"\u001b[0m\u001b[32m>\u001b[0m\u001b[32minspirational\u001b[0m\u001b[32m<\u001b[0m\u001b[32m/a\u001b[0m\u001b[32m>\u001b[0m\u001b[32m\\n            \\n            \u001b[0m\u001b[32m<\u001b[0m\u001b[32ma\u001b[0m\u001b[32m \u001b[0m\u001b[32mclass\u001b[0m\u001b[32m=\u001b[0m\u001b[32m\"tag\"\u001b[0m\u001b[32m \u001b[0m\u001b[32mhref\u001b[0m\u001b[32m=\"/tag/life/page/1/\"\u001b[0m\u001b[32m>\u001b[0m\u001b[32mlife\u001b[0m\u001b[32m<\u001b[0m\u001b[32m/a\u001b[0m\u001b[32m>\u001b[0m\u001b[32m\\n            \\n            \u001b[0m\u001b[32m<\u001b[0m\u001b[32ma\u001b[0m\u001b[32m \u001b[0m\u001b[32mclass\u001b[0m\u001b[32m=\u001b[0m\u001b[32m\"tag\"\u001b[0m\u001b[32m \u001b[0m\u001b[32mhref\u001b[0m\u001b[32m=\"/tag/live/page/1/\"\u001b[0m\u001b[32m>\u001b[0m\u001b[32mlive\u001b[0m\u001b[32m<\u001b[0m\u001b[32m/a\u001b[0m\u001b[32m>\u001b[0m\u001b[32m\\n            \\n            \u001b[0m\u001b[32m<\u001b[0m\u001b[32ma\u001b[0m\u001b[32m \u001b[0m\u001b[32mclass\u001b[0m\u001b[32m=\u001b[0m\u001b[32m\"tag\"\u001b[0m\u001b[32m \u001b[0m\u001b[32mhref\u001b[0m\u001b[32m=\"/tag/miracle/page/1/\"\u001b[0m\u001b[32m>\u001b[0m\u001b[32mmiracle\u001b[0m\u001b[32m<\u001b[0m\u001b[32m/a\u001b[0m\u001b[32m>\u001b[0m\u001b[32m\\n            \\n            \u001b[0m\u001b[32m<\u001b[0m\u001b[32ma\u001b[0m\u001b[32m \u001b[0m\u001b[32mclass\u001b[0m\u001b[32m=\u001b[0m\u001b[32m\"tag\"\u001b[0m\u001b[32m \u001b[0m\u001b[32mhref\u001b[0m\u001b[32m=\"/tag/miracles/page/1/\"\u001b[0m\u001b[32m>\u001b[0m\u001b[32mmiracles\u001b[0m\u001b[32m<\u001b[0m\u001b[32m/a\u001b[0m\u001b[32m>\u001b[0m\u001b[32m\\n            \\n        \u001b[0m\u001b[32m<\u001b[0m\u001b[32m/div\u001b[0m\u001b[32m>\u001b[0m\u001b[32m\\n    \u001b[0m\u001b[32m<\u001b[0m\u001b[32m/div\u001b[0m\u001b[32m>\u001b[0m\u001b[32m\\n\\n    \u001b[0m\u001b[32m<\u001b[0m\u001b[32mdiv\u001b[0m\u001b[32m \u001b[0m\u001b[32mclass\u001b[0m\u001b[32m=\u001b[0m\u001b[32m\"quote\"\u001b[0m\u001b[32m itemscope \u001b[0m\u001b[32mitemtype\u001b[0m\u001b[32m=\u001b[0m\u001b[32m\"http\u001b[0m\u001b[32m://schema.org/CreativeWork\"\u001b[0m\u001b[32m>\u001b[0m\u001b[32m\\n        \u001b[0m\u001b[32m<\u001b[0m\u001b[32mspan\u001b[0m\u001b[32m \u001b[0m\u001b[32mclass\u001b[0m\u001b[32m=\u001b[0m\u001b[32m\"text\"\u001b[0m\u001b[32m \u001b[0m\u001b[32mitemprop\u001b[0m\u001b[32m=\u001b[0m\u001b[32m\"text\"\u001b[0m\u001b[32m>\u001b[0m\u001b[32m\\xe2\\x80\\x9cThe person, be it gentleman or lady, who has not pleasure in a good novel, must be intolerably stupid.\\xe2\\x80\\x9d\u001b[0m\u001b[32m<\u001b[0m\u001b[32m/span\u001b[0m\u001b[32m>\u001b[0m\u001b[32m\\n        \u001b[0m\u001b[32m<\u001b[0m\u001b[32mspan\u001b[0m\u001b[32m>\u001b[0m\u001b[32mby \u001b[0m\u001b[32m<\u001b[0m\u001b[32msmall\u001b[0m\u001b[32m \u001b[0m\u001b[32mclass\u001b[0m\u001b[32m=\u001b[0m\u001b[32m\"author\"\u001b[0m\u001b[32m \u001b[0m\u001b[32mitemprop\u001b[0m\u001b[32m=\u001b[0m\u001b[32m\"author\"\u001b[0m\u001b[32m>\u001b[0m\u001b[32mJane Austen\u001b[0m\u001b[32m<\u001b[0m\u001b[32m/small\u001b[0m\u001b[32m>\u001b[0m\u001b[32m\\n        \u001b[0m\u001b[32m<\u001b[0m\u001b[32ma\u001b[0m\u001b[32m \u001b[0m\u001b[32mhref\u001b[0m\u001b[32m=\"/author/Jane-Austen\"\u001b[0m\u001b[32m>\u001b[0m\u001b[32m(\u001b[0m\u001b[32mabout\u001b[0m\u001b[32m)\u001b[0m\u001b[32m<\u001b[0m\u001b[32m/a\u001b[0m\u001b[32m>\u001b[0m\u001b[32m\\n        \u001b[0m\u001b[32m<\u001b[0m\u001b[32m/span\u001b[0m\u001b[32m>\u001b[0m\u001b[32m\\n        \u001b[0m\u001b[32m<\u001b[0m\u001b[32mdiv\u001b[0m\u001b[32m \u001b[0m\u001b[32mclass\u001b[0m\u001b[32m=\u001b[0m\u001b[32m\"tags\"\u001b[0m\u001b[32m>\u001b[0m\u001b[32m\\n            Tags:\\n            \u001b[0m\u001b[32m<\u001b[0m\u001b[32mmeta\u001b[0m\u001b[32m \u001b[0m\u001b[32mclass\u001b[0m\u001b[32m=\u001b[0m\u001b[32m\"keywords\"\u001b[0m\u001b[32m \u001b[0m\u001b[32mitemprop\u001b[0m\u001b[32m=\u001b[0m\u001b[32m\"keywords\"\u001b[0m\u001b[32m \u001b[0m\u001b[32mcontent\u001b[0m\u001b[32m=\u001b[0m\u001b[32m\"aliteracy\u001b[0m\u001b[32m,books,classic,humor\" /    \u001b[0m\u001b[32m>\u001b[0m\u001b[32m \\n            \\n            \u001b[0m\u001b[32m<\u001b[0m\u001b[32ma\u001b[0m\u001b[32m \u001b[0m\u001b[32mclass\u001b[0m\u001b[32m=\u001b[0m\u001b[32m\"tag\"\u001b[0m\u001b[32m \u001b[0m\u001b[32mhref\u001b[0m\u001b[32m=\"/tag/aliteracy/page/1/\"\u001b[0m\u001b[32m>\u001b[0m\u001b[32maliteracy\u001b[0m\u001b[32m<\u001b[0m\u001b[32m/a\u001b[0m\u001b[32m>\u001b[0m\u001b[32m\\n            \\n            \u001b[0m\u001b[32m<\u001b[0m\u001b[32ma\u001b[0m\u001b[32m \u001b[0m\u001b[32mclass\u001b[0m\u001b[32m=\u001b[0m\u001b[32m\"tag\"\u001b[0m\u001b[32m \u001b[0m\u001b[32mhref\u001b[0m\u001b[32m=\"/tag/books/page/1/\"\u001b[0m\u001b[32m>\u001b[0m\u001b[32mbooks\u001b[0m\u001b[32m<\u001b[0m\u001b[32m/a\u001b[0m\u001b[32m>\u001b[0m\u001b[32m\\n            \\n            \u001b[0m\u001b[32m<\u001b[0m\u001b[32ma\u001b[0m\u001b[32m \u001b[0m\u001b[32mclass\u001b[0m\u001b[32m=\u001b[0m\u001b[32m\"tag\"\u001b[0m\u001b[32m \u001b[0m\u001b[32mhref\u001b[0m\u001b[32m=\"/tag/classic/page/1/\"\u001b[0m\u001b[32m>\u001b[0m\u001b[32mclassic\u001b[0m\u001b[32m<\u001b[0m\u001b[32m/a\u001b[0m\u001b[32m>\u001b[0m\u001b[32m\\n            \\n            \u001b[0m\u001b[32m<\u001b[0m\u001b[32ma\u001b[0m\u001b[32m \u001b[0m\u001b[32mclass\u001b[0m\u001b[32m=\u001b[0m\u001b[32m\"tag\"\u001b[0m\u001b[32m \u001b[0m\u001b[32mhref\u001b[0m\u001b[32m=\"/tag/humor/page/1/\"\u001b[0m\u001b[32m>\u001b[0m\u001b[32mhumor\u001b[0m\u001b[32m<\u001b[0m\u001b[32m/a\u001b[0m\u001b[32m>\u001b[0m\u001b[32m\\n            \\n        \u001b[0m\u001b[32m<\u001b[0m\u001b[32m/div\u001b[0m\u001b[32m>\u001b[0m\u001b[32m\\n    \u001b[0m\u001b[32m<\u001b[0m\u001b[32m/div\u001b[0m\u001b[32m>\u001b[0m\u001b[32m\\n\\n    \u001b[0m\u001b[32m<\u001b[0m\u001b[32mdiv\u001b[0m\u001b[32m \u001b[0m\u001b[32mclass\u001b[0m\u001b[32m=\u001b[0m\u001b[32m\"quote\"\u001b[0m\u001b[32m itemscope \u001b[0m\u001b[32mitemtype\u001b[0m\u001b[32m=\u001b[0m\u001b[32m\"http\u001b[0m\u001b[32m://schema.org/CreativeWork\"\u001b[0m\u001b[32m>\u001b[0m\u001b[32m\\n        \u001b[0m\u001b[32m<\u001b[0m\u001b[32mspan\u001b[0m\u001b[32m \u001b[0m\u001b[32mclass\u001b[0m\u001b[32m=\u001b[0m\u001b[32m\"text\"\u001b[0m\u001b[32m \u001b[0m\u001b[32mitemprop\u001b[0m\u001b[32m=\u001b[0m\u001b[32m\"text\"\u001b[0m\u001b[32m>\u001b[0m\u001b[32m\\xe2\\x80\\x9cImperfection is beauty, madness is genius and it&#39;s better to be absolutely ridiculous than absolutely boring.\\xe2\\x80\\x9d\u001b[0m\u001b[32m<\u001b[0m\u001b[32m/span\u001b[0m\u001b[32m>\u001b[0m\u001b[32m\\n        \u001b[0m\u001b[32m<\u001b[0m\u001b[32mspan\u001b[0m\u001b[32m>\u001b[0m\u001b[32mby \u001b[0m\u001b[32m<\u001b[0m\u001b[32msmall\u001b[0m\u001b[32m \u001b[0m\u001b[32mclass\u001b[0m\u001b[32m=\u001b[0m\u001b[32m\"author\"\u001b[0m\u001b[32m \u001b[0m\u001b[32mitemprop\u001b[0m\u001b[32m=\u001b[0m\u001b[32m\"author\"\u001b[0m\u001b[32m>\u001b[0m\u001b[32mMarilyn Monroe\u001b[0m\u001b[32m<\u001b[0m\u001b[32m/small\u001b[0m\u001b[32m>\u001b[0m\u001b[32m\\n        \u001b[0m\u001b[32m<\u001b[0m\u001b[32ma\u001b[0m\u001b[32m \u001b[0m\u001b[32mhref\u001b[0m\u001b[32m=\"/author/Marilyn-Monroe\"\u001b[0m\u001b[32m>\u001b[0m\u001b[32m(\u001b[0m\u001b[32mabout\u001b[0m\u001b[32m)\u001b[0m\u001b[32m<\u001b[0m\u001b[32m/a\u001b[0m\u001b[32m>\u001b[0m\u001b[32m\\n        \u001b[0m\u001b[32m<\u001b[0m\u001b[32m/span\u001b[0m\u001b[32m>\u001b[0m\u001b[32m\\n        \u001b[0m\u001b[32m<\u001b[0m\u001b[32mdiv\u001b[0m\u001b[32m \u001b[0m\u001b[32mclass\u001b[0m\u001b[32m=\u001b[0m\u001b[32m\"tags\"\u001b[0m\u001b[32m>\u001b[0m\u001b[32m\\n            Tags:\\n            \u001b[0m\u001b[32m<\u001b[0m\u001b[32mmeta\u001b[0m\u001b[32m \u001b[0m\u001b[32mclass\u001b[0m\u001b[32m=\u001b[0m\u001b[32m\"keywords\"\u001b[0m\u001b[32m \u001b[0m\u001b[32mitemprop\u001b[0m\u001b[32m=\u001b[0m\u001b[32m\"keywords\"\u001b[0m\u001b[32m \u001b[0m\u001b[32mcontent\u001b[0m\u001b[32m=\u001b[0m\u001b[32m\"be\u001b[0m\u001b[32m-yourself,inspirational\" /    \u001b[0m\u001b[32m>\u001b[0m\u001b[32m \\n            \\n            \u001b[0m\u001b[32m<\u001b[0m\u001b[32ma\u001b[0m\u001b[32m \u001b[0m\u001b[32mclass\u001b[0m\u001b[32m=\u001b[0m\u001b[32m\"tag\"\u001b[0m\u001b[32m \u001b[0m\u001b[32mhref\u001b[0m\u001b[32m=\"/tag/be-yourself/page/1/\"\u001b[0m\u001b[32m>\u001b[0m\u001b[32mbe-yourself\u001b[0m\u001b[32m<\u001b[0m\u001b[32m/a\u001b[0m\u001b[32m>\u001b[0m\u001b[32m\\n            \\n            \u001b[0m\u001b[32m<\u001b[0m\u001b[32ma\u001b[0m\u001b[32m \u001b[0m\u001b[32mclass\u001b[0m\u001b[32m=\u001b[0m\u001b[32m\"tag\"\u001b[0m\u001b[32m \u001b[0m\u001b[32mhref\u001b[0m\u001b[32m=\"/tag/inspirational/page/1/\"\u001b[0m\u001b[32m>\u001b[0m\u001b[32minspirational\u001b[0m\u001b[32m<\u001b[0m\u001b[32m/a\u001b[0m\u001b[32m>\u001b[0m\u001b[32m\\n            \\n        \u001b[0m\u001b[32m<\u001b[0m\u001b[32m/div\u001b[0m\u001b[32m>\u001b[0m\u001b[32m\\n    \u001b[0m\u001b[32m<\u001b[0m\u001b[32m/div\u001b[0m\u001b[32m>\u001b[0m\u001b[32m\\n\\n    \u001b[0m\u001b[32m<\u001b[0m\u001b[32mdiv\u001b[0m\u001b[32m \u001b[0m\u001b[32mclass\u001b[0m\u001b[32m=\u001b[0m\u001b[32m\"quote\"\u001b[0m\u001b[32m itemscope \u001b[0m\u001b[32mitemtype\u001b[0m\u001b[32m=\u001b[0m\u001b[32m\"http\u001b[0m\u001b[32m://schema.org/CreativeWork\"\u001b[0m\u001b[32m>\u001b[0m\u001b[32m\\n        \u001b[0m\u001b[32m<\u001b[0m\u001b[32mspan\u001b[0m\u001b[32m \u001b[0m\u001b[32mclass\u001b[0m\u001b[32m=\u001b[0m\u001b[32m\"text\"\u001b[0m\u001b[32m \u001b[0m\u001b[32mitemprop\u001b[0m\u001b[32m=\u001b[0m\u001b[32m\"text\"\u001b[0m\u001b[32m>\u001b[0m\u001b[32m\\xe2\\x80\\x9cTry not to become a man of success. Rather become a man of value.\\xe2\\x80\\x9d\u001b[0m\u001b[32m<\u001b[0m\u001b[32m/span\u001b[0m\u001b[32m>\u001b[0m\u001b[32m\\n        \u001b[0m\u001b[32m<\u001b[0m\u001b[32mspan\u001b[0m\u001b[32m>\u001b[0m\u001b[32mby \u001b[0m\u001b[32m<\u001b[0m\u001b[32msmall\u001b[0m\u001b[32m \u001b[0m\u001b[32mclass\u001b[0m\u001b[32m=\u001b[0m\u001b[32m\"author\"\u001b[0m\u001b[32m \u001b[0m\u001b[32mitemprop\u001b[0m\u001b[32m=\u001b[0m\u001b[32m\"author\"\u001b[0m\u001b[32m>\u001b[0m\u001b[32mAlbert Einstein\u001b[0m\u001b[32m<\u001b[0m\u001b[32m/small\u001b[0m\u001b[32m>\u001b[0m\u001b[32m\\n        \u001b[0m\u001b[32m<\u001b[0m\u001b[32ma\u001b[0m\u001b[32m \u001b[0m\u001b[32mhref\u001b[0m\u001b[32m=\"/author/Albert-Einstein\"\u001b[0m\u001b[32m>\u001b[0m\u001b[32m(\u001b[0m\u001b[32mabout\u001b[0m\u001b[32m)\u001b[0m\u001b[32m<\u001b[0m\u001b[32m/a\u001b[0m\u001b[32m>\u001b[0m\u001b[32m\\n        \u001b[0m\u001b[32m<\u001b[0m\u001b[32m/span\u001b[0m\u001b[32m>\u001b[0m\u001b[32m\\n        \u001b[0m\u001b[32m<\u001b[0m\u001b[32mdiv\u001b[0m\u001b[32m \u001b[0m\u001b[32mclass\u001b[0m\u001b[32m=\u001b[0m\u001b[32m\"tags\"\u001b[0m\u001b[32m>\u001b[0m\u001b[32m\\n            Tags:\\n            \u001b[0m\u001b[32m<\u001b[0m\u001b[32mmeta\u001b[0m\u001b[32m \u001b[0m\u001b[32mclass\u001b[0m\u001b[32m=\u001b[0m\u001b[32m\"keywords\"\u001b[0m\u001b[32m \u001b[0m\u001b[32mitemprop\u001b[0m\u001b[32m=\u001b[0m\u001b[32m\"keywords\"\u001b[0m\u001b[32m \u001b[0m\u001b[32mcontent\u001b[0m\u001b[32m=\u001b[0m\u001b[32m\"adulthood\u001b[0m\u001b[32m,success,value\" /    \u001b[0m\u001b[32m>\u001b[0m\u001b[32m \\n            \\n            \u001b[0m\u001b[32m<\u001b[0m\u001b[32ma\u001b[0m\u001b[32m \u001b[0m\u001b[32mclass\u001b[0m\u001b[32m=\u001b[0m\u001b[32m\"tag\"\u001b[0m\u001b[32m \u001b[0m\u001b[32mhref\u001b[0m\u001b[32m=\"/tag/adulthood/page/1/\"\u001b[0m\u001b[32m>\u001b[0m\u001b[32madulthood\u001b[0m\u001b[32m<\u001b[0m\u001b[32m/a\u001b[0m\u001b[32m>\u001b[0m\u001b[32m\\n            \\n            \u001b[0m\u001b[32m<\u001b[0m\u001b[32ma\u001b[0m\u001b[32m \u001b[0m\u001b[32mclass\u001b[0m\u001b[32m=\u001b[0m\u001b[32m\"tag\"\u001b[0m\u001b[32m \u001b[0m\u001b[32mhref\u001b[0m\u001b[32m=\"/tag/success/page/1/\"\u001b[0m\u001b[32m>\u001b[0m\u001b[32msuccess\u001b[0m\u001b[32m<\u001b[0m\u001b[32m/a\u001b[0m\u001b[32m>\u001b[0m\u001b[32m\\n            \\n            \u001b[0m\u001b[32m<\u001b[0m\u001b[32ma\u001b[0m\u001b[32m \u001b[0m\u001b[32mclass\u001b[0m\u001b[32m=\u001b[0m\u001b[32m\"tag\"\u001b[0m\u001b[32m \u001b[0m\u001b[32mhref\u001b[0m\u001b[32m=\"/tag/value/page/1/\"\u001b[0m\u001b[32m>\u001b[0m\u001b[32mvalue\u001b[0m\u001b[32m<\u001b[0m\u001b[32m/a\u001b[0m\u001b[32m>\u001b[0m\u001b[32m\\n            \\n        \u001b[0m\u001b[32m<\u001b[0m\u001b[32m/div\u001b[0m\u001b[32m>\u001b[0m\u001b[32m\\n    \u001b[0m\u001b[32m<\u001b[0m\u001b[32m/div\u001b[0m\u001b[32m>\u001b[0m\u001b[32m\\n\\n    \u001b[0m\u001b[32m<\u001b[0m\u001b[32mdiv\u001b[0m\u001b[32m \u001b[0m\u001b[32mclass\u001b[0m\u001b[32m=\u001b[0m\u001b[32m\"quote\"\u001b[0m\u001b[32m itemscope \u001b[0m\u001b[32mitemtype\u001b[0m\u001b[32m=\u001b[0m\u001b[32m\"http\u001b[0m\u001b[32m://schema.org/CreativeWork\"\u001b[0m\u001b[32m>\u001b[0m\u001b[32m\\n        \u001b[0m\u001b[32m<\u001b[0m\u001b[32mspan\u001b[0m\u001b[32m \u001b[0m\u001b[32mclass\u001b[0m\u001b[32m=\u001b[0m\u001b[32m\"text\"\u001b[0m\u001b[32m \u001b[0m\u001b[32mitemprop\u001b[0m\u001b[32m=\u001b[0m\u001b[32m\"text\"\u001b[0m\u001b[32m>\u001b[0m\u001b[32m\\xe2\\x80\\x9cIt is better to be hated for what you are than to be loved for what you are not.\\xe2\\x80\\x9d\u001b[0m\u001b[32m<\u001b[0m\u001b[32m/span\u001b[0m\u001b[32m>\u001b[0m\u001b[32m\\n        \u001b[0m\u001b[32m<\u001b[0m\u001b[32mspan\u001b[0m\u001b[32m>\u001b[0m\u001b[32mby \u001b[0m\u001b[32m<\u001b[0m\u001b[32msmall\u001b[0m\u001b[32m \u001b[0m\u001b[32mclass\u001b[0m\u001b[32m=\u001b[0m\u001b[32m\"author\"\u001b[0m\u001b[32m \u001b[0m\u001b[32mitemprop\u001b[0m\u001b[32m=\u001b[0m\u001b[32m\"author\"\u001b[0m\u001b[32m>\u001b[0m\u001b[32mAndr\\xc3\\xa9 Gide\u001b[0m\u001b[32m<\u001b[0m\u001b[32m/small\u001b[0m\u001b[32m>\u001b[0m\u001b[32m\\n        \u001b[0m\u001b[32m<\u001b[0m\u001b[32ma\u001b[0m\u001b[32m \u001b[0m\u001b[32mhref\u001b[0m\u001b[32m=\"/author/Andre-Gide\"\u001b[0m\u001b[32m>\u001b[0m\u001b[32m(\u001b[0m\u001b[32mabout\u001b[0m\u001b[32m)\u001b[0m\u001b[32m<\u001b[0m\u001b[32m/a\u001b[0m\u001b[32m>\u001b[0m\u001b[32m\\n        \u001b[0m\u001b[32m<\u001b[0m\u001b[32m/span\u001b[0m\u001b[32m>\u001b[0m\u001b[32m\\n        \u001b[0m\u001b[32m<\u001b[0m\u001b[32mdiv\u001b[0m\u001b[32m \u001b[0m\u001b[32mclass\u001b[0m\u001b[32m=\u001b[0m\u001b[32m\"tags\"\u001b[0m\u001b[32m>\u001b[0m\u001b[32m\\n            Tags:\\n            \u001b[0m\u001b[32m<\u001b[0m\u001b[32mmeta\u001b[0m\u001b[32m \u001b[0m\u001b[32mclass\u001b[0m\u001b[32m=\u001b[0m\u001b[32m\"keywords\"\u001b[0m\u001b[32m \u001b[0m\u001b[32mitemprop\u001b[0m\u001b[32m=\u001b[0m\u001b[32m\"keywords\"\u001b[0m\u001b[32m \u001b[0m\u001b[32mcontent\u001b[0m\u001b[32m=\u001b[0m\u001b[32m\"life\u001b[0m\u001b[32m,love\" /    \u001b[0m\u001b[32m>\u001b[0m\u001b[32m \\n            \\n            \u001b[0m\u001b[32m<\u001b[0m\u001b[32ma\u001b[0m\u001b[32m \u001b[0m\u001b[32mclass\u001b[0m\u001b[32m=\u001b[0m\u001b[32m\"tag\"\u001b[0m\u001b[32m \u001b[0m\u001b[32mhref\u001b[0m\u001b[32m=\"/tag/life/page/1/\"\u001b[0m\u001b[32m>\u001b[0m\u001b[32mlife\u001b[0m\u001b[32m<\u001b[0m\u001b[32m/a\u001b[0m\u001b[32m>\u001b[0m\u001b[32m\\n            \\n            \u001b[0m\u001b[32m<\u001b[0m\u001b[32ma\u001b[0m\u001b[32m \u001b[0m\u001b[32mclass\u001b[0m\u001b[32m=\u001b[0m\u001b[32m\"tag\"\u001b[0m\u001b[32m \u001b[0m\u001b[32mhref\u001b[0m\u001b[32m=\"/tag/love/page/1/\"\u001b[0m\u001b[32m>\u001b[0m\u001b[32mlove\u001b[0m\u001b[32m<\u001b[0m\u001b[32m/a\u001b[0m\u001b[32m>\u001b[0m\u001b[32m\\n            \\n        \u001b[0m\u001b[32m<\u001b[0m\u001b[32m/div\u001b[0m\u001b[32m>\u001b[0m\u001b[32m\\n    \u001b[0m\u001b[32m<\u001b[0m\u001b[32m/div\u001b[0m\u001b[32m>\u001b[0m\u001b[32m\\n\\n    \u001b[0m\u001b[32m<\u001b[0m\u001b[32mdiv\u001b[0m\u001b[32m \u001b[0m\u001b[32mclass\u001b[0m\u001b[32m=\u001b[0m\u001b[32m\"quote\"\u001b[0m\u001b[32m itemscope \u001b[0m\u001b[32mitemtype\u001b[0m\u001b[32m=\u001b[0m\u001b[32m\"http\u001b[0m\u001b[32m://schema.org/CreativeWork\"\u001b[0m\u001b[32m>\u001b[0m\u001b[32m\\n        \u001b[0m\u001b[32m<\u001b[0m\u001b[32mspan\u001b[0m\u001b[32m \u001b[0m\u001b[32mclass\u001b[0m\u001b[32m=\u001b[0m\u001b[32m\"text\"\u001b[0m\u001b[32m \u001b[0m\u001b[32mitemprop\u001b[0m\u001b[32m=\u001b[0m\u001b[32m\"text\"\u001b[0m\u001b[32m>\u001b[0m\u001b[32m\\xe2\\x80\\x9cI have not failed. I&#39;ve just found 10,000 ways that won&#39;t work.\\xe2\\x80\\x9d\u001b[0m\u001b[32m<\u001b[0m\u001b[32m/span\u001b[0m\u001b[32m>\u001b[0m\u001b[32m\\n        \u001b[0m\u001b[32m<\u001b[0m\u001b[32mspan\u001b[0m\u001b[32m>\u001b[0m\u001b[32mby \u001b[0m\u001b[32m<\u001b[0m\u001b[32msmall\u001b[0m\u001b[32m \u001b[0m\u001b[32mclass\u001b[0m\u001b[32m=\u001b[0m\u001b[32m\"author\"\u001b[0m\u001b[32m \u001b[0m\u001b[32mitemprop\u001b[0m\u001b[32m=\u001b[0m\u001b[32m\"author\"\u001b[0m\u001b[32m>\u001b[0m\u001b[32mThomas A. Edison\u001b[0m\u001b[32m<\u001b[0m\u001b[32m/small\u001b[0m\u001b[32m>\u001b[0m\u001b[32m\\n        \u001b[0m\u001b[32m<\u001b[0m\u001b[32ma\u001b[0m\u001b[32m \u001b[0m\u001b[32mhref\u001b[0m\u001b[32m=\"/author/Thomas-A-Edison\"\u001b[0m\u001b[32m>\u001b[0m\u001b[32m(\u001b[0m\u001b[32mabout\u001b[0m\u001b[32m)\u001b[0m\u001b[32m<\u001b[0m\u001b[32m/a\u001b[0m\u001b[32m>\u001b[0m\u001b[32m\\n        \u001b[0m\u001b[32m<\u001b[0m\u001b[32m/span\u001b[0m\u001b[32m>\u001b[0m\u001b[32m\\n        \u001b[0m\u001b[32m<\u001b[0m\u001b[32mdiv\u001b[0m\u001b[32m \u001b[0m\u001b[32mclass\u001b[0m\u001b[32m=\u001b[0m\u001b[32m\"tags\"\u001b[0m\u001b[32m>\u001b[0m\u001b[32m\\n            Tags:\\n            \u001b[0m\u001b[32m<\u001b[0m\u001b[32mmeta\u001b[0m\u001b[32m \u001b[0m\u001b[32mclass\u001b[0m\u001b[32m=\u001b[0m\u001b[32m\"keywords\"\u001b[0m\u001b[32m \u001b[0m\u001b[32mitemprop\u001b[0m\u001b[32m=\u001b[0m\u001b[32m\"keywords\"\u001b[0m\u001b[32m \u001b[0m\u001b[32mcontent\u001b[0m\u001b[32m=\u001b[0m\u001b[32m\"edison\u001b[0m\u001b[32m,failure,inspirational,paraphrased\" /    \u001b[0m\u001b[32m>\u001b[0m\u001b[32m \\n            \\n            \u001b[0m\u001b[32m<\u001b[0m\u001b[32ma\u001b[0m\u001b[32m \u001b[0m\u001b[32mclass\u001b[0m\u001b[32m=\u001b[0m\u001b[32m\"tag\"\u001b[0m\u001b[32m \u001b[0m\u001b[32mhref\u001b[0m\u001b[32m=\"/tag/edison/page/1/\"\u001b[0m\u001b[32m>\u001b[0m\u001b[32medison\u001b[0m\u001b[32m<\u001b[0m\u001b[32m/a\u001b[0m\u001b[32m>\u001b[0m\u001b[32m\\n            \\n            \u001b[0m\u001b[32m<\u001b[0m\u001b[32ma\u001b[0m\u001b[32m \u001b[0m\u001b[32mclass\u001b[0m\u001b[32m=\u001b[0m\u001b[32m\"tag\"\u001b[0m\u001b[32m \u001b[0m\u001b[32mhref\u001b[0m\u001b[32m=\"/tag/failure/page/1/\"\u001b[0m\u001b[32m>\u001b[0m\u001b[32mfailure\u001b[0m\u001b[32m<\u001b[0m\u001b[32m/a\u001b[0m\u001b[32m>\u001b[0m\u001b[32m\\n            \\n            \u001b[0m\u001b[32m<\u001b[0m\u001b[32ma\u001b[0m\u001b[32m \u001b[0m\u001b[32mclass\u001b[0m\u001b[32m=\u001b[0m\u001b[32m\"tag\"\u001b[0m\u001b[32m \u001b[0m\u001b[32mhref\u001b[0m\u001b[32m=\"/tag/inspirational/page/1/\"\u001b[0m\u001b[32m>\u001b[0m\u001b[32minspirational\u001b[0m\u001b[32m<\u001b[0m\u001b[32m/a\u001b[0m\u001b[32m>\u001b[0m\u001b[32m\\n            \\n            \u001b[0m\u001b[32m<\u001b[0m\u001b[32ma\u001b[0m\u001b[32m \u001b[0m\u001b[32mclass\u001b[0m\u001b[32m=\u001b[0m\u001b[32m\"tag\"\u001b[0m\u001b[32m \u001b[0m\u001b[32mhref\u001b[0m\u001b[32m=\"/tag/paraphrased/page/1/\"\u001b[0m\u001b[32m>\u001b[0m\u001b[32mparaphrased\u001b[0m\u001b[32m<\u001b[0m\u001b[32m/a\u001b[0m\u001b[32m>\u001b[0m\u001b[32m\\n            \\n        \u001b[0m\u001b[32m<\u001b[0m\u001b[32m/div\u001b[0m\u001b[32m>\u001b[0m\u001b[32m\\n    \u001b[0m\u001b[32m<\u001b[0m\u001b[32m/div\u001b[0m\u001b[32m>\u001b[0m\u001b[32m\\n\\n    \u001b[0m\u001b[32m<\u001b[0m\u001b[32mdiv\u001b[0m\u001b[32m \u001b[0m\u001b[32mclass\u001b[0m\u001b[32m=\u001b[0m\u001b[32m\"quote\"\u001b[0m\u001b[32m itemscope \u001b[0m\u001b[32mitemtype\u001b[0m\u001b[32m=\u001b[0m\u001b[32m\"http\u001b[0m\u001b[32m://schema.org/CreativeWork\"\u001b[0m\u001b[32m>\u001b[0m\u001b[32m\\n        \u001b[0m\u001b[32m<\u001b[0m\u001b[32mspan\u001b[0m\u001b[32m \u001b[0m\u001b[32mclass\u001b[0m\u001b[32m=\u001b[0m\u001b[32m\"text\"\u001b[0m\u001b[32m \u001b[0m\u001b[32mitemprop\u001b[0m\u001b[32m=\u001b[0m\u001b[32m\"text\"\u001b[0m\u001b[32m>\u001b[0m\u001b[32m\\xe2\\x80\\x9cA woman is like a tea bag; you never know how strong it is until it&#39;s in hot water.\\xe2\\x80\\x9d\u001b[0m\u001b[32m<\u001b[0m\u001b[32m/span\u001b[0m\u001b[32m>\u001b[0m\u001b[32m\\n        \u001b[0m\u001b[32m<\u001b[0m\u001b[32mspan\u001b[0m\u001b[32m>\u001b[0m\u001b[32mby \u001b[0m\u001b[32m<\u001b[0m\u001b[32msmall\u001b[0m\u001b[32m \u001b[0m\u001b[32mclass\u001b[0m\u001b[32m=\u001b[0m\u001b[32m\"author\"\u001b[0m\u001b[32m \u001b[0m\u001b[32mitemprop\u001b[0m\u001b[32m=\u001b[0m\u001b[32m\"author\"\u001b[0m\u001b[32m>\u001b[0m\u001b[32mEleanor Roosevelt\u001b[0m\u001b[32m<\u001b[0m\u001b[32m/small\u001b[0m\u001b[32m>\u001b[0m\u001b[32m\\n        \u001b[0m\u001b[32m<\u001b[0m\u001b[32ma\u001b[0m\u001b[32m \u001b[0m\u001b[32mhref\u001b[0m\u001b[32m=\"/author/Eleanor-Roosevelt\"\u001b[0m\u001b[32m>\u001b[0m\u001b[32m(\u001b[0m\u001b[32mabout\u001b[0m\u001b[32m)\u001b[0m\u001b[32m<\u001b[0m\u001b[32m/a\u001b[0m\u001b[32m>\u001b[0m\u001b[32m\\n        \u001b[0m\u001b[32m<\u001b[0m\u001b[32m/span\u001b[0m\u001b[32m>\u001b[0m\u001b[32m\\n        \u001b[0m\u001b[32m<\u001b[0m\u001b[32mdiv\u001b[0m\u001b[32m \u001b[0m\u001b[32mclass\u001b[0m\u001b[32m=\u001b[0m\u001b[32m\"tags\"\u001b[0m\u001b[32m>\u001b[0m\u001b[32m\\n            Tags:\\n            \u001b[0m\u001b[32m<\u001b[0m\u001b[32mmeta\u001b[0m\u001b[32m \u001b[0m\u001b[32mclass\u001b[0m\u001b[32m=\u001b[0m\u001b[32m\"keywords\"\u001b[0m\u001b[32m \u001b[0m\u001b[32mitemprop\u001b[0m\u001b[32m=\u001b[0m\u001b[32m\"keywords\"\u001b[0m\u001b[32m \u001b[0m\u001b[32mcontent\u001b[0m\u001b[32m=\u001b[0m\u001b[32m\"misattributed\u001b[0m\u001b[32m-eleanor-roosevelt\" /    \u001b[0m\u001b[32m>\u001b[0m\u001b[32m \\n            \\n            \u001b[0m\u001b[32m<\u001b[0m\u001b[32ma\u001b[0m\u001b[32m \u001b[0m\u001b[32mclass\u001b[0m\u001b[32m=\u001b[0m\u001b[32m\"tag\"\u001b[0m\u001b[32m \u001b[0m\u001b[32mhref\u001b[0m\u001b[32m=\"/tag/misattributed-eleanor-roosevelt/page/1/\"\u001b[0m\u001b[32m>\u001b[0m\u001b[32mmisattributed-eleanor-roosevelt\u001b[0m\u001b[32m<\u001b[0m\u001b[32m/a\u001b[0m\u001b[32m>\u001b[0m\u001b[32m\\n            \\n        \u001b[0m\u001b[32m<\u001b[0m\u001b[32m/div\u001b[0m\u001b[32m>\u001b[0m\u001b[32m\\n    \u001b[0m\u001b[32m<\u001b[0m\u001b[32m/div\u001b[0m\u001b[32m>\u001b[0m\u001b[32m\\n\\n    \u001b[0m\u001b[32m<\u001b[0m\u001b[32mdiv\u001b[0m\u001b[32m \u001b[0m\u001b[32mclass\u001b[0m\u001b[32m=\u001b[0m\u001b[32m\"quote\"\u001b[0m\u001b[32m itemscope \u001b[0m\u001b[32mitemtype\u001b[0m\u001b[32m=\u001b[0m\u001b[32m\"http\u001b[0m\u001b[32m://schema.org/CreativeWork\"\u001b[0m\u001b[32m>\u001b[0m\u001b[32m\\n        \u001b[0m\u001b[32m<\u001b[0m\u001b[32mspan\u001b[0m\u001b[32m \u001b[0m\u001b[32mclass\u001b[0m\u001b[32m=\u001b[0m\u001b[32m\"text\"\u001b[0m\u001b[32m \u001b[0m\u001b[32mitemprop\u001b[0m\u001b[32m=\u001b[0m\u001b[32m\"text\"\u001b[0m\u001b[32m>\u001b[0m\u001b[32m\\xe2\\x80\\x9cA day without sunshine is like, you know, night.\\xe2\\x80\\x9d\u001b[0m\u001b[32m<\u001b[0m\u001b[32m/span\u001b[0m\u001b[32m>\u001b[0m\u001b[32m\\n        \u001b[0m\u001b[32m<\u001b[0m\u001b[32mspan\u001b[0m\u001b[32m>\u001b[0m\u001b[32mby \u001b[0m\u001b[32m<\u001b[0m\u001b[32msmall\u001b[0m\u001b[32m \u001b[0m\u001b[32mclass\u001b[0m\u001b[32m=\u001b[0m\u001b[32m\"author\"\u001b[0m\u001b[32m \u001b[0m\u001b[32mitemprop\u001b[0m\u001b[32m=\u001b[0m\u001b[32m\"author\"\u001b[0m\u001b[32m>\u001b[0m\u001b[32mSteve Martin\u001b[0m\u001b[32m<\u001b[0m\u001b[32m/small\u001b[0m\u001b[32m>\u001b[0m\u001b[32m\\n        \u001b[0m\u001b[32m<\u001b[0m\u001b[32ma\u001b[0m\u001b[32m \u001b[0m\u001b[32mhref\u001b[0m\u001b[32m=\"/author/Steve-Martin\"\u001b[0m\u001b[32m>\u001b[0m\u001b[32m(\u001b[0m\u001b[32mabout\u001b[0m\u001b[32m)\u001b[0m\u001b[32m<\u001b[0m\u001b[32m/a\u001b[0m\u001b[32m>\u001b[0m\u001b[32m\\n        \u001b[0m\u001b[32m<\u001b[0m\u001b[32m/span\u001b[0m\u001b[32m>\u001b[0m\u001b[32m\\n        \u001b[0m\u001b[32m<\u001b[0m\u001b[32mdiv\u001b[0m\u001b[32m \u001b[0m\u001b[32mclass\u001b[0m\u001b[32m=\u001b[0m\u001b[32m\"tags\"\u001b[0m\u001b[32m>\u001b[0m\u001b[32m\\n            Tags:\\n            \u001b[0m\u001b[32m<\u001b[0m\u001b[32mmeta\u001b[0m\u001b[32m \u001b[0m\u001b[32mclass\u001b[0m\u001b[32m=\u001b[0m\u001b[32m\"keywords\"\u001b[0m\u001b[32m \u001b[0m\u001b[32mitemprop\u001b[0m\u001b[32m=\u001b[0m\u001b[32m\"keywords\"\u001b[0m\u001b[32m \u001b[0m\u001b[32mcontent\u001b[0m\u001b[32m=\u001b[0m\u001b[32m\"humor\u001b[0m\u001b[32m,obvious,simile\" /    \u001b[0m\u001b[32m>\u001b[0m\u001b[32m \\n            \\n            \u001b[0m\u001b[32m<\u001b[0m\u001b[32ma\u001b[0m\u001b[32m \u001b[0m\u001b[32mclass\u001b[0m\u001b[32m=\u001b[0m\u001b[32m\"tag\"\u001b[0m\u001b[32m \u001b[0m\u001b[32mhref\u001b[0m\u001b[32m=\"/tag/humor/page/1/\"\u001b[0m\u001b[32m>\u001b[0m\u001b[32mhumor\u001b[0m\u001b[32m<\u001b[0m\u001b[32m/a\u001b[0m\u001b[32m>\u001b[0m\u001b[32m\\n            \\n            \u001b[0m\u001b[32m<\u001b[0m\u001b[32ma\u001b[0m\u001b[32m \u001b[0m\u001b[32mclass\u001b[0m\u001b[32m=\u001b[0m\u001b[32m\"tag\"\u001b[0m\u001b[32m \u001b[0m\u001b[32mhref\u001b[0m\u001b[32m=\"/tag/obvious/page/1/\"\u001b[0m\u001b[32m>\u001b[0m\u001b[32mobvious\u001b[0m\u001b[32m<\u001b[0m\u001b[32m/a\u001b[0m\u001b[32m>\u001b[0m\u001b[32m\\n            \\n            \u001b[0m\u001b[32m<\u001b[0m\u001b[32ma\u001b[0m\u001b[32m \u001b[0m\u001b[32mclass\u001b[0m\u001b[32m=\u001b[0m\u001b[32m\"tag\"\u001b[0m\u001b[32m \u001b[0m\u001b[32mhref\u001b[0m\u001b[32m=\"/tag/simile/page/1/\"\u001b[0m\u001b[32m>\u001b[0m\u001b[32msimile\u001b[0m\u001b[32m<\u001b[0m\u001b[32m/a\u001b[0m\u001b[32m>\u001b[0m\u001b[32m\\n            \\n        \u001b[0m\u001b[32m<\u001b[0m\u001b[32m/div\u001b[0m\u001b[32m>\u001b[0m\u001b[32m\\n    \u001b[0m\u001b[32m<\u001b[0m\u001b[32m/div\u001b[0m\u001b[32m>\u001b[0m\u001b[32m\\n\\n    \u001b[0m\u001b[32m<\u001b[0m\u001b[32mnav\u001b[0m\u001b[32m>\u001b[0m\u001b[32m\\n        \u001b[0m\u001b[32m<\u001b[0m\u001b[32mul\u001b[0m\u001b[32m \u001b[0m\u001b[32mclass\u001b[0m\u001b[32m=\u001b[0m\u001b[32m\"pager\"\u001b[0m\u001b[32m>\u001b[0m\u001b[32m\\n            \\n            \\n            \u001b[0m\u001b[32m<\u001b[0m\u001b[32mli\u001b[0m\u001b[32m \u001b[0m\u001b[32mclass\u001b[0m\u001b[32m=\u001b[0m\u001b[32m\"next\"\u001b[0m\u001b[32m>\u001b[0m\u001b[32m\\n                \u001b[0m\u001b[32m<\u001b[0m\u001b[32ma\u001b[0m\u001b[32m \u001b[0m\u001b[32mhref\u001b[0m\u001b[32m=\"/page/2/\"\u001b[0m\u001b[32m>\u001b[0m\u001b[32mNext \u001b[0m\u001b[32m<\u001b[0m\u001b[32mspan\u001b[0m\u001b[32m aria-\u001b[0m\u001b[32mhidden\u001b[0m\u001b[32m=\u001b[0m\u001b[32m\"true\"\u001b[0m\u001b[32m>\u001b[0m\u001b[32m&rarr;\u001b[0m\u001b[32m<\u001b[0m\u001b[32m/span\u001b[0m\u001b[32m>\u001b[0m\u001b[32m<\u001b[0m\u001b[32m/a\u001b[0m\u001b[32m>\u001b[0m\u001b[32m\\n            \u001b[0m\u001b[32m<\u001b[0m\u001b[32m/li\u001b[0m\u001b[32m>\u001b[0m\u001b[32m\\n            \\n        \u001b[0m\u001b[32m<\u001b[0m\u001b[32m/ul\u001b[0m\u001b[32m>\u001b[0m\u001b[32m\\n    \u001b[0m\u001b[32m<\u001b[0m\u001b[32m/nav\u001b[0m\u001b[32m>\u001b[0m\u001b[32m\\n    \u001b[0m\u001b[32m<\u001b[0m\u001b[32m/div\u001b[0m\u001b[32m>\u001b[0m\u001b[32m\\n    \u001b[0m\u001b[32m<\u001b[0m\u001b[32mdiv\u001b[0m\u001b[32m \u001b[0m\u001b[32mclass\u001b[0m\u001b[32m=\u001b[0m\u001b[32m\"col\u001b[0m\u001b[32m-md-4 tags-box\"\u001b[0m\u001b[32m>\u001b[0m\u001b[32m\\n        \\n            \u001b[0m\u001b[32m<\u001b[0m\u001b[32mh2\u001b[0m\u001b[32m>\u001b[0m\u001b[32mTop Ten tags\u001b[0m\u001b[32m<\u001b[0m\u001b[32m/h2\u001b[0m\u001b[32m>\u001b[0m\u001b[32m\\n            \\n            \u001b[0m\u001b[32m<\u001b[0m\u001b[32mspan\u001b[0m\u001b[32m \u001b[0m\u001b[32mclass\u001b[0m\u001b[32m=\u001b[0m\u001b[32m\"tag\u001b[0m\u001b[32m-item\"\u001b[0m\u001b[32m>\u001b[0m\u001b[32m\\n            \u001b[0m\u001b[32m<\u001b[0m\u001b[32ma\u001b[0m\u001b[32m \u001b[0m\u001b[32mclass\u001b[0m\u001b[32m=\u001b[0m\u001b[32m\"tag\"\u001b[0m\u001b[32m \u001b[0m\u001b[32mstyle\u001b[0m\u001b[32m=\u001b[0m\u001b[32m\"font\u001b[0m\u001b[32m-size: 28px\" \u001b[0m\u001b[32mhref\u001b[0m\u001b[32m=\"/tag/love/\"\u001b[0m\u001b[32m>\u001b[0m\u001b[32mlove\u001b[0m\u001b[32m<\u001b[0m\u001b[32m/a\u001b[0m\u001b[32m>\u001b[0m\u001b[32m\\n            \u001b[0m\u001b[32m<\u001b[0m\u001b[32m/span\u001b[0m\u001b[32m>\u001b[0m\u001b[32m\\n            \\n            \u001b[0m\u001b[32m<\u001b[0m\u001b[32mspan\u001b[0m\u001b[32m \u001b[0m\u001b[32mclass\u001b[0m\u001b[32m=\u001b[0m\u001b[32m\"tag\u001b[0m\u001b[32m-item\"\u001b[0m\u001b[32m>\u001b[0m\u001b[32m\\n            \u001b[0m\u001b[32m<\u001b[0m\u001b[32ma\u001b[0m\u001b[32m \u001b[0m\u001b[32mclass\u001b[0m\u001b[32m=\u001b[0m\u001b[32m\"tag\"\u001b[0m\u001b[32m \u001b[0m\u001b[32mstyle\u001b[0m\u001b[32m=\u001b[0m\u001b[32m\"font\u001b[0m\u001b[32m-size: 26px\" \u001b[0m\u001b[32mhref\u001b[0m\u001b[32m=\"/tag/inspirational/\"\u001b[0m\u001b[32m>\u001b[0m\u001b[32minspirational\u001b[0m\u001b[32m<\u001b[0m\u001b[32m/a\u001b[0m\u001b[32m>\u001b[0m\u001b[32m\\n            \u001b[0m\u001b[32m<\u001b[0m\u001b[32m/span\u001b[0m\u001b[32m>\u001b[0m\u001b[32m\\n            \\n            \u001b[0m\u001b[32m<\u001b[0m\u001b[32mspan\u001b[0m\u001b[32m \u001b[0m\u001b[32mclass\u001b[0m\u001b[32m=\u001b[0m\u001b[32m\"tag\u001b[0m\u001b[32m-item\"\u001b[0m\u001b[32m>\u001b[0m\u001b[32m\\n            \u001b[0m\u001b[32m<\u001b[0m\u001b[32ma\u001b[0m\u001b[32m \u001b[0m\u001b[32mclass\u001b[0m\u001b[32m=\u001b[0m\u001b[32m\"tag\"\u001b[0m\u001b[32m \u001b[0m\u001b[32mstyle\u001b[0m\u001b[32m=\u001b[0m\u001b[32m\"font\u001b[0m\u001b[32m-size: 26px\" \u001b[0m\u001b[32mhref\u001b[0m\u001b[32m=\"/tag/life/\"\u001b[0m\u001b[32m>\u001b[0m\u001b[32mlife\u001b[0m\u001b[32m<\u001b[0m\u001b[32m/a\u001b[0m\u001b[32m>\u001b[0m\u001b[32m\\n            \u001b[0m\u001b[32m<\u001b[0m\u001b[32m/span\u001b[0m\u001b[32m>\u001b[0m\u001b[32m\\n            \\n            \u001b[0m\u001b[32m<\u001b[0m\u001b[32mspan\u001b[0m\u001b[32m \u001b[0m\u001b[32mclass\u001b[0m\u001b[32m=\u001b[0m\u001b[32m\"tag\u001b[0m\u001b[32m-item\"\u001b[0m\u001b[32m>\u001b[0m\u001b[32m\\n            \u001b[0m\u001b[32m<\u001b[0m\u001b[32ma\u001b[0m\u001b[32m \u001b[0m\u001b[32mclass\u001b[0m\u001b[32m=\u001b[0m\u001b[32m\"tag\"\u001b[0m\u001b[32m \u001b[0m\u001b[32mstyle\u001b[0m\u001b[32m=\u001b[0m\u001b[32m\"font\u001b[0m\u001b[32m-size: 24px\" \u001b[0m\u001b[32mhref\u001b[0m\u001b[32m=\"/tag/humor/\"\u001b[0m\u001b[32m>\u001b[0m\u001b[32mhumor\u001b[0m\u001b[32m<\u001b[0m\u001b[32m/a\u001b[0m\u001b[32m>\u001b[0m\u001b[32m\\n            \u001b[0m\u001b[32m<\u001b[0m\u001b[32m/span\u001b[0m\u001b[32m>\u001b[0m\u001b[32m\\n            \\n            \u001b[0m\u001b[32m<\u001b[0m\u001b[32mspan\u001b[0m\u001b[32m \u001b[0m\u001b[32mclass\u001b[0m\u001b[32m=\u001b[0m\u001b[32m\"tag\u001b[0m\u001b[32m-item\"\u001b[0m\u001b[32m>\u001b[0m\u001b[32m\\n            \u001b[0m\u001b[32m<\u001b[0m\u001b[32ma\u001b[0m\u001b[32m \u001b[0m\u001b[32mclass\u001b[0m\u001b[32m=\u001b[0m\u001b[32m\"tag\"\u001b[0m\u001b[32m \u001b[0m\u001b[32mstyle\u001b[0m\u001b[32m=\u001b[0m\u001b[32m\"font\u001b[0m\u001b[32m-size: 22px\" \u001b[0m\u001b[32mhref\u001b[0m\u001b[32m=\"/tag/books/\"\u001b[0m\u001b[32m>\u001b[0m\u001b[32mbooks\u001b[0m\u001b[32m<\u001b[0m\u001b[32m/a\u001b[0m\u001b[32m>\u001b[0m\u001b[32m\\n            \u001b[0m\u001b[32m<\u001b[0m\u001b[32m/span\u001b[0m\u001b[32m>\u001b[0m\u001b[32m\\n            \\n            \u001b[0m\u001b[32m<\u001b[0m\u001b[32mspan\u001b[0m\u001b[32m \u001b[0m\u001b[32mclass\u001b[0m\u001b[32m=\u001b[0m\u001b[32m\"tag\u001b[0m\u001b[32m-item\"\u001b[0m\u001b[32m>\u001b[0m\u001b[32m\\n            \u001b[0m\u001b[32m<\u001b[0m\u001b[32ma\u001b[0m\u001b[32m \u001b[0m\u001b[32mclass\u001b[0m\u001b[32m=\u001b[0m\u001b[32m\"tag\"\u001b[0m\u001b[32m \u001b[0m\u001b[32mstyle\u001b[0m\u001b[32m=\u001b[0m\u001b[32m\"font\u001b[0m\u001b[32m-size: 14px\" \u001b[0m\u001b[32mhref\u001b[0m\u001b[32m=\"/tag/reading/\"\u001b[0m\u001b[32m>\u001b[0m\u001b[32mreading\u001b[0m\u001b[32m<\u001b[0m\u001b[32m/a\u001b[0m\u001b[32m>\u001b[0m\u001b[32m\\n            \u001b[0m\u001b[32m<\u001b[0m\u001b[32m/span\u001b[0m\u001b[32m>\u001b[0m\u001b[32m\\n            \\n            \u001b[0m\u001b[32m<\u001b[0m\u001b[32mspan\u001b[0m\u001b[32m \u001b[0m\u001b[32mclass\u001b[0m\u001b[32m=\u001b[0m\u001b[32m\"tag\u001b[0m\u001b[32m-item\"\u001b[0m\u001b[32m>\u001b[0m\u001b[32m\\n            \u001b[0m\u001b[32m<\u001b[0m\u001b[32ma\u001b[0m\u001b[32m \u001b[0m\u001b[32mclass\u001b[0m\u001b[32m=\u001b[0m\u001b[32m\"tag\"\u001b[0m\u001b[32m \u001b[0m\u001b[32mstyle\u001b[0m\u001b[32m=\u001b[0m\u001b[32m\"font\u001b[0m\u001b[32m-size: 10px\" \u001b[0m\u001b[32mhref\u001b[0m\u001b[32m=\"/tag/friendship/\"\u001b[0m\u001b[32m>\u001b[0m\u001b[32mfriendship\u001b[0m\u001b[32m<\u001b[0m\u001b[32m/a\u001b[0m\u001b[32m>\u001b[0m\u001b[32m\\n            \u001b[0m\u001b[32m<\u001b[0m\u001b[32m/span\u001b[0m\u001b[32m>\u001b[0m\u001b[32m\\n            \\n            \u001b[0m\u001b[32m<\u001b[0m\u001b[32mspan\u001b[0m\u001b[32m \u001b[0m\u001b[32mclass\u001b[0m\u001b[32m=\u001b[0m\u001b[32m\"tag\u001b[0m\u001b[32m-item\"\u001b[0m\u001b[32m>\u001b[0m\u001b[32m\\n            \u001b[0m\u001b[32m<\u001b[0m\u001b[32ma\u001b[0m\u001b[32m \u001b[0m\u001b[32mclass\u001b[0m\u001b[32m=\u001b[0m\u001b[32m\"tag\"\u001b[0m\u001b[32m \u001b[0m\u001b[32mstyle\u001b[0m\u001b[32m=\u001b[0m\u001b[32m\"font\u001b[0m\u001b[32m-size: 8px\" \u001b[0m\u001b[32mhref\u001b[0m\u001b[32m=\"/tag/friends/\"\u001b[0m\u001b[32m>\u001b[0m\u001b[32mfriends\u001b[0m\u001b[32m<\u001b[0m\u001b[32m/a\u001b[0m\u001b[32m>\u001b[0m\u001b[32m\\n            \u001b[0m\u001b[32m<\u001b[0m\u001b[32m/span\u001b[0m\u001b[32m>\u001b[0m\u001b[32m\\n            \\n            \u001b[0m\u001b[32m<\u001b[0m\u001b[32mspan\u001b[0m\u001b[32m \u001b[0m\u001b[32mclass\u001b[0m\u001b[32m=\u001b[0m\u001b[32m\"tag\u001b[0m\u001b[32m-item\"\u001b[0m\u001b[32m>\u001b[0m\u001b[32m\\n            \u001b[0m\u001b[32m<\u001b[0m\u001b[32ma\u001b[0m\u001b[32m \u001b[0m\u001b[32mclass\u001b[0m\u001b[32m=\u001b[0m\u001b[32m\"tag\"\u001b[0m\u001b[32m \u001b[0m\u001b[32mstyle\u001b[0m\u001b[32m=\u001b[0m\u001b[32m\"font\u001b[0m\u001b[32m-size: 8px\" \u001b[0m\u001b[32mhref\u001b[0m\u001b[32m=\"/tag/truth/\"\u001b[0m\u001b[32m>\u001b[0m\u001b[32mtruth\u001b[0m\u001b[32m<\u001b[0m\u001b[32m/a\u001b[0m\u001b[32m>\u001b[0m\u001b[32m\\n            \u001b[0m\u001b[32m<\u001b[0m\u001b[32m/span\u001b[0m\u001b[32m>\u001b[0m\u001b[32m\\n            \\n            \u001b[0m\u001b[32m<\u001b[0m\u001b[32mspan\u001b[0m\u001b[32m \u001b[0m\u001b[32mclass\u001b[0m\u001b[32m=\u001b[0m\u001b[32m\"tag\u001b[0m\u001b[32m-item\"\u001b[0m\u001b[32m>\u001b[0m\u001b[32m\\n            \u001b[0m\u001b[32m<\u001b[0m\u001b[32ma\u001b[0m\u001b[32m \u001b[0m\u001b[32mclass\u001b[0m\u001b[32m=\u001b[0m\u001b[32m\"tag\"\u001b[0m\u001b[32m \u001b[0m\u001b[32mstyle\u001b[0m\u001b[32m=\u001b[0m\u001b[32m\"font\u001b[0m\u001b[32m-size: 6px\" \u001b[0m\u001b[32mhref\u001b[0m\u001b[32m=\"/tag/simile/\"\u001b[0m\u001b[32m>\u001b[0m\u001b[32msimile\u001b[0m\u001b[32m<\u001b[0m\u001b[32m/a\u001b[0m\u001b[32m>\u001b[0m\u001b[32m\\n            \u001b[0m\u001b[32m<\u001b[0m\u001b[32m/span\u001b[0m\u001b[32m>\u001b[0m\u001b[32m\\n            \\n        \\n    \u001b[0m\u001b[32m<\u001b[0m\u001b[32m/div\u001b[0m\u001b[32m>\u001b[0m\u001b[32m\\n\u001b[0m\u001b[32m<\u001b[0m\u001b[32m/div\u001b[0m\u001b[32m>\u001b[0m\u001b[32m\\n\\n    \u001b[0m\u001b[32m<\u001b[0m\u001b[32m/div\u001b[0m\u001b[32m>\u001b[0m\u001b[32m\\n    \u001b[0m\u001b[32m<\u001b[0m\u001b[32mfooter\u001b[0m\u001b[32m \u001b[0m\u001b[32mclass\u001b[0m\u001b[32m=\u001b[0m\u001b[32m\"footer\"\u001b[0m\u001b[32m>\u001b[0m\u001b[32m\\n        \u001b[0m\u001b[32m<\u001b[0m\u001b[32mdiv\u001b[0m\u001b[32m \u001b[0m\u001b[32mclass\u001b[0m\u001b[32m=\u001b[0m\u001b[32m\"container\"\u001b[0m\u001b[32m>\u001b[0m\u001b[32m\\n            \u001b[0m\u001b[32m<\u001b[0m\u001b[32mp\u001b[0m\u001b[32m \u001b[0m\u001b[32mclass\u001b[0m\u001b[32m=\u001b[0m\u001b[32m\"text\u001b[0m\u001b[32m-muted\"\u001b[0m\u001b[32m>\u001b[0m\u001b[32m\\n                Quotes by: \u001b[0m\u001b[32m<\u001b[0m\u001b[32ma\u001b[0m\u001b[32m \u001b[0m\u001b[32mhref\u001b[0m\u001b[32m=\u001b[0m\u001b[32m\"https\u001b[0m\u001b[32m://www.goodreads.com/quotes\"\u001b[0m\u001b[32m>\u001b[0m\u001b[32mGoodReads.com\u001b[0m\u001b[32m<\u001b[0m\u001b[32m/a\u001b[0m\u001b[32m>\u001b[0m\u001b[32m\\n            \u001b[0m\u001b[32m<\u001b[0m\u001b[32m/p\u001b[0m\u001b[32m>\u001b[0m\u001b[32m\\n            \u001b[0m\u001b[32m<\u001b[0m\u001b[32mp\u001b[0m\u001b[32m \u001b[0m\u001b[32mclass\u001b[0m\u001b[32m=\u001b[0m\u001b[32m\"copyright\"\u001b[0m\u001b[32m>\u001b[0m\u001b[32m\\n                Made with \u001b[0m\u001b[32m<\u001b[0m\u001b[32mspan\u001b[0m\u001b[32m \u001b[0m\u001b[32mclass\u001b[0m\u001b[32m=\\'sh-red\\'\u001b[0m\u001b[32m>\u001b[0m\u001b[32m\\xe2\\x9d\\xa4\u001b[0m\u001b[32m<\u001b[0m\u001b[32m/span\u001b[0m\u001b[32m>\u001b[0m\u001b[32m by \u001b[0m\u001b[32m<\u001b[0m\u001b[32ma\u001b[0m\u001b[32m \u001b[0m\u001b[32mhref\u001b[0m\u001b[32m=\u001b[0m\u001b[32m\"https\u001b[0m\u001b[32m://scrapinghub.com\"\u001b[0m\u001b[32m>\u001b[0m\u001b[32mScrapinghub\u001b[0m\u001b[32m<\u001b[0m\u001b[32m/a\u001b[0m\u001b[32m>\u001b[0m\u001b[32m\\n            \u001b[0m\u001b[32m<\u001b[0m\u001b[32m/p\u001b[0m\u001b[32m>\u001b[0m\u001b[32m\\n        \u001b[0m\u001b[32m<\u001b[0m\u001b[32m/div\u001b[0m\u001b[32m>\u001b[0m\u001b[32m\\n    \u001b[0m\u001b[32m<\u001b[0m\u001b[32m/footer\u001b[0m\u001b[32m>\u001b[0m\u001b[32m\\n\u001b[0m\u001b[32m<\u001b[0m\u001b[32m/body\u001b[0m\u001b[32m>\u001b[0m\u001b[32m\\n\u001b[0m\u001b[32m<\u001b[0m\u001b[32m/html\u001b[0m\u001b[32m>\u001b[0m\u001b[32m'\u001b[0m\n"
                        ]
                    },
                    "metadata": {},
                    "output_type": "display_data"
                }
            ],
            "source": [
                "content = resp.read()\n",
                "content"
            ]
        },
        {
            "cell_type": "code",
            "execution_count": 33,
            "metadata": {},
            "outputs": [
                {
                    "data": {
                        "text/html": [
                            "<pre style=\"white-space:pre;overflow-x:auto;line-height:normal;font-family:Menlo,'DejaVu Sans Mono',consolas,'Courier New',monospace\"><span style=\"color: #008000; text-decoration-color: #008000\">'&lt;!DOCTYPE html&gt;\\n&lt;html lang=\"en\"&gt;\\n&lt;head&gt;\\n\\t&lt;meta charset=\"UTF-8\"&gt;\\n\\t&lt;title&gt;Quotes to Scrape&lt;/title&gt;\\n    &lt;link rel=\"stylesheet\" href=\"/static/bootstrap.min.css\"&gt;\\n    &lt;link rel=\"stylesheet\" href=\"/static/main.css\"&gt;\\n&lt;/head&gt;\\n&lt;body&gt;\\n    &lt;div class=\"container\"&gt;\\n        &lt;div class=\"row header-box\"&gt;\\n            &lt;div class=\"col-md-8\"&gt;\\n                &lt;h1&gt;\\n                    &lt;a href=\"/\" style=\"text-decoration: none\"&gt;Quotes to Scrape&lt;/a&gt;\\n                &lt;/h1&gt;\\n            &lt;/div&gt;\\n            &lt;div class=\"col-md-4\"&gt;\\n                &lt;p&gt;\\n                \\n                    &lt;a href=\"/login\"&gt;Login&lt;/a&gt;\\n                \\n                &lt;/p&gt;\\n            &lt;/div&gt;\\n        &lt;/div&gt;\\n    \\n\\n&lt;div class=\"row\"&gt;\\n    &lt;div class=\"col-md-8\"&gt;\\n\\n    &lt;div class=\"quote\" itemscope itemtype=\"http://schema.org/CreativeWork\"&gt;\\n        &lt;span class=\"text\" itemprop=\"text\"&gt;“The world as we have created it is a process of our thinking. It cannot be changed without changing our thinking.”&lt;/span&gt;\\n        &lt;span&gt;by &lt;small class=\"author\" itemprop=\"author\"&gt;Albert Einstein&lt;/small&gt;\\n        &lt;a href=\"/author/Albert-Einstein\"&gt;(about)&lt;/a&gt;\\n        &lt;/span&gt;\\n        &lt;div class=\"tags\"&gt;\\n            Tags:\\n            &lt;meta class=\"keywords\" itemprop=\"keywords\" content=\"change,deep-thoughts,thinking,world\" /    &gt; \\n            \\n            &lt;a class=\"tag\" href=\"/tag/change/page/1/\"&gt;change&lt;/a&gt;\\n            \\n            &lt;a class=\"tag\" href=\"/tag/deep-thoughts/page/1/\"&gt;deep-thoughts&lt;/a&gt;\\n            \\n            &lt;a class=\"tag\" href=\"/tag/thinking/page/1/\"&gt;thinking&lt;/a&gt;\\n            \\n            &lt;a class=\"tag\" href=\"/tag/world/page/1/\"&gt;world&lt;/a&gt;\\n            \\n        &lt;/div&gt;\\n    &lt;/div&gt;\\n\\n    &lt;div class=\"quote\" itemscope itemtype=\"http://schema.org/CreativeWork\"&gt;\\n        &lt;span class=\"text\" itemprop=\"text\"&gt;“It is our choices, Harry, that show what we truly are, far more than our abilities.”&lt;/span&gt;\\n        &lt;span&gt;by &lt;small class=\"author\" itemprop=\"author\"&gt;J.K. Rowling&lt;/small&gt;\\n        &lt;a href=\"/author/J-K-Rowling\"&gt;(about)&lt;/a&gt;\\n        &lt;/span&gt;\\n        &lt;div class=\"tags\"&gt;\\n            Tags:\\n            &lt;meta class=\"keywords\" itemprop=\"keywords\" content=\"abilities,choices\" /    &gt; \\n            \\n            &lt;a class=\"tag\" href=\"/tag/abilities/page/1/\"&gt;abilities&lt;/a&gt;\\n            \\n            &lt;a class=\"tag\" href=\"/tag/choices/page/1/\"&gt;choices&lt;/a&gt;\\n            \\n        &lt;/div&gt;\\n    &lt;/div&gt;\\n\\n    &lt;div class=\"quote\" itemscope itemtype=\"http://schema.org/CreativeWork\"&gt;\\n        &lt;span class=\"text\" itemprop=\"text\"&gt;“There are only two ways to live your life. One is as though nothing is a miracle. The other is as though everything is a miracle.”&lt;/span&gt;\\n        &lt;span&gt;by &lt;small class=\"author\" itemprop=\"author\"&gt;Albert Einstein&lt;/small&gt;\\n        &lt;a href=\"/author/Albert-Einstein\"&gt;(about)&lt;/a&gt;\\n        &lt;/span&gt;\\n        &lt;div class=\"tags\"&gt;\\n            Tags:\\n            &lt;meta class=\"keywords\" itemprop=\"keywords\" content=\"inspirational,life,live,miracle,miracles\" /    &gt; \\n            \\n            &lt;a class=\"tag\" href=\"/tag/inspirational/page/1/\"&gt;inspirational&lt;/a&gt;\\n            \\n            &lt;a class=\"tag\" href=\"/tag/life/page/1/\"&gt;life&lt;/a&gt;\\n            \\n            &lt;a class=\"tag\" href=\"/tag/live/page/1/\"&gt;live&lt;/a&gt;\\n            \\n            &lt;a class=\"tag\" href=\"/tag/miracle/page/1/\"&gt;miracle&lt;/a&gt;\\n            \\n            &lt;a class=\"tag\" href=\"/tag/miracles/page/1/\"&gt;miracles&lt;/a&gt;\\n            \\n        &lt;/div&gt;\\n    &lt;/div&gt;\\n\\n    &lt;div class=\"quote\" itemscope itemtype=\"http://schema.org/CreativeWork\"&gt;\\n        &lt;span class=\"text\" itemprop=\"text\"&gt;“The person, be it gentleman or lady, who has not pleasure in a good novel, must be intolerably stupid.”&lt;/span&gt;\\n        &lt;span&gt;by &lt;small class=\"author\" itemprop=\"author\"&gt;Jane Austen&lt;/small&gt;\\n        &lt;a href=\"/author/Jane-Austen\"&gt;(about)&lt;/a&gt;\\n        &lt;/span&gt;\\n        &lt;div class=\"tags\"&gt;\\n            Tags:\\n            &lt;meta class=\"keywords\" itemprop=\"keywords\" content=\"aliteracy,books,classic,humor\" /    &gt; \\n            \\n            &lt;a class=\"tag\" href=\"/tag/aliteracy/page/1/\"&gt;aliteracy&lt;/a&gt;\\n            \\n            &lt;a class=\"tag\" href=\"/tag/books/page/1/\"&gt;books&lt;/a&gt;\\n            \\n            &lt;a class=\"tag\" href=\"/tag/classic/page/1/\"&gt;classic&lt;/a&gt;\\n            \\n            &lt;a class=\"tag\" href=\"/tag/humor/page/1/\"&gt;humor&lt;/a&gt;\\n            \\n        &lt;/div&gt;\\n    &lt;/div&gt;\\n\\n    &lt;div class=\"quote\" itemscope itemtype=\"http://schema.org/CreativeWork\"&gt;\\n        &lt;span class=\"text\" itemprop=\"text\"&gt;“Imperfection is beauty, madness is genius and it&amp;#39;s better to be absolutely ridiculous than absolutely boring.”&lt;/span&gt;\\n        &lt;span&gt;by &lt;small class=\"author\" itemprop=\"author\"&gt;Marilyn Monroe&lt;/small&gt;\\n        &lt;a href=\"/author/Marilyn-Monroe\"&gt;(about)&lt;/a&gt;\\n        &lt;/span&gt;\\n        &lt;div class=\"tags\"&gt;\\n            Tags:\\n            &lt;meta class=\"keywords\" itemprop=\"keywords\" content=\"be-yourself,inspirational\" /    &gt; \\n            \\n            &lt;a class=\"tag\" href=\"/tag/be-yourself/page/1/\"&gt;be-yourself&lt;/a&gt;\\n            \\n            &lt;a class=\"tag\" href=\"/tag/inspirational/page/1/\"&gt;inspirational&lt;/a&gt;\\n            \\n        &lt;/div&gt;\\n    &lt;/div&gt;\\n\\n    &lt;div class=\"quote\" itemscope itemtype=\"http://schema.org/CreativeWork\"&gt;\\n        &lt;span class=\"text\" itemprop=\"text\"&gt;“Try not to become a man of success. Rather become a man of value.”&lt;/span&gt;\\n        &lt;span&gt;by &lt;small class=\"author\" itemprop=\"author\"&gt;Albert Einstein&lt;/small&gt;\\n        &lt;a href=\"/author/Albert-Einstein\"&gt;(about)&lt;/a&gt;\\n        &lt;/span&gt;\\n        &lt;div class=\"tags\"&gt;\\n            Tags:\\n            &lt;meta class=\"keywords\" itemprop=\"keywords\" content=\"adulthood,success,value\" /    &gt; \\n            \\n            &lt;a class=\"tag\" href=\"/tag/adulthood/page/1/\"&gt;adulthood&lt;/a&gt;\\n            \\n            &lt;a class=\"tag\" href=\"/tag/success/page/1/\"&gt;success&lt;/a&gt;\\n            \\n            &lt;a class=\"tag\" href=\"/tag/value/page/1/\"&gt;value&lt;/a&gt;\\n            \\n        &lt;/div&gt;\\n    &lt;/div&gt;\\n\\n    &lt;div class=\"quote\" itemscope itemtype=\"http://schema.org/CreativeWork\"&gt;\\n        &lt;span class=\"text\" itemprop=\"text\"&gt;“It is better to be hated for what you are than to be loved for what you are not.”&lt;/span&gt;\\n        &lt;span&gt;by &lt;small class=\"author\" itemprop=\"author\"&gt;André Gide&lt;/small&gt;\\n        &lt;a href=\"/author/Andre-Gide\"&gt;(about)&lt;/a&gt;\\n        &lt;/span&gt;\\n        &lt;div class=\"tags\"&gt;\\n            Tags:\\n            &lt;meta class=\"keywords\" itemprop=\"keywords\" content=\"life,love\" /    &gt; \\n            \\n            &lt;a class=\"tag\" href=\"/tag/life/page/1/\"&gt;life&lt;/a&gt;\\n            \\n            &lt;a class=\"tag\" href=\"/tag/love/page/1/\"&gt;love&lt;/a&gt;\\n            \\n        &lt;/div&gt;\\n    &lt;/div&gt;\\n\\n    &lt;div class=\"quote\" itemscope itemtype=\"http://schema.org/CreativeWork\"&gt;\\n        &lt;span class=\"text\" itemprop=\"text\"&gt;“I have not failed. I&amp;#39;ve just found 10,000 ways that won&amp;#39;t work.”&lt;/span&gt;\\n        &lt;span&gt;by &lt;small class=\"author\" itemprop=\"author\"&gt;Thomas A. Edison&lt;/small&gt;\\n        &lt;a href=\"/author/Thomas-A-Edison\"&gt;(about)&lt;/a&gt;\\n        &lt;/span&gt;\\n        &lt;div class=\"tags\"&gt;\\n            Tags:\\n            &lt;meta class=\"keywords\" itemprop=\"keywords\" content=\"edison,failure,inspirational,paraphrased\" /    &gt; \\n            \\n            &lt;a class=\"tag\" href=\"/tag/edison/page/1/\"&gt;edison&lt;/a&gt;\\n            \\n            &lt;a class=\"tag\" href=\"/tag/failure/page/1/\"&gt;failure&lt;/a&gt;\\n            \\n            &lt;a class=\"tag\" href=\"/tag/inspirational/page/1/\"&gt;inspirational&lt;/a&gt;\\n            \\n            &lt;a class=\"tag\" href=\"/tag/paraphrased/page/1/\"&gt;paraphrased&lt;/a&gt;\\n            \\n        &lt;/div&gt;\\n    &lt;/div&gt;\\n\\n    &lt;div class=\"quote\" itemscope itemtype=\"http://schema.org/CreativeWork\"&gt;\\n        &lt;span class=\"text\" itemprop=\"text\"&gt;“A woman is like a tea bag; you never know how strong it is until it&amp;#39;s in hot water.”&lt;/span&gt;\\n        &lt;span&gt;by &lt;small class=\"author\" itemprop=\"author\"&gt;Eleanor Roosevelt&lt;/small&gt;\\n        &lt;a href=\"/author/Eleanor-Roosevelt\"&gt;(about)&lt;/a&gt;\\n        &lt;/span&gt;\\n        &lt;div class=\"tags\"&gt;\\n            Tags:\\n            &lt;meta class=\"keywords\" itemprop=\"keywords\" content=\"misattributed-eleanor-roosevelt\" /    &gt; \\n            \\n            &lt;a class=\"tag\" href=\"/tag/misattributed-eleanor-roosevelt/page/1/\"&gt;misattributed-eleanor-roosevelt&lt;/a&gt;\\n            \\n        &lt;/div&gt;\\n    &lt;/div&gt;\\n\\n    &lt;div class=\"quote\" itemscope itemtype=\"http://schema.org/CreativeWork\"&gt;\\n        &lt;span class=\"text\" itemprop=\"text\"&gt;“A day without sunshine is like, you know, night.”&lt;/span&gt;\\n        &lt;span&gt;by &lt;small class=\"author\" itemprop=\"author\"&gt;Steve Martin&lt;/small&gt;\\n        &lt;a href=\"/author/Steve-Martin\"&gt;(about)&lt;/a&gt;\\n        &lt;/span&gt;\\n        &lt;div class=\"tags\"&gt;\\n            Tags:\\n            &lt;meta class=\"keywords\" itemprop=\"keywords\" content=\"humor,obvious,simile\" /    &gt; \\n            \\n            &lt;a class=\"tag\" href=\"/tag/humor/page/1/\"&gt;humor&lt;/a&gt;\\n            \\n            &lt;a class=\"tag\" href=\"/tag/obvious/page/1/\"&gt;obvious&lt;/a&gt;\\n            \\n            &lt;a class=\"tag\" href=\"/tag/simile/page/1/\"&gt;simile&lt;/a&gt;\\n            \\n        &lt;/div&gt;\\n    &lt;/div&gt;\\n\\n    &lt;nav&gt;\\n        &lt;ul class=\"pager\"&gt;\\n            \\n            \\n            &lt;li class=\"next\"&gt;\\n                &lt;a href=\"/page/2/\"&gt;Next &lt;span aria-hidden=\"true\"&gt;&amp;rarr;&lt;/span&gt;&lt;/a&gt;\\n            &lt;/li&gt;\\n            \\n        &lt;/ul&gt;\\n    &lt;/nav&gt;\\n    &lt;/div&gt;\\n    &lt;div class=\"col-md-4 tags-box\"&gt;\\n        \\n            &lt;h2&gt;Top Ten tags&lt;/h2&gt;\\n            \\n            &lt;span class=\"tag-item\"&gt;\\n            &lt;a class=\"tag\" style=\"font-size: 28px\" href=\"/tag/love/\"&gt;love&lt;/a&gt;\\n            &lt;/span&gt;\\n            \\n            &lt;span class=\"tag-item\"&gt;\\n            &lt;a class=\"tag\" style=\"font-size: 26px\" href=\"/tag/inspirational/\"&gt;inspirational&lt;/a&gt;\\n            &lt;/span&gt;\\n            \\n            &lt;span class=\"tag-item\"&gt;\\n            &lt;a class=\"tag\" style=\"font-size: 26px\" href=\"/tag/life/\"&gt;life&lt;/a&gt;\\n            &lt;/span&gt;\\n            \\n            &lt;span class=\"tag-item\"&gt;\\n            &lt;a class=\"tag\" style=\"font-size: 24px\" href=\"/tag/humor/\"&gt;humor&lt;/a&gt;\\n            &lt;/span&gt;\\n            \\n            &lt;span class=\"tag-item\"&gt;\\n            &lt;a class=\"tag\" style=\"font-size: 22px\" href=\"/tag/books/\"&gt;books&lt;/a&gt;\\n            &lt;/span&gt;\\n            \\n            &lt;span class=\"tag-item\"&gt;\\n            &lt;a class=\"tag\" style=\"font-size: 14px\" href=\"/tag/reading/\"&gt;reading&lt;/a&gt;\\n            &lt;/span&gt;\\n            \\n            &lt;span class=\"tag-item\"&gt;\\n            &lt;a class=\"tag\" style=\"font-size: 10px\" href=\"/tag/friendship/\"&gt;friendship&lt;/a&gt;\\n            &lt;/span&gt;\\n            \\n            &lt;span class=\"tag-item\"&gt;\\n            &lt;a class=\"tag\" style=\"font-size: 8px\" href=\"/tag/friends/\"&gt;friends&lt;/a&gt;\\n            &lt;/span&gt;\\n            \\n            &lt;span class=\"tag-item\"&gt;\\n            &lt;a class=\"tag\" style=\"font-size: 8px\" href=\"/tag/truth/\"&gt;truth&lt;/a&gt;\\n            &lt;/span&gt;\\n            \\n            &lt;span class=\"tag-item\"&gt;\\n            &lt;a class=\"tag\" style=\"font-size: 6px\" href=\"/tag/simile/\"&gt;simile&lt;/a&gt;\\n            &lt;/span&gt;\\n            \\n        \\n    &lt;/div&gt;\\n&lt;/div&gt;\\n\\n    &lt;/div&gt;\\n    &lt;footer class=\"footer\"&gt;\\n        &lt;div class=\"container\"&gt;\\n            &lt;p class=\"text-muted\"&gt;\\n                Quotes by: &lt;a href=\"https://www.goodreads.com/quotes\"&gt;GoodReads.com&lt;/a&gt;\\n            &lt;/p&gt;\\n            &lt;p class=\"copyright\"&gt;\\n                Made with &lt;span class=\\'sh-red\\'&gt;❤&lt;/span&gt; by &lt;a href=\"https://scrapinghub.com\"&gt;Scrapinghub&lt;/a&gt;\\n            &lt;/p&gt;\\n        &lt;/div&gt;\\n    &lt;/footer&gt;\\n&lt;/body&gt;\\n&lt;/html&gt;'</span>\n",
                            "</pre>\n"
                        ],
                        "text/plain": [
                            "\u001b[32m'\u001b[0m\u001b[32m<\u001b[0m\u001b[32m!DOCTYPE html\u001b[0m\u001b[32m>\u001b[0m\u001b[32m\\n\u001b[0m\u001b[32m<\u001b[0m\u001b[32mhtml\u001b[0m\u001b[32m \u001b[0m\u001b[32mlang\u001b[0m\u001b[32m=\u001b[0m\u001b[32m\"en\"\u001b[0m\u001b[32m>\u001b[0m\u001b[32m\\n\u001b[0m\u001b[32m<\u001b[0m\u001b[32mhead\u001b[0m\u001b[32m>\u001b[0m\u001b[32m\\n\\t\u001b[0m\u001b[32m<\u001b[0m\u001b[32mmeta\u001b[0m\u001b[32m \u001b[0m\u001b[32mcharset\u001b[0m\u001b[32m=\u001b[0m\u001b[32m\"UTF\u001b[0m\u001b[32m-8\"\u001b[0m\u001b[32m>\u001b[0m\u001b[32m\\n\\t\u001b[0m\u001b[32m<\u001b[0m\u001b[32mtitle\u001b[0m\u001b[32m>\u001b[0m\u001b[32mQuotes to Scrape\u001b[0m\u001b[32m<\u001b[0m\u001b[32m/title\u001b[0m\u001b[32m>\u001b[0m\u001b[32m\\n    \u001b[0m\u001b[32m<\u001b[0m\u001b[32mlink\u001b[0m\u001b[32m \u001b[0m\u001b[32mrel\u001b[0m\u001b[32m=\u001b[0m\u001b[32m\"stylesheet\"\u001b[0m\u001b[32m \u001b[0m\u001b[32mhref\u001b[0m\u001b[32m=\"/static/bootstrap.min.css\"\u001b[0m\u001b[32m>\u001b[0m\u001b[32m\\n    \u001b[0m\u001b[32m<\u001b[0m\u001b[32mlink\u001b[0m\u001b[32m \u001b[0m\u001b[32mrel\u001b[0m\u001b[32m=\u001b[0m\u001b[32m\"stylesheet\"\u001b[0m\u001b[32m \u001b[0m\u001b[32mhref\u001b[0m\u001b[32m=\"/static/main.css\"\u001b[0m\u001b[32m>\u001b[0m\u001b[32m\\n\u001b[0m\u001b[32m<\u001b[0m\u001b[32m/head\u001b[0m\u001b[32m>\u001b[0m\u001b[32m\\n\u001b[0m\u001b[32m<\u001b[0m\u001b[32mbody\u001b[0m\u001b[32m>\u001b[0m\u001b[32m\\n    \u001b[0m\u001b[32m<\u001b[0m\u001b[32mdiv\u001b[0m\u001b[32m \u001b[0m\u001b[32mclass\u001b[0m\u001b[32m=\u001b[0m\u001b[32m\"container\"\u001b[0m\u001b[32m>\u001b[0m\u001b[32m\\n        \u001b[0m\u001b[32m<\u001b[0m\u001b[32mdiv\u001b[0m\u001b[32m \u001b[0m\u001b[32mclass\u001b[0m\u001b[32m=\u001b[0m\u001b[32m\"row\u001b[0m\u001b[32m header-box\"\u001b[0m\u001b[32m>\u001b[0m\u001b[32m\\n            \u001b[0m\u001b[32m<\u001b[0m\u001b[32mdiv\u001b[0m\u001b[32m \u001b[0m\u001b[32mclass\u001b[0m\u001b[32m=\u001b[0m\u001b[32m\"col\u001b[0m\u001b[32m-md-8\"\u001b[0m\u001b[32m>\u001b[0m\u001b[32m\\n                \u001b[0m\u001b[32m<\u001b[0m\u001b[32mh1\u001b[0m\u001b[32m>\u001b[0m\u001b[32m\\n                    \u001b[0m\u001b[32m<\u001b[0m\u001b[32ma\u001b[0m\u001b[32m \u001b[0m\u001b[32mhref\u001b[0m\u001b[32m=\"/\" \u001b[0m\u001b[32mstyle\u001b[0m\u001b[32m=\u001b[0m\u001b[32m\"text\u001b[0m\u001b[32m-decoration: none\"\u001b[0m\u001b[32m>\u001b[0m\u001b[32mQuotes to Scrape\u001b[0m\u001b[32m<\u001b[0m\u001b[32m/a\u001b[0m\u001b[32m>\u001b[0m\u001b[32m\\n                \u001b[0m\u001b[32m<\u001b[0m\u001b[32m/h1\u001b[0m\u001b[32m>\u001b[0m\u001b[32m\\n            \u001b[0m\u001b[32m<\u001b[0m\u001b[32m/div\u001b[0m\u001b[32m>\u001b[0m\u001b[32m\\n            \u001b[0m\u001b[32m<\u001b[0m\u001b[32mdiv\u001b[0m\u001b[32m \u001b[0m\u001b[32mclass\u001b[0m\u001b[32m=\u001b[0m\u001b[32m\"col\u001b[0m\u001b[32m-md-4\"\u001b[0m\u001b[32m>\u001b[0m\u001b[32m\\n                \u001b[0m\u001b[32m<\u001b[0m\u001b[32mp\u001b[0m\u001b[32m>\u001b[0m\u001b[32m\\n                \\n                    \u001b[0m\u001b[32m<\u001b[0m\u001b[32ma\u001b[0m\u001b[32m \u001b[0m\u001b[32mhref\u001b[0m\u001b[32m=\"/login\"\u001b[0m\u001b[32m>\u001b[0m\u001b[32mLogin\u001b[0m\u001b[32m<\u001b[0m\u001b[32m/a\u001b[0m\u001b[32m>\u001b[0m\u001b[32m\\n                \\n                \u001b[0m\u001b[32m<\u001b[0m\u001b[32m/p\u001b[0m\u001b[32m>\u001b[0m\u001b[32m\\n            \u001b[0m\u001b[32m<\u001b[0m\u001b[32m/div\u001b[0m\u001b[32m>\u001b[0m\u001b[32m\\n        \u001b[0m\u001b[32m<\u001b[0m\u001b[32m/div\u001b[0m\u001b[32m>\u001b[0m\u001b[32m\\n    \\n\\n\u001b[0m\u001b[32m<\u001b[0m\u001b[32mdiv\u001b[0m\u001b[32m \u001b[0m\u001b[32mclass\u001b[0m\u001b[32m=\u001b[0m\u001b[32m\"row\"\u001b[0m\u001b[32m>\u001b[0m\u001b[32m\\n    \u001b[0m\u001b[32m<\u001b[0m\u001b[32mdiv\u001b[0m\u001b[32m \u001b[0m\u001b[32mclass\u001b[0m\u001b[32m=\u001b[0m\u001b[32m\"col\u001b[0m\u001b[32m-md-8\"\u001b[0m\u001b[32m>\u001b[0m\u001b[32m\\n\\n    \u001b[0m\u001b[32m<\u001b[0m\u001b[32mdiv\u001b[0m\u001b[32m \u001b[0m\u001b[32mclass\u001b[0m\u001b[32m=\u001b[0m\u001b[32m\"quote\"\u001b[0m\u001b[32m itemscope \u001b[0m\u001b[32mitemtype\u001b[0m\u001b[32m=\u001b[0m\u001b[32m\"http\u001b[0m\u001b[32m://schema.org/CreativeWork\"\u001b[0m\u001b[32m>\u001b[0m\u001b[32m\\n        \u001b[0m\u001b[32m<\u001b[0m\u001b[32mspan\u001b[0m\u001b[32m \u001b[0m\u001b[32mclass\u001b[0m\u001b[32m=\u001b[0m\u001b[32m\"text\"\u001b[0m\u001b[32m \u001b[0m\u001b[32mitemprop\u001b[0m\u001b[32m=\u001b[0m\u001b[32m\"text\"\u001b[0m\u001b[32m>\u001b[0m\u001b[32m“The world as we have created it is a process of our thinking. It cannot be changed without changing our thinking.”\u001b[0m\u001b[32m<\u001b[0m\u001b[32m/span\u001b[0m\u001b[32m>\u001b[0m\u001b[32m\\n        \u001b[0m\u001b[32m<\u001b[0m\u001b[32mspan\u001b[0m\u001b[32m>\u001b[0m\u001b[32mby \u001b[0m\u001b[32m<\u001b[0m\u001b[32msmall\u001b[0m\u001b[32m \u001b[0m\u001b[32mclass\u001b[0m\u001b[32m=\u001b[0m\u001b[32m\"author\"\u001b[0m\u001b[32m \u001b[0m\u001b[32mitemprop\u001b[0m\u001b[32m=\u001b[0m\u001b[32m\"author\"\u001b[0m\u001b[32m>\u001b[0m\u001b[32mAlbert Einstein\u001b[0m\u001b[32m<\u001b[0m\u001b[32m/small\u001b[0m\u001b[32m>\u001b[0m\u001b[32m\\n        \u001b[0m\u001b[32m<\u001b[0m\u001b[32ma\u001b[0m\u001b[32m \u001b[0m\u001b[32mhref\u001b[0m\u001b[32m=\"/author/Albert-Einstein\"\u001b[0m\u001b[32m>\u001b[0m\u001b[32m(\u001b[0m\u001b[32mabout\u001b[0m\u001b[32m)\u001b[0m\u001b[32m<\u001b[0m\u001b[32m/a\u001b[0m\u001b[32m>\u001b[0m\u001b[32m\\n        \u001b[0m\u001b[32m<\u001b[0m\u001b[32m/span\u001b[0m\u001b[32m>\u001b[0m\u001b[32m\\n        \u001b[0m\u001b[32m<\u001b[0m\u001b[32mdiv\u001b[0m\u001b[32m \u001b[0m\u001b[32mclass\u001b[0m\u001b[32m=\u001b[0m\u001b[32m\"tags\"\u001b[0m\u001b[32m>\u001b[0m\u001b[32m\\n            Tags:\\n            \u001b[0m\u001b[32m<\u001b[0m\u001b[32mmeta\u001b[0m\u001b[32m \u001b[0m\u001b[32mclass\u001b[0m\u001b[32m=\u001b[0m\u001b[32m\"keywords\"\u001b[0m\u001b[32m \u001b[0m\u001b[32mitemprop\u001b[0m\u001b[32m=\u001b[0m\u001b[32m\"keywords\"\u001b[0m\u001b[32m \u001b[0m\u001b[32mcontent\u001b[0m\u001b[32m=\u001b[0m\u001b[32m\"change\u001b[0m\u001b[32m,deep-thoughts,thinking,world\" /    \u001b[0m\u001b[32m>\u001b[0m\u001b[32m \\n            \\n            \u001b[0m\u001b[32m<\u001b[0m\u001b[32ma\u001b[0m\u001b[32m \u001b[0m\u001b[32mclass\u001b[0m\u001b[32m=\u001b[0m\u001b[32m\"tag\"\u001b[0m\u001b[32m \u001b[0m\u001b[32mhref\u001b[0m\u001b[32m=\"/tag/change/page/1/\"\u001b[0m\u001b[32m>\u001b[0m\u001b[32mchange\u001b[0m\u001b[32m<\u001b[0m\u001b[32m/a\u001b[0m\u001b[32m>\u001b[0m\u001b[32m\\n            \\n            \u001b[0m\u001b[32m<\u001b[0m\u001b[32ma\u001b[0m\u001b[32m \u001b[0m\u001b[32mclass\u001b[0m\u001b[32m=\u001b[0m\u001b[32m\"tag\"\u001b[0m\u001b[32m \u001b[0m\u001b[32mhref\u001b[0m\u001b[32m=\"/tag/deep-thoughts/page/1/\"\u001b[0m\u001b[32m>\u001b[0m\u001b[32mdeep-thoughts\u001b[0m\u001b[32m<\u001b[0m\u001b[32m/a\u001b[0m\u001b[32m>\u001b[0m\u001b[32m\\n            \\n            \u001b[0m\u001b[32m<\u001b[0m\u001b[32ma\u001b[0m\u001b[32m \u001b[0m\u001b[32mclass\u001b[0m\u001b[32m=\u001b[0m\u001b[32m\"tag\"\u001b[0m\u001b[32m \u001b[0m\u001b[32mhref\u001b[0m\u001b[32m=\"/tag/thinking/page/1/\"\u001b[0m\u001b[32m>\u001b[0m\u001b[32mthinking\u001b[0m\u001b[32m<\u001b[0m\u001b[32m/a\u001b[0m\u001b[32m>\u001b[0m\u001b[32m\\n            \\n            \u001b[0m\u001b[32m<\u001b[0m\u001b[32ma\u001b[0m\u001b[32m \u001b[0m\u001b[32mclass\u001b[0m\u001b[32m=\u001b[0m\u001b[32m\"tag\"\u001b[0m\u001b[32m \u001b[0m\u001b[32mhref\u001b[0m\u001b[32m=\"/tag/world/page/1/\"\u001b[0m\u001b[32m>\u001b[0m\u001b[32mworld\u001b[0m\u001b[32m<\u001b[0m\u001b[32m/a\u001b[0m\u001b[32m>\u001b[0m\u001b[32m\\n            \\n        \u001b[0m\u001b[32m<\u001b[0m\u001b[32m/div\u001b[0m\u001b[32m>\u001b[0m\u001b[32m\\n    \u001b[0m\u001b[32m<\u001b[0m\u001b[32m/div\u001b[0m\u001b[32m>\u001b[0m\u001b[32m\\n\\n    \u001b[0m\u001b[32m<\u001b[0m\u001b[32mdiv\u001b[0m\u001b[32m \u001b[0m\u001b[32mclass\u001b[0m\u001b[32m=\u001b[0m\u001b[32m\"quote\"\u001b[0m\u001b[32m itemscope \u001b[0m\u001b[32mitemtype\u001b[0m\u001b[32m=\u001b[0m\u001b[32m\"http\u001b[0m\u001b[32m://schema.org/CreativeWork\"\u001b[0m\u001b[32m>\u001b[0m\u001b[32m\\n        \u001b[0m\u001b[32m<\u001b[0m\u001b[32mspan\u001b[0m\u001b[32m \u001b[0m\u001b[32mclass\u001b[0m\u001b[32m=\u001b[0m\u001b[32m\"text\"\u001b[0m\u001b[32m \u001b[0m\u001b[32mitemprop\u001b[0m\u001b[32m=\u001b[0m\u001b[32m\"text\"\u001b[0m\u001b[32m>\u001b[0m\u001b[32m“It is our choices, Harry, that show what we truly are, far more than our abilities.”\u001b[0m\u001b[32m<\u001b[0m\u001b[32m/span\u001b[0m\u001b[32m>\u001b[0m\u001b[32m\\n        \u001b[0m\u001b[32m<\u001b[0m\u001b[32mspan\u001b[0m\u001b[32m>\u001b[0m\u001b[32mby \u001b[0m\u001b[32m<\u001b[0m\u001b[32msmall\u001b[0m\u001b[32m \u001b[0m\u001b[32mclass\u001b[0m\u001b[32m=\u001b[0m\u001b[32m\"author\"\u001b[0m\u001b[32m \u001b[0m\u001b[32mitemprop\u001b[0m\u001b[32m=\u001b[0m\u001b[32m\"author\"\u001b[0m\u001b[32m>\u001b[0m\u001b[32mJ.K. Rowling\u001b[0m\u001b[32m<\u001b[0m\u001b[32m/small\u001b[0m\u001b[32m>\u001b[0m\u001b[32m\\n        \u001b[0m\u001b[32m<\u001b[0m\u001b[32ma\u001b[0m\u001b[32m \u001b[0m\u001b[32mhref\u001b[0m\u001b[32m=\"/author/J-K-Rowling\"\u001b[0m\u001b[32m>\u001b[0m\u001b[32m(\u001b[0m\u001b[32mabout\u001b[0m\u001b[32m)\u001b[0m\u001b[32m<\u001b[0m\u001b[32m/a\u001b[0m\u001b[32m>\u001b[0m\u001b[32m\\n        \u001b[0m\u001b[32m<\u001b[0m\u001b[32m/span\u001b[0m\u001b[32m>\u001b[0m\u001b[32m\\n        \u001b[0m\u001b[32m<\u001b[0m\u001b[32mdiv\u001b[0m\u001b[32m \u001b[0m\u001b[32mclass\u001b[0m\u001b[32m=\u001b[0m\u001b[32m\"tags\"\u001b[0m\u001b[32m>\u001b[0m\u001b[32m\\n            Tags:\\n            \u001b[0m\u001b[32m<\u001b[0m\u001b[32mmeta\u001b[0m\u001b[32m \u001b[0m\u001b[32mclass\u001b[0m\u001b[32m=\u001b[0m\u001b[32m\"keywords\"\u001b[0m\u001b[32m \u001b[0m\u001b[32mitemprop\u001b[0m\u001b[32m=\u001b[0m\u001b[32m\"keywords\"\u001b[0m\u001b[32m \u001b[0m\u001b[32mcontent\u001b[0m\u001b[32m=\u001b[0m\u001b[32m\"abilities\u001b[0m\u001b[32m,choices\" /    \u001b[0m\u001b[32m>\u001b[0m\u001b[32m \\n            \\n            \u001b[0m\u001b[32m<\u001b[0m\u001b[32ma\u001b[0m\u001b[32m \u001b[0m\u001b[32mclass\u001b[0m\u001b[32m=\u001b[0m\u001b[32m\"tag\"\u001b[0m\u001b[32m \u001b[0m\u001b[32mhref\u001b[0m\u001b[32m=\"/tag/abilities/page/1/\"\u001b[0m\u001b[32m>\u001b[0m\u001b[32mabilities\u001b[0m\u001b[32m<\u001b[0m\u001b[32m/a\u001b[0m\u001b[32m>\u001b[0m\u001b[32m\\n            \\n            \u001b[0m\u001b[32m<\u001b[0m\u001b[32ma\u001b[0m\u001b[32m \u001b[0m\u001b[32mclass\u001b[0m\u001b[32m=\u001b[0m\u001b[32m\"tag\"\u001b[0m\u001b[32m \u001b[0m\u001b[32mhref\u001b[0m\u001b[32m=\"/tag/choices/page/1/\"\u001b[0m\u001b[32m>\u001b[0m\u001b[32mchoices\u001b[0m\u001b[32m<\u001b[0m\u001b[32m/a\u001b[0m\u001b[32m>\u001b[0m\u001b[32m\\n            \\n        \u001b[0m\u001b[32m<\u001b[0m\u001b[32m/div\u001b[0m\u001b[32m>\u001b[0m\u001b[32m\\n    \u001b[0m\u001b[32m<\u001b[0m\u001b[32m/div\u001b[0m\u001b[32m>\u001b[0m\u001b[32m\\n\\n    \u001b[0m\u001b[32m<\u001b[0m\u001b[32mdiv\u001b[0m\u001b[32m \u001b[0m\u001b[32mclass\u001b[0m\u001b[32m=\u001b[0m\u001b[32m\"quote\"\u001b[0m\u001b[32m itemscope \u001b[0m\u001b[32mitemtype\u001b[0m\u001b[32m=\u001b[0m\u001b[32m\"http\u001b[0m\u001b[32m://schema.org/CreativeWork\"\u001b[0m\u001b[32m>\u001b[0m\u001b[32m\\n        \u001b[0m\u001b[32m<\u001b[0m\u001b[32mspan\u001b[0m\u001b[32m \u001b[0m\u001b[32mclass\u001b[0m\u001b[32m=\u001b[0m\u001b[32m\"text\"\u001b[0m\u001b[32m \u001b[0m\u001b[32mitemprop\u001b[0m\u001b[32m=\u001b[0m\u001b[32m\"text\"\u001b[0m\u001b[32m>\u001b[0m\u001b[32m“There are only two ways to live your life. One is as though nothing is a miracle. The other is as though everything is a miracle.”\u001b[0m\u001b[32m<\u001b[0m\u001b[32m/span\u001b[0m\u001b[32m>\u001b[0m\u001b[32m\\n        \u001b[0m\u001b[32m<\u001b[0m\u001b[32mspan\u001b[0m\u001b[32m>\u001b[0m\u001b[32mby \u001b[0m\u001b[32m<\u001b[0m\u001b[32msmall\u001b[0m\u001b[32m \u001b[0m\u001b[32mclass\u001b[0m\u001b[32m=\u001b[0m\u001b[32m\"author\"\u001b[0m\u001b[32m \u001b[0m\u001b[32mitemprop\u001b[0m\u001b[32m=\u001b[0m\u001b[32m\"author\"\u001b[0m\u001b[32m>\u001b[0m\u001b[32mAlbert Einstein\u001b[0m\u001b[32m<\u001b[0m\u001b[32m/small\u001b[0m\u001b[32m>\u001b[0m\u001b[32m\\n        \u001b[0m\u001b[32m<\u001b[0m\u001b[32ma\u001b[0m\u001b[32m \u001b[0m\u001b[32mhref\u001b[0m\u001b[32m=\"/author/Albert-Einstein\"\u001b[0m\u001b[32m>\u001b[0m\u001b[32m(\u001b[0m\u001b[32mabout\u001b[0m\u001b[32m)\u001b[0m\u001b[32m<\u001b[0m\u001b[32m/a\u001b[0m\u001b[32m>\u001b[0m\u001b[32m\\n        \u001b[0m\u001b[32m<\u001b[0m\u001b[32m/span\u001b[0m\u001b[32m>\u001b[0m\u001b[32m\\n        \u001b[0m\u001b[32m<\u001b[0m\u001b[32mdiv\u001b[0m\u001b[32m \u001b[0m\u001b[32mclass\u001b[0m\u001b[32m=\u001b[0m\u001b[32m\"tags\"\u001b[0m\u001b[32m>\u001b[0m\u001b[32m\\n            Tags:\\n            \u001b[0m\u001b[32m<\u001b[0m\u001b[32mmeta\u001b[0m\u001b[32m \u001b[0m\u001b[32mclass\u001b[0m\u001b[32m=\u001b[0m\u001b[32m\"keywords\"\u001b[0m\u001b[32m \u001b[0m\u001b[32mitemprop\u001b[0m\u001b[32m=\u001b[0m\u001b[32m\"keywords\"\u001b[0m\u001b[32m \u001b[0m\u001b[32mcontent\u001b[0m\u001b[32m=\u001b[0m\u001b[32m\"inspirational\u001b[0m\u001b[32m,life,live,miracle,miracles\" /    \u001b[0m\u001b[32m>\u001b[0m\u001b[32m \\n            \\n            \u001b[0m\u001b[32m<\u001b[0m\u001b[32ma\u001b[0m\u001b[32m \u001b[0m\u001b[32mclass\u001b[0m\u001b[32m=\u001b[0m\u001b[32m\"tag\"\u001b[0m\u001b[32m \u001b[0m\u001b[32mhref\u001b[0m\u001b[32m=\"/tag/inspirational/page/1/\"\u001b[0m\u001b[32m>\u001b[0m\u001b[32minspirational\u001b[0m\u001b[32m<\u001b[0m\u001b[32m/a\u001b[0m\u001b[32m>\u001b[0m\u001b[32m\\n            \\n            \u001b[0m\u001b[32m<\u001b[0m\u001b[32ma\u001b[0m\u001b[32m \u001b[0m\u001b[32mclass\u001b[0m\u001b[32m=\u001b[0m\u001b[32m\"tag\"\u001b[0m\u001b[32m \u001b[0m\u001b[32mhref\u001b[0m\u001b[32m=\"/tag/life/page/1/\"\u001b[0m\u001b[32m>\u001b[0m\u001b[32mlife\u001b[0m\u001b[32m<\u001b[0m\u001b[32m/a\u001b[0m\u001b[32m>\u001b[0m\u001b[32m\\n            \\n            \u001b[0m\u001b[32m<\u001b[0m\u001b[32ma\u001b[0m\u001b[32m \u001b[0m\u001b[32mclass\u001b[0m\u001b[32m=\u001b[0m\u001b[32m\"tag\"\u001b[0m\u001b[32m \u001b[0m\u001b[32mhref\u001b[0m\u001b[32m=\"/tag/live/page/1/\"\u001b[0m\u001b[32m>\u001b[0m\u001b[32mlive\u001b[0m\u001b[32m<\u001b[0m\u001b[32m/a\u001b[0m\u001b[32m>\u001b[0m\u001b[32m\\n            \\n            \u001b[0m\u001b[32m<\u001b[0m\u001b[32ma\u001b[0m\u001b[32m \u001b[0m\u001b[32mclass\u001b[0m\u001b[32m=\u001b[0m\u001b[32m\"tag\"\u001b[0m\u001b[32m \u001b[0m\u001b[32mhref\u001b[0m\u001b[32m=\"/tag/miracle/page/1/\"\u001b[0m\u001b[32m>\u001b[0m\u001b[32mmiracle\u001b[0m\u001b[32m<\u001b[0m\u001b[32m/a\u001b[0m\u001b[32m>\u001b[0m\u001b[32m\\n            \\n            \u001b[0m\u001b[32m<\u001b[0m\u001b[32ma\u001b[0m\u001b[32m \u001b[0m\u001b[32mclass\u001b[0m\u001b[32m=\u001b[0m\u001b[32m\"tag\"\u001b[0m\u001b[32m \u001b[0m\u001b[32mhref\u001b[0m\u001b[32m=\"/tag/miracles/page/1/\"\u001b[0m\u001b[32m>\u001b[0m\u001b[32mmiracles\u001b[0m\u001b[32m<\u001b[0m\u001b[32m/a\u001b[0m\u001b[32m>\u001b[0m\u001b[32m\\n            \\n        \u001b[0m\u001b[32m<\u001b[0m\u001b[32m/div\u001b[0m\u001b[32m>\u001b[0m\u001b[32m\\n    \u001b[0m\u001b[32m<\u001b[0m\u001b[32m/div\u001b[0m\u001b[32m>\u001b[0m\u001b[32m\\n\\n    \u001b[0m\u001b[32m<\u001b[0m\u001b[32mdiv\u001b[0m\u001b[32m \u001b[0m\u001b[32mclass\u001b[0m\u001b[32m=\u001b[0m\u001b[32m\"quote\"\u001b[0m\u001b[32m itemscope \u001b[0m\u001b[32mitemtype\u001b[0m\u001b[32m=\u001b[0m\u001b[32m\"http\u001b[0m\u001b[32m://schema.org/CreativeWork\"\u001b[0m\u001b[32m>\u001b[0m\u001b[32m\\n        \u001b[0m\u001b[32m<\u001b[0m\u001b[32mspan\u001b[0m\u001b[32m \u001b[0m\u001b[32mclass\u001b[0m\u001b[32m=\u001b[0m\u001b[32m\"text\"\u001b[0m\u001b[32m \u001b[0m\u001b[32mitemprop\u001b[0m\u001b[32m=\u001b[0m\u001b[32m\"text\"\u001b[0m\u001b[32m>\u001b[0m\u001b[32m“The person, be it gentleman or lady, who has not pleasure in a good novel, must be intolerably stupid.”\u001b[0m\u001b[32m<\u001b[0m\u001b[32m/span\u001b[0m\u001b[32m>\u001b[0m\u001b[32m\\n        \u001b[0m\u001b[32m<\u001b[0m\u001b[32mspan\u001b[0m\u001b[32m>\u001b[0m\u001b[32mby \u001b[0m\u001b[32m<\u001b[0m\u001b[32msmall\u001b[0m\u001b[32m \u001b[0m\u001b[32mclass\u001b[0m\u001b[32m=\u001b[0m\u001b[32m\"author\"\u001b[0m\u001b[32m \u001b[0m\u001b[32mitemprop\u001b[0m\u001b[32m=\u001b[0m\u001b[32m\"author\"\u001b[0m\u001b[32m>\u001b[0m\u001b[32mJane Austen\u001b[0m\u001b[32m<\u001b[0m\u001b[32m/small\u001b[0m\u001b[32m>\u001b[0m\u001b[32m\\n        \u001b[0m\u001b[32m<\u001b[0m\u001b[32ma\u001b[0m\u001b[32m \u001b[0m\u001b[32mhref\u001b[0m\u001b[32m=\"/author/Jane-Austen\"\u001b[0m\u001b[32m>\u001b[0m\u001b[32m(\u001b[0m\u001b[32mabout\u001b[0m\u001b[32m)\u001b[0m\u001b[32m<\u001b[0m\u001b[32m/a\u001b[0m\u001b[32m>\u001b[0m\u001b[32m\\n        \u001b[0m\u001b[32m<\u001b[0m\u001b[32m/span\u001b[0m\u001b[32m>\u001b[0m\u001b[32m\\n        \u001b[0m\u001b[32m<\u001b[0m\u001b[32mdiv\u001b[0m\u001b[32m \u001b[0m\u001b[32mclass\u001b[0m\u001b[32m=\u001b[0m\u001b[32m\"tags\"\u001b[0m\u001b[32m>\u001b[0m\u001b[32m\\n            Tags:\\n            \u001b[0m\u001b[32m<\u001b[0m\u001b[32mmeta\u001b[0m\u001b[32m \u001b[0m\u001b[32mclass\u001b[0m\u001b[32m=\u001b[0m\u001b[32m\"keywords\"\u001b[0m\u001b[32m \u001b[0m\u001b[32mitemprop\u001b[0m\u001b[32m=\u001b[0m\u001b[32m\"keywords\"\u001b[0m\u001b[32m \u001b[0m\u001b[32mcontent\u001b[0m\u001b[32m=\u001b[0m\u001b[32m\"aliteracy\u001b[0m\u001b[32m,books,classic,humor\" /    \u001b[0m\u001b[32m>\u001b[0m\u001b[32m \\n            \\n            \u001b[0m\u001b[32m<\u001b[0m\u001b[32ma\u001b[0m\u001b[32m \u001b[0m\u001b[32mclass\u001b[0m\u001b[32m=\u001b[0m\u001b[32m\"tag\"\u001b[0m\u001b[32m \u001b[0m\u001b[32mhref\u001b[0m\u001b[32m=\"/tag/aliteracy/page/1/\"\u001b[0m\u001b[32m>\u001b[0m\u001b[32maliteracy\u001b[0m\u001b[32m<\u001b[0m\u001b[32m/a\u001b[0m\u001b[32m>\u001b[0m\u001b[32m\\n            \\n            \u001b[0m\u001b[32m<\u001b[0m\u001b[32ma\u001b[0m\u001b[32m \u001b[0m\u001b[32mclass\u001b[0m\u001b[32m=\u001b[0m\u001b[32m\"tag\"\u001b[0m\u001b[32m \u001b[0m\u001b[32mhref\u001b[0m\u001b[32m=\"/tag/books/page/1/\"\u001b[0m\u001b[32m>\u001b[0m\u001b[32mbooks\u001b[0m\u001b[32m<\u001b[0m\u001b[32m/a\u001b[0m\u001b[32m>\u001b[0m\u001b[32m\\n            \\n            \u001b[0m\u001b[32m<\u001b[0m\u001b[32ma\u001b[0m\u001b[32m \u001b[0m\u001b[32mclass\u001b[0m\u001b[32m=\u001b[0m\u001b[32m\"tag\"\u001b[0m\u001b[32m \u001b[0m\u001b[32mhref\u001b[0m\u001b[32m=\"/tag/classic/page/1/\"\u001b[0m\u001b[32m>\u001b[0m\u001b[32mclassic\u001b[0m\u001b[32m<\u001b[0m\u001b[32m/a\u001b[0m\u001b[32m>\u001b[0m\u001b[32m\\n            \\n            \u001b[0m\u001b[32m<\u001b[0m\u001b[32ma\u001b[0m\u001b[32m \u001b[0m\u001b[32mclass\u001b[0m\u001b[32m=\u001b[0m\u001b[32m\"tag\"\u001b[0m\u001b[32m \u001b[0m\u001b[32mhref\u001b[0m\u001b[32m=\"/tag/humor/page/1/\"\u001b[0m\u001b[32m>\u001b[0m\u001b[32mhumor\u001b[0m\u001b[32m<\u001b[0m\u001b[32m/a\u001b[0m\u001b[32m>\u001b[0m\u001b[32m\\n            \\n        \u001b[0m\u001b[32m<\u001b[0m\u001b[32m/div\u001b[0m\u001b[32m>\u001b[0m\u001b[32m\\n    \u001b[0m\u001b[32m<\u001b[0m\u001b[32m/div\u001b[0m\u001b[32m>\u001b[0m\u001b[32m\\n\\n    \u001b[0m\u001b[32m<\u001b[0m\u001b[32mdiv\u001b[0m\u001b[32m \u001b[0m\u001b[32mclass\u001b[0m\u001b[32m=\u001b[0m\u001b[32m\"quote\"\u001b[0m\u001b[32m itemscope \u001b[0m\u001b[32mitemtype\u001b[0m\u001b[32m=\u001b[0m\u001b[32m\"http\u001b[0m\u001b[32m://schema.org/CreativeWork\"\u001b[0m\u001b[32m>\u001b[0m\u001b[32m\\n        \u001b[0m\u001b[32m<\u001b[0m\u001b[32mspan\u001b[0m\u001b[32m \u001b[0m\u001b[32mclass\u001b[0m\u001b[32m=\u001b[0m\u001b[32m\"text\"\u001b[0m\u001b[32m \u001b[0m\u001b[32mitemprop\u001b[0m\u001b[32m=\u001b[0m\u001b[32m\"text\"\u001b[0m\u001b[32m>\u001b[0m\u001b[32m“Imperfection is beauty, madness is genius and it&#39;s better to be absolutely ridiculous than absolutely boring.”\u001b[0m\u001b[32m<\u001b[0m\u001b[32m/span\u001b[0m\u001b[32m>\u001b[0m\u001b[32m\\n        \u001b[0m\u001b[32m<\u001b[0m\u001b[32mspan\u001b[0m\u001b[32m>\u001b[0m\u001b[32mby \u001b[0m\u001b[32m<\u001b[0m\u001b[32msmall\u001b[0m\u001b[32m \u001b[0m\u001b[32mclass\u001b[0m\u001b[32m=\u001b[0m\u001b[32m\"author\"\u001b[0m\u001b[32m \u001b[0m\u001b[32mitemprop\u001b[0m\u001b[32m=\u001b[0m\u001b[32m\"author\"\u001b[0m\u001b[32m>\u001b[0m\u001b[32mMarilyn Monroe\u001b[0m\u001b[32m<\u001b[0m\u001b[32m/small\u001b[0m\u001b[32m>\u001b[0m\u001b[32m\\n        \u001b[0m\u001b[32m<\u001b[0m\u001b[32ma\u001b[0m\u001b[32m \u001b[0m\u001b[32mhref\u001b[0m\u001b[32m=\"/author/Marilyn-Monroe\"\u001b[0m\u001b[32m>\u001b[0m\u001b[32m(\u001b[0m\u001b[32mabout\u001b[0m\u001b[32m)\u001b[0m\u001b[32m<\u001b[0m\u001b[32m/a\u001b[0m\u001b[32m>\u001b[0m\u001b[32m\\n        \u001b[0m\u001b[32m<\u001b[0m\u001b[32m/span\u001b[0m\u001b[32m>\u001b[0m\u001b[32m\\n        \u001b[0m\u001b[32m<\u001b[0m\u001b[32mdiv\u001b[0m\u001b[32m \u001b[0m\u001b[32mclass\u001b[0m\u001b[32m=\u001b[0m\u001b[32m\"tags\"\u001b[0m\u001b[32m>\u001b[0m\u001b[32m\\n            Tags:\\n            \u001b[0m\u001b[32m<\u001b[0m\u001b[32mmeta\u001b[0m\u001b[32m \u001b[0m\u001b[32mclass\u001b[0m\u001b[32m=\u001b[0m\u001b[32m\"keywords\"\u001b[0m\u001b[32m \u001b[0m\u001b[32mitemprop\u001b[0m\u001b[32m=\u001b[0m\u001b[32m\"keywords\"\u001b[0m\u001b[32m \u001b[0m\u001b[32mcontent\u001b[0m\u001b[32m=\u001b[0m\u001b[32m\"be\u001b[0m\u001b[32m-yourself,inspirational\" /    \u001b[0m\u001b[32m>\u001b[0m\u001b[32m \\n            \\n            \u001b[0m\u001b[32m<\u001b[0m\u001b[32ma\u001b[0m\u001b[32m \u001b[0m\u001b[32mclass\u001b[0m\u001b[32m=\u001b[0m\u001b[32m\"tag\"\u001b[0m\u001b[32m \u001b[0m\u001b[32mhref\u001b[0m\u001b[32m=\"/tag/be-yourself/page/1/\"\u001b[0m\u001b[32m>\u001b[0m\u001b[32mbe-yourself\u001b[0m\u001b[32m<\u001b[0m\u001b[32m/a\u001b[0m\u001b[32m>\u001b[0m\u001b[32m\\n            \\n            \u001b[0m\u001b[32m<\u001b[0m\u001b[32ma\u001b[0m\u001b[32m \u001b[0m\u001b[32mclass\u001b[0m\u001b[32m=\u001b[0m\u001b[32m\"tag\"\u001b[0m\u001b[32m \u001b[0m\u001b[32mhref\u001b[0m\u001b[32m=\"/tag/inspirational/page/1/\"\u001b[0m\u001b[32m>\u001b[0m\u001b[32minspirational\u001b[0m\u001b[32m<\u001b[0m\u001b[32m/a\u001b[0m\u001b[32m>\u001b[0m\u001b[32m\\n            \\n        \u001b[0m\u001b[32m<\u001b[0m\u001b[32m/div\u001b[0m\u001b[32m>\u001b[0m\u001b[32m\\n    \u001b[0m\u001b[32m<\u001b[0m\u001b[32m/div\u001b[0m\u001b[32m>\u001b[0m\u001b[32m\\n\\n    \u001b[0m\u001b[32m<\u001b[0m\u001b[32mdiv\u001b[0m\u001b[32m \u001b[0m\u001b[32mclass\u001b[0m\u001b[32m=\u001b[0m\u001b[32m\"quote\"\u001b[0m\u001b[32m itemscope \u001b[0m\u001b[32mitemtype\u001b[0m\u001b[32m=\u001b[0m\u001b[32m\"http\u001b[0m\u001b[32m://schema.org/CreativeWork\"\u001b[0m\u001b[32m>\u001b[0m\u001b[32m\\n        \u001b[0m\u001b[32m<\u001b[0m\u001b[32mspan\u001b[0m\u001b[32m \u001b[0m\u001b[32mclass\u001b[0m\u001b[32m=\u001b[0m\u001b[32m\"text\"\u001b[0m\u001b[32m \u001b[0m\u001b[32mitemprop\u001b[0m\u001b[32m=\u001b[0m\u001b[32m\"text\"\u001b[0m\u001b[32m>\u001b[0m\u001b[32m“Try not to become a man of success. Rather become a man of value.”\u001b[0m\u001b[32m<\u001b[0m\u001b[32m/span\u001b[0m\u001b[32m>\u001b[0m\u001b[32m\\n        \u001b[0m\u001b[32m<\u001b[0m\u001b[32mspan\u001b[0m\u001b[32m>\u001b[0m\u001b[32mby \u001b[0m\u001b[32m<\u001b[0m\u001b[32msmall\u001b[0m\u001b[32m \u001b[0m\u001b[32mclass\u001b[0m\u001b[32m=\u001b[0m\u001b[32m\"author\"\u001b[0m\u001b[32m \u001b[0m\u001b[32mitemprop\u001b[0m\u001b[32m=\u001b[0m\u001b[32m\"author\"\u001b[0m\u001b[32m>\u001b[0m\u001b[32mAlbert Einstein\u001b[0m\u001b[32m<\u001b[0m\u001b[32m/small\u001b[0m\u001b[32m>\u001b[0m\u001b[32m\\n        \u001b[0m\u001b[32m<\u001b[0m\u001b[32ma\u001b[0m\u001b[32m \u001b[0m\u001b[32mhref\u001b[0m\u001b[32m=\"/author/Albert-Einstein\"\u001b[0m\u001b[32m>\u001b[0m\u001b[32m(\u001b[0m\u001b[32mabout\u001b[0m\u001b[32m)\u001b[0m\u001b[32m<\u001b[0m\u001b[32m/a\u001b[0m\u001b[32m>\u001b[0m\u001b[32m\\n        \u001b[0m\u001b[32m<\u001b[0m\u001b[32m/span\u001b[0m\u001b[32m>\u001b[0m\u001b[32m\\n        \u001b[0m\u001b[32m<\u001b[0m\u001b[32mdiv\u001b[0m\u001b[32m \u001b[0m\u001b[32mclass\u001b[0m\u001b[32m=\u001b[0m\u001b[32m\"tags\"\u001b[0m\u001b[32m>\u001b[0m\u001b[32m\\n            Tags:\\n            \u001b[0m\u001b[32m<\u001b[0m\u001b[32mmeta\u001b[0m\u001b[32m \u001b[0m\u001b[32mclass\u001b[0m\u001b[32m=\u001b[0m\u001b[32m\"keywords\"\u001b[0m\u001b[32m \u001b[0m\u001b[32mitemprop\u001b[0m\u001b[32m=\u001b[0m\u001b[32m\"keywords\"\u001b[0m\u001b[32m \u001b[0m\u001b[32mcontent\u001b[0m\u001b[32m=\u001b[0m\u001b[32m\"adulthood\u001b[0m\u001b[32m,success,value\" /    \u001b[0m\u001b[32m>\u001b[0m\u001b[32m \\n            \\n            \u001b[0m\u001b[32m<\u001b[0m\u001b[32ma\u001b[0m\u001b[32m \u001b[0m\u001b[32mclass\u001b[0m\u001b[32m=\u001b[0m\u001b[32m\"tag\"\u001b[0m\u001b[32m \u001b[0m\u001b[32mhref\u001b[0m\u001b[32m=\"/tag/adulthood/page/1/\"\u001b[0m\u001b[32m>\u001b[0m\u001b[32madulthood\u001b[0m\u001b[32m<\u001b[0m\u001b[32m/a\u001b[0m\u001b[32m>\u001b[0m\u001b[32m\\n            \\n            \u001b[0m\u001b[32m<\u001b[0m\u001b[32ma\u001b[0m\u001b[32m \u001b[0m\u001b[32mclass\u001b[0m\u001b[32m=\u001b[0m\u001b[32m\"tag\"\u001b[0m\u001b[32m \u001b[0m\u001b[32mhref\u001b[0m\u001b[32m=\"/tag/success/page/1/\"\u001b[0m\u001b[32m>\u001b[0m\u001b[32msuccess\u001b[0m\u001b[32m<\u001b[0m\u001b[32m/a\u001b[0m\u001b[32m>\u001b[0m\u001b[32m\\n            \\n            \u001b[0m\u001b[32m<\u001b[0m\u001b[32ma\u001b[0m\u001b[32m \u001b[0m\u001b[32mclass\u001b[0m\u001b[32m=\u001b[0m\u001b[32m\"tag\"\u001b[0m\u001b[32m \u001b[0m\u001b[32mhref\u001b[0m\u001b[32m=\"/tag/value/page/1/\"\u001b[0m\u001b[32m>\u001b[0m\u001b[32mvalue\u001b[0m\u001b[32m<\u001b[0m\u001b[32m/a\u001b[0m\u001b[32m>\u001b[0m\u001b[32m\\n            \\n        \u001b[0m\u001b[32m<\u001b[0m\u001b[32m/div\u001b[0m\u001b[32m>\u001b[0m\u001b[32m\\n    \u001b[0m\u001b[32m<\u001b[0m\u001b[32m/div\u001b[0m\u001b[32m>\u001b[0m\u001b[32m\\n\\n    \u001b[0m\u001b[32m<\u001b[0m\u001b[32mdiv\u001b[0m\u001b[32m \u001b[0m\u001b[32mclass\u001b[0m\u001b[32m=\u001b[0m\u001b[32m\"quote\"\u001b[0m\u001b[32m itemscope \u001b[0m\u001b[32mitemtype\u001b[0m\u001b[32m=\u001b[0m\u001b[32m\"http\u001b[0m\u001b[32m://schema.org/CreativeWork\"\u001b[0m\u001b[32m>\u001b[0m\u001b[32m\\n        \u001b[0m\u001b[32m<\u001b[0m\u001b[32mspan\u001b[0m\u001b[32m \u001b[0m\u001b[32mclass\u001b[0m\u001b[32m=\u001b[0m\u001b[32m\"text\"\u001b[0m\u001b[32m \u001b[0m\u001b[32mitemprop\u001b[0m\u001b[32m=\u001b[0m\u001b[32m\"text\"\u001b[0m\u001b[32m>\u001b[0m\u001b[32m“It is better to be hated for what you are than to be loved for what you are not.”\u001b[0m\u001b[32m<\u001b[0m\u001b[32m/span\u001b[0m\u001b[32m>\u001b[0m\u001b[32m\\n        \u001b[0m\u001b[32m<\u001b[0m\u001b[32mspan\u001b[0m\u001b[32m>\u001b[0m\u001b[32mby \u001b[0m\u001b[32m<\u001b[0m\u001b[32msmall\u001b[0m\u001b[32m \u001b[0m\u001b[32mclass\u001b[0m\u001b[32m=\u001b[0m\u001b[32m\"author\"\u001b[0m\u001b[32m \u001b[0m\u001b[32mitemprop\u001b[0m\u001b[32m=\u001b[0m\u001b[32m\"author\"\u001b[0m\u001b[32m>\u001b[0m\u001b[32mAndré Gide\u001b[0m\u001b[32m<\u001b[0m\u001b[32m/small\u001b[0m\u001b[32m>\u001b[0m\u001b[32m\\n        \u001b[0m\u001b[32m<\u001b[0m\u001b[32ma\u001b[0m\u001b[32m \u001b[0m\u001b[32mhref\u001b[0m\u001b[32m=\"/author/Andre-Gide\"\u001b[0m\u001b[32m>\u001b[0m\u001b[32m(\u001b[0m\u001b[32mabout\u001b[0m\u001b[32m)\u001b[0m\u001b[32m<\u001b[0m\u001b[32m/a\u001b[0m\u001b[32m>\u001b[0m\u001b[32m\\n        \u001b[0m\u001b[32m<\u001b[0m\u001b[32m/span\u001b[0m\u001b[32m>\u001b[0m\u001b[32m\\n        \u001b[0m\u001b[32m<\u001b[0m\u001b[32mdiv\u001b[0m\u001b[32m \u001b[0m\u001b[32mclass\u001b[0m\u001b[32m=\u001b[0m\u001b[32m\"tags\"\u001b[0m\u001b[32m>\u001b[0m\u001b[32m\\n            Tags:\\n            \u001b[0m\u001b[32m<\u001b[0m\u001b[32mmeta\u001b[0m\u001b[32m \u001b[0m\u001b[32mclass\u001b[0m\u001b[32m=\u001b[0m\u001b[32m\"keywords\"\u001b[0m\u001b[32m \u001b[0m\u001b[32mitemprop\u001b[0m\u001b[32m=\u001b[0m\u001b[32m\"keywords\"\u001b[0m\u001b[32m \u001b[0m\u001b[32mcontent\u001b[0m\u001b[32m=\u001b[0m\u001b[32m\"life\u001b[0m\u001b[32m,love\" /    \u001b[0m\u001b[32m>\u001b[0m\u001b[32m \\n            \\n            \u001b[0m\u001b[32m<\u001b[0m\u001b[32ma\u001b[0m\u001b[32m \u001b[0m\u001b[32mclass\u001b[0m\u001b[32m=\u001b[0m\u001b[32m\"tag\"\u001b[0m\u001b[32m \u001b[0m\u001b[32mhref\u001b[0m\u001b[32m=\"/tag/life/page/1/\"\u001b[0m\u001b[32m>\u001b[0m\u001b[32mlife\u001b[0m\u001b[32m<\u001b[0m\u001b[32m/a\u001b[0m\u001b[32m>\u001b[0m\u001b[32m\\n            \\n            \u001b[0m\u001b[32m<\u001b[0m\u001b[32ma\u001b[0m\u001b[32m \u001b[0m\u001b[32mclass\u001b[0m\u001b[32m=\u001b[0m\u001b[32m\"tag\"\u001b[0m\u001b[32m \u001b[0m\u001b[32mhref\u001b[0m\u001b[32m=\"/tag/love/page/1/\"\u001b[0m\u001b[32m>\u001b[0m\u001b[32mlove\u001b[0m\u001b[32m<\u001b[0m\u001b[32m/a\u001b[0m\u001b[32m>\u001b[0m\u001b[32m\\n            \\n        \u001b[0m\u001b[32m<\u001b[0m\u001b[32m/div\u001b[0m\u001b[32m>\u001b[0m\u001b[32m\\n    \u001b[0m\u001b[32m<\u001b[0m\u001b[32m/div\u001b[0m\u001b[32m>\u001b[0m\u001b[32m\\n\\n    \u001b[0m\u001b[32m<\u001b[0m\u001b[32mdiv\u001b[0m\u001b[32m \u001b[0m\u001b[32mclass\u001b[0m\u001b[32m=\u001b[0m\u001b[32m\"quote\"\u001b[0m\u001b[32m itemscope \u001b[0m\u001b[32mitemtype\u001b[0m\u001b[32m=\u001b[0m\u001b[32m\"http\u001b[0m\u001b[32m://schema.org/CreativeWork\"\u001b[0m\u001b[32m>\u001b[0m\u001b[32m\\n        \u001b[0m\u001b[32m<\u001b[0m\u001b[32mspan\u001b[0m\u001b[32m \u001b[0m\u001b[32mclass\u001b[0m\u001b[32m=\u001b[0m\u001b[32m\"text\"\u001b[0m\u001b[32m \u001b[0m\u001b[32mitemprop\u001b[0m\u001b[32m=\u001b[0m\u001b[32m\"text\"\u001b[0m\u001b[32m>\u001b[0m\u001b[32m“I have not failed. I&#39;ve just found 10,000 ways that won&#39;t work.”\u001b[0m\u001b[32m<\u001b[0m\u001b[32m/span\u001b[0m\u001b[32m>\u001b[0m\u001b[32m\\n        \u001b[0m\u001b[32m<\u001b[0m\u001b[32mspan\u001b[0m\u001b[32m>\u001b[0m\u001b[32mby \u001b[0m\u001b[32m<\u001b[0m\u001b[32msmall\u001b[0m\u001b[32m \u001b[0m\u001b[32mclass\u001b[0m\u001b[32m=\u001b[0m\u001b[32m\"author\"\u001b[0m\u001b[32m \u001b[0m\u001b[32mitemprop\u001b[0m\u001b[32m=\u001b[0m\u001b[32m\"author\"\u001b[0m\u001b[32m>\u001b[0m\u001b[32mThomas A. Edison\u001b[0m\u001b[32m<\u001b[0m\u001b[32m/small\u001b[0m\u001b[32m>\u001b[0m\u001b[32m\\n        \u001b[0m\u001b[32m<\u001b[0m\u001b[32ma\u001b[0m\u001b[32m \u001b[0m\u001b[32mhref\u001b[0m\u001b[32m=\"/author/Thomas-A-Edison\"\u001b[0m\u001b[32m>\u001b[0m\u001b[32m(\u001b[0m\u001b[32mabout\u001b[0m\u001b[32m)\u001b[0m\u001b[32m<\u001b[0m\u001b[32m/a\u001b[0m\u001b[32m>\u001b[0m\u001b[32m\\n        \u001b[0m\u001b[32m<\u001b[0m\u001b[32m/span\u001b[0m\u001b[32m>\u001b[0m\u001b[32m\\n        \u001b[0m\u001b[32m<\u001b[0m\u001b[32mdiv\u001b[0m\u001b[32m \u001b[0m\u001b[32mclass\u001b[0m\u001b[32m=\u001b[0m\u001b[32m\"tags\"\u001b[0m\u001b[32m>\u001b[0m\u001b[32m\\n            Tags:\\n            \u001b[0m\u001b[32m<\u001b[0m\u001b[32mmeta\u001b[0m\u001b[32m \u001b[0m\u001b[32mclass\u001b[0m\u001b[32m=\u001b[0m\u001b[32m\"keywords\"\u001b[0m\u001b[32m \u001b[0m\u001b[32mitemprop\u001b[0m\u001b[32m=\u001b[0m\u001b[32m\"keywords\"\u001b[0m\u001b[32m \u001b[0m\u001b[32mcontent\u001b[0m\u001b[32m=\u001b[0m\u001b[32m\"edison\u001b[0m\u001b[32m,failure,inspirational,paraphrased\" /    \u001b[0m\u001b[32m>\u001b[0m\u001b[32m \\n            \\n            \u001b[0m\u001b[32m<\u001b[0m\u001b[32ma\u001b[0m\u001b[32m \u001b[0m\u001b[32mclass\u001b[0m\u001b[32m=\u001b[0m\u001b[32m\"tag\"\u001b[0m\u001b[32m \u001b[0m\u001b[32mhref\u001b[0m\u001b[32m=\"/tag/edison/page/1/\"\u001b[0m\u001b[32m>\u001b[0m\u001b[32medison\u001b[0m\u001b[32m<\u001b[0m\u001b[32m/a\u001b[0m\u001b[32m>\u001b[0m\u001b[32m\\n            \\n            \u001b[0m\u001b[32m<\u001b[0m\u001b[32ma\u001b[0m\u001b[32m \u001b[0m\u001b[32mclass\u001b[0m\u001b[32m=\u001b[0m\u001b[32m\"tag\"\u001b[0m\u001b[32m \u001b[0m\u001b[32mhref\u001b[0m\u001b[32m=\"/tag/failure/page/1/\"\u001b[0m\u001b[32m>\u001b[0m\u001b[32mfailure\u001b[0m\u001b[32m<\u001b[0m\u001b[32m/a\u001b[0m\u001b[32m>\u001b[0m\u001b[32m\\n            \\n            \u001b[0m\u001b[32m<\u001b[0m\u001b[32ma\u001b[0m\u001b[32m \u001b[0m\u001b[32mclass\u001b[0m\u001b[32m=\u001b[0m\u001b[32m\"tag\"\u001b[0m\u001b[32m \u001b[0m\u001b[32mhref\u001b[0m\u001b[32m=\"/tag/inspirational/page/1/\"\u001b[0m\u001b[32m>\u001b[0m\u001b[32minspirational\u001b[0m\u001b[32m<\u001b[0m\u001b[32m/a\u001b[0m\u001b[32m>\u001b[0m\u001b[32m\\n            \\n            \u001b[0m\u001b[32m<\u001b[0m\u001b[32ma\u001b[0m\u001b[32m \u001b[0m\u001b[32mclass\u001b[0m\u001b[32m=\u001b[0m\u001b[32m\"tag\"\u001b[0m\u001b[32m \u001b[0m\u001b[32mhref\u001b[0m\u001b[32m=\"/tag/paraphrased/page/1/\"\u001b[0m\u001b[32m>\u001b[0m\u001b[32mparaphrased\u001b[0m\u001b[32m<\u001b[0m\u001b[32m/a\u001b[0m\u001b[32m>\u001b[0m\u001b[32m\\n            \\n        \u001b[0m\u001b[32m<\u001b[0m\u001b[32m/div\u001b[0m\u001b[32m>\u001b[0m\u001b[32m\\n    \u001b[0m\u001b[32m<\u001b[0m\u001b[32m/div\u001b[0m\u001b[32m>\u001b[0m\u001b[32m\\n\\n    \u001b[0m\u001b[32m<\u001b[0m\u001b[32mdiv\u001b[0m\u001b[32m \u001b[0m\u001b[32mclass\u001b[0m\u001b[32m=\u001b[0m\u001b[32m\"quote\"\u001b[0m\u001b[32m itemscope \u001b[0m\u001b[32mitemtype\u001b[0m\u001b[32m=\u001b[0m\u001b[32m\"http\u001b[0m\u001b[32m://schema.org/CreativeWork\"\u001b[0m\u001b[32m>\u001b[0m\u001b[32m\\n        \u001b[0m\u001b[32m<\u001b[0m\u001b[32mspan\u001b[0m\u001b[32m \u001b[0m\u001b[32mclass\u001b[0m\u001b[32m=\u001b[0m\u001b[32m\"text\"\u001b[0m\u001b[32m \u001b[0m\u001b[32mitemprop\u001b[0m\u001b[32m=\u001b[0m\u001b[32m\"text\"\u001b[0m\u001b[32m>\u001b[0m\u001b[32m“A woman is like a tea bag; you never know how strong it is until it&#39;s in hot water.”\u001b[0m\u001b[32m<\u001b[0m\u001b[32m/span\u001b[0m\u001b[32m>\u001b[0m\u001b[32m\\n        \u001b[0m\u001b[32m<\u001b[0m\u001b[32mspan\u001b[0m\u001b[32m>\u001b[0m\u001b[32mby \u001b[0m\u001b[32m<\u001b[0m\u001b[32msmall\u001b[0m\u001b[32m \u001b[0m\u001b[32mclass\u001b[0m\u001b[32m=\u001b[0m\u001b[32m\"author\"\u001b[0m\u001b[32m \u001b[0m\u001b[32mitemprop\u001b[0m\u001b[32m=\u001b[0m\u001b[32m\"author\"\u001b[0m\u001b[32m>\u001b[0m\u001b[32mEleanor Roosevelt\u001b[0m\u001b[32m<\u001b[0m\u001b[32m/small\u001b[0m\u001b[32m>\u001b[0m\u001b[32m\\n        \u001b[0m\u001b[32m<\u001b[0m\u001b[32ma\u001b[0m\u001b[32m \u001b[0m\u001b[32mhref\u001b[0m\u001b[32m=\"/author/Eleanor-Roosevelt\"\u001b[0m\u001b[32m>\u001b[0m\u001b[32m(\u001b[0m\u001b[32mabout\u001b[0m\u001b[32m)\u001b[0m\u001b[32m<\u001b[0m\u001b[32m/a\u001b[0m\u001b[32m>\u001b[0m\u001b[32m\\n        \u001b[0m\u001b[32m<\u001b[0m\u001b[32m/span\u001b[0m\u001b[32m>\u001b[0m\u001b[32m\\n        \u001b[0m\u001b[32m<\u001b[0m\u001b[32mdiv\u001b[0m\u001b[32m \u001b[0m\u001b[32mclass\u001b[0m\u001b[32m=\u001b[0m\u001b[32m\"tags\"\u001b[0m\u001b[32m>\u001b[0m\u001b[32m\\n            Tags:\\n            \u001b[0m\u001b[32m<\u001b[0m\u001b[32mmeta\u001b[0m\u001b[32m \u001b[0m\u001b[32mclass\u001b[0m\u001b[32m=\u001b[0m\u001b[32m\"keywords\"\u001b[0m\u001b[32m \u001b[0m\u001b[32mitemprop\u001b[0m\u001b[32m=\u001b[0m\u001b[32m\"keywords\"\u001b[0m\u001b[32m \u001b[0m\u001b[32mcontent\u001b[0m\u001b[32m=\u001b[0m\u001b[32m\"misattributed\u001b[0m\u001b[32m-eleanor-roosevelt\" /    \u001b[0m\u001b[32m>\u001b[0m\u001b[32m \\n            \\n            \u001b[0m\u001b[32m<\u001b[0m\u001b[32ma\u001b[0m\u001b[32m \u001b[0m\u001b[32mclass\u001b[0m\u001b[32m=\u001b[0m\u001b[32m\"tag\"\u001b[0m\u001b[32m \u001b[0m\u001b[32mhref\u001b[0m\u001b[32m=\"/tag/misattributed-eleanor-roosevelt/page/1/\"\u001b[0m\u001b[32m>\u001b[0m\u001b[32mmisattributed-eleanor-roosevelt\u001b[0m\u001b[32m<\u001b[0m\u001b[32m/a\u001b[0m\u001b[32m>\u001b[0m\u001b[32m\\n            \\n        \u001b[0m\u001b[32m<\u001b[0m\u001b[32m/div\u001b[0m\u001b[32m>\u001b[0m\u001b[32m\\n    \u001b[0m\u001b[32m<\u001b[0m\u001b[32m/div\u001b[0m\u001b[32m>\u001b[0m\u001b[32m\\n\\n    \u001b[0m\u001b[32m<\u001b[0m\u001b[32mdiv\u001b[0m\u001b[32m \u001b[0m\u001b[32mclass\u001b[0m\u001b[32m=\u001b[0m\u001b[32m\"quote\"\u001b[0m\u001b[32m itemscope \u001b[0m\u001b[32mitemtype\u001b[0m\u001b[32m=\u001b[0m\u001b[32m\"http\u001b[0m\u001b[32m://schema.org/CreativeWork\"\u001b[0m\u001b[32m>\u001b[0m\u001b[32m\\n        \u001b[0m\u001b[32m<\u001b[0m\u001b[32mspan\u001b[0m\u001b[32m \u001b[0m\u001b[32mclass\u001b[0m\u001b[32m=\u001b[0m\u001b[32m\"text\"\u001b[0m\u001b[32m \u001b[0m\u001b[32mitemprop\u001b[0m\u001b[32m=\u001b[0m\u001b[32m\"text\"\u001b[0m\u001b[32m>\u001b[0m\u001b[32m“A day without sunshine is like, you know, night.”\u001b[0m\u001b[32m<\u001b[0m\u001b[32m/span\u001b[0m\u001b[32m>\u001b[0m\u001b[32m\\n        \u001b[0m\u001b[32m<\u001b[0m\u001b[32mspan\u001b[0m\u001b[32m>\u001b[0m\u001b[32mby \u001b[0m\u001b[32m<\u001b[0m\u001b[32msmall\u001b[0m\u001b[32m \u001b[0m\u001b[32mclass\u001b[0m\u001b[32m=\u001b[0m\u001b[32m\"author\"\u001b[0m\u001b[32m \u001b[0m\u001b[32mitemprop\u001b[0m\u001b[32m=\u001b[0m\u001b[32m\"author\"\u001b[0m\u001b[32m>\u001b[0m\u001b[32mSteve Martin\u001b[0m\u001b[32m<\u001b[0m\u001b[32m/small\u001b[0m\u001b[32m>\u001b[0m\u001b[32m\\n        \u001b[0m\u001b[32m<\u001b[0m\u001b[32ma\u001b[0m\u001b[32m \u001b[0m\u001b[32mhref\u001b[0m\u001b[32m=\"/author/Steve-Martin\"\u001b[0m\u001b[32m>\u001b[0m\u001b[32m(\u001b[0m\u001b[32mabout\u001b[0m\u001b[32m)\u001b[0m\u001b[32m<\u001b[0m\u001b[32m/a\u001b[0m\u001b[32m>\u001b[0m\u001b[32m\\n        \u001b[0m\u001b[32m<\u001b[0m\u001b[32m/span\u001b[0m\u001b[32m>\u001b[0m\u001b[32m\\n        \u001b[0m\u001b[32m<\u001b[0m\u001b[32mdiv\u001b[0m\u001b[32m \u001b[0m\u001b[32mclass\u001b[0m\u001b[32m=\u001b[0m\u001b[32m\"tags\"\u001b[0m\u001b[32m>\u001b[0m\u001b[32m\\n            Tags:\\n            \u001b[0m\u001b[32m<\u001b[0m\u001b[32mmeta\u001b[0m\u001b[32m \u001b[0m\u001b[32mclass\u001b[0m\u001b[32m=\u001b[0m\u001b[32m\"keywords\"\u001b[0m\u001b[32m \u001b[0m\u001b[32mitemprop\u001b[0m\u001b[32m=\u001b[0m\u001b[32m\"keywords\"\u001b[0m\u001b[32m \u001b[0m\u001b[32mcontent\u001b[0m\u001b[32m=\u001b[0m\u001b[32m\"humor\u001b[0m\u001b[32m,obvious,simile\" /    \u001b[0m\u001b[32m>\u001b[0m\u001b[32m \\n            \\n            \u001b[0m\u001b[32m<\u001b[0m\u001b[32ma\u001b[0m\u001b[32m \u001b[0m\u001b[32mclass\u001b[0m\u001b[32m=\u001b[0m\u001b[32m\"tag\"\u001b[0m\u001b[32m \u001b[0m\u001b[32mhref\u001b[0m\u001b[32m=\"/tag/humor/page/1/\"\u001b[0m\u001b[32m>\u001b[0m\u001b[32mhumor\u001b[0m\u001b[32m<\u001b[0m\u001b[32m/a\u001b[0m\u001b[32m>\u001b[0m\u001b[32m\\n            \\n            \u001b[0m\u001b[32m<\u001b[0m\u001b[32ma\u001b[0m\u001b[32m \u001b[0m\u001b[32mclass\u001b[0m\u001b[32m=\u001b[0m\u001b[32m\"tag\"\u001b[0m\u001b[32m \u001b[0m\u001b[32mhref\u001b[0m\u001b[32m=\"/tag/obvious/page/1/\"\u001b[0m\u001b[32m>\u001b[0m\u001b[32mobvious\u001b[0m\u001b[32m<\u001b[0m\u001b[32m/a\u001b[0m\u001b[32m>\u001b[0m\u001b[32m\\n            \\n            \u001b[0m\u001b[32m<\u001b[0m\u001b[32ma\u001b[0m\u001b[32m \u001b[0m\u001b[32mclass\u001b[0m\u001b[32m=\u001b[0m\u001b[32m\"tag\"\u001b[0m\u001b[32m \u001b[0m\u001b[32mhref\u001b[0m\u001b[32m=\"/tag/simile/page/1/\"\u001b[0m\u001b[32m>\u001b[0m\u001b[32msimile\u001b[0m\u001b[32m<\u001b[0m\u001b[32m/a\u001b[0m\u001b[32m>\u001b[0m\u001b[32m\\n            \\n        \u001b[0m\u001b[32m<\u001b[0m\u001b[32m/div\u001b[0m\u001b[32m>\u001b[0m\u001b[32m\\n    \u001b[0m\u001b[32m<\u001b[0m\u001b[32m/div\u001b[0m\u001b[32m>\u001b[0m\u001b[32m\\n\\n    \u001b[0m\u001b[32m<\u001b[0m\u001b[32mnav\u001b[0m\u001b[32m>\u001b[0m\u001b[32m\\n        \u001b[0m\u001b[32m<\u001b[0m\u001b[32mul\u001b[0m\u001b[32m \u001b[0m\u001b[32mclass\u001b[0m\u001b[32m=\u001b[0m\u001b[32m\"pager\"\u001b[0m\u001b[32m>\u001b[0m\u001b[32m\\n            \\n            \\n            \u001b[0m\u001b[32m<\u001b[0m\u001b[32mli\u001b[0m\u001b[32m \u001b[0m\u001b[32mclass\u001b[0m\u001b[32m=\u001b[0m\u001b[32m\"next\"\u001b[0m\u001b[32m>\u001b[0m\u001b[32m\\n                \u001b[0m\u001b[32m<\u001b[0m\u001b[32ma\u001b[0m\u001b[32m \u001b[0m\u001b[32mhref\u001b[0m\u001b[32m=\"/page/2/\"\u001b[0m\u001b[32m>\u001b[0m\u001b[32mNext \u001b[0m\u001b[32m<\u001b[0m\u001b[32mspan\u001b[0m\u001b[32m aria-\u001b[0m\u001b[32mhidden\u001b[0m\u001b[32m=\u001b[0m\u001b[32m\"true\"\u001b[0m\u001b[32m>\u001b[0m\u001b[32m&rarr;\u001b[0m\u001b[32m<\u001b[0m\u001b[32m/span\u001b[0m\u001b[32m>\u001b[0m\u001b[32m<\u001b[0m\u001b[32m/a\u001b[0m\u001b[32m>\u001b[0m\u001b[32m\\n            \u001b[0m\u001b[32m<\u001b[0m\u001b[32m/li\u001b[0m\u001b[32m>\u001b[0m\u001b[32m\\n            \\n        \u001b[0m\u001b[32m<\u001b[0m\u001b[32m/ul\u001b[0m\u001b[32m>\u001b[0m\u001b[32m\\n    \u001b[0m\u001b[32m<\u001b[0m\u001b[32m/nav\u001b[0m\u001b[32m>\u001b[0m\u001b[32m\\n    \u001b[0m\u001b[32m<\u001b[0m\u001b[32m/div\u001b[0m\u001b[32m>\u001b[0m\u001b[32m\\n    \u001b[0m\u001b[32m<\u001b[0m\u001b[32mdiv\u001b[0m\u001b[32m \u001b[0m\u001b[32mclass\u001b[0m\u001b[32m=\u001b[0m\u001b[32m\"col\u001b[0m\u001b[32m-md-4 tags-box\"\u001b[0m\u001b[32m>\u001b[0m\u001b[32m\\n        \\n            \u001b[0m\u001b[32m<\u001b[0m\u001b[32mh2\u001b[0m\u001b[32m>\u001b[0m\u001b[32mTop Ten tags\u001b[0m\u001b[32m<\u001b[0m\u001b[32m/h2\u001b[0m\u001b[32m>\u001b[0m\u001b[32m\\n            \\n            \u001b[0m\u001b[32m<\u001b[0m\u001b[32mspan\u001b[0m\u001b[32m \u001b[0m\u001b[32mclass\u001b[0m\u001b[32m=\u001b[0m\u001b[32m\"tag\u001b[0m\u001b[32m-item\"\u001b[0m\u001b[32m>\u001b[0m\u001b[32m\\n            \u001b[0m\u001b[32m<\u001b[0m\u001b[32ma\u001b[0m\u001b[32m \u001b[0m\u001b[32mclass\u001b[0m\u001b[32m=\u001b[0m\u001b[32m\"tag\"\u001b[0m\u001b[32m \u001b[0m\u001b[32mstyle\u001b[0m\u001b[32m=\u001b[0m\u001b[32m\"font\u001b[0m\u001b[32m-size: 28px\" \u001b[0m\u001b[32mhref\u001b[0m\u001b[32m=\"/tag/love/\"\u001b[0m\u001b[32m>\u001b[0m\u001b[32mlove\u001b[0m\u001b[32m<\u001b[0m\u001b[32m/a\u001b[0m\u001b[32m>\u001b[0m\u001b[32m\\n            \u001b[0m\u001b[32m<\u001b[0m\u001b[32m/span\u001b[0m\u001b[32m>\u001b[0m\u001b[32m\\n            \\n            \u001b[0m\u001b[32m<\u001b[0m\u001b[32mspan\u001b[0m\u001b[32m \u001b[0m\u001b[32mclass\u001b[0m\u001b[32m=\u001b[0m\u001b[32m\"tag\u001b[0m\u001b[32m-item\"\u001b[0m\u001b[32m>\u001b[0m\u001b[32m\\n            \u001b[0m\u001b[32m<\u001b[0m\u001b[32ma\u001b[0m\u001b[32m \u001b[0m\u001b[32mclass\u001b[0m\u001b[32m=\u001b[0m\u001b[32m\"tag\"\u001b[0m\u001b[32m \u001b[0m\u001b[32mstyle\u001b[0m\u001b[32m=\u001b[0m\u001b[32m\"font\u001b[0m\u001b[32m-size: 26px\" \u001b[0m\u001b[32mhref\u001b[0m\u001b[32m=\"/tag/inspirational/\"\u001b[0m\u001b[32m>\u001b[0m\u001b[32minspirational\u001b[0m\u001b[32m<\u001b[0m\u001b[32m/a\u001b[0m\u001b[32m>\u001b[0m\u001b[32m\\n            \u001b[0m\u001b[32m<\u001b[0m\u001b[32m/span\u001b[0m\u001b[32m>\u001b[0m\u001b[32m\\n            \\n            \u001b[0m\u001b[32m<\u001b[0m\u001b[32mspan\u001b[0m\u001b[32m \u001b[0m\u001b[32mclass\u001b[0m\u001b[32m=\u001b[0m\u001b[32m\"tag\u001b[0m\u001b[32m-item\"\u001b[0m\u001b[32m>\u001b[0m\u001b[32m\\n            \u001b[0m\u001b[32m<\u001b[0m\u001b[32ma\u001b[0m\u001b[32m \u001b[0m\u001b[32mclass\u001b[0m\u001b[32m=\u001b[0m\u001b[32m\"tag\"\u001b[0m\u001b[32m \u001b[0m\u001b[32mstyle\u001b[0m\u001b[32m=\u001b[0m\u001b[32m\"font\u001b[0m\u001b[32m-size: 26px\" \u001b[0m\u001b[32mhref\u001b[0m\u001b[32m=\"/tag/life/\"\u001b[0m\u001b[32m>\u001b[0m\u001b[32mlife\u001b[0m\u001b[32m<\u001b[0m\u001b[32m/a\u001b[0m\u001b[32m>\u001b[0m\u001b[32m\\n            \u001b[0m\u001b[32m<\u001b[0m\u001b[32m/span\u001b[0m\u001b[32m>\u001b[0m\u001b[32m\\n            \\n            \u001b[0m\u001b[32m<\u001b[0m\u001b[32mspan\u001b[0m\u001b[32m \u001b[0m\u001b[32mclass\u001b[0m\u001b[32m=\u001b[0m\u001b[32m\"tag\u001b[0m\u001b[32m-item\"\u001b[0m\u001b[32m>\u001b[0m\u001b[32m\\n            \u001b[0m\u001b[32m<\u001b[0m\u001b[32ma\u001b[0m\u001b[32m \u001b[0m\u001b[32mclass\u001b[0m\u001b[32m=\u001b[0m\u001b[32m\"tag\"\u001b[0m\u001b[32m \u001b[0m\u001b[32mstyle\u001b[0m\u001b[32m=\u001b[0m\u001b[32m\"font\u001b[0m\u001b[32m-size: 24px\" \u001b[0m\u001b[32mhref\u001b[0m\u001b[32m=\"/tag/humor/\"\u001b[0m\u001b[32m>\u001b[0m\u001b[32mhumor\u001b[0m\u001b[32m<\u001b[0m\u001b[32m/a\u001b[0m\u001b[32m>\u001b[0m\u001b[32m\\n            \u001b[0m\u001b[32m<\u001b[0m\u001b[32m/span\u001b[0m\u001b[32m>\u001b[0m\u001b[32m\\n            \\n            \u001b[0m\u001b[32m<\u001b[0m\u001b[32mspan\u001b[0m\u001b[32m \u001b[0m\u001b[32mclass\u001b[0m\u001b[32m=\u001b[0m\u001b[32m\"tag\u001b[0m\u001b[32m-item\"\u001b[0m\u001b[32m>\u001b[0m\u001b[32m\\n            \u001b[0m\u001b[32m<\u001b[0m\u001b[32ma\u001b[0m\u001b[32m \u001b[0m\u001b[32mclass\u001b[0m\u001b[32m=\u001b[0m\u001b[32m\"tag\"\u001b[0m\u001b[32m \u001b[0m\u001b[32mstyle\u001b[0m\u001b[32m=\u001b[0m\u001b[32m\"font\u001b[0m\u001b[32m-size: 22px\" \u001b[0m\u001b[32mhref\u001b[0m\u001b[32m=\"/tag/books/\"\u001b[0m\u001b[32m>\u001b[0m\u001b[32mbooks\u001b[0m\u001b[32m<\u001b[0m\u001b[32m/a\u001b[0m\u001b[32m>\u001b[0m\u001b[32m\\n            \u001b[0m\u001b[32m<\u001b[0m\u001b[32m/span\u001b[0m\u001b[32m>\u001b[0m\u001b[32m\\n            \\n            \u001b[0m\u001b[32m<\u001b[0m\u001b[32mspan\u001b[0m\u001b[32m \u001b[0m\u001b[32mclass\u001b[0m\u001b[32m=\u001b[0m\u001b[32m\"tag\u001b[0m\u001b[32m-item\"\u001b[0m\u001b[32m>\u001b[0m\u001b[32m\\n            \u001b[0m\u001b[32m<\u001b[0m\u001b[32ma\u001b[0m\u001b[32m \u001b[0m\u001b[32mclass\u001b[0m\u001b[32m=\u001b[0m\u001b[32m\"tag\"\u001b[0m\u001b[32m \u001b[0m\u001b[32mstyle\u001b[0m\u001b[32m=\u001b[0m\u001b[32m\"font\u001b[0m\u001b[32m-size: 14px\" \u001b[0m\u001b[32mhref\u001b[0m\u001b[32m=\"/tag/reading/\"\u001b[0m\u001b[32m>\u001b[0m\u001b[32mreading\u001b[0m\u001b[32m<\u001b[0m\u001b[32m/a\u001b[0m\u001b[32m>\u001b[0m\u001b[32m\\n            \u001b[0m\u001b[32m<\u001b[0m\u001b[32m/span\u001b[0m\u001b[32m>\u001b[0m\u001b[32m\\n            \\n            \u001b[0m\u001b[32m<\u001b[0m\u001b[32mspan\u001b[0m\u001b[32m \u001b[0m\u001b[32mclass\u001b[0m\u001b[32m=\u001b[0m\u001b[32m\"tag\u001b[0m\u001b[32m-item\"\u001b[0m\u001b[32m>\u001b[0m\u001b[32m\\n            \u001b[0m\u001b[32m<\u001b[0m\u001b[32ma\u001b[0m\u001b[32m \u001b[0m\u001b[32mclass\u001b[0m\u001b[32m=\u001b[0m\u001b[32m\"tag\"\u001b[0m\u001b[32m \u001b[0m\u001b[32mstyle\u001b[0m\u001b[32m=\u001b[0m\u001b[32m\"font\u001b[0m\u001b[32m-size: 10px\" \u001b[0m\u001b[32mhref\u001b[0m\u001b[32m=\"/tag/friendship/\"\u001b[0m\u001b[32m>\u001b[0m\u001b[32mfriendship\u001b[0m\u001b[32m<\u001b[0m\u001b[32m/a\u001b[0m\u001b[32m>\u001b[0m\u001b[32m\\n            \u001b[0m\u001b[32m<\u001b[0m\u001b[32m/span\u001b[0m\u001b[32m>\u001b[0m\u001b[32m\\n            \\n            \u001b[0m\u001b[32m<\u001b[0m\u001b[32mspan\u001b[0m\u001b[32m \u001b[0m\u001b[32mclass\u001b[0m\u001b[32m=\u001b[0m\u001b[32m\"tag\u001b[0m\u001b[32m-item\"\u001b[0m\u001b[32m>\u001b[0m\u001b[32m\\n            \u001b[0m\u001b[32m<\u001b[0m\u001b[32ma\u001b[0m\u001b[32m \u001b[0m\u001b[32mclass\u001b[0m\u001b[32m=\u001b[0m\u001b[32m\"tag\"\u001b[0m\u001b[32m \u001b[0m\u001b[32mstyle\u001b[0m\u001b[32m=\u001b[0m\u001b[32m\"font\u001b[0m\u001b[32m-size: 8px\" \u001b[0m\u001b[32mhref\u001b[0m\u001b[32m=\"/tag/friends/\"\u001b[0m\u001b[32m>\u001b[0m\u001b[32mfriends\u001b[0m\u001b[32m<\u001b[0m\u001b[32m/a\u001b[0m\u001b[32m>\u001b[0m\u001b[32m\\n            \u001b[0m\u001b[32m<\u001b[0m\u001b[32m/span\u001b[0m\u001b[32m>\u001b[0m\u001b[32m\\n            \\n            \u001b[0m\u001b[32m<\u001b[0m\u001b[32mspan\u001b[0m\u001b[32m \u001b[0m\u001b[32mclass\u001b[0m\u001b[32m=\u001b[0m\u001b[32m\"tag\u001b[0m\u001b[32m-item\"\u001b[0m\u001b[32m>\u001b[0m\u001b[32m\\n            \u001b[0m\u001b[32m<\u001b[0m\u001b[32ma\u001b[0m\u001b[32m \u001b[0m\u001b[32mclass\u001b[0m\u001b[32m=\u001b[0m\u001b[32m\"tag\"\u001b[0m\u001b[32m \u001b[0m\u001b[32mstyle\u001b[0m\u001b[32m=\u001b[0m\u001b[32m\"font\u001b[0m\u001b[32m-size: 8px\" \u001b[0m\u001b[32mhref\u001b[0m\u001b[32m=\"/tag/truth/\"\u001b[0m\u001b[32m>\u001b[0m\u001b[32mtruth\u001b[0m\u001b[32m<\u001b[0m\u001b[32m/a\u001b[0m\u001b[32m>\u001b[0m\u001b[32m\\n            \u001b[0m\u001b[32m<\u001b[0m\u001b[32m/span\u001b[0m\u001b[32m>\u001b[0m\u001b[32m\\n            \\n            \u001b[0m\u001b[32m<\u001b[0m\u001b[32mspan\u001b[0m\u001b[32m \u001b[0m\u001b[32mclass\u001b[0m\u001b[32m=\u001b[0m\u001b[32m\"tag\u001b[0m\u001b[32m-item\"\u001b[0m\u001b[32m>\u001b[0m\u001b[32m\\n            \u001b[0m\u001b[32m<\u001b[0m\u001b[32ma\u001b[0m\u001b[32m \u001b[0m\u001b[32mclass\u001b[0m\u001b[32m=\u001b[0m\u001b[32m\"tag\"\u001b[0m\u001b[32m \u001b[0m\u001b[32mstyle\u001b[0m\u001b[32m=\u001b[0m\u001b[32m\"font\u001b[0m\u001b[32m-size: 6px\" \u001b[0m\u001b[32mhref\u001b[0m\u001b[32m=\"/tag/simile/\"\u001b[0m\u001b[32m>\u001b[0m\u001b[32msimile\u001b[0m\u001b[32m<\u001b[0m\u001b[32m/a\u001b[0m\u001b[32m>\u001b[0m\u001b[32m\\n            \u001b[0m\u001b[32m<\u001b[0m\u001b[32m/span\u001b[0m\u001b[32m>\u001b[0m\u001b[32m\\n            \\n        \\n    \u001b[0m\u001b[32m<\u001b[0m\u001b[32m/div\u001b[0m\u001b[32m>\u001b[0m\u001b[32m\\n\u001b[0m\u001b[32m<\u001b[0m\u001b[32m/div\u001b[0m\u001b[32m>\u001b[0m\u001b[32m\\n\\n    \u001b[0m\u001b[32m<\u001b[0m\u001b[32m/div\u001b[0m\u001b[32m>\u001b[0m\u001b[32m\\n    \u001b[0m\u001b[32m<\u001b[0m\u001b[32mfooter\u001b[0m\u001b[32m \u001b[0m\u001b[32mclass\u001b[0m\u001b[32m=\u001b[0m\u001b[32m\"footer\"\u001b[0m\u001b[32m>\u001b[0m\u001b[32m\\n        \u001b[0m\u001b[32m<\u001b[0m\u001b[32mdiv\u001b[0m\u001b[32m \u001b[0m\u001b[32mclass\u001b[0m\u001b[32m=\u001b[0m\u001b[32m\"container\"\u001b[0m\u001b[32m>\u001b[0m\u001b[32m\\n            \u001b[0m\u001b[32m<\u001b[0m\u001b[32mp\u001b[0m\u001b[32m \u001b[0m\u001b[32mclass\u001b[0m\u001b[32m=\u001b[0m\u001b[32m\"text\u001b[0m\u001b[32m-muted\"\u001b[0m\u001b[32m>\u001b[0m\u001b[32m\\n                Quotes by: \u001b[0m\u001b[32m<\u001b[0m\u001b[32ma\u001b[0m\u001b[32m \u001b[0m\u001b[32mhref\u001b[0m\u001b[32m=\u001b[0m\u001b[32m\"https\u001b[0m\u001b[32m://www.goodreads.com/quotes\"\u001b[0m\u001b[32m>\u001b[0m\u001b[32mGoodReads.com\u001b[0m\u001b[32m<\u001b[0m\u001b[32m/a\u001b[0m\u001b[32m>\u001b[0m\u001b[32m\\n            \u001b[0m\u001b[32m<\u001b[0m\u001b[32m/p\u001b[0m\u001b[32m>\u001b[0m\u001b[32m\\n            \u001b[0m\u001b[32m<\u001b[0m\u001b[32mp\u001b[0m\u001b[32m \u001b[0m\u001b[32mclass\u001b[0m\u001b[32m=\u001b[0m\u001b[32m\"copyright\"\u001b[0m\u001b[32m>\u001b[0m\u001b[32m\\n                Made with \u001b[0m\u001b[32m<\u001b[0m\u001b[32mspan\u001b[0m\u001b[32m \u001b[0m\u001b[32mclass\u001b[0m\u001b[32m=\\'sh-red\\'\u001b[0m\u001b[32m>\u001b[0m\u001b[32m❤\u001b[0m\u001b[32m<\u001b[0m\u001b[32m/span\u001b[0m\u001b[32m>\u001b[0m\u001b[32m by \u001b[0m\u001b[32m<\u001b[0m\u001b[32ma\u001b[0m\u001b[32m \u001b[0m\u001b[32mhref\u001b[0m\u001b[32m=\u001b[0m\u001b[32m\"https\u001b[0m\u001b[32m://scrapinghub.com\"\u001b[0m\u001b[32m>\u001b[0m\u001b[32mScrapinghub\u001b[0m\u001b[32m<\u001b[0m\u001b[32m/a\u001b[0m\u001b[32m>\u001b[0m\u001b[32m\\n            \u001b[0m\u001b[32m<\u001b[0m\u001b[32m/p\u001b[0m\u001b[32m>\u001b[0m\u001b[32m\\n        \u001b[0m\u001b[32m<\u001b[0m\u001b[32m/div\u001b[0m\u001b[32m>\u001b[0m\u001b[32m\\n    \u001b[0m\u001b[32m<\u001b[0m\u001b[32m/footer\u001b[0m\u001b[32m>\u001b[0m\u001b[32m\\n\u001b[0m\u001b[32m<\u001b[0m\u001b[32m/body\u001b[0m\u001b[32m>\u001b[0m\u001b[32m\\n\u001b[0m\u001b[32m<\u001b[0m\u001b[32m/html\u001b[0m\u001b[32m>\u001b[0m\u001b[32m'\u001b[0m\n"
                        ]
                    },
                    "metadata": {},
                    "output_type": "display_data"
                }
            ],
            "source": [
                "decoded_content = content.decode(\"utf-8\")\n",
                "decoded_content"
            ]
        },
        {
            "cell_type": "code",
            "execution_count": 34,
            "metadata": {},
            "outputs": [
                {
                    "name": "stdout",
                    "output_type": "stream",
                    "text": [
                        "<!DOCTYPE html>\n",
                        "<html lang=\"en\">\n",
                        "<head>\n",
                        "\t<meta charset=\"UTF-8\">\n",
                        "\t<title>Quotes to Scrape</title>\n",
                        "    <link rel=\"stylesheet\" href=\"/static/bootstrap.min.css\">\n",
                        "    <link rel=\"stylesheet\" href=\"/static/main.css\">\n",
                        "</head>\n",
                        "<body>\n",
                        "    <div class=\"container\">\n",
                        "        <div class=\"row header-box\">\n",
                        "            <div class=\"col-md-8\">\n",
                        "                <h1>\n",
                        "                    <a href=\"/\" style=\"text-decoration: none\">Quotes to Scrape</a>\n",
                        "                </h1>\n",
                        "            </div>\n",
                        "            <div class=\"col-md-4\">\n",
                        "                <p>\n",
                        "                \n",
                        "                    <a href=\"/login\">Login</a>\n",
                        "                \n",
                        "                </p>\n",
                        "            </div>\n",
                        "        </div>\n",
                        "    \n",
                        "\n",
                        "<div class=\"row\">\n",
                        "    <div class=\"col-md-8\">\n",
                        "\n",
                        "    <div class=\"quote\" itemscope itemtype=\"http://schema.org/CreativeWork\">\n",
                        "        <span class=\"text\" itemprop=\"text\">“The world as we have created it is a process of our thinking. It cannot be changed without changing our thinking.”</span>\n",
                        "        <span>by <small class=\"author\" itemprop=\"author\">Albert Einstein</small>\n",
                        "        <a href=\"/author/Albert-Einstein\">(about)</a>\n",
                        "        </span>\n",
                        "        <div class=\"tags\">\n",
                        "            Tags:\n",
                        "            <meta class=\"keywords\" itemprop=\"keywords\" content=\"change,deep-thoughts,thinking,world\" /    > \n",
                        "            \n",
                        "            <a class=\"tag\" href=\"/tag/change/page/1/\">change</a>\n",
                        "            \n",
                        "            <a class=\"tag\" href=\"/tag/deep-thoughts/page/1/\">deep-thoughts</a>\n",
                        "            \n",
                        "            <a class=\"tag\" href=\"/tag/thinking/page/1/\">thinking</a>\n",
                        "            \n",
                        "            <a class=\"tag\" href=\"/tag/world/page/1/\">world</a>\n",
                        "            \n",
                        "        </div>\n",
                        "    </div>\n",
                        "\n",
                        "    <div class=\"quote\" itemscope itemtype=\"http://schema.org/CreativeWork\">\n",
                        "        <span class=\"text\" itemprop=\"text\">“It is our choices, Harry, that show what we truly are, far more than our abilities.”</span>\n",
                        "        <span>by <small class=\"author\" itemprop=\"author\">J.K. Rowling</small>\n",
                        "        <a href=\"/author/J-K-Rowling\">(about)</a>\n",
                        "        </span>\n",
                        "        <div class=\"tags\">\n",
                        "            Tags:\n",
                        "            <meta class=\"keywords\" itemprop=\"keywords\" content=\"abilities,choices\" /    > \n",
                        "            \n",
                        "            <a class=\"tag\" href=\"/tag/abilities/page/1/\">abilities</a>\n",
                        "            \n",
                        "            <a class=\"tag\" href=\"/tag/choices/page/1/\">choices</a>\n",
                        "            \n",
                        "        </div>\n",
                        "    </div>\n",
                        "\n",
                        "    <div class=\"quote\" itemscope itemtype=\"http://schema.org/CreativeWork\">\n",
                        "        <span class=\"text\" itemprop=\"text\">“There are only two ways to live your life. One is as though nothing is a miracle. The other is as though everything is a miracle.”</span>\n",
                        "        <span>by <small class=\"author\" itemprop=\"author\">Albert Einstein</small>\n",
                        "        <a href=\"/author/Albert-Einstein\">(about)</a>\n",
                        "        </span>\n",
                        "        <div class=\"tags\">\n",
                        "            Tags:\n",
                        "            <meta class=\"keywords\" itemprop=\"keywords\" content=\"inspirational,life,live,miracle,miracles\" /    > \n",
                        "            \n",
                        "            <a class=\"tag\" href=\"/tag/inspirational/page/1/\">inspirational</a>\n",
                        "            \n",
                        "            <a class=\"tag\" href=\"/tag/life/page/1/\">life</a>\n",
                        "            \n",
                        "            <a class=\"tag\" href=\"/tag/live/page/1/\">live</a>\n",
                        "            \n",
                        "            <a class=\"tag\" href=\"/tag/miracle/page/1/\">miracle</a>\n",
                        "            \n",
                        "            <a class=\"tag\" href=\"/tag/miracles/page/1/\">miracles</a>\n",
                        "            \n",
                        "        </div>\n",
                        "    </div>\n",
                        "\n",
                        "    <div class=\"quote\" itemscope itemtype=\"http://schema.org/CreativeWork\">\n",
                        "        <span class=\"text\" itemprop=\"text\">“The person, be it gentleman or lady, who has not pleasure in a good novel, must be intolerably stupid.”</span>\n",
                        "        <span>by <small class=\"author\" itemprop=\"author\">Jane Austen</small>\n",
                        "        <a href=\"/author/Jane-Austen\">(about)</a>\n",
                        "        </span>\n",
                        "        <div class=\"tags\">\n",
                        "            Tags:\n",
                        "            <meta class=\"keywords\" itemprop=\"keywords\" content=\"aliteracy,books,classic,humor\" /    > \n",
                        "            \n",
                        "            <a class=\"tag\" href=\"/tag/aliteracy/page/1/\">aliteracy</a>\n",
                        "            \n",
                        "            <a class=\"tag\" href=\"/tag/books/page/1/\">books</a>\n",
                        "            \n",
                        "            <a class=\"tag\" href=\"/tag/classic/page/1/\">classic</a>\n",
                        "            \n",
                        "            <a class=\"tag\" href=\"/tag/humor/page/1/\">humor</a>\n",
                        "            \n",
                        "        </div>\n",
                        "    </div>\n",
                        "\n",
                        "    <div class=\"quote\" itemscope itemtype=\"http://schema.org/CreativeWork\">\n",
                        "        <span class=\"text\" itemprop=\"text\">“Imperfection is beauty, madness is genius and it&#39;s better to be absolutely ridiculous than absolutely boring.”</span>\n",
                        "        <span>by <small class=\"author\" itemprop=\"author\">Marilyn Monroe</small>\n",
                        "        <a href=\"/author/Marilyn-Monroe\">(about)</a>\n",
                        "        </span>\n",
                        "        <div class=\"tags\">\n",
                        "            Tags:\n",
                        "            <meta class=\"keywords\" itemprop=\"keywords\" content=\"be-yourself,inspirational\" /    > \n",
                        "            \n",
                        "            <a class=\"tag\" href=\"/tag/be-yourself/page/1/\">be-yourself</a>\n",
                        "            \n",
                        "            <a class=\"tag\" href=\"/tag/inspirational/page/1/\">inspirational</a>\n",
                        "            \n",
                        "        </div>\n",
                        "    </div>\n",
                        "\n",
                        "    <div class=\"quote\" itemscope itemtype=\"http://schema.org/CreativeWork\">\n",
                        "        <span class=\"text\" itemprop=\"text\">“Try not to become a man of success. Rather become a man of value.”</span>\n",
                        "        <span>by <small class=\"author\" itemprop=\"author\">Albert Einstein</small>\n",
                        "        <a href=\"/author/Albert-Einstein\">(about)</a>\n",
                        "        </span>\n",
                        "        <div class=\"tags\">\n",
                        "            Tags:\n",
                        "            <meta class=\"keywords\" itemprop=\"keywords\" content=\"adulthood,success,value\" /    > \n",
                        "            \n",
                        "            <a class=\"tag\" href=\"/tag/adulthood/page/1/\">adulthood</a>\n",
                        "            \n",
                        "            <a class=\"tag\" href=\"/tag/success/page/1/\">success</a>\n",
                        "            \n",
                        "            <a class=\"tag\" href=\"/tag/value/page/1/\">value</a>\n",
                        "            \n",
                        "        </div>\n",
                        "    </div>\n",
                        "\n",
                        "    <div class=\"quote\" itemscope itemtype=\"http://schema.org/CreativeWork\">\n",
                        "        <span class=\"text\" itemprop=\"text\">“It is better to be hated for what you are than to be loved for what you are not.”</span>\n",
                        "        <span>by <small class=\"author\" itemprop=\"author\">André Gide</small>\n",
                        "        <a href=\"/author/Andre-Gide\">(about)</a>\n",
                        "        </span>\n",
                        "        <div class=\"tags\">\n",
                        "            Tags:\n",
                        "            <meta class=\"keywords\" itemprop=\"keywords\" content=\"life,love\" /    > \n",
                        "            \n",
                        "            <a class=\"tag\" href=\"/tag/life/page/1/\">life</a>\n",
                        "            \n",
                        "            <a class=\"tag\" href=\"/tag/love/page/1/\">love</a>\n",
                        "            \n",
                        "        </div>\n",
                        "    </div>\n",
                        "\n",
                        "    <div class=\"quote\" itemscope itemtype=\"http://schema.org/CreativeWork\">\n",
                        "        <span class=\"text\" itemprop=\"text\">“I have not failed. I&#39;ve just found 10,000 ways that won&#39;t work.”</span>\n",
                        "        <span>by <small class=\"author\" itemprop=\"author\">Thomas A. Edison</small>\n",
                        "        <a href=\"/author/Thomas-A-Edison\">(about)</a>\n",
                        "        </span>\n",
                        "        <div class=\"tags\">\n",
                        "            Tags:\n",
                        "            <meta class=\"keywords\" itemprop=\"keywords\" content=\"edison,failure,inspirational,paraphrased\" /    > \n",
                        "            \n",
                        "            <a class=\"tag\" href=\"/tag/edison/page/1/\">edison</a>\n",
                        "            \n",
                        "            <a class=\"tag\" href=\"/tag/failure/page/1/\">failure</a>\n",
                        "            \n",
                        "            <a class=\"tag\" href=\"/tag/inspirational/page/1/\">inspirational</a>\n",
                        "            \n",
                        "            <a class=\"tag\" href=\"/tag/paraphrased/page/1/\">paraphrased</a>\n",
                        "            \n",
                        "        </div>\n",
                        "    </div>\n",
                        "\n",
                        "    <div class=\"quote\" itemscope itemtype=\"http://schema.org/CreativeWork\">\n",
                        "        <span class=\"text\" itemprop=\"text\">“A woman is like a tea bag; you never know how strong it is until it&#39;s in hot water.”</span>\n",
                        "        <span>by <small class=\"author\" itemprop=\"author\">Eleanor Roosevelt</small>\n",
                        "        <a href=\"/author/Eleanor-Roosevelt\">(about)</a>\n",
                        "        </span>\n",
                        "        <div class=\"tags\">\n",
                        "            Tags:\n",
                        "            <meta class=\"keywords\" itemprop=\"keywords\" content=\"misattributed-eleanor-roosevelt\" /    > \n",
                        "            \n",
                        "            <a class=\"tag\" href=\"/tag/misattributed-eleanor-roosevelt/page/1/\">misattributed-eleanor-roosevelt</a>\n",
                        "            \n",
                        "        </div>\n",
                        "    </div>\n",
                        "\n",
                        "    <div class=\"quote\" itemscope itemtype=\"http://schema.org/CreativeWork\">\n",
                        "        <span class=\"text\" itemprop=\"text\">“A day without sunshine is like, you know, night.”</span>\n",
                        "        <span>by <small class=\"author\" itemprop=\"author\">Steve Martin</small>\n",
                        "        <a href=\"/author/Steve-Martin\">(about)</a>\n",
                        "        </span>\n",
                        "        <div class=\"tags\">\n",
                        "            Tags:\n",
                        "            <meta class=\"keywords\" itemprop=\"keywords\" content=\"humor,obvious,simile\" /    > \n",
                        "            \n",
                        "            <a class=\"tag\" href=\"/tag/humor/page/1/\">humor</a>\n",
                        "            \n",
                        "            <a class=\"tag\" href=\"/tag/obvious/page/1/\">obvious</a>\n",
                        "            \n",
                        "            <a class=\"tag\" href=\"/tag/simile/page/1/\">simile</a>\n",
                        "            \n",
                        "        </div>\n",
                        "    </div>\n",
                        "\n",
                        "    <nav>\n",
                        "        <ul class=\"pager\">\n",
                        "            \n",
                        "            \n",
                        "            <li class=\"next\">\n",
                        "                <a href=\"/page/2/\">Next <span aria-hidden=\"true\">&rarr;</span></a>\n",
                        "            </li>\n",
                        "            \n",
                        "        </ul>\n",
                        "    </nav>\n",
                        "    </div>\n",
                        "    <div class=\"col-md-4 tags-box\">\n",
                        "        \n",
                        "            <h2>Top Ten tags</h2>\n",
                        "            \n",
                        "            <span class=\"tag-item\">\n",
                        "            <a class=\"tag\" style=\"font-size: 28px\" href=\"/tag/love/\">love</a>\n",
                        "            </span>\n",
                        "            \n",
                        "            <span class=\"tag-item\">\n",
                        "            <a class=\"tag\" style=\"font-size: 26px\" href=\"/tag/inspirational/\">inspirational</a>\n",
                        "            </span>\n",
                        "            \n",
                        "            <span class=\"tag-item\">\n",
                        "            <a class=\"tag\" style=\"font-size: 26px\" href=\"/tag/life/\">life</a>\n",
                        "            </span>\n",
                        "            \n",
                        "            <span class=\"tag-item\">\n",
                        "            <a class=\"tag\" style=\"font-size: 24px\" href=\"/tag/humor/\">humor</a>\n",
                        "            </span>\n",
                        "            \n",
                        "            <span class=\"tag-item\">\n",
                        "            <a class=\"tag\" style=\"font-size: 22px\" href=\"/tag/books/\">books</a>\n",
                        "            </span>\n",
                        "            \n",
                        "            <span class=\"tag-item\">\n",
                        "            <a class=\"tag\" style=\"font-size: 14px\" href=\"/tag/reading/\">reading</a>\n",
                        "            </span>\n",
                        "            \n",
                        "            <span class=\"tag-item\">\n",
                        "            <a class=\"tag\" style=\"font-size: 10px\" href=\"/tag/friendship/\">friendship</a>\n",
                        "            </span>\n",
                        "            \n",
                        "            <span class=\"tag-item\">\n",
                        "            <a class=\"tag\" style=\"font-size: 8px\" href=\"/tag/friends/\">friends</a>\n",
                        "            </span>\n",
                        "            \n",
                        "            <span class=\"tag-item\">\n",
                        "            <a class=\"tag\" style=\"font-size: 8px\" href=\"/tag/truth/\">truth</a>\n",
                        "            </span>\n",
                        "            \n",
                        "            <span class=\"tag-item\">\n",
                        "            <a class=\"tag\" style=\"font-size: 6px\" href=\"/tag/simile/\">simile</a>\n",
                        "            </span>\n",
                        "            \n",
                        "        \n",
                        "    </div>\n",
                        "</div>\n",
                        "\n",
                        "    </div>\n",
                        "    <footer class=\"footer\">\n",
                        "        <div class=\"container\">\n",
                        "            <p class=\"text-muted\">\n",
                        "                Quotes by: <a href=\"https://www.goodreads.com/quotes\">GoodReads.com</a>\n",
                        "            </p>\n",
                        "            <p class=\"copyright\">\n",
                        "                Made with <span class='sh-red'>❤</span> by <a href=\"https://scrapinghub.com\">Scrapinghub</a>\n",
                        "            </p>\n",
                        "        </div>\n",
                        "    </footer>\n",
                        "</body>\n",
                        "</html>\n"
                    ]
                }
            ],
            "source": [
                "print(decoded_content)"
            ]
        },
        {
            "cell_type": "code",
            "execution_count": 35,
            "metadata": {},
            "outputs": [
                {
                    "name": "stdout",
                    "output_type": "stream",
                    "text": [
                        "<!DOCTYPE html>\n",
                        "<html lang=\"en\">\n",
                        "<head>\n",
                        "\t<meta charset=\"UTF-8\">\n",
                        "\t<title>Quotes to Scrape</title>\n",
                        "    <link rel=\"stylesheet\" href=\"/static/bootstrap.min.css\">\n",
                        "    <link rel=\"stylesheet\" href=\"/static/main.css\">\n",
                        "</head>\n",
                        "<body>\n",
                        "    <div class=\"container\">\n",
                        "        <div class=\"row header-box\">\n",
                        "            <div class=\"col-md-8\">\n",
                        "                <h1>\n",
                        "                    <a href=\"/\" style=\"text-decoration: none\">Quotes to Scrape</a>\n",
                        "                </h1>\n",
                        "            </div>\n",
                        "            <div class=\"col-md-4\">\n",
                        "                <p>\n",
                        "                \n",
                        "                    <a href=\"/login\">Login</a>\n",
                        "                \n",
                        "                </p>\n",
                        "            </div>\n",
                        "        </div>\n",
                        "    \n",
                        "\n",
                        "<div class=\"row\">\n",
                        "    <div class=\"col-md-8\">\n",
                        "\n",
                        "    <div class=\"quote\" itemscope itemtype=\"http://schema.org/CreativeWork\">\n",
                        "        <span class=\"text\" itemprop=\"text\">“The world as we have created it is a process of our thinking. It cannot be changed without changing our thinking.”</span>\n",
                        "        <span>by <small class=\"author\" itemprop=\"author\">Albert Einstein</small>\n",
                        "        <a href=\"/author/Albert-Einstein\">(about)</a>\n",
                        "        </span>\n",
                        "        <div class=\"tags\">\n",
                        "            Tags:\n",
                        "            <meta class=\"keywords\" itemprop=\"keywords\" content=\"change,deep-thoughts,thinking,world\" /    > \n",
                        "            \n",
                        "            <a class=\"tag\" href=\"/tag/change/page/1/\">change</a>\n",
                        "            \n",
                        "            <a class=\"tag\" href=\"/tag/deep-thoughts/page/1/\">deep-thoughts</a>\n",
                        "            \n",
                        "            <a class=\"tag\" href=\"/tag/thinking/page/1/\">thinking</a>\n",
                        "            \n",
                        "            <a class=\"tag\" href=\"/tag/world/page/1/\">world</a>\n",
                        "            \n",
                        "        </div>\n",
                        "    </div>\n",
                        "\n",
                        "    <div class=\"quote\" itemscope itemtype=\"http://schema.org/CreativeWork\">\n",
                        "        <span class=\"text\" itemprop=\"text\">“It is our choices, Harry, that show what we truly are, far more than our abilities.”</span>\n",
                        "        <span>by <small class=\"author\" itemprop=\"author\">J.K. Rowling</small>\n",
                        "        <a href=\"/author/J-K-Rowling\">(about)</a>\n",
                        "        </span>\n",
                        "        <div class=\"tags\">\n",
                        "            Tags:\n",
                        "            <meta class=\"keywords\" itemprop=\"keywords\" content=\"abilities,choices\" /    > \n",
                        "            \n",
                        "            <a class=\"tag\" href=\"/tag/abilities/page/1/\">abilities</a>\n",
                        "            \n",
                        "            <a class=\"tag\" href=\"/tag/choices/page/1/\">choices</a>\n",
                        "            \n",
                        "        </div>\n",
                        "    </div>\n",
                        "\n",
                        "    <div class=\"quote\" itemscope itemtype=\"http://schema.org/CreativeWork\">\n",
                        "        <span class=\"text\" itemprop=\"text\">“There are only two ways to live your life. One is as though nothing is a miracle. The other is as though everything is a miracle.”</span>\n",
                        "        <span>by <small class=\"author\" itemprop=\"author\">Albert Einstein</small>\n",
                        "        <a href=\"/author/Albert-Einstein\">(about)</a>\n",
                        "        </span>\n",
                        "        <div class=\"tags\">\n",
                        "            Tags:\n",
                        "            <meta class=\"keywords\" itemprop=\"keywords\" content=\"inspirational,life,live,miracle,miracles\" /    > \n",
                        "            \n",
                        "            <a class=\"tag\" href=\"/tag/inspirational/page/1/\">inspirational</a>\n",
                        "            \n",
                        "            <a class=\"tag\" href=\"/tag/life/page/1/\">life</a>\n",
                        "            \n",
                        "            <a class=\"tag\" href=\"/tag/live/page/1/\">live</a>\n",
                        "            \n",
                        "            <a class=\"tag\" href=\"/tag/miracle/page/1/\">miracle</a>\n",
                        "            \n",
                        "            <a class=\"tag\" href=\"/tag/miracles/page/1/\">miracles</a>\n",
                        "            \n",
                        "        </div>\n",
                        "    </div>\n",
                        "\n",
                        "    <div class=\"quote\" itemscope itemtype=\"http://schema.org/CreativeWork\">\n",
                        "        <span class=\"text\" itemprop=\"text\">“The person, be it gentleman or lady, who has not pleasure in a good novel, must be intolerably stupid.”</span>\n",
                        "        <span>by <small class=\"author\" itemprop=\"author\">Jane Austen</small>\n",
                        "        <a href=\"/author/Jane-Austen\">(about)</a>\n",
                        "        </span>\n",
                        "        <div class=\"tags\">\n",
                        "            Tags:\n",
                        "            <meta class=\"keywords\" itemprop=\"keywords\" content=\"aliteracy,books,classic,humor\" /    > \n",
                        "            \n",
                        "            <a class=\"tag\" href=\"/tag/aliteracy/page/1/\">aliteracy</a>\n",
                        "            \n",
                        "            <a class=\"tag\" href=\"/tag/books/page/1/\">books</a>\n",
                        "            \n",
                        "            <a class=\"tag\" href=\"/tag/classic/page/1/\">classic</a>\n",
                        "            \n",
                        "            <a class=\"tag\" href=\"/tag/humor/page/1/\">humor</a>\n",
                        "            \n",
                        "        </div>\n",
                        "    </div>\n",
                        "\n",
                        "    <div class=\"quote\" itemscope itemtype=\"http://schema.org/CreativeWork\">\n",
                        "        <span class=\"text\" itemprop=\"text\">“Imperfection is beauty, madness is genius and it&#39;s better to be absolutely ridiculous than absolutely boring.”</span>\n",
                        "        <span>by <small class=\"author\" itemprop=\"author\">Marilyn Monroe</small>\n",
                        "        <a href=\"/author/Marilyn-Monroe\">(about)</a>\n",
                        "        </span>\n",
                        "        <div class=\"tags\">\n",
                        "            Tags:\n",
                        "            <meta class=\"keywords\" itemprop=\"keywords\" content=\"be-yourself,inspirational\" /    > \n",
                        "            \n",
                        "            <a class=\"tag\" href=\"/tag/be-yourself/page/1/\">be-yourself</a>\n",
                        "            \n",
                        "            <a class=\"tag\" href=\"/tag/inspirational/page/1/\">inspirational</a>\n",
                        "            \n",
                        "        </div>\n",
                        "    </div>\n",
                        "\n",
                        "    <div class=\"quote\" itemscope itemtype=\"http://schema.org/CreativeWork\">\n",
                        "        <span class=\"text\" itemprop=\"text\">“Try not to become a man of success. Rather become a man of value.”</span>\n",
                        "        <span>by <small class=\"author\" itemprop=\"author\">Albert Einstein</small>\n",
                        "        <a href=\"/author/Albert-Einstein\">(about)</a>\n",
                        "        </span>\n",
                        "        <div class=\"tags\">\n",
                        "            Tags:\n",
                        "            <meta class=\"keywords\" itemprop=\"keywords\" content=\"adulthood,success,value\" /    > \n",
                        "            \n",
                        "            <a class=\"tag\" href=\"/tag/adulthood/page/1/\">adulthood</a>\n",
                        "            \n",
                        "            <a class=\"tag\" href=\"/tag/success/page/1/\">success</a>\n",
                        "            \n",
                        "            <a class=\"tag\" href=\"/tag/value/page/1/\">value</a>\n",
                        "            \n",
                        "        </div>\n",
                        "    </div>\n",
                        "\n",
                        "    <div class=\"quote\" itemscope itemtype=\"http://schema.org/CreativeWork\">\n",
                        "        <span class=\"text\" itemprop=\"text\">“It is better to be hated for what you are than to be loved for what you are not.”</span>\n",
                        "        <span>by <small class=\"author\" itemprop=\"author\">André Gide</small>\n",
                        "        <a href=\"/author/Andre-Gide\">(about)</a>\n",
                        "        </span>\n",
                        "        <div class=\"tags\">\n",
                        "            Tags:\n",
                        "            <meta class=\"keywords\" itemprop=\"keywords\" content=\"life,love\" /    > \n",
                        "            \n",
                        "            <a class=\"tag\" href=\"/tag/life/page/1/\">life</a>\n",
                        "            \n",
                        "            <a class=\"tag\" href=\"/tag/love/page/1/\">love</a>\n",
                        "            \n",
                        "        </div>\n",
                        "    </div>\n",
                        "\n",
                        "    <div class=\"quote\" itemscope itemtype=\"http://schema.org/CreativeWork\">\n",
                        "        <span class=\"text\" itemprop=\"text\">“I have not failed. I&#39;ve just found 10,000 ways that won&#39;t work.”</span>\n",
                        "        <span>by <small class=\"author\" itemprop=\"author\">Thomas A. Edison</small>\n",
                        "        <a href=\"/author/Thomas-A-Edison\">(about)</a>\n",
                        "        </span>\n",
                        "        <div class=\"tags\">\n",
                        "            Tags:\n",
                        "            <meta class=\"keywords\" itemprop=\"keywords\" content=\"edison,failure,inspirational,paraphrased\" /    > \n",
                        "            \n",
                        "            <a class=\"tag\" href=\"/tag/edison/page/1/\">edison</a>\n",
                        "            \n",
                        "            <a class=\"tag\" href=\"/tag/failure/page/1/\">failure</a>\n",
                        "            \n",
                        "            <a class=\"tag\" href=\"/tag/inspirational/page/1/\">inspirational</a>\n",
                        "            \n",
                        "            <a class=\"tag\" href=\"/tag/paraphrased/page/1/\">paraphrased</a>\n",
                        "            \n",
                        "        </div>\n",
                        "    </div>\n",
                        "\n",
                        "    <div class=\"quote\" itemscope itemtype=\"http://schema.org/CreativeWork\">\n",
                        "        <span class=\"text\" itemprop=\"text\">“A woman is like a tea bag; you never know how strong it is until it&#39;s in hot water.”</span>\n",
                        "        <span>by <small class=\"author\" itemprop=\"author\">Eleanor Roosevelt</small>\n",
                        "        <a href=\"/author/Eleanor-Roosevelt\">(about)</a>\n",
                        "        </span>\n",
                        "        <div class=\"tags\">\n",
                        "            Tags:\n",
                        "            <meta class=\"keywords\" itemprop=\"keywords\" content=\"misattributed-eleanor-roosevelt\" /    > \n",
                        "            \n",
                        "            <a class=\"tag\" href=\"/tag/misattributed-eleanor-roosevelt/page/1/\">misattributed-eleanor-roosevelt</a>\n",
                        "            \n",
                        "        </div>\n",
                        "    </div>\n",
                        "\n",
                        "    <div class=\"quote\" itemscope itemtype=\"http://schema.org/CreativeWork\">\n",
                        "        <span class=\"text\" itemprop=\"text\">“A day without sunshine is like, you know, night.”</span>\n",
                        "        <span>by <small class=\"author\" itemprop=\"author\">Steve Martin</small>\n",
                        "        <a href=\"/author/Steve-Martin\">(about)</a>\n",
                        "        </span>\n",
                        "        <div class=\"tags\">\n",
                        "            Tags:\n",
                        "            <meta class=\"keywords\" itemprop=\"keywords\" content=\"humor,obvious,simile\" /    > \n",
                        "            \n",
                        "            <a class=\"tag\" href=\"/tag/humor/page/1/\">humor</a>\n",
                        "            \n",
                        "            <a class=\"tag\" href=\"/tag/obvious/page/1/\">obvious</a>\n",
                        "            \n",
                        "            <a class=\"tag\" href=\"/tag/simile/page/1/\">simile</a>\n",
                        "            \n",
                        "        </div>\n",
                        "    </div>\n",
                        "\n",
                        "    <nav>\n",
                        "        <ul class=\"pager\">\n",
                        "            \n",
                        "            \n",
                        "            <li class=\"next\">\n",
                        "                <a href=\"/page/2/\">Next <span aria-hidden=\"true\">&rarr;</span></a>\n",
                        "            </li>\n",
                        "            \n",
                        "        </ul>\n",
                        "    </nav>\n",
                        "    </div>\n",
                        "    <div class=\"col-md-4 tags-box\">\n",
                        "        \n",
                        "            <h2>Top Ten tags</h2>\n",
                        "            \n",
                        "            <span class=\"tag-item\">\n",
                        "            <a class=\"tag\" style=\"font-size: 28px\" href=\"/tag/love/\">love</a>\n",
                        "            </span>\n",
                        "            \n",
                        "            <span class=\"tag-item\">\n",
                        "            <a class=\"tag\" style=\"font-size: 26px\" href=\"/tag/inspirational/\">inspirational</a>\n",
                        "            </span>\n",
                        "            \n",
                        "            <span class=\"tag-item\">\n",
                        "            <a class=\"tag\" style=\"font-size: 26px\" href=\"/tag/life/\">life</a>\n",
                        "            </span>\n",
                        "            \n",
                        "            <span class=\"tag-item\">\n",
                        "            <a class=\"tag\" style=\"font-size: 24px\" href=\"/tag/humor/\">humor</a>\n",
                        "            </span>\n",
                        "            \n",
                        "            <span class=\"tag-item\">\n",
                        "            <a class=\"tag\" style=\"font-size: 22px\" href=\"/tag/books/\">books</a>\n",
                        "            </span>\n",
                        "            \n",
                        "            <span class=\"tag-item\">\n",
                        "            <a class=\"tag\" style=\"font-size: 14px\" href=\"/tag/reading/\">reading</a>\n",
                        "            </span>\n",
                        "            \n",
                        "            <span class=\"tag-item\">\n",
                        "            <a class=\"tag\" style=\"font-size: 10px\" href=\"/tag/friendship/\">friendship</a>\n",
                        "            </span>\n",
                        "            \n",
                        "            <span class=\"tag-item\">\n",
                        "            <a class=\"tag\" style=\"font-size: 8px\" href=\"/tag/friends/\">friends</a>\n",
                        "            </span>\n",
                        "            \n",
                        "            <span class=\"tag-item\">\n",
                        "            <a class=\"tag\" style=\"font-size: 8px\" href=\"/tag/truth/\">truth</a>\n",
                        "            </span>\n",
                        "            \n",
                        "            <span class=\"tag-item\">\n",
                        "            <a class=\"tag\" style=\"font-size: 6px\" href=\"/tag/simile/\">simile</a>\n",
                        "            </span>\n",
                        "            \n",
                        "        \n",
                        "    </div>\n",
                        "</div>\n",
                        "\n",
                        "    </div>\n",
                        "    <footer class=\"footer\">\n",
                        "        <div class=\"container\">\n",
                        "            <p class=\"text-muted\">\n",
                        "                Quotes by: <a href=\"https://www.goodreads.com/quotes\">GoodReads.com</a>\n",
                        "            </p>\n",
                        "            <p class=\"copyright\">\n",
                        "                Made with <span class='sh-red'>❤</span> by <a href=\"https://scrapinghub.com\">Scrapinghub</a>\n",
                        "            </p>\n",
                        "        </div>\n",
                        "    </footer>\n",
                        "</body>\n",
                        "</html>\n"
                    ]
                }
            ],
            "source": [
                "with urlopen(url) as resp:\n",
                "    content = resp.read()\n",
                "    print(content.decode(\"utf-8\"))"
            ]
        },
        {
            "attachments": {},
            "cell_type": "markdown",
            "metadata": {},
            "source": [
                "### requests module"
            ]
        },
        {
            "cell_type": "code",
            "execution_count": 36,
            "metadata": {},
            "outputs": [],
            "source": [
                "# !pip install requests"
            ]
        },
        {
            "cell_type": "code",
            "execution_count": 37,
            "metadata": {},
            "outputs": [],
            "source": [
                "import requests"
            ]
        },
        {
            "cell_type": "code",
            "execution_count": 38,
            "metadata": {},
            "outputs": [
                {
                    "data": {
                        "text/html": [
                            "<pre style=\"white-space:pre;overflow-x:auto;line-height:normal;font-family:Menlo,'DejaVu Sans Mono',consolas,'Courier New',monospace\"><span style=\"font-weight: bold\">&lt;</span><span style=\"color: #ff00ff; text-decoration-color: #ff00ff; font-weight: bold\">Response</span><span style=\"color: #000000; text-decoration-color: #000000\"> </span><span style=\"color: #000000; text-decoration-color: #000000; font-weight: bold\">[</span><span style=\"color: #008080; text-decoration-color: #008080; font-weight: bold\">200</span><span style=\"color: #000000; text-decoration-color: #000000; font-weight: bold\">]</span><span style=\"font-weight: bold\">&gt;</span>\n",
                            "</pre>\n"
                        ],
                        "text/plain": [
                            "\u001b[1m<\u001b[0m\u001b[1;95mResponse\u001b[0m\u001b[39m \u001b[0m\u001b[1;39m[\u001b[0m\u001b[1;36m200\u001b[0m\u001b[1;39m]\u001b[0m\u001b[1m>\u001b[0m\n"
                        ]
                    },
                    "metadata": {},
                    "output_type": "display_data"
                }
            ],
            "source": [
                "resp = requests.get(url)\n",
                "resp"
            ]
        },
        {
            "cell_type": "code",
            "execution_count": 39,
            "metadata": {},
            "outputs": [
                {
                    "data": {
                        "text/html": [
                            "<pre style=\"white-space:pre;overflow-x:auto;line-height:normal;font-family:Menlo,'DejaVu Sans Mono',consolas,'Courier New',monospace\"><span style=\"color: #008080; text-decoration-color: #008080; font-weight: bold\">200</span>\n",
                            "</pre>\n"
                        ],
                        "text/plain": [
                            "\u001b[1;36m200\u001b[0m\n"
                        ]
                    },
                    "metadata": {},
                    "output_type": "display_data"
                }
            ],
            "source": [
                "resp.status_code"
            ]
        },
        {
            "cell_type": "code",
            "execution_count": 40,
            "metadata": {},
            "outputs": [
                {
                    "data": {
                        "text/html": [
                            "<pre style=\"white-space:pre;overflow-x:auto;line-height:normal;font-family:Menlo,'DejaVu Sans Mono',consolas,'Courier New',monospace\"><span style=\"color: #008000; text-decoration-color: #008000\">'&lt;!DOCTYPE html&gt;\\n&lt;html lang=\"en\"&gt;\\n&lt;head&gt;\\n\\t&lt;meta charset=\"UTF-8\"&gt;\\n\\t&lt;title&gt;Quotes to Scrape&lt;/title&gt;\\n    &lt;link rel=\"stylesheet\" href=\"/static/bootstrap.min.css\"&gt;\\n    &lt;link rel=\"stylesheet\" href=\"/static/main.css\"&gt;\\n&lt;/head&gt;\\n&lt;body&gt;\\n    &lt;div class=\"container\"&gt;\\n        &lt;div class=\"row header-box\"&gt;\\n            &lt;div class=\"col-md-8\"&gt;\\n                &lt;h1&gt;\\n                    &lt;a href=\"/\" style=\"text-decoration: none\"&gt;Quotes to Scrape&lt;/a&gt;\\n                &lt;/h1&gt;\\n            &lt;/div&gt;\\n            &lt;div class=\"col-md-4\"&gt;\\n                &lt;p&gt;\\n                \\n                    &lt;a href=\"/login\"&gt;Login&lt;/a&gt;\\n                \\n                &lt;/p&gt;\\n            &lt;/div&gt;\\n        &lt;/div&gt;\\n    \\n\\n&lt;div class=\"row\"&gt;\\n    &lt;div class=\"col-md-8\"&gt;\\n\\n    &lt;div class=\"quote\" itemscope itemtype=\"http://schema.org/CreativeWork\"&gt;\\n        &lt;span class=\"text\" itemprop=\"text\"&gt;“The world as we have created it is a process of our thinking. It cannot be changed without changing our thinking.”&lt;/span&gt;\\n        &lt;span&gt;by &lt;small class=\"author\" itemprop=\"author\"&gt;Albert Einstein&lt;/small&gt;\\n        &lt;a href=\"/author/Albert-Einstein\"&gt;(about)&lt;/a&gt;\\n        &lt;/span&gt;\\n        &lt;div class=\"tags\"&gt;\\n            Tags:\\n            &lt;meta class=\"keywords\" itemprop=\"keywords\" content=\"change,deep-thoughts,thinking,world\" /    &gt; \\n            \\n            &lt;a class=\"tag\" href=\"/tag/change/page/1/\"&gt;change&lt;/a&gt;\\n            \\n            &lt;a class=\"tag\" href=\"/tag/deep-thoughts/page/1/\"&gt;deep-thoughts&lt;/a&gt;\\n            \\n            &lt;a class=\"tag\" href=\"/tag/thinking/page/1/\"&gt;thinking&lt;/a&gt;\\n            \\n            &lt;a class=\"tag\" href=\"/tag/world/page/1/\"&gt;world&lt;/a&gt;\\n            \\n        &lt;/div&gt;\\n    &lt;/div&gt;\\n\\n    &lt;div class=\"quote\" itemscope itemtype=\"http://schema.org/CreativeWork\"&gt;\\n        &lt;span class=\"text\" itemprop=\"text\"&gt;“It is our choices, Harry, that show what we truly are, far more than our abilities.”&lt;/span&gt;\\n        &lt;span&gt;by &lt;small class=\"author\" itemprop=\"author\"&gt;J.K. Rowling&lt;/small&gt;\\n        &lt;a href=\"/author/J-K-Rowling\"&gt;(about)&lt;/a&gt;\\n        &lt;/span&gt;\\n        &lt;div class=\"tags\"&gt;\\n            Tags:\\n            &lt;meta class=\"keywords\" itemprop=\"keywords\" content=\"abilities,choices\" /    &gt; \\n            \\n            &lt;a class=\"tag\" href=\"/tag/abilities/page/1/\"&gt;abilities&lt;/a&gt;\\n            \\n            &lt;a class=\"tag\" href=\"/tag/choices/page/1/\"&gt;choices&lt;/a&gt;\\n            \\n        &lt;/div&gt;\\n    &lt;/div&gt;\\n\\n    &lt;div class=\"quote\" itemscope itemtype=\"http://schema.org/CreativeWork\"&gt;\\n        &lt;span class=\"text\" itemprop=\"text\"&gt;“There are only two ways to live your life. One is as though nothing is a miracle. The other is as though everything is a miracle.”&lt;/span&gt;\\n        &lt;span&gt;by &lt;small class=\"author\" itemprop=\"author\"&gt;Albert Einstein&lt;/small&gt;\\n        &lt;a href=\"/author/Albert-Einstein\"&gt;(about)&lt;/a&gt;\\n        &lt;/span&gt;\\n        &lt;div class=\"tags\"&gt;\\n            Tags:\\n            &lt;meta class=\"keywords\" itemprop=\"keywords\" content=\"inspirational,life,live,miracle,miracles\" /    &gt; \\n            \\n            &lt;a class=\"tag\" href=\"/tag/inspirational/page/1/\"&gt;inspirational&lt;/a&gt;\\n            \\n            &lt;a class=\"tag\" href=\"/tag/life/page/1/\"&gt;life&lt;/a&gt;\\n            \\n            &lt;a class=\"tag\" href=\"/tag/live/page/1/\"&gt;live&lt;/a&gt;\\n            \\n            &lt;a class=\"tag\" href=\"/tag/miracle/page/1/\"&gt;miracle&lt;/a&gt;\\n            \\n            &lt;a class=\"tag\" href=\"/tag/miracles/page/1/\"&gt;miracles&lt;/a&gt;\\n            \\n        &lt;/div&gt;\\n    &lt;/div&gt;\\n\\n    &lt;div class=\"quote\" itemscope itemtype=\"http://schema.org/CreativeWork\"&gt;\\n        &lt;span class=\"text\" itemprop=\"text\"&gt;“The person, be it gentleman or lady, who has not pleasure in a good novel, must be intolerably stupid.”&lt;/span&gt;\\n        &lt;span&gt;by &lt;small class=\"author\" itemprop=\"author\"&gt;Jane Austen&lt;/small&gt;\\n        &lt;a href=\"/author/Jane-Austen\"&gt;(about)&lt;/a&gt;\\n        &lt;/span&gt;\\n        &lt;div class=\"tags\"&gt;\\n            Tags:\\n            &lt;meta class=\"keywords\" itemprop=\"keywords\" content=\"aliteracy,books,classic,humor\" /    &gt; \\n            \\n            &lt;a class=\"tag\" href=\"/tag/aliteracy/page/1/\"&gt;aliteracy&lt;/a&gt;\\n            \\n            &lt;a class=\"tag\" href=\"/tag/books/page/1/\"&gt;books&lt;/a&gt;\\n            \\n            &lt;a class=\"tag\" href=\"/tag/classic/page/1/\"&gt;classic&lt;/a&gt;\\n            \\n            &lt;a class=\"tag\" href=\"/tag/humor/page/1/\"&gt;humor&lt;/a&gt;\\n            \\n        &lt;/div&gt;\\n    &lt;/div&gt;\\n\\n    &lt;div class=\"quote\" itemscope itemtype=\"http://schema.org/CreativeWork\"&gt;\\n        &lt;span class=\"text\" itemprop=\"text\"&gt;“Imperfection is beauty, madness is genius and it&amp;#39;s better to be absolutely ridiculous than absolutely boring.”&lt;/span&gt;\\n        &lt;span&gt;by &lt;small class=\"author\" itemprop=\"author\"&gt;Marilyn Monroe&lt;/small&gt;\\n        &lt;a href=\"/author/Marilyn-Monroe\"&gt;(about)&lt;/a&gt;\\n        &lt;/span&gt;\\n        &lt;div class=\"tags\"&gt;\\n            Tags:\\n            &lt;meta class=\"keywords\" itemprop=\"keywords\" content=\"be-yourself,inspirational\" /    &gt; \\n            \\n            &lt;a class=\"tag\" href=\"/tag/be-yourself/page/1/\"&gt;be-yourself&lt;/a&gt;\\n            \\n            &lt;a class=\"tag\" href=\"/tag/inspirational/page/1/\"&gt;inspirational&lt;/a&gt;\\n            \\n        &lt;/div&gt;\\n    &lt;/div&gt;\\n\\n    &lt;div class=\"quote\" itemscope itemtype=\"http://schema.org/CreativeWork\"&gt;\\n        &lt;span class=\"text\" itemprop=\"text\"&gt;“Try not to become a man of success. Rather become a man of value.”&lt;/span&gt;\\n        &lt;span&gt;by &lt;small class=\"author\" itemprop=\"author\"&gt;Albert Einstein&lt;/small&gt;\\n        &lt;a href=\"/author/Albert-Einstein\"&gt;(about)&lt;/a&gt;\\n        &lt;/span&gt;\\n        &lt;div class=\"tags\"&gt;\\n            Tags:\\n            &lt;meta class=\"keywords\" itemprop=\"keywords\" content=\"adulthood,success,value\" /    &gt; \\n            \\n            &lt;a class=\"tag\" href=\"/tag/adulthood/page/1/\"&gt;adulthood&lt;/a&gt;\\n            \\n            &lt;a class=\"tag\" href=\"/tag/success/page/1/\"&gt;success&lt;/a&gt;\\n            \\n            &lt;a class=\"tag\" href=\"/tag/value/page/1/\"&gt;value&lt;/a&gt;\\n            \\n        &lt;/div&gt;\\n    &lt;/div&gt;\\n\\n    &lt;div class=\"quote\" itemscope itemtype=\"http://schema.org/CreativeWork\"&gt;\\n        &lt;span class=\"text\" itemprop=\"text\"&gt;“It is better to be hated for what you are than to be loved for what you are not.”&lt;/span&gt;\\n        &lt;span&gt;by &lt;small class=\"author\" itemprop=\"author\"&gt;André Gide&lt;/small&gt;\\n        &lt;a href=\"/author/Andre-Gide\"&gt;(about)&lt;/a&gt;\\n        &lt;/span&gt;\\n        &lt;div class=\"tags\"&gt;\\n            Tags:\\n            &lt;meta class=\"keywords\" itemprop=\"keywords\" content=\"life,love\" /    &gt; \\n            \\n            &lt;a class=\"tag\" href=\"/tag/life/page/1/\"&gt;life&lt;/a&gt;\\n            \\n            &lt;a class=\"tag\" href=\"/tag/love/page/1/\"&gt;love&lt;/a&gt;\\n            \\n        &lt;/div&gt;\\n    &lt;/div&gt;\\n\\n    &lt;div class=\"quote\" itemscope itemtype=\"http://schema.org/CreativeWork\"&gt;\\n        &lt;span class=\"text\" itemprop=\"text\"&gt;“I have not failed. I&amp;#39;ve just found 10,000 ways that won&amp;#39;t work.”&lt;/span&gt;\\n        &lt;span&gt;by &lt;small class=\"author\" itemprop=\"author\"&gt;Thomas A. Edison&lt;/small&gt;\\n        &lt;a href=\"/author/Thomas-A-Edison\"&gt;(about)&lt;/a&gt;\\n        &lt;/span&gt;\\n        &lt;div class=\"tags\"&gt;\\n            Tags:\\n            &lt;meta class=\"keywords\" itemprop=\"keywords\" content=\"edison,failure,inspirational,paraphrased\" /    &gt; \\n            \\n            &lt;a class=\"tag\" href=\"/tag/edison/page/1/\"&gt;edison&lt;/a&gt;\\n            \\n            &lt;a class=\"tag\" href=\"/tag/failure/page/1/\"&gt;failure&lt;/a&gt;\\n            \\n            &lt;a class=\"tag\" href=\"/tag/inspirational/page/1/\"&gt;inspirational&lt;/a&gt;\\n            \\n            &lt;a class=\"tag\" href=\"/tag/paraphrased/page/1/\"&gt;paraphrased&lt;/a&gt;\\n            \\n        &lt;/div&gt;\\n    &lt;/div&gt;\\n\\n    &lt;div class=\"quote\" itemscope itemtype=\"http://schema.org/CreativeWork\"&gt;\\n        &lt;span class=\"text\" itemprop=\"text\"&gt;“A woman is like a tea bag; you never know how strong it is until it&amp;#39;s in hot water.”&lt;/span&gt;\\n        &lt;span&gt;by &lt;small class=\"author\" itemprop=\"author\"&gt;Eleanor Roosevelt&lt;/small&gt;\\n        &lt;a href=\"/author/Eleanor-Roosevelt\"&gt;(about)&lt;/a&gt;\\n        &lt;/span&gt;\\n        &lt;div class=\"tags\"&gt;\\n            Tags:\\n            &lt;meta class=\"keywords\" itemprop=\"keywords\" content=\"misattributed-eleanor-roosevelt\" /    &gt; \\n            \\n            &lt;a class=\"tag\" href=\"/tag/misattributed-eleanor-roosevelt/page/1/\"&gt;misattributed-eleanor-roosevelt&lt;/a&gt;\\n            \\n        &lt;/div&gt;\\n    &lt;/div&gt;\\n\\n    &lt;div class=\"quote\" itemscope itemtype=\"http://schema.org/CreativeWork\"&gt;\\n        &lt;span class=\"text\" itemprop=\"text\"&gt;“A day without sunshine is like, you know, night.”&lt;/span&gt;\\n        &lt;span&gt;by &lt;small class=\"author\" itemprop=\"author\"&gt;Steve Martin&lt;/small&gt;\\n        &lt;a href=\"/author/Steve-Martin\"&gt;(about)&lt;/a&gt;\\n        &lt;/span&gt;\\n        &lt;div class=\"tags\"&gt;\\n            Tags:\\n            &lt;meta class=\"keywords\" itemprop=\"keywords\" content=\"humor,obvious,simile\" /    &gt; \\n            \\n            &lt;a class=\"tag\" href=\"/tag/humor/page/1/\"&gt;humor&lt;/a&gt;\\n            \\n            &lt;a class=\"tag\" href=\"/tag/obvious/page/1/\"&gt;obvious&lt;/a&gt;\\n            \\n            &lt;a class=\"tag\" href=\"/tag/simile/page/1/\"&gt;simile&lt;/a&gt;\\n            \\n        &lt;/div&gt;\\n    &lt;/div&gt;\\n\\n    &lt;nav&gt;\\n        &lt;ul class=\"pager\"&gt;\\n            \\n            \\n            &lt;li class=\"next\"&gt;\\n                &lt;a href=\"/page/2/\"&gt;Next &lt;span aria-hidden=\"true\"&gt;&amp;rarr;&lt;/span&gt;&lt;/a&gt;\\n            &lt;/li&gt;\\n            \\n        &lt;/ul&gt;\\n    &lt;/nav&gt;\\n    &lt;/div&gt;\\n    &lt;div class=\"col-md-4 tags-box\"&gt;\\n        \\n            &lt;h2&gt;Top Ten tags&lt;/h2&gt;\\n            \\n            &lt;span class=\"tag-item\"&gt;\\n            &lt;a class=\"tag\" style=\"font-size: 28px\" href=\"/tag/love/\"&gt;love&lt;/a&gt;\\n            &lt;/span&gt;\\n            \\n            &lt;span class=\"tag-item\"&gt;\\n            &lt;a class=\"tag\" style=\"font-size: 26px\" href=\"/tag/inspirational/\"&gt;inspirational&lt;/a&gt;\\n            &lt;/span&gt;\\n            \\n            &lt;span class=\"tag-item\"&gt;\\n            &lt;a class=\"tag\" style=\"font-size: 26px\" href=\"/tag/life/\"&gt;life&lt;/a&gt;\\n            &lt;/span&gt;\\n            \\n            &lt;span class=\"tag-item\"&gt;\\n            &lt;a class=\"tag\" style=\"font-size: 24px\" href=\"/tag/humor/\"&gt;humor&lt;/a&gt;\\n            &lt;/span&gt;\\n            \\n            &lt;span class=\"tag-item\"&gt;\\n            &lt;a class=\"tag\" style=\"font-size: 22px\" href=\"/tag/books/\"&gt;books&lt;/a&gt;\\n            &lt;/span&gt;\\n            \\n            &lt;span class=\"tag-item\"&gt;\\n            &lt;a class=\"tag\" style=\"font-size: 14px\" href=\"/tag/reading/\"&gt;reading&lt;/a&gt;\\n            &lt;/span&gt;\\n            \\n            &lt;span class=\"tag-item\"&gt;\\n            &lt;a class=\"tag\" style=\"font-size: 10px\" href=\"/tag/friendship/\"&gt;friendship&lt;/a&gt;\\n            &lt;/span&gt;\\n            \\n            &lt;span class=\"tag-item\"&gt;\\n            &lt;a class=\"tag\" style=\"font-size: 8px\" href=\"/tag/friends/\"&gt;friends&lt;/a&gt;\\n            &lt;/span&gt;\\n            \\n            &lt;span class=\"tag-item\"&gt;\\n            &lt;a class=\"tag\" style=\"font-size: 8px\" href=\"/tag/truth/\"&gt;truth&lt;/a&gt;\\n            &lt;/span&gt;\\n            \\n            &lt;span class=\"tag-item\"&gt;\\n            &lt;a class=\"tag\" style=\"font-size: 6px\" href=\"/tag/simile/\"&gt;simile&lt;/a&gt;\\n            &lt;/span&gt;\\n            \\n        \\n    &lt;/div&gt;\\n&lt;/div&gt;\\n\\n    &lt;/div&gt;\\n    &lt;footer class=\"footer\"&gt;\\n        &lt;div class=\"container\"&gt;\\n            &lt;p class=\"text-muted\"&gt;\\n                Quotes by: &lt;a href=\"https://www.goodreads.com/quotes\"&gt;GoodReads.com&lt;/a&gt;\\n            &lt;/p&gt;\\n            &lt;p class=\"copyright\"&gt;\\n                Made with &lt;span class=\\'sh-red\\'&gt;❤&lt;/span&gt; by &lt;a href=\"https://scrapinghub.com\"&gt;Scrapinghub&lt;/a&gt;\\n            &lt;/p&gt;\\n        &lt;/div&gt;\\n    &lt;/footer&gt;\\n&lt;/body&gt;\\n&lt;/html&gt;'</span>\n",
                            "</pre>\n"
                        ],
                        "text/plain": [
                            "\u001b[32m'\u001b[0m\u001b[32m<\u001b[0m\u001b[32m!DOCTYPE html\u001b[0m\u001b[32m>\u001b[0m\u001b[32m\\n\u001b[0m\u001b[32m<\u001b[0m\u001b[32mhtml\u001b[0m\u001b[32m \u001b[0m\u001b[32mlang\u001b[0m\u001b[32m=\u001b[0m\u001b[32m\"en\"\u001b[0m\u001b[32m>\u001b[0m\u001b[32m\\n\u001b[0m\u001b[32m<\u001b[0m\u001b[32mhead\u001b[0m\u001b[32m>\u001b[0m\u001b[32m\\n\\t\u001b[0m\u001b[32m<\u001b[0m\u001b[32mmeta\u001b[0m\u001b[32m \u001b[0m\u001b[32mcharset\u001b[0m\u001b[32m=\u001b[0m\u001b[32m\"UTF\u001b[0m\u001b[32m-8\"\u001b[0m\u001b[32m>\u001b[0m\u001b[32m\\n\\t\u001b[0m\u001b[32m<\u001b[0m\u001b[32mtitle\u001b[0m\u001b[32m>\u001b[0m\u001b[32mQuotes to Scrape\u001b[0m\u001b[32m<\u001b[0m\u001b[32m/title\u001b[0m\u001b[32m>\u001b[0m\u001b[32m\\n    \u001b[0m\u001b[32m<\u001b[0m\u001b[32mlink\u001b[0m\u001b[32m \u001b[0m\u001b[32mrel\u001b[0m\u001b[32m=\u001b[0m\u001b[32m\"stylesheet\"\u001b[0m\u001b[32m \u001b[0m\u001b[32mhref\u001b[0m\u001b[32m=\"/static/bootstrap.min.css\"\u001b[0m\u001b[32m>\u001b[0m\u001b[32m\\n    \u001b[0m\u001b[32m<\u001b[0m\u001b[32mlink\u001b[0m\u001b[32m \u001b[0m\u001b[32mrel\u001b[0m\u001b[32m=\u001b[0m\u001b[32m\"stylesheet\"\u001b[0m\u001b[32m \u001b[0m\u001b[32mhref\u001b[0m\u001b[32m=\"/static/main.css\"\u001b[0m\u001b[32m>\u001b[0m\u001b[32m\\n\u001b[0m\u001b[32m<\u001b[0m\u001b[32m/head\u001b[0m\u001b[32m>\u001b[0m\u001b[32m\\n\u001b[0m\u001b[32m<\u001b[0m\u001b[32mbody\u001b[0m\u001b[32m>\u001b[0m\u001b[32m\\n    \u001b[0m\u001b[32m<\u001b[0m\u001b[32mdiv\u001b[0m\u001b[32m \u001b[0m\u001b[32mclass\u001b[0m\u001b[32m=\u001b[0m\u001b[32m\"container\"\u001b[0m\u001b[32m>\u001b[0m\u001b[32m\\n        \u001b[0m\u001b[32m<\u001b[0m\u001b[32mdiv\u001b[0m\u001b[32m \u001b[0m\u001b[32mclass\u001b[0m\u001b[32m=\u001b[0m\u001b[32m\"row\u001b[0m\u001b[32m header-box\"\u001b[0m\u001b[32m>\u001b[0m\u001b[32m\\n            \u001b[0m\u001b[32m<\u001b[0m\u001b[32mdiv\u001b[0m\u001b[32m \u001b[0m\u001b[32mclass\u001b[0m\u001b[32m=\u001b[0m\u001b[32m\"col\u001b[0m\u001b[32m-md-8\"\u001b[0m\u001b[32m>\u001b[0m\u001b[32m\\n                \u001b[0m\u001b[32m<\u001b[0m\u001b[32mh1\u001b[0m\u001b[32m>\u001b[0m\u001b[32m\\n                    \u001b[0m\u001b[32m<\u001b[0m\u001b[32ma\u001b[0m\u001b[32m \u001b[0m\u001b[32mhref\u001b[0m\u001b[32m=\"/\" \u001b[0m\u001b[32mstyle\u001b[0m\u001b[32m=\u001b[0m\u001b[32m\"text\u001b[0m\u001b[32m-decoration: none\"\u001b[0m\u001b[32m>\u001b[0m\u001b[32mQuotes to Scrape\u001b[0m\u001b[32m<\u001b[0m\u001b[32m/a\u001b[0m\u001b[32m>\u001b[0m\u001b[32m\\n                \u001b[0m\u001b[32m<\u001b[0m\u001b[32m/h1\u001b[0m\u001b[32m>\u001b[0m\u001b[32m\\n            \u001b[0m\u001b[32m<\u001b[0m\u001b[32m/div\u001b[0m\u001b[32m>\u001b[0m\u001b[32m\\n            \u001b[0m\u001b[32m<\u001b[0m\u001b[32mdiv\u001b[0m\u001b[32m \u001b[0m\u001b[32mclass\u001b[0m\u001b[32m=\u001b[0m\u001b[32m\"col\u001b[0m\u001b[32m-md-4\"\u001b[0m\u001b[32m>\u001b[0m\u001b[32m\\n                \u001b[0m\u001b[32m<\u001b[0m\u001b[32mp\u001b[0m\u001b[32m>\u001b[0m\u001b[32m\\n                \\n                    \u001b[0m\u001b[32m<\u001b[0m\u001b[32ma\u001b[0m\u001b[32m \u001b[0m\u001b[32mhref\u001b[0m\u001b[32m=\"/login\"\u001b[0m\u001b[32m>\u001b[0m\u001b[32mLogin\u001b[0m\u001b[32m<\u001b[0m\u001b[32m/a\u001b[0m\u001b[32m>\u001b[0m\u001b[32m\\n                \\n                \u001b[0m\u001b[32m<\u001b[0m\u001b[32m/p\u001b[0m\u001b[32m>\u001b[0m\u001b[32m\\n            \u001b[0m\u001b[32m<\u001b[0m\u001b[32m/div\u001b[0m\u001b[32m>\u001b[0m\u001b[32m\\n        \u001b[0m\u001b[32m<\u001b[0m\u001b[32m/div\u001b[0m\u001b[32m>\u001b[0m\u001b[32m\\n    \\n\\n\u001b[0m\u001b[32m<\u001b[0m\u001b[32mdiv\u001b[0m\u001b[32m \u001b[0m\u001b[32mclass\u001b[0m\u001b[32m=\u001b[0m\u001b[32m\"row\"\u001b[0m\u001b[32m>\u001b[0m\u001b[32m\\n    \u001b[0m\u001b[32m<\u001b[0m\u001b[32mdiv\u001b[0m\u001b[32m \u001b[0m\u001b[32mclass\u001b[0m\u001b[32m=\u001b[0m\u001b[32m\"col\u001b[0m\u001b[32m-md-8\"\u001b[0m\u001b[32m>\u001b[0m\u001b[32m\\n\\n    \u001b[0m\u001b[32m<\u001b[0m\u001b[32mdiv\u001b[0m\u001b[32m \u001b[0m\u001b[32mclass\u001b[0m\u001b[32m=\u001b[0m\u001b[32m\"quote\"\u001b[0m\u001b[32m itemscope \u001b[0m\u001b[32mitemtype\u001b[0m\u001b[32m=\u001b[0m\u001b[32m\"http\u001b[0m\u001b[32m://schema.org/CreativeWork\"\u001b[0m\u001b[32m>\u001b[0m\u001b[32m\\n        \u001b[0m\u001b[32m<\u001b[0m\u001b[32mspan\u001b[0m\u001b[32m \u001b[0m\u001b[32mclass\u001b[0m\u001b[32m=\u001b[0m\u001b[32m\"text\"\u001b[0m\u001b[32m \u001b[0m\u001b[32mitemprop\u001b[0m\u001b[32m=\u001b[0m\u001b[32m\"text\"\u001b[0m\u001b[32m>\u001b[0m\u001b[32m“The world as we have created it is a process of our thinking. It cannot be changed without changing our thinking.”\u001b[0m\u001b[32m<\u001b[0m\u001b[32m/span\u001b[0m\u001b[32m>\u001b[0m\u001b[32m\\n        \u001b[0m\u001b[32m<\u001b[0m\u001b[32mspan\u001b[0m\u001b[32m>\u001b[0m\u001b[32mby \u001b[0m\u001b[32m<\u001b[0m\u001b[32msmall\u001b[0m\u001b[32m \u001b[0m\u001b[32mclass\u001b[0m\u001b[32m=\u001b[0m\u001b[32m\"author\"\u001b[0m\u001b[32m \u001b[0m\u001b[32mitemprop\u001b[0m\u001b[32m=\u001b[0m\u001b[32m\"author\"\u001b[0m\u001b[32m>\u001b[0m\u001b[32mAlbert Einstein\u001b[0m\u001b[32m<\u001b[0m\u001b[32m/small\u001b[0m\u001b[32m>\u001b[0m\u001b[32m\\n        \u001b[0m\u001b[32m<\u001b[0m\u001b[32ma\u001b[0m\u001b[32m \u001b[0m\u001b[32mhref\u001b[0m\u001b[32m=\"/author/Albert-Einstein\"\u001b[0m\u001b[32m>\u001b[0m\u001b[32m(\u001b[0m\u001b[32mabout\u001b[0m\u001b[32m)\u001b[0m\u001b[32m<\u001b[0m\u001b[32m/a\u001b[0m\u001b[32m>\u001b[0m\u001b[32m\\n        \u001b[0m\u001b[32m<\u001b[0m\u001b[32m/span\u001b[0m\u001b[32m>\u001b[0m\u001b[32m\\n        \u001b[0m\u001b[32m<\u001b[0m\u001b[32mdiv\u001b[0m\u001b[32m \u001b[0m\u001b[32mclass\u001b[0m\u001b[32m=\u001b[0m\u001b[32m\"tags\"\u001b[0m\u001b[32m>\u001b[0m\u001b[32m\\n            Tags:\\n            \u001b[0m\u001b[32m<\u001b[0m\u001b[32mmeta\u001b[0m\u001b[32m \u001b[0m\u001b[32mclass\u001b[0m\u001b[32m=\u001b[0m\u001b[32m\"keywords\"\u001b[0m\u001b[32m \u001b[0m\u001b[32mitemprop\u001b[0m\u001b[32m=\u001b[0m\u001b[32m\"keywords\"\u001b[0m\u001b[32m \u001b[0m\u001b[32mcontent\u001b[0m\u001b[32m=\u001b[0m\u001b[32m\"change\u001b[0m\u001b[32m,deep-thoughts,thinking,world\" /    \u001b[0m\u001b[32m>\u001b[0m\u001b[32m \\n            \\n            \u001b[0m\u001b[32m<\u001b[0m\u001b[32ma\u001b[0m\u001b[32m \u001b[0m\u001b[32mclass\u001b[0m\u001b[32m=\u001b[0m\u001b[32m\"tag\"\u001b[0m\u001b[32m \u001b[0m\u001b[32mhref\u001b[0m\u001b[32m=\"/tag/change/page/1/\"\u001b[0m\u001b[32m>\u001b[0m\u001b[32mchange\u001b[0m\u001b[32m<\u001b[0m\u001b[32m/a\u001b[0m\u001b[32m>\u001b[0m\u001b[32m\\n            \\n            \u001b[0m\u001b[32m<\u001b[0m\u001b[32ma\u001b[0m\u001b[32m \u001b[0m\u001b[32mclass\u001b[0m\u001b[32m=\u001b[0m\u001b[32m\"tag\"\u001b[0m\u001b[32m \u001b[0m\u001b[32mhref\u001b[0m\u001b[32m=\"/tag/deep-thoughts/page/1/\"\u001b[0m\u001b[32m>\u001b[0m\u001b[32mdeep-thoughts\u001b[0m\u001b[32m<\u001b[0m\u001b[32m/a\u001b[0m\u001b[32m>\u001b[0m\u001b[32m\\n            \\n            \u001b[0m\u001b[32m<\u001b[0m\u001b[32ma\u001b[0m\u001b[32m \u001b[0m\u001b[32mclass\u001b[0m\u001b[32m=\u001b[0m\u001b[32m\"tag\"\u001b[0m\u001b[32m \u001b[0m\u001b[32mhref\u001b[0m\u001b[32m=\"/tag/thinking/page/1/\"\u001b[0m\u001b[32m>\u001b[0m\u001b[32mthinking\u001b[0m\u001b[32m<\u001b[0m\u001b[32m/a\u001b[0m\u001b[32m>\u001b[0m\u001b[32m\\n            \\n            \u001b[0m\u001b[32m<\u001b[0m\u001b[32ma\u001b[0m\u001b[32m \u001b[0m\u001b[32mclass\u001b[0m\u001b[32m=\u001b[0m\u001b[32m\"tag\"\u001b[0m\u001b[32m \u001b[0m\u001b[32mhref\u001b[0m\u001b[32m=\"/tag/world/page/1/\"\u001b[0m\u001b[32m>\u001b[0m\u001b[32mworld\u001b[0m\u001b[32m<\u001b[0m\u001b[32m/a\u001b[0m\u001b[32m>\u001b[0m\u001b[32m\\n            \\n        \u001b[0m\u001b[32m<\u001b[0m\u001b[32m/div\u001b[0m\u001b[32m>\u001b[0m\u001b[32m\\n    \u001b[0m\u001b[32m<\u001b[0m\u001b[32m/div\u001b[0m\u001b[32m>\u001b[0m\u001b[32m\\n\\n    \u001b[0m\u001b[32m<\u001b[0m\u001b[32mdiv\u001b[0m\u001b[32m \u001b[0m\u001b[32mclass\u001b[0m\u001b[32m=\u001b[0m\u001b[32m\"quote\"\u001b[0m\u001b[32m itemscope \u001b[0m\u001b[32mitemtype\u001b[0m\u001b[32m=\u001b[0m\u001b[32m\"http\u001b[0m\u001b[32m://schema.org/CreativeWork\"\u001b[0m\u001b[32m>\u001b[0m\u001b[32m\\n        \u001b[0m\u001b[32m<\u001b[0m\u001b[32mspan\u001b[0m\u001b[32m \u001b[0m\u001b[32mclass\u001b[0m\u001b[32m=\u001b[0m\u001b[32m\"text\"\u001b[0m\u001b[32m \u001b[0m\u001b[32mitemprop\u001b[0m\u001b[32m=\u001b[0m\u001b[32m\"text\"\u001b[0m\u001b[32m>\u001b[0m\u001b[32m“It is our choices, Harry, that show what we truly are, far more than our abilities.”\u001b[0m\u001b[32m<\u001b[0m\u001b[32m/span\u001b[0m\u001b[32m>\u001b[0m\u001b[32m\\n        \u001b[0m\u001b[32m<\u001b[0m\u001b[32mspan\u001b[0m\u001b[32m>\u001b[0m\u001b[32mby \u001b[0m\u001b[32m<\u001b[0m\u001b[32msmall\u001b[0m\u001b[32m \u001b[0m\u001b[32mclass\u001b[0m\u001b[32m=\u001b[0m\u001b[32m\"author\"\u001b[0m\u001b[32m \u001b[0m\u001b[32mitemprop\u001b[0m\u001b[32m=\u001b[0m\u001b[32m\"author\"\u001b[0m\u001b[32m>\u001b[0m\u001b[32mJ.K. Rowling\u001b[0m\u001b[32m<\u001b[0m\u001b[32m/small\u001b[0m\u001b[32m>\u001b[0m\u001b[32m\\n        \u001b[0m\u001b[32m<\u001b[0m\u001b[32ma\u001b[0m\u001b[32m \u001b[0m\u001b[32mhref\u001b[0m\u001b[32m=\"/author/J-K-Rowling\"\u001b[0m\u001b[32m>\u001b[0m\u001b[32m(\u001b[0m\u001b[32mabout\u001b[0m\u001b[32m)\u001b[0m\u001b[32m<\u001b[0m\u001b[32m/a\u001b[0m\u001b[32m>\u001b[0m\u001b[32m\\n        \u001b[0m\u001b[32m<\u001b[0m\u001b[32m/span\u001b[0m\u001b[32m>\u001b[0m\u001b[32m\\n        \u001b[0m\u001b[32m<\u001b[0m\u001b[32mdiv\u001b[0m\u001b[32m \u001b[0m\u001b[32mclass\u001b[0m\u001b[32m=\u001b[0m\u001b[32m\"tags\"\u001b[0m\u001b[32m>\u001b[0m\u001b[32m\\n            Tags:\\n            \u001b[0m\u001b[32m<\u001b[0m\u001b[32mmeta\u001b[0m\u001b[32m \u001b[0m\u001b[32mclass\u001b[0m\u001b[32m=\u001b[0m\u001b[32m\"keywords\"\u001b[0m\u001b[32m \u001b[0m\u001b[32mitemprop\u001b[0m\u001b[32m=\u001b[0m\u001b[32m\"keywords\"\u001b[0m\u001b[32m \u001b[0m\u001b[32mcontent\u001b[0m\u001b[32m=\u001b[0m\u001b[32m\"abilities\u001b[0m\u001b[32m,choices\" /    \u001b[0m\u001b[32m>\u001b[0m\u001b[32m \\n            \\n            \u001b[0m\u001b[32m<\u001b[0m\u001b[32ma\u001b[0m\u001b[32m \u001b[0m\u001b[32mclass\u001b[0m\u001b[32m=\u001b[0m\u001b[32m\"tag\"\u001b[0m\u001b[32m \u001b[0m\u001b[32mhref\u001b[0m\u001b[32m=\"/tag/abilities/page/1/\"\u001b[0m\u001b[32m>\u001b[0m\u001b[32mabilities\u001b[0m\u001b[32m<\u001b[0m\u001b[32m/a\u001b[0m\u001b[32m>\u001b[0m\u001b[32m\\n            \\n            \u001b[0m\u001b[32m<\u001b[0m\u001b[32ma\u001b[0m\u001b[32m \u001b[0m\u001b[32mclass\u001b[0m\u001b[32m=\u001b[0m\u001b[32m\"tag\"\u001b[0m\u001b[32m \u001b[0m\u001b[32mhref\u001b[0m\u001b[32m=\"/tag/choices/page/1/\"\u001b[0m\u001b[32m>\u001b[0m\u001b[32mchoices\u001b[0m\u001b[32m<\u001b[0m\u001b[32m/a\u001b[0m\u001b[32m>\u001b[0m\u001b[32m\\n            \\n        \u001b[0m\u001b[32m<\u001b[0m\u001b[32m/div\u001b[0m\u001b[32m>\u001b[0m\u001b[32m\\n    \u001b[0m\u001b[32m<\u001b[0m\u001b[32m/div\u001b[0m\u001b[32m>\u001b[0m\u001b[32m\\n\\n    \u001b[0m\u001b[32m<\u001b[0m\u001b[32mdiv\u001b[0m\u001b[32m \u001b[0m\u001b[32mclass\u001b[0m\u001b[32m=\u001b[0m\u001b[32m\"quote\"\u001b[0m\u001b[32m itemscope \u001b[0m\u001b[32mitemtype\u001b[0m\u001b[32m=\u001b[0m\u001b[32m\"http\u001b[0m\u001b[32m://schema.org/CreativeWork\"\u001b[0m\u001b[32m>\u001b[0m\u001b[32m\\n        \u001b[0m\u001b[32m<\u001b[0m\u001b[32mspan\u001b[0m\u001b[32m \u001b[0m\u001b[32mclass\u001b[0m\u001b[32m=\u001b[0m\u001b[32m\"text\"\u001b[0m\u001b[32m \u001b[0m\u001b[32mitemprop\u001b[0m\u001b[32m=\u001b[0m\u001b[32m\"text\"\u001b[0m\u001b[32m>\u001b[0m\u001b[32m“There are only two ways to live your life. One is as though nothing is a miracle. The other is as though everything is a miracle.”\u001b[0m\u001b[32m<\u001b[0m\u001b[32m/span\u001b[0m\u001b[32m>\u001b[0m\u001b[32m\\n        \u001b[0m\u001b[32m<\u001b[0m\u001b[32mspan\u001b[0m\u001b[32m>\u001b[0m\u001b[32mby \u001b[0m\u001b[32m<\u001b[0m\u001b[32msmall\u001b[0m\u001b[32m \u001b[0m\u001b[32mclass\u001b[0m\u001b[32m=\u001b[0m\u001b[32m\"author\"\u001b[0m\u001b[32m \u001b[0m\u001b[32mitemprop\u001b[0m\u001b[32m=\u001b[0m\u001b[32m\"author\"\u001b[0m\u001b[32m>\u001b[0m\u001b[32mAlbert Einstein\u001b[0m\u001b[32m<\u001b[0m\u001b[32m/small\u001b[0m\u001b[32m>\u001b[0m\u001b[32m\\n        \u001b[0m\u001b[32m<\u001b[0m\u001b[32ma\u001b[0m\u001b[32m \u001b[0m\u001b[32mhref\u001b[0m\u001b[32m=\"/author/Albert-Einstein\"\u001b[0m\u001b[32m>\u001b[0m\u001b[32m(\u001b[0m\u001b[32mabout\u001b[0m\u001b[32m)\u001b[0m\u001b[32m<\u001b[0m\u001b[32m/a\u001b[0m\u001b[32m>\u001b[0m\u001b[32m\\n        \u001b[0m\u001b[32m<\u001b[0m\u001b[32m/span\u001b[0m\u001b[32m>\u001b[0m\u001b[32m\\n        \u001b[0m\u001b[32m<\u001b[0m\u001b[32mdiv\u001b[0m\u001b[32m \u001b[0m\u001b[32mclass\u001b[0m\u001b[32m=\u001b[0m\u001b[32m\"tags\"\u001b[0m\u001b[32m>\u001b[0m\u001b[32m\\n            Tags:\\n            \u001b[0m\u001b[32m<\u001b[0m\u001b[32mmeta\u001b[0m\u001b[32m \u001b[0m\u001b[32mclass\u001b[0m\u001b[32m=\u001b[0m\u001b[32m\"keywords\"\u001b[0m\u001b[32m \u001b[0m\u001b[32mitemprop\u001b[0m\u001b[32m=\u001b[0m\u001b[32m\"keywords\"\u001b[0m\u001b[32m \u001b[0m\u001b[32mcontent\u001b[0m\u001b[32m=\u001b[0m\u001b[32m\"inspirational\u001b[0m\u001b[32m,life,live,miracle,miracles\" /    \u001b[0m\u001b[32m>\u001b[0m\u001b[32m \\n            \\n            \u001b[0m\u001b[32m<\u001b[0m\u001b[32ma\u001b[0m\u001b[32m \u001b[0m\u001b[32mclass\u001b[0m\u001b[32m=\u001b[0m\u001b[32m\"tag\"\u001b[0m\u001b[32m \u001b[0m\u001b[32mhref\u001b[0m\u001b[32m=\"/tag/inspirational/page/1/\"\u001b[0m\u001b[32m>\u001b[0m\u001b[32minspirational\u001b[0m\u001b[32m<\u001b[0m\u001b[32m/a\u001b[0m\u001b[32m>\u001b[0m\u001b[32m\\n            \\n            \u001b[0m\u001b[32m<\u001b[0m\u001b[32ma\u001b[0m\u001b[32m \u001b[0m\u001b[32mclass\u001b[0m\u001b[32m=\u001b[0m\u001b[32m\"tag\"\u001b[0m\u001b[32m \u001b[0m\u001b[32mhref\u001b[0m\u001b[32m=\"/tag/life/page/1/\"\u001b[0m\u001b[32m>\u001b[0m\u001b[32mlife\u001b[0m\u001b[32m<\u001b[0m\u001b[32m/a\u001b[0m\u001b[32m>\u001b[0m\u001b[32m\\n            \\n            \u001b[0m\u001b[32m<\u001b[0m\u001b[32ma\u001b[0m\u001b[32m \u001b[0m\u001b[32mclass\u001b[0m\u001b[32m=\u001b[0m\u001b[32m\"tag\"\u001b[0m\u001b[32m \u001b[0m\u001b[32mhref\u001b[0m\u001b[32m=\"/tag/live/page/1/\"\u001b[0m\u001b[32m>\u001b[0m\u001b[32mlive\u001b[0m\u001b[32m<\u001b[0m\u001b[32m/a\u001b[0m\u001b[32m>\u001b[0m\u001b[32m\\n            \\n            \u001b[0m\u001b[32m<\u001b[0m\u001b[32ma\u001b[0m\u001b[32m \u001b[0m\u001b[32mclass\u001b[0m\u001b[32m=\u001b[0m\u001b[32m\"tag\"\u001b[0m\u001b[32m \u001b[0m\u001b[32mhref\u001b[0m\u001b[32m=\"/tag/miracle/page/1/\"\u001b[0m\u001b[32m>\u001b[0m\u001b[32mmiracle\u001b[0m\u001b[32m<\u001b[0m\u001b[32m/a\u001b[0m\u001b[32m>\u001b[0m\u001b[32m\\n            \\n            \u001b[0m\u001b[32m<\u001b[0m\u001b[32ma\u001b[0m\u001b[32m \u001b[0m\u001b[32mclass\u001b[0m\u001b[32m=\u001b[0m\u001b[32m\"tag\"\u001b[0m\u001b[32m \u001b[0m\u001b[32mhref\u001b[0m\u001b[32m=\"/tag/miracles/page/1/\"\u001b[0m\u001b[32m>\u001b[0m\u001b[32mmiracles\u001b[0m\u001b[32m<\u001b[0m\u001b[32m/a\u001b[0m\u001b[32m>\u001b[0m\u001b[32m\\n            \\n        \u001b[0m\u001b[32m<\u001b[0m\u001b[32m/div\u001b[0m\u001b[32m>\u001b[0m\u001b[32m\\n    \u001b[0m\u001b[32m<\u001b[0m\u001b[32m/div\u001b[0m\u001b[32m>\u001b[0m\u001b[32m\\n\\n    \u001b[0m\u001b[32m<\u001b[0m\u001b[32mdiv\u001b[0m\u001b[32m \u001b[0m\u001b[32mclass\u001b[0m\u001b[32m=\u001b[0m\u001b[32m\"quote\"\u001b[0m\u001b[32m itemscope \u001b[0m\u001b[32mitemtype\u001b[0m\u001b[32m=\u001b[0m\u001b[32m\"http\u001b[0m\u001b[32m://schema.org/CreativeWork\"\u001b[0m\u001b[32m>\u001b[0m\u001b[32m\\n        \u001b[0m\u001b[32m<\u001b[0m\u001b[32mspan\u001b[0m\u001b[32m \u001b[0m\u001b[32mclass\u001b[0m\u001b[32m=\u001b[0m\u001b[32m\"text\"\u001b[0m\u001b[32m \u001b[0m\u001b[32mitemprop\u001b[0m\u001b[32m=\u001b[0m\u001b[32m\"text\"\u001b[0m\u001b[32m>\u001b[0m\u001b[32m“The person, be it gentleman or lady, who has not pleasure in a good novel, must be intolerably stupid.”\u001b[0m\u001b[32m<\u001b[0m\u001b[32m/span\u001b[0m\u001b[32m>\u001b[0m\u001b[32m\\n        \u001b[0m\u001b[32m<\u001b[0m\u001b[32mspan\u001b[0m\u001b[32m>\u001b[0m\u001b[32mby \u001b[0m\u001b[32m<\u001b[0m\u001b[32msmall\u001b[0m\u001b[32m \u001b[0m\u001b[32mclass\u001b[0m\u001b[32m=\u001b[0m\u001b[32m\"author\"\u001b[0m\u001b[32m \u001b[0m\u001b[32mitemprop\u001b[0m\u001b[32m=\u001b[0m\u001b[32m\"author\"\u001b[0m\u001b[32m>\u001b[0m\u001b[32mJane Austen\u001b[0m\u001b[32m<\u001b[0m\u001b[32m/small\u001b[0m\u001b[32m>\u001b[0m\u001b[32m\\n        \u001b[0m\u001b[32m<\u001b[0m\u001b[32ma\u001b[0m\u001b[32m \u001b[0m\u001b[32mhref\u001b[0m\u001b[32m=\"/author/Jane-Austen\"\u001b[0m\u001b[32m>\u001b[0m\u001b[32m(\u001b[0m\u001b[32mabout\u001b[0m\u001b[32m)\u001b[0m\u001b[32m<\u001b[0m\u001b[32m/a\u001b[0m\u001b[32m>\u001b[0m\u001b[32m\\n        \u001b[0m\u001b[32m<\u001b[0m\u001b[32m/span\u001b[0m\u001b[32m>\u001b[0m\u001b[32m\\n        \u001b[0m\u001b[32m<\u001b[0m\u001b[32mdiv\u001b[0m\u001b[32m \u001b[0m\u001b[32mclass\u001b[0m\u001b[32m=\u001b[0m\u001b[32m\"tags\"\u001b[0m\u001b[32m>\u001b[0m\u001b[32m\\n            Tags:\\n            \u001b[0m\u001b[32m<\u001b[0m\u001b[32mmeta\u001b[0m\u001b[32m \u001b[0m\u001b[32mclass\u001b[0m\u001b[32m=\u001b[0m\u001b[32m\"keywords\"\u001b[0m\u001b[32m \u001b[0m\u001b[32mitemprop\u001b[0m\u001b[32m=\u001b[0m\u001b[32m\"keywords\"\u001b[0m\u001b[32m \u001b[0m\u001b[32mcontent\u001b[0m\u001b[32m=\u001b[0m\u001b[32m\"aliteracy\u001b[0m\u001b[32m,books,classic,humor\" /    \u001b[0m\u001b[32m>\u001b[0m\u001b[32m \\n            \\n            \u001b[0m\u001b[32m<\u001b[0m\u001b[32ma\u001b[0m\u001b[32m \u001b[0m\u001b[32mclass\u001b[0m\u001b[32m=\u001b[0m\u001b[32m\"tag\"\u001b[0m\u001b[32m \u001b[0m\u001b[32mhref\u001b[0m\u001b[32m=\"/tag/aliteracy/page/1/\"\u001b[0m\u001b[32m>\u001b[0m\u001b[32maliteracy\u001b[0m\u001b[32m<\u001b[0m\u001b[32m/a\u001b[0m\u001b[32m>\u001b[0m\u001b[32m\\n            \\n            \u001b[0m\u001b[32m<\u001b[0m\u001b[32ma\u001b[0m\u001b[32m \u001b[0m\u001b[32mclass\u001b[0m\u001b[32m=\u001b[0m\u001b[32m\"tag\"\u001b[0m\u001b[32m \u001b[0m\u001b[32mhref\u001b[0m\u001b[32m=\"/tag/books/page/1/\"\u001b[0m\u001b[32m>\u001b[0m\u001b[32mbooks\u001b[0m\u001b[32m<\u001b[0m\u001b[32m/a\u001b[0m\u001b[32m>\u001b[0m\u001b[32m\\n            \\n            \u001b[0m\u001b[32m<\u001b[0m\u001b[32ma\u001b[0m\u001b[32m \u001b[0m\u001b[32mclass\u001b[0m\u001b[32m=\u001b[0m\u001b[32m\"tag\"\u001b[0m\u001b[32m \u001b[0m\u001b[32mhref\u001b[0m\u001b[32m=\"/tag/classic/page/1/\"\u001b[0m\u001b[32m>\u001b[0m\u001b[32mclassic\u001b[0m\u001b[32m<\u001b[0m\u001b[32m/a\u001b[0m\u001b[32m>\u001b[0m\u001b[32m\\n            \\n            \u001b[0m\u001b[32m<\u001b[0m\u001b[32ma\u001b[0m\u001b[32m \u001b[0m\u001b[32mclass\u001b[0m\u001b[32m=\u001b[0m\u001b[32m\"tag\"\u001b[0m\u001b[32m \u001b[0m\u001b[32mhref\u001b[0m\u001b[32m=\"/tag/humor/page/1/\"\u001b[0m\u001b[32m>\u001b[0m\u001b[32mhumor\u001b[0m\u001b[32m<\u001b[0m\u001b[32m/a\u001b[0m\u001b[32m>\u001b[0m\u001b[32m\\n            \\n        \u001b[0m\u001b[32m<\u001b[0m\u001b[32m/div\u001b[0m\u001b[32m>\u001b[0m\u001b[32m\\n    \u001b[0m\u001b[32m<\u001b[0m\u001b[32m/div\u001b[0m\u001b[32m>\u001b[0m\u001b[32m\\n\\n    \u001b[0m\u001b[32m<\u001b[0m\u001b[32mdiv\u001b[0m\u001b[32m \u001b[0m\u001b[32mclass\u001b[0m\u001b[32m=\u001b[0m\u001b[32m\"quote\"\u001b[0m\u001b[32m itemscope \u001b[0m\u001b[32mitemtype\u001b[0m\u001b[32m=\u001b[0m\u001b[32m\"http\u001b[0m\u001b[32m://schema.org/CreativeWork\"\u001b[0m\u001b[32m>\u001b[0m\u001b[32m\\n        \u001b[0m\u001b[32m<\u001b[0m\u001b[32mspan\u001b[0m\u001b[32m \u001b[0m\u001b[32mclass\u001b[0m\u001b[32m=\u001b[0m\u001b[32m\"text\"\u001b[0m\u001b[32m \u001b[0m\u001b[32mitemprop\u001b[0m\u001b[32m=\u001b[0m\u001b[32m\"text\"\u001b[0m\u001b[32m>\u001b[0m\u001b[32m“Imperfection is beauty, madness is genius and it&#39;s better to be absolutely ridiculous than absolutely boring.”\u001b[0m\u001b[32m<\u001b[0m\u001b[32m/span\u001b[0m\u001b[32m>\u001b[0m\u001b[32m\\n        \u001b[0m\u001b[32m<\u001b[0m\u001b[32mspan\u001b[0m\u001b[32m>\u001b[0m\u001b[32mby \u001b[0m\u001b[32m<\u001b[0m\u001b[32msmall\u001b[0m\u001b[32m \u001b[0m\u001b[32mclass\u001b[0m\u001b[32m=\u001b[0m\u001b[32m\"author\"\u001b[0m\u001b[32m \u001b[0m\u001b[32mitemprop\u001b[0m\u001b[32m=\u001b[0m\u001b[32m\"author\"\u001b[0m\u001b[32m>\u001b[0m\u001b[32mMarilyn Monroe\u001b[0m\u001b[32m<\u001b[0m\u001b[32m/small\u001b[0m\u001b[32m>\u001b[0m\u001b[32m\\n        \u001b[0m\u001b[32m<\u001b[0m\u001b[32ma\u001b[0m\u001b[32m \u001b[0m\u001b[32mhref\u001b[0m\u001b[32m=\"/author/Marilyn-Monroe\"\u001b[0m\u001b[32m>\u001b[0m\u001b[32m(\u001b[0m\u001b[32mabout\u001b[0m\u001b[32m)\u001b[0m\u001b[32m<\u001b[0m\u001b[32m/a\u001b[0m\u001b[32m>\u001b[0m\u001b[32m\\n        \u001b[0m\u001b[32m<\u001b[0m\u001b[32m/span\u001b[0m\u001b[32m>\u001b[0m\u001b[32m\\n        \u001b[0m\u001b[32m<\u001b[0m\u001b[32mdiv\u001b[0m\u001b[32m \u001b[0m\u001b[32mclass\u001b[0m\u001b[32m=\u001b[0m\u001b[32m\"tags\"\u001b[0m\u001b[32m>\u001b[0m\u001b[32m\\n            Tags:\\n            \u001b[0m\u001b[32m<\u001b[0m\u001b[32mmeta\u001b[0m\u001b[32m \u001b[0m\u001b[32mclass\u001b[0m\u001b[32m=\u001b[0m\u001b[32m\"keywords\"\u001b[0m\u001b[32m \u001b[0m\u001b[32mitemprop\u001b[0m\u001b[32m=\u001b[0m\u001b[32m\"keywords\"\u001b[0m\u001b[32m \u001b[0m\u001b[32mcontent\u001b[0m\u001b[32m=\u001b[0m\u001b[32m\"be\u001b[0m\u001b[32m-yourself,inspirational\" /    \u001b[0m\u001b[32m>\u001b[0m\u001b[32m \\n            \\n            \u001b[0m\u001b[32m<\u001b[0m\u001b[32ma\u001b[0m\u001b[32m \u001b[0m\u001b[32mclass\u001b[0m\u001b[32m=\u001b[0m\u001b[32m\"tag\"\u001b[0m\u001b[32m \u001b[0m\u001b[32mhref\u001b[0m\u001b[32m=\"/tag/be-yourself/page/1/\"\u001b[0m\u001b[32m>\u001b[0m\u001b[32mbe-yourself\u001b[0m\u001b[32m<\u001b[0m\u001b[32m/a\u001b[0m\u001b[32m>\u001b[0m\u001b[32m\\n            \\n            \u001b[0m\u001b[32m<\u001b[0m\u001b[32ma\u001b[0m\u001b[32m \u001b[0m\u001b[32mclass\u001b[0m\u001b[32m=\u001b[0m\u001b[32m\"tag\"\u001b[0m\u001b[32m \u001b[0m\u001b[32mhref\u001b[0m\u001b[32m=\"/tag/inspirational/page/1/\"\u001b[0m\u001b[32m>\u001b[0m\u001b[32minspirational\u001b[0m\u001b[32m<\u001b[0m\u001b[32m/a\u001b[0m\u001b[32m>\u001b[0m\u001b[32m\\n            \\n        \u001b[0m\u001b[32m<\u001b[0m\u001b[32m/div\u001b[0m\u001b[32m>\u001b[0m\u001b[32m\\n    \u001b[0m\u001b[32m<\u001b[0m\u001b[32m/div\u001b[0m\u001b[32m>\u001b[0m\u001b[32m\\n\\n    \u001b[0m\u001b[32m<\u001b[0m\u001b[32mdiv\u001b[0m\u001b[32m \u001b[0m\u001b[32mclass\u001b[0m\u001b[32m=\u001b[0m\u001b[32m\"quote\"\u001b[0m\u001b[32m itemscope \u001b[0m\u001b[32mitemtype\u001b[0m\u001b[32m=\u001b[0m\u001b[32m\"http\u001b[0m\u001b[32m://schema.org/CreativeWork\"\u001b[0m\u001b[32m>\u001b[0m\u001b[32m\\n        \u001b[0m\u001b[32m<\u001b[0m\u001b[32mspan\u001b[0m\u001b[32m \u001b[0m\u001b[32mclass\u001b[0m\u001b[32m=\u001b[0m\u001b[32m\"text\"\u001b[0m\u001b[32m \u001b[0m\u001b[32mitemprop\u001b[0m\u001b[32m=\u001b[0m\u001b[32m\"text\"\u001b[0m\u001b[32m>\u001b[0m\u001b[32m“Try not to become a man of success. Rather become a man of value.”\u001b[0m\u001b[32m<\u001b[0m\u001b[32m/span\u001b[0m\u001b[32m>\u001b[0m\u001b[32m\\n        \u001b[0m\u001b[32m<\u001b[0m\u001b[32mspan\u001b[0m\u001b[32m>\u001b[0m\u001b[32mby \u001b[0m\u001b[32m<\u001b[0m\u001b[32msmall\u001b[0m\u001b[32m \u001b[0m\u001b[32mclass\u001b[0m\u001b[32m=\u001b[0m\u001b[32m\"author\"\u001b[0m\u001b[32m \u001b[0m\u001b[32mitemprop\u001b[0m\u001b[32m=\u001b[0m\u001b[32m\"author\"\u001b[0m\u001b[32m>\u001b[0m\u001b[32mAlbert Einstein\u001b[0m\u001b[32m<\u001b[0m\u001b[32m/small\u001b[0m\u001b[32m>\u001b[0m\u001b[32m\\n        \u001b[0m\u001b[32m<\u001b[0m\u001b[32ma\u001b[0m\u001b[32m \u001b[0m\u001b[32mhref\u001b[0m\u001b[32m=\"/author/Albert-Einstein\"\u001b[0m\u001b[32m>\u001b[0m\u001b[32m(\u001b[0m\u001b[32mabout\u001b[0m\u001b[32m)\u001b[0m\u001b[32m<\u001b[0m\u001b[32m/a\u001b[0m\u001b[32m>\u001b[0m\u001b[32m\\n        \u001b[0m\u001b[32m<\u001b[0m\u001b[32m/span\u001b[0m\u001b[32m>\u001b[0m\u001b[32m\\n        \u001b[0m\u001b[32m<\u001b[0m\u001b[32mdiv\u001b[0m\u001b[32m \u001b[0m\u001b[32mclass\u001b[0m\u001b[32m=\u001b[0m\u001b[32m\"tags\"\u001b[0m\u001b[32m>\u001b[0m\u001b[32m\\n            Tags:\\n            \u001b[0m\u001b[32m<\u001b[0m\u001b[32mmeta\u001b[0m\u001b[32m \u001b[0m\u001b[32mclass\u001b[0m\u001b[32m=\u001b[0m\u001b[32m\"keywords\"\u001b[0m\u001b[32m \u001b[0m\u001b[32mitemprop\u001b[0m\u001b[32m=\u001b[0m\u001b[32m\"keywords\"\u001b[0m\u001b[32m \u001b[0m\u001b[32mcontent\u001b[0m\u001b[32m=\u001b[0m\u001b[32m\"adulthood\u001b[0m\u001b[32m,success,value\" /    \u001b[0m\u001b[32m>\u001b[0m\u001b[32m \\n            \\n            \u001b[0m\u001b[32m<\u001b[0m\u001b[32ma\u001b[0m\u001b[32m \u001b[0m\u001b[32mclass\u001b[0m\u001b[32m=\u001b[0m\u001b[32m\"tag\"\u001b[0m\u001b[32m \u001b[0m\u001b[32mhref\u001b[0m\u001b[32m=\"/tag/adulthood/page/1/\"\u001b[0m\u001b[32m>\u001b[0m\u001b[32madulthood\u001b[0m\u001b[32m<\u001b[0m\u001b[32m/a\u001b[0m\u001b[32m>\u001b[0m\u001b[32m\\n            \\n            \u001b[0m\u001b[32m<\u001b[0m\u001b[32ma\u001b[0m\u001b[32m \u001b[0m\u001b[32mclass\u001b[0m\u001b[32m=\u001b[0m\u001b[32m\"tag\"\u001b[0m\u001b[32m \u001b[0m\u001b[32mhref\u001b[0m\u001b[32m=\"/tag/success/page/1/\"\u001b[0m\u001b[32m>\u001b[0m\u001b[32msuccess\u001b[0m\u001b[32m<\u001b[0m\u001b[32m/a\u001b[0m\u001b[32m>\u001b[0m\u001b[32m\\n            \\n            \u001b[0m\u001b[32m<\u001b[0m\u001b[32ma\u001b[0m\u001b[32m \u001b[0m\u001b[32mclass\u001b[0m\u001b[32m=\u001b[0m\u001b[32m\"tag\"\u001b[0m\u001b[32m \u001b[0m\u001b[32mhref\u001b[0m\u001b[32m=\"/tag/value/page/1/\"\u001b[0m\u001b[32m>\u001b[0m\u001b[32mvalue\u001b[0m\u001b[32m<\u001b[0m\u001b[32m/a\u001b[0m\u001b[32m>\u001b[0m\u001b[32m\\n            \\n        \u001b[0m\u001b[32m<\u001b[0m\u001b[32m/div\u001b[0m\u001b[32m>\u001b[0m\u001b[32m\\n    \u001b[0m\u001b[32m<\u001b[0m\u001b[32m/div\u001b[0m\u001b[32m>\u001b[0m\u001b[32m\\n\\n    \u001b[0m\u001b[32m<\u001b[0m\u001b[32mdiv\u001b[0m\u001b[32m \u001b[0m\u001b[32mclass\u001b[0m\u001b[32m=\u001b[0m\u001b[32m\"quote\"\u001b[0m\u001b[32m itemscope \u001b[0m\u001b[32mitemtype\u001b[0m\u001b[32m=\u001b[0m\u001b[32m\"http\u001b[0m\u001b[32m://schema.org/CreativeWork\"\u001b[0m\u001b[32m>\u001b[0m\u001b[32m\\n        \u001b[0m\u001b[32m<\u001b[0m\u001b[32mspan\u001b[0m\u001b[32m \u001b[0m\u001b[32mclass\u001b[0m\u001b[32m=\u001b[0m\u001b[32m\"text\"\u001b[0m\u001b[32m \u001b[0m\u001b[32mitemprop\u001b[0m\u001b[32m=\u001b[0m\u001b[32m\"text\"\u001b[0m\u001b[32m>\u001b[0m\u001b[32m“It is better to be hated for what you are than to be loved for what you are not.”\u001b[0m\u001b[32m<\u001b[0m\u001b[32m/span\u001b[0m\u001b[32m>\u001b[0m\u001b[32m\\n        \u001b[0m\u001b[32m<\u001b[0m\u001b[32mspan\u001b[0m\u001b[32m>\u001b[0m\u001b[32mby \u001b[0m\u001b[32m<\u001b[0m\u001b[32msmall\u001b[0m\u001b[32m \u001b[0m\u001b[32mclass\u001b[0m\u001b[32m=\u001b[0m\u001b[32m\"author\"\u001b[0m\u001b[32m \u001b[0m\u001b[32mitemprop\u001b[0m\u001b[32m=\u001b[0m\u001b[32m\"author\"\u001b[0m\u001b[32m>\u001b[0m\u001b[32mAndré Gide\u001b[0m\u001b[32m<\u001b[0m\u001b[32m/small\u001b[0m\u001b[32m>\u001b[0m\u001b[32m\\n        \u001b[0m\u001b[32m<\u001b[0m\u001b[32ma\u001b[0m\u001b[32m \u001b[0m\u001b[32mhref\u001b[0m\u001b[32m=\"/author/Andre-Gide\"\u001b[0m\u001b[32m>\u001b[0m\u001b[32m(\u001b[0m\u001b[32mabout\u001b[0m\u001b[32m)\u001b[0m\u001b[32m<\u001b[0m\u001b[32m/a\u001b[0m\u001b[32m>\u001b[0m\u001b[32m\\n        \u001b[0m\u001b[32m<\u001b[0m\u001b[32m/span\u001b[0m\u001b[32m>\u001b[0m\u001b[32m\\n        \u001b[0m\u001b[32m<\u001b[0m\u001b[32mdiv\u001b[0m\u001b[32m \u001b[0m\u001b[32mclass\u001b[0m\u001b[32m=\u001b[0m\u001b[32m\"tags\"\u001b[0m\u001b[32m>\u001b[0m\u001b[32m\\n            Tags:\\n            \u001b[0m\u001b[32m<\u001b[0m\u001b[32mmeta\u001b[0m\u001b[32m \u001b[0m\u001b[32mclass\u001b[0m\u001b[32m=\u001b[0m\u001b[32m\"keywords\"\u001b[0m\u001b[32m \u001b[0m\u001b[32mitemprop\u001b[0m\u001b[32m=\u001b[0m\u001b[32m\"keywords\"\u001b[0m\u001b[32m \u001b[0m\u001b[32mcontent\u001b[0m\u001b[32m=\u001b[0m\u001b[32m\"life\u001b[0m\u001b[32m,love\" /    \u001b[0m\u001b[32m>\u001b[0m\u001b[32m \\n            \\n            \u001b[0m\u001b[32m<\u001b[0m\u001b[32ma\u001b[0m\u001b[32m \u001b[0m\u001b[32mclass\u001b[0m\u001b[32m=\u001b[0m\u001b[32m\"tag\"\u001b[0m\u001b[32m \u001b[0m\u001b[32mhref\u001b[0m\u001b[32m=\"/tag/life/page/1/\"\u001b[0m\u001b[32m>\u001b[0m\u001b[32mlife\u001b[0m\u001b[32m<\u001b[0m\u001b[32m/a\u001b[0m\u001b[32m>\u001b[0m\u001b[32m\\n            \\n            \u001b[0m\u001b[32m<\u001b[0m\u001b[32ma\u001b[0m\u001b[32m \u001b[0m\u001b[32mclass\u001b[0m\u001b[32m=\u001b[0m\u001b[32m\"tag\"\u001b[0m\u001b[32m \u001b[0m\u001b[32mhref\u001b[0m\u001b[32m=\"/tag/love/page/1/\"\u001b[0m\u001b[32m>\u001b[0m\u001b[32mlove\u001b[0m\u001b[32m<\u001b[0m\u001b[32m/a\u001b[0m\u001b[32m>\u001b[0m\u001b[32m\\n            \\n        \u001b[0m\u001b[32m<\u001b[0m\u001b[32m/div\u001b[0m\u001b[32m>\u001b[0m\u001b[32m\\n    \u001b[0m\u001b[32m<\u001b[0m\u001b[32m/div\u001b[0m\u001b[32m>\u001b[0m\u001b[32m\\n\\n    \u001b[0m\u001b[32m<\u001b[0m\u001b[32mdiv\u001b[0m\u001b[32m \u001b[0m\u001b[32mclass\u001b[0m\u001b[32m=\u001b[0m\u001b[32m\"quote\"\u001b[0m\u001b[32m itemscope \u001b[0m\u001b[32mitemtype\u001b[0m\u001b[32m=\u001b[0m\u001b[32m\"http\u001b[0m\u001b[32m://schema.org/CreativeWork\"\u001b[0m\u001b[32m>\u001b[0m\u001b[32m\\n        \u001b[0m\u001b[32m<\u001b[0m\u001b[32mspan\u001b[0m\u001b[32m \u001b[0m\u001b[32mclass\u001b[0m\u001b[32m=\u001b[0m\u001b[32m\"text\"\u001b[0m\u001b[32m \u001b[0m\u001b[32mitemprop\u001b[0m\u001b[32m=\u001b[0m\u001b[32m\"text\"\u001b[0m\u001b[32m>\u001b[0m\u001b[32m“I have not failed. I&#39;ve just found 10,000 ways that won&#39;t work.”\u001b[0m\u001b[32m<\u001b[0m\u001b[32m/span\u001b[0m\u001b[32m>\u001b[0m\u001b[32m\\n        \u001b[0m\u001b[32m<\u001b[0m\u001b[32mspan\u001b[0m\u001b[32m>\u001b[0m\u001b[32mby \u001b[0m\u001b[32m<\u001b[0m\u001b[32msmall\u001b[0m\u001b[32m \u001b[0m\u001b[32mclass\u001b[0m\u001b[32m=\u001b[0m\u001b[32m\"author\"\u001b[0m\u001b[32m \u001b[0m\u001b[32mitemprop\u001b[0m\u001b[32m=\u001b[0m\u001b[32m\"author\"\u001b[0m\u001b[32m>\u001b[0m\u001b[32mThomas A. Edison\u001b[0m\u001b[32m<\u001b[0m\u001b[32m/small\u001b[0m\u001b[32m>\u001b[0m\u001b[32m\\n        \u001b[0m\u001b[32m<\u001b[0m\u001b[32ma\u001b[0m\u001b[32m \u001b[0m\u001b[32mhref\u001b[0m\u001b[32m=\"/author/Thomas-A-Edison\"\u001b[0m\u001b[32m>\u001b[0m\u001b[32m(\u001b[0m\u001b[32mabout\u001b[0m\u001b[32m)\u001b[0m\u001b[32m<\u001b[0m\u001b[32m/a\u001b[0m\u001b[32m>\u001b[0m\u001b[32m\\n        \u001b[0m\u001b[32m<\u001b[0m\u001b[32m/span\u001b[0m\u001b[32m>\u001b[0m\u001b[32m\\n        \u001b[0m\u001b[32m<\u001b[0m\u001b[32mdiv\u001b[0m\u001b[32m \u001b[0m\u001b[32mclass\u001b[0m\u001b[32m=\u001b[0m\u001b[32m\"tags\"\u001b[0m\u001b[32m>\u001b[0m\u001b[32m\\n            Tags:\\n            \u001b[0m\u001b[32m<\u001b[0m\u001b[32mmeta\u001b[0m\u001b[32m \u001b[0m\u001b[32mclass\u001b[0m\u001b[32m=\u001b[0m\u001b[32m\"keywords\"\u001b[0m\u001b[32m \u001b[0m\u001b[32mitemprop\u001b[0m\u001b[32m=\u001b[0m\u001b[32m\"keywords\"\u001b[0m\u001b[32m \u001b[0m\u001b[32mcontent\u001b[0m\u001b[32m=\u001b[0m\u001b[32m\"edison\u001b[0m\u001b[32m,failure,inspirational,paraphrased\" /    \u001b[0m\u001b[32m>\u001b[0m\u001b[32m \\n            \\n            \u001b[0m\u001b[32m<\u001b[0m\u001b[32ma\u001b[0m\u001b[32m \u001b[0m\u001b[32mclass\u001b[0m\u001b[32m=\u001b[0m\u001b[32m\"tag\"\u001b[0m\u001b[32m \u001b[0m\u001b[32mhref\u001b[0m\u001b[32m=\"/tag/edison/page/1/\"\u001b[0m\u001b[32m>\u001b[0m\u001b[32medison\u001b[0m\u001b[32m<\u001b[0m\u001b[32m/a\u001b[0m\u001b[32m>\u001b[0m\u001b[32m\\n            \\n            \u001b[0m\u001b[32m<\u001b[0m\u001b[32ma\u001b[0m\u001b[32m \u001b[0m\u001b[32mclass\u001b[0m\u001b[32m=\u001b[0m\u001b[32m\"tag\"\u001b[0m\u001b[32m \u001b[0m\u001b[32mhref\u001b[0m\u001b[32m=\"/tag/failure/page/1/\"\u001b[0m\u001b[32m>\u001b[0m\u001b[32mfailure\u001b[0m\u001b[32m<\u001b[0m\u001b[32m/a\u001b[0m\u001b[32m>\u001b[0m\u001b[32m\\n            \\n            \u001b[0m\u001b[32m<\u001b[0m\u001b[32ma\u001b[0m\u001b[32m \u001b[0m\u001b[32mclass\u001b[0m\u001b[32m=\u001b[0m\u001b[32m\"tag\"\u001b[0m\u001b[32m \u001b[0m\u001b[32mhref\u001b[0m\u001b[32m=\"/tag/inspirational/page/1/\"\u001b[0m\u001b[32m>\u001b[0m\u001b[32minspirational\u001b[0m\u001b[32m<\u001b[0m\u001b[32m/a\u001b[0m\u001b[32m>\u001b[0m\u001b[32m\\n            \\n            \u001b[0m\u001b[32m<\u001b[0m\u001b[32ma\u001b[0m\u001b[32m \u001b[0m\u001b[32mclass\u001b[0m\u001b[32m=\u001b[0m\u001b[32m\"tag\"\u001b[0m\u001b[32m \u001b[0m\u001b[32mhref\u001b[0m\u001b[32m=\"/tag/paraphrased/page/1/\"\u001b[0m\u001b[32m>\u001b[0m\u001b[32mparaphrased\u001b[0m\u001b[32m<\u001b[0m\u001b[32m/a\u001b[0m\u001b[32m>\u001b[0m\u001b[32m\\n            \\n        \u001b[0m\u001b[32m<\u001b[0m\u001b[32m/div\u001b[0m\u001b[32m>\u001b[0m\u001b[32m\\n    \u001b[0m\u001b[32m<\u001b[0m\u001b[32m/div\u001b[0m\u001b[32m>\u001b[0m\u001b[32m\\n\\n    \u001b[0m\u001b[32m<\u001b[0m\u001b[32mdiv\u001b[0m\u001b[32m \u001b[0m\u001b[32mclass\u001b[0m\u001b[32m=\u001b[0m\u001b[32m\"quote\"\u001b[0m\u001b[32m itemscope \u001b[0m\u001b[32mitemtype\u001b[0m\u001b[32m=\u001b[0m\u001b[32m\"http\u001b[0m\u001b[32m://schema.org/CreativeWork\"\u001b[0m\u001b[32m>\u001b[0m\u001b[32m\\n        \u001b[0m\u001b[32m<\u001b[0m\u001b[32mspan\u001b[0m\u001b[32m \u001b[0m\u001b[32mclass\u001b[0m\u001b[32m=\u001b[0m\u001b[32m\"text\"\u001b[0m\u001b[32m \u001b[0m\u001b[32mitemprop\u001b[0m\u001b[32m=\u001b[0m\u001b[32m\"text\"\u001b[0m\u001b[32m>\u001b[0m\u001b[32m“A woman is like a tea bag; you never know how strong it is until it&#39;s in hot water.”\u001b[0m\u001b[32m<\u001b[0m\u001b[32m/span\u001b[0m\u001b[32m>\u001b[0m\u001b[32m\\n        \u001b[0m\u001b[32m<\u001b[0m\u001b[32mspan\u001b[0m\u001b[32m>\u001b[0m\u001b[32mby \u001b[0m\u001b[32m<\u001b[0m\u001b[32msmall\u001b[0m\u001b[32m \u001b[0m\u001b[32mclass\u001b[0m\u001b[32m=\u001b[0m\u001b[32m\"author\"\u001b[0m\u001b[32m \u001b[0m\u001b[32mitemprop\u001b[0m\u001b[32m=\u001b[0m\u001b[32m\"author\"\u001b[0m\u001b[32m>\u001b[0m\u001b[32mEleanor Roosevelt\u001b[0m\u001b[32m<\u001b[0m\u001b[32m/small\u001b[0m\u001b[32m>\u001b[0m\u001b[32m\\n        \u001b[0m\u001b[32m<\u001b[0m\u001b[32ma\u001b[0m\u001b[32m \u001b[0m\u001b[32mhref\u001b[0m\u001b[32m=\"/author/Eleanor-Roosevelt\"\u001b[0m\u001b[32m>\u001b[0m\u001b[32m(\u001b[0m\u001b[32mabout\u001b[0m\u001b[32m)\u001b[0m\u001b[32m<\u001b[0m\u001b[32m/a\u001b[0m\u001b[32m>\u001b[0m\u001b[32m\\n        \u001b[0m\u001b[32m<\u001b[0m\u001b[32m/span\u001b[0m\u001b[32m>\u001b[0m\u001b[32m\\n        \u001b[0m\u001b[32m<\u001b[0m\u001b[32mdiv\u001b[0m\u001b[32m \u001b[0m\u001b[32mclass\u001b[0m\u001b[32m=\u001b[0m\u001b[32m\"tags\"\u001b[0m\u001b[32m>\u001b[0m\u001b[32m\\n            Tags:\\n            \u001b[0m\u001b[32m<\u001b[0m\u001b[32mmeta\u001b[0m\u001b[32m \u001b[0m\u001b[32mclass\u001b[0m\u001b[32m=\u001b[0m\u001b[32m\"keywords\"\u001b[0m\u001b[32m \u001b[0m\u001b[32mitemprop\u001b[0m\u001b[32m=\u001b[0m\u001b[32m\"keywords\"\u001b[0m\u001b[32m \u001b[0m\u001b[32mcontent\u001b[0m\u001b[32m=\u001b[0m\u001b[32m\"misattributed\u001b[0m\u001b[32m-eleanor-roosevelt\" /    \u001b[0m\u001b[32m>\u001b[0m\u001b[32m \\n            \\n            \u001b[0m\u001b[32m<\u001b[0m\u001b[32ma\u001b[0m\u001b[32m \u001b[0m\u001b[32mclass\u001b[0m\u001b[32m=\u001b[0m\u001b[32m\"tag\"\u001b[0m\u001b[32m \u001b[0m\u001b[32mhref\u001b[0m\u001b[32m=\"/tag/misattributed-eleanor-roosevelt/page/1/\"\u001b[0m\u001b[32m>\u001b[0m\u001b[32mmisattributed-eleanor-roosevelt\u001b[0m\u001b[32m<\u001b[0m\u001b[32m/a\u001b[0m\u001b[32m>\u001b[0m\u001b[32m\\n            \\n        \u001b[0m\u001b[32m<\u001b[0m\u001b[32m/div\u001b[0m\u001b[32m>\u001b[0m\u001b[32m\\n    \u001b[0m\u001b[32m<\u001b[0m\u001b[32m/div\u001b[0m\u001b[32m>\u001b[0m\u001b[32m\\n\\n    \u001b[0m\u001b[32m<\u001b[0m\u001b[32mdiv\u001b[0m\u001b[32m \u001b[0m\u001b[32mclass\u001b[0m\u001b[32m=\u001b[0m\u001b[32m\"quote\"\u001b[0m\u001b[32m itemscope \u001b[0m\u001b[32mitemtype\u001b[0m\u001b[32m=\u001b[0m\u001b[32m\"http\u001b[0m\u001b[32m://schema.org/CreativeWork\"\u001b[0m\u001b[32m>\u001b[0m\u001b[32m\\n        \u001b[0m\u001b[32m<\u001b[0m\u001b[32mspan\u001b[0m\u001b[32m \u001b[0m\u001b[32mclass\u001b[0m\u001b[32m=\u001b[0m\u001b[32m\"text\"\u001b[0m\u001b[32m \u001b[0m\u001b[32mitemprop\u001b[0m\u001b[32m=\u001b[0m\u001b[32m\"text\"\u001b[0m\u001b[32m>\u001b[0m\u001b[32m“A day without sunshine is like, you know, night.”\u001b[0m\u001b[32m<\u001b[0m\u001b[32m/span\u001b[0m\u001b[32m>\u001b[0m\u001b[32m\\n        \u001b[0m\u001b[32m<\u001b[0m\u001b[32mspan\u001b[0m\u001b[32m>\u001b[0m\u001b[32mby \u001b[0m\u001b[32m<\u001b[0m\u001b[32msmall\u001b[0m\u001b[32m \u001b[0m\u001b[32mclass\u001b[0m\u001b[32m=\u001b[0m\u001b[32m\"author\"\u001b[0m\u001b[32m \u001b[0m\u001b[32mitemprop\u001b[0m\u001b[32m=\u001b[0m\u001b[32m\"author\"\u001b[0m\u001b[32m>\u001b[0m\u001b[32mSteve Martin\u001b[0m\u001b[32m<\u001b[0m\u001b[32m/small\u001b[0m\u001b[32m>\u001b[0m\u001b[32m\\n        \u001b[0m\u001b[32m<\u001b[0m\u001b[32ma\u001b[0m\u001b[32m \u001b[0m\u001b[32mhref\u001b[0m\u001b[32m=\"/author/Steve-Martin\"\u001b[0m\u001b[32m>\u001b[0m\u001b[32m(\u001b[0m\u001b[32mabout\u001b[0m\u001b[32m)\u001b[0m\u001b[32m<\u001b[0m\u001b[32m/a\u001b[0m\u001b[32m>\u001b[0m\u001b[32m\\n        \u001b[0m\u001b[32m<\u001b[0m\u001b[32m/span\u001b[0m\u001b[32m>\u001b[0m\u001b[32m\\n        \u001b[0m\u001b[32m<\u001b[0m\u001b[32mdiv\u001b[0m\u001b[32m \u001b[0m\u001b[32mclass\u001b[0m\u001b[32m=\u001b[0m\u001b[32m\"tags\"\u001b[0m\u001b[32m>\u001b[0m\u001b[32m\\n            Tags:\\n            \u001b[0m\u001b[32m<\u001b[0m\u001b[32mmeta\u001b[0m\u001b[32m \u001b[0m\u001b[32mclass\u001b[0m\u001b[32m=\u001b[0m\u001b[32m\"keywords\"\u001b[0m\u001b[32m \u001b[0m\u001b[32mitemprop\u001b[0m\u001b[32m=\u001b[0m\u001b[32m\"keywords\"\u001b[0m\u001b[32m \u001b[0m\u001b[32mcontent\u001b[0m\u001b[32m=\u001b[0m\u001b[32m\"humor\u001b[0m\u001b[32m,obvious,simile\" /    \u001b[0m\u001b[32m>\u001b[0m\u001b[32m \\n            \\n            \u001b[0m\u001b[32m<\u001b[0m\u001b[32ma\u001b[0m\u001b[32m \u001b[0m\u001b[32mclass\u001b[0m\u001b[32m=\u001b[0m\u001b[32m\"tag\"\u001b[0m\u001b[32m \u001b[0m\u001b[32mhref\u001b[0m\u001b[32m=\"/tag/humor/page/1/\"\u001b[0m\u001b[32m>\u001b[0m\u001b[32mhumor\u001b[0m\u001b[32m<\u001b[0m\u001b[32m/a\u001b[0m\u001b[32m>\u001b[0m\u001b[32m\\n            \\n            \u001b[0m\u001b[32m<\u001b[0m\u001b[32ma\u001b[0m\u001b[32m \u001b[0m\u001b[32mclass\u001b[0m\u001b[32m=\u001b[0m\u001b[32m\"tag\"\u001b[0m\u001b[32m \u001b[0m\u001b[32mhref\u001b[0m\u001b[32m=\"/tag/obvious/page/1/\"\u001b[0m\u001b[32m>\u001b[0m\u001b[32mobvious\u001b[0m\u001b[32m<\u001b[0m\u001b[32m/a\u001b[0m\u001b[32m>\u001b[0m\u001b[32m\\n            \\n            \u001b[0m\u001b[32m<\u001b[0m\u001b[32ma\u001b[0m\u001b[32m \u001b[0m\u001b[32mclass\u001b[0m\u001b[32m=\u001b[0m\u001b[32m\"tag\"\u001b[0m\u001b[32m \u001b[0m\u001b[32mhref\u001b[0m\u001b[32m=\"/tag/simile/page/1/\"\u001b[0m\u001b[32m>\u001b[0m\u001b[32msimile\u001b[0m\u001b[32m<\u001b[0m\u001b[32m/a\u001b[0m\u001b[32m>\u001b[0m\u001b[32m\\n            \\n        \u001b[0m\u001b[32m<\u001b[0m\u001b[32m/div\u001b[0m\u001b[32m>\u001b[0m\u001b[32m\\n    \u001b[0m\u001b[32m<\u001b[0m\u001b[32m/div\u001b[0m\u001b[32m>\u001b[0m\u001b[32m\\n\\n    \u001b[0m\u001b[32m<\u001b[0m\u001b[32mnav\u001b[0m\u001b[32m>\u001b[0m\u001b[32m\\n        \u001b[0m\u001b[32m<\u001b[0m\u001b[32mul\u001b[0m\u001b[32m \u001b[0m\u001b[32mclass\u001b[0m\u001b[32m=\u001b[0m\u001b[32m\"pager\"\u001b[0m\u001b[32m>\u001b[0m\u001b[32m\\n            \\n            \\n            \u001b[0m\u001b[32m<\u001b[0m\u001b[32mli\u001b[0m\u001b[32m \u001b[0m\u001b[32mclass\u001b[0m\u001b[32m=\u001b[0m\u001b[32m\"next\"\u001b[0m\u001b[32m>\u001b[0m\u001b[32m\\n                \u001b[0m\u001b[32m<\u001b[0m\u001b[32ma\u001b[0m\u001b[32m \u001b[0m\u001b[32mhref\u001b[0m\u001b[32m=\"/page/2/\"\u001b[0m\u001b[32m>\u001b[0m\u001b[32mNext \u001b[0m\u001b[32m<\u001b[0m\u001b[32mspan\u001b[0m\u001b[32m aria-\u001b[0m\u001b[32mhidden\u001b[0m\u001b[32m=\u001b[0m\u001b[32m\"true\"\u001b[0m\u001b[32m>\u001b[0m\u001b[32m&rarr;\u001b[0m\u001b[32m<\u001b[0m\u001b[32m/span\u001b[0m\u001b[32m>\u001b[0m\u001b[32m<\u001b[0m\u001b[32m/a\u001b[0m\u001b[32m>\u001b[0m\u001b[32m\\n            \u001b[0m\u001b[32m<\u001b[0m\u001b[32m/li\u001b[0m\u001b[32m>\u001b[0m\u001b[32m\\n            \\n        \u001b[0m\u001b[32m<\u001b[0m\u001b[32m/ul\u001b[0m\u001b[32m>\u001b[0m\u001b[32m\\n    \u001b[0m\u001b[32m<\u001b[0m\u001b[32m/nav\u001b[0m\u001b[32m>\u001b[0m\u001b[32m\\n    \u001b[0m\u001b[32m<\u001b[0m\u001b[32m/div\u001b[0m\u001b[32m>\u001b[0m\u001b[32m\\n    \u001b[0m\u001b[32m<\u001b[0m\u001b[32mdiv\u001b[0m\u001b[32m \u001b[0m\u001b[32mclass\u001b[0m\u001b[32m=\u001b[0m\u001b[32m\"col\u001b[0m\u001b[32m-md-4 tags-box\"\u001b[0m\u001b[32m>\u001b[0m\u001b[32m\\n        \\n            \u001b[0m\u001b[32m<\u001b[0m\u001b[32mh2\u001b[0m\u001b[32m>\u001b[0m\u001b[32mTop Ten tags\u001b[0m\u001b[32m<\u001b[0m\u001b[32m/h2\u001b[0m\u001b[32m>\u001b[0m\u001b[32m\\n            \\n            \u001b[0m\u001b[32m<\u001b[0m\u001b[32mspan\u001b[0m\u001b[32m \u001b[0m\u001b[32mclass\u001b[0m\u001b[32m=\u001b[0m\u001b[32m\"tag\u001b[0m\u001b[32m-item\"\u001b[0m\u001b[32m>\u001b[0m\u001b[32m\\n            \u001b[0m\u001b[32m<\u001b[0m\u001b[32ma\u001b[0m\u001b[32m \u001b[0m\u001b[32mclass\u001b[0m\u001b[32m=\u001b[0m\u001b[32m\"tag\"\u001b[0m\u001b[32m \u001b[0m\u001b[32mstyle\u001b[0m\u001b[32m=\u001b[0m\u001b[32m\"font\u001b[0m\u001b[32m-size: 28px\" \u001b[0m\u001b[32mhref\u001b[0m\u001b[32m=\"/tag/love/\"\u001b[0m\u001b[32m>\u001b[0m\u001b[32mlove\u001b[0m\u001b[32m<\u001b[0m\u001b[32m/a\u001b[0m\u001b[32m>\u001b[0m\u001b[32m\\n            \u001b[0m\u001b[32m<\u001b[0m\u001b[32m/span\u001b[0m\u001b[32m>\u001b[0m\u001b[32m\\n            \\n            \u001b[0m\u001b[32m<\u001b[0m\u001b[32mspan\u001b[0m\u001b[32m \u001b[0m\u001b[32mclass\u001b[0m\u001b[32m=\u001b[0m\u001b[32m\"tag\u001b[0m\u001b[32m-item\"\u001b[0m\u001b[32m>\u001b[0m\u001b[32m\\n            \u001b[0m\u001b[32m<\u001b[0m\u001b[32ma\u001b[0m\u001b[32m \u001b[0m\u001b[32mclass\u001b[0m\u001b[32m=\u001b[0m\u001b[32m\"tag\"\u001b[0m\u001b[32m \u001b[0m\u001b[32mstyle\u001b[0m\u001b[32m=\u001b[0m\u001b[32m\"font\u001b[0m\u001b[32m-size: 26px\" \u001b[0m\u001b[32mhref\u001b[0m\u001b[32m=\"/tag/inspirational/\"\u001b[0m\u001b[32m>\u001b[0m\u001b[32minspirational\u001b[0m\u001b[32m<\u001b[0m\u001b[32m/a\u001b[0m\u001b[32m>\u001b[0m\u001b[32m\\n            \u001b[0m\u001b[32m<\u001b[0m\u001b[32m/span\u001b[0m\u001b[32m>\u001b[0m\u001b[32m\\n            \\n            \u001b[0m\u001b[32m<\u001b[0m\u001b[32mspan\u001b[0m\u001b[32m \u001b[0m\u001b[32mclass\u001b[0m\u001b[32m=\u001b[0m\u001b[32m\"tag\u001b[0m\u001b[32m-item\"\u001b[0m\u001b[32m>\u001b[0m\u001b[32m\\n            \u001b[0m\u001b[32m<\u001b[0m\u001b[32ma\u001b[0m\u001b[32m \u001b[0m\u001b[32mclass\u001b[0m\u001b[32m=\u001b[0m\u001b[32m\"tag\"\u001b[0m\u001b[32m \u001b[0m\u001b[32mstyle\u001b[0m\u001b[32m=\u001b[0m\u001b[32m\"font\u001b[0m\u001b[32m-size: 26px\" \u001b[0m\u001b[32mhref\u001b[0m\u001b[32m=\"/tag/life/\"\u001b[0m\u001b[32m>\u001b[0m\u001b[32mlife\u001b[0m\u001b[32m<\u001b[0m\u001b[32m/a\u001b[0m\u001b[32m>\u001b[0m\u001b[32m\\n            \u001b[0m\u001b[32m<\u001b[0m\u001b[32m/span\u001b[0m\u001b[32m>\u001b[0m\u001b[32m\\n            \\n            \u001b[0m\u001b[32m<\u001b[0m\u001b[32mspan\u001b[0m\u001b[32m \u001b[0m\u001b[32mclass\u001b[0m\u001b[32m=\u001b[0m\u001b[32m\"tag\u001b[0m\u001b[32m-item\"\u001b[0m\u001b[32m>\u001b[0m\u001b[32m\\n            \u001b[0m\u001b[32m<\u001b[0m\u001b[32ma\u001b[0m\u001b[32m \u001b[0m\u001b[32mclass\u001b[0m\u001b[32m=\u001b[0m\u001b[32m\"tag\"\u001b[0m\u001b[32m \u001b[0m\u001b[32mstyle\u001b[0m\u001b[32m=\u001b[0m\u001b[32m\"font\u001b[0m\u001b[32m-size: 24px\" \u001b[0m\u001b[32mhref\u001b[0m\u001b[32m=\"/tag/humor/\"\u001b[0m\u001b[32m>\u001b[0m\u001b[32mhumor\u001b[0m\u001b[32m<\u001b[0m\u001b[32m/a\u001b[0m\u001b[32m>\u001b[0m\u001b[32m\\n            \u001b[0m\u001b[32m<\u001b[0m\u001b[32m/span\u001b[0m\u001b[32m>\u001b[0m\u001b[32m\\n            \\n            \u001b[0m\u001b[32m<\u001b[0m\u001b[32mspan\u001b[0m\u001b[32m \u001b[0m\u001b[32mclass\u001b[0m\u001b[32m=\u001b[0m\u001b[32m\"tag\u001b[0m\u001b[32m-item\"\u001b[0m\u001b[32m>\u001b[0m\u001b[32m\\n            \u001b[0m\u001b[32m<\u001b[0m\u001b[32ma\u001b[0m\u001b[32m \u001b[0m\u001b[32mclass\u001b[0m\u001b[32m=\u001b[0m\u001b[32m\"tag\"\u001b[0m\u001b[32m \u001b[0m\u001b[32mstyle\u001b[0m\u001b[32m=\u001b[0m\u001b[32m\"font\u001b[0m\u001b[32m-size: 22px\" \u001b[0m\u001b[32mhref\u001b[0m\u001b[32m=\"/tag/books/\"\u001b[0m\u001b[32m>\u001b[0m\u001b[32mbooks\u001b[0m\u001b[32m<\u001b[0m\u001b[32m/a\u001b[0m\u001b[32m>\u001b[0m\u001b[32m\\n            \u001b[0m\u001b[32m<\u001b[0m\u001b[32m/span\u001b[0m\u001b[32m>\u001b[0m\u001b[32m\\n            \\n            \u001b[0m\u001b[32m<\u001b[0m\u001b[32mspan\u001b[0m\u001b[32m \u001b[0m\u001b[32mclass\u001b[0m\u001b[32m=\u001b[0m\u001b[32m\"tag\u001b[0m\u001b[32m-item\"\u001b[0m\u001b[32m>\u001b[0m\u001b[32m\\n            \u001b[0m\u001b[32m<\u001b[0m\u001b[32ma\u001b[0m\u001b[32m \u001b[0m\u001b[32mclass\u001b[0m\u001b[32m=\u001b[0m\u001b[32m\"tag\"\u001b[0m\u001b[32m \u001b[0m\u001b[32mstyle\u001b[0m\u001b[32m=\u001b[0m\u001b[32m\"font\u001b[0m\u001b[32m-size: 14px\" \u001b[0m\u001b[32mhref\u001b[0m\u001b[32m=\"/tag/reading/\"\u001b[0m\u001b[32m>\u001b[0m\u001b[32mreading\u001b[0m\u001b[32m<\u001b[0m\u001b[32m/a\u001b[0m\u001b[32m>\u001b[0m\u001b[32m\\n            \u001b[0m\u001b[32m<\u001b[0m\u001b[32m/span\u001b[0m\u001b[32m>\u001b[0m\u001b[32m\\n            \\n            \u001b[0m\u001b[32m<\u001b[0m\u001b[32mspan\u001b[0m\u001b[32m \u001b[0m\u001b[32mclass\u001b[0m\u001b[32m=\u001b[0m\u001b[32m\"tag\u001b[0m\u001b[32m-item\"\u001b[0m\u001b[32m>\u001b[0m\u001b[32m\\n            \u001b[0m\u001b[32m<\u001b[0m\u001b[32ma\u001b[0m\u001b[32m \u001b[0m\u001b[32mclass\u001b[0m\u001b[32m=\u001b[0m\u001b[32m\"tag\"\u001b[0m\u001b[32m \u001b[0m\u001b[32mstyle\u001b[0m\u001b[32m=\u001b[0m\u001b[32m\"font\u001b[0m\u001b[32m-size: 10px\" \u001b[0m\u001b[32mhref\u001b[0m\u001b[32m=\"/tag/friendship/\"\u001b[0m\u001b[32m>\u001b[0m\u001b[32mfriendship\u001b[0m\u001b[32m<\u001b[0m\u001b[32m/a\u001b[0m\u001b[32m>\u001b[0m\u001b[32m\\n            \u001b[0m\u001b[32m<\u001b[0m\u001b[32m/span\u001b[0m\u001b[32m>\u001b[0m\u001b[32m\\n            \\n            \u001b[0m\u001b[32m<\u001b[0m\u001b[32mspan\u001b[0m\u001b[32m \u001b[0m\u001b[32mclass\u001b[0m\u001b[32m=\u001b[0m\u001b[32m\"tag\u001b[0m\u001b[32m-item\"\u001b[0m\u001b[32m>\u001b[0m\u001b[32m\\n            \u001b[0m\u001b[32m<\u001b[0m\u001b[32ma\u001b[0m\u001b[32m \u001b[0m\u001b[32mclass\u001b[0m\u001b[32m=\u001b[0m\u001b[32m\"tag\"\u001b[0m\u001b[32m \u001b[0m\u001b[32mstyle\u001b[0m\u001b[32m=\u001b[0m\u001b[32m\"font\u001b[0m\u001b[32m-size: 8px\" \u001b[0m\u001b[32mhref\u001b[0m\u001b[32m=\"/tag/friends/\"\u001b[0m\u001b[32m>\u001b[0m\u001b[32mfriends\u001b[0m\u001b[32m<\u001b[0m\u001b[32m/a\u001b[0m\u001b[32m>\u001b[0m\u001b[32m\\n            \u001b[0m\u001b[32m<\u001b[0m\u001b[32m/span\u001b[0m\u001b[32m>\u001b[0m\u001b[32m\\n            \\n            \u001b[0m\u001b[32m<\u001b[0m\u001b[32mspan\u001b[0m\u001b[32m \u001b[0m\u001b[32mclass\u001b[0m\u001b[32m=\u001b[0m\u001b[32m\"tag\u001b[0m\u001b[32m-item\"\u001b[0m\u001b[32m>\u001b[0m\u001b[32m\\n            \u001b[0m\u001b[32m<\u001b[0m\u001b[32ma\u001b[0m\u001b[32m \u001b[0m\u001b[32mclass\u001b[0m\u001b[32m=\u001b[0m\u001b[32m\"tag\"\u001b[0m\u001b[32m \u001b[0m\u001b[32mstyle\u001b[0m\u001b[32m=\u001b[0m\u001b[32m\"font\u001b[0m\u001b[32m-size: 8px\" \u001b[0m\u001b[32mhref\u001b[0m\u001b[32m=\"/tag/truth/\"\u001b[0m\u001b[32m>\u001b[0m\u001b[32mtruth\u001b[0m\u001b[32m<\u001b[0m\u001b[32m/a\u001b[0m\u001b[32m>\u001b[0m\u001b[32m\\n            \u001b[0m\u001b[32m<\u001b[0m\u001b[32m/span\u001b[0m\u001b[32m>\u001b[0m\u001b[32m\\n            \\n            \u001b[0m\u001b[32m<\u001b[0m\u001b[32mspan\u001b[0m\u001b[32m \u001b[0m\u001b[32mclass\u001b[0m\u001b[32m=\u001b[0m\u001b[32m\"tag\u001b[0m\u001b[32m-item\"\u001b[0m\u001b[32m>\u001b[0m\u001b[32m\\n            \u001b[0m\u001b[32m<\u001b[0m\u001b[32ma\u001b[0m\u001b[32m \u001b[0m\u001b[32mclass\u001b[0m\u001b[32m=\u001b[0m\u001b[32m\"tag\"\u001b[0m\u001b[32m \u001b[0m\u001b[32mstyle\u001b[0m\u001b[32m=\u001b[0m\u001b[32m\"font\u001b[0m\u001b[32m-size: 6px\" \u001b[0m\u001b[32mhref\u001b[0m\u001b[32m=\"/tag/simile/\"\u001b[0m\u001b[32m>\u001b[0m\u001b[32msimile\u001b[0m\u001b[32m<\u001b[0m\u001b[32m/a\u001b[0m\u001b[32m>\u001b[0m\u001b[32m\\n            \u001b[0m\u001b[32m<\u001b[0m\u001b[32m/span\u001b[0m\u001b[32m>\u001b[0m\u001b[32m\\n            \\n        \\n    \u001b[0m\u001b[32m<\u001b[0m\u001b[32m/div\u001b[0m\u001b[32m>\u001b[0m\u001b[32m\\n\u001b[0m\u001b[32m<\u001b[0m\u001b[32m/div\u001b[0m\u001b[32m>\u001b[0m\u001b[32m\\n\\n    \u001b[0m\u001b[32m<\u001b[0m\u001b[32m/div\u001b[0m\u001b[32m>\u001b[0m\u001b[32m\\n    \u001b[0m\u001b[32m<\u001b[0m\u001b[32mfooter\u001b[0m\u001b[32m \u001b[0m\u001b[32mclass\u001b[0m\u001b[32m=\u001b[0m\u001b[32m\"footer\"\u001b[0m\u001b[32m>\u001b[0m\u001b[32m\\n        \u001b[0m\u001b[32m<\u001b[0m\u001b[32mdiv\u001b[0m\u001b[32m \u001b[0m\u001b[32mclass\u001b[0m\u001b[32m=\u001b[0m\u001b[32m\"container\"\u001b[0m\u001b[32m>\u001b[0m\u001b[32m\\n            \u001b[0m\u001b[32m<\u001b[0m\u001b[32mp\u001b[0m\u001b[32m \u001b[0m\u001b[32mclass\u001b[0m\u001b[32m=\u001b[0m\u001b[32m\"text\u001b[0m\u001b[32m-muted\"\u001b[0m\u001b[32m>\u001b[0m\u001b[32m\\n                Quotes by: \u001b[0m\u001b[32m<\u001b[0m\u001b[32ma\u001b[0m\u001b[32m \u001b[0m\u001b[32mhref\u001b[0m\u001b[32m=\u001b[0m\u001b[32m\"https\u001b[0m\u001b[32m://www.goodreads.com/quotes\"\u001b[0m\u001b[32m>\u001b[0m\u001b[32mGoodReads.com\u001b[0m\u001b[32m<\u001b[0m\u001b[32m/a\u001b[0m\u001b[32m>\u001b[0m\u001b[32m\\n            \u001b[0m\u001b[32m<\u001b[0m\u001b[32m/p\u001b[0m\u001b[32m>\u001b[0m\u001b[32m\\n            \u001b[0m\u001b[32m<\u001b[0m\u001b[32mp\u001b[0m\u001b[32m \u001b[0m\u001b[32mclass\u001b[0m\u001b[32m=\u001b[0m\u001b[32m\"copyright\"\u001b[0m\u001b[32m>\u001b[0m\u001b[32m\\n                Made with \u001b[0m\u001b[32m<\u001b[0m\u001b[32mspan\u001b[0m\u001b[32m \u001b[0m\u001b[32mclass\u001b[0m\u001b[32m=\\'sh-red\\'\u001b[0m\u001b[32m>\u001b[0m\u001b[32m❤\u001b[0m\u001b[32m<\u001b[0m\u001b[32m/span\u001b[0m\u001b[32m>\u001b[0m\u001b[32m by \u001b[0m\u001b[32m<\u001b[0m\u001b[32ma\u001b[0m\u001b[32m \u001b[0m\u001b[32mhref\u001b[0m\u001b[32m=\u001b[0m\u001b[32m\"https\u001b[0m\u001b[32m://scrapinghub.com\"\u001b[0m\u001b[32m>\u001b[0m\u001b[32mScrapinghub\u001b[0m\u001b[32m<\u001b[0m\u001b[32m/a\u001b[0m\u001b[32m>\u001b[0m\u001b[32m\\n            \u001b[0m\u001b[32m<\u001b[0m\u001b[32m/p\u001b[0m\u001b[32m>\u001b[0m\u001b[32m\\n        \u001b[0m\u001b[32m<\u001b[0m\u001b[32m/div\u001b[0m\u001b[32m>\u001b[0m\u001b[32m\\n    \u001b[0m\u001b[32m<\u001b[0m\u001b[32m/footer\u001b[0m\u001b[32m>\u001b[0m\u001b[32m\\n\u001b[0m\u001b[32m<\u001b[0m\u001b[32m/body\u001b[0m\u001b[32m>\u001b[0m\u001b[32m\\n\u001b[0m\u001b[32m<\u001b[0m\u001b[32m/html\u001b[0m\u001b[32m>\u001b[0m\u001b[32m'\u001b[0m\n"
                        ]
                    },
                    "metadata": {},
                    "output_type": "display_data"
                }
            ],
            "source": [
                "resp.text"
            ]
        },
        {
            "cell_type": "code",
            "execution_count": 41,
            "metadata": {},
            "outputs": [
                {
                    "data": {
                        "text/html": [
                            "<pre style=\"white-space:pre;overflow-x:auto;line-height:normal;font-family:Menlo,'DejaVu Sans Mono',consolas,'Courier New',monospace\"><span style=\"color: #008000; text-decoration-color: #008000\">'utf-8'</span>\n",
                            "</pre>\n"
                        ],
                        "text/plain": [
                            "\u001b[32m'utf-8'\u001b[0m\n"
                        ]
                    },
                    "metadata": {},
                    "output_type": "display_data"
                }
            ],
            "source": [
                "resp.encoding"
            ]
        },
        {
            "cell_type": "code",
            "execution_count": 42,
            "metadata": {},
            "outputs": [
                {
                    "data": {
                        "text/html": [
                            "<pre style=\"white-space:pre;overflow-x:auto;line-height:normal;font-family:Menlo,'DejaVu Sans Mono',consolas,'Courier New',monospace\"><span style=\"font-weight: bold\">&lt;</span><span style=\"color: #ff00ff; text-decoration-color: #ff00ff; font-weight: bold\">class</span><span style=\"color: #000000; text-decoration-color: #000000\"> </span><span style=\"color: #008000; text-decoration-color: #008000\">'requests.structures.CaseInsensitiveDict'</span><span style=\"font-weight: bold\">&gt;</span>\n",
                            "</pre>\n"
                        ],
                        "text/plain": [
                            "\u001b[1m<\u001b[0m\u001b[1;95mclass\u001b[0m\u001b[39m \u001b[0m\u001b[32m'requests.structures.CaseInsensitiveDict'\u001b[0m\u001b[1m>\u001b[0m\n"
                        ]
                    },
                    "metadata": {},
                    "output_type": "display_data"
                }
            ],
            "source": [
                "type(resp.headers)"
            ]
        },
        {
            "cell_type": "code",
            "execution_count": 43,
            "metadata": {},
            "outputs": [
                {
                    "data": {
                        "text/html": [
                            "<pre style=\"white-space:pre;overflow-x:auto;line-height:normal;font-family:Menlo,'DejaVu Sans Mono',consolas,'Courier New',monospace\">\n",
                            "<span style=\"font-weight: bold\">{</span>\n",
                            "    <span style=\"color: #008000; text-decoration-color: #008000\">'resp.headers.get(\"Content-Type\")'</span>: <span style=\"color: #008000; text-decoration-color: #008000\">'text/html; charset=utf-8'</span>,\n",
                            "    <span style=\"color: #008000; text-decoration-color: #008000\">'resp.headers.get(\"content-type\")'</span>: <span style=\"color: #008000; text-decoration-color: #008000\">'text/html; charset=utf-8'</span>,\n",
                            "    <span style=\"color: #008000; text-decoration-color: #008000\">'resp.headers.get(\"ConTENT-TyPe\")'</span>: <span style=\"color: #008000; text-decoration-color: #008000\">'text/html; charset=utf-8'</span>,\n",
                            "    <span style=\"color: #008000; text-decoration-color: #008000\">'resp.headers.get(\"ContentType\")'</span>: <span style=\"color: #800080; text-decoration-color: #800080; font-style: italic\">None</span>,\n",
                            "    <span style=\"color: #008000; text-decoration-color: #008000\">'resp.headers.get(\"contenttype\")'</span>: <span style=\"color: #800080; text-decoration-color: #800080; font-style: italic\">None</span>\n",
                            "<span style=\"font-weight: bold\">}</span>\n",
                            "</pre>\n"
                        ],
                        "text/plain": [
                            "\n",
                            "\u001b[1m{\u001b[0m\n",
                            "    \u001b[32m'resp.headers.get\u001b[0m\u001b[32m(\u001b[0m\u001b[32m\"Content-Type\"\u001b[0m\u001b[32m)\u001b[0m\u001b[32m'\u001b[0m: \u001b[32m'text/html; \u001b[0m\u001b[32mcharset\u001b[0m\u001b[32m=\u001b[0m\u001b[32mutf\u001b[0m\u001b[32m-8'\u001b[0m,\n",
                            "    \u001b[32m'resp.headers.get\u001b[0m\u001b[32m(\u001b[0m\u001b[32m\"content-type\"\u001b[0m\u001b[32m)\u001b[0m\u001b[32m'\u001b[0m: \u001b[32m'text/html; \u001b[0m\u001b[32mcharset\u001b[0m\u001b[32m=\u001b[0m\u001b[32mutf\u001b[0m\u001b[32m-8'\u001b[0m,\n",
                            "    \u001b[32m'resp.headers.get\u001b[0m\u001b[32m(\u001b[0m\u001b[32m\"ConTENT-TyPe\"\u001b[0m\u001b[32m)\u001b[0m\u001b[32m'\u001b[0m: \u001b[32m'text/html; \u001b[0m\u001b[32mcharset\u001b[0m\u001b[32m=\u001b[0m\u001b[32mutf\u001b[0m\u001b[32m-8'\u001b[0m,\n",
                            "    \u001b[32m'resp.headers.get\u001b[0m\u001b[32m(\u001b[0m\u001b[32m\"ContentType\"\u001b[0m\u001b[32m)\u001b[0m\u001b[32m'\u001b[0m: \u001b[3;35mNone\u001b[0m,\n",
                            "    \u001b[32m'resp.headers.get\u001b[0m\u001b[32m(\u001b[0m\u001b[32m\"contenttype\"\u001b[0m\u001b[32m)\u001b[0m\u001b[32m'\u001b[0m: \u001b[3;35mNone\u001b[0m\n",
                            "\u001b[1m}\u001b[0m\n"
                        ]
                    },
                    "metadata": {},
                    "output_type": "display_data"
                }
            ],
            "source": [
                "{\n",
                "    'resp.headers.get(\"Content-Type\")': resp.headers.get(\"Content-Type\"),\n",
                "    'resp.headers.get(\"content-type\")': resp.headers.get(\"content-type\"),\n",
                "    'resp.headers.get(\"ConTENT-TyPe\")': resp.headers.get(\"ConTENT-TyPe\"),\n",
                "    'resp.headers.get(\"ContentType\")': resp.headers.get(\"ContentType\"),\n",
                "    'resp.headers.get(\"contenttype\")': resp.headers.get(\"contenttype\"),\n",
                "}"
            ]
        },
        {
            "cell_type": "code",
            "execution_count": 44,
            "metadata": {},
            "outputs": [],
            "source": [
                "resp = requests.get(\"http://httpbin.org/headers\")"
            ]
        },
        {
            "cell_type": "code",
            "execution_count": 45,
            "metadata": {},
            "outputs": [
                {
                    "data": {
                        "text/html": [
                            "<pre style=\"white-space:pre;overflow-x:auto;line-height:normal;font-family:Menlo,'DejaVu Sans Mono',consolas,'Courier New',monospace\">\n",
                            "<span style=\"font-weight: bold\">{</span>\n",
                            "    <span style=\"color: #008000; text-decoration-color: #008000\">'headers'</span>: <span style=\"font-weight: bold\">{</span>\n",
                            "        <span style=\"color: #008000; text-decoration-color: #008000\">'Accept'</span>: <span style=\"color: #008000; text-decoration-color: #008000\">'*/*'</span>,\n",
                            "        <span style=\"color: #008000; text-decoration-color: #008000\">'Accept-Encoding'</span>: <span style=\"color: #008000; text-decoration-color: #008000\">'gzip, deflate, br'</span>,\n",
                            "        <span style=\"color: #008000; text-decoration-color: #008000\">'Host'</span>: <span style=\"color: #008000; text-decoration-color: #008000\">'httpbin.org'</span>,\n",
                            "        <span style=\"color: #008000; text-decoration-color: #008000\">'User-Agent'</span>: <span style=\"color: #008000; text-decoration-color: #008000\">'python-requests/2.30.0'</span>,\n",
                            "        <span style=\"color: #008000; text-decoration-color: #008000\">'X-Amzn-Trace-Id'</span>: <span style=\"color: #008000; text-decoration-color: #008000\">'Root=1-64631e32-1cb01174227050060e80343f'</span>\n",
                            "    <span style=\"font-weight: bold\">}</span>\n",
                            "<span style=\"font-weight: bold\">}</span>\n",
                            "</pre>\n"
                        ],
                        "text/plain": [
                            "\n",
                            "\u001b[1m{\u001b[0m\n",
                            "    \u001b[32m'headers'\u001b[0m: \u001b[1m{\u001b[0m\n",
                            "        \u001b[32m'Accept'\u001b[0m: \u001b[32m'*/*'\u001b[0m,\n",
                            "        \u001b[32m'Accept-Encoding'\u001b[0m: \u001b[32m'gzip, deflate, br'\u001b[0m,\n",
                            "        \u001b[32m'Host'\u001b[0m: \u001b[32m'httpbin.org'\u001b[0m,\n",
                            "        \u001b[32m'User-Agent'\u001b[0m: \u001b[32m'python-requests/2.30.0'\u001b[0m,\n",
                            "        \u001b[32m'X-Amzn-Trace-Id'\u001b[0m: \u001b[32m'\u001b[0m\u001b[32mRoot\u001b[0m\u001b[32m=\u001b[0m\u001b[32m1\u001b[0m\u001b[32m-64631e32-1cb01174227050060e80343f'\u001b[0m\n",
                            "    \u001b[1m}\u001b[0m\n",
                            "\u001b[1m}\u001b[0m\n"
                        ]
                    },
                    "metadata": {},
                    "output_type": "display_data"
                }
            ],
            "source": [
                "resp.json()"
            ]
        },
        {
            "cell_type": "code",
            "execution_count": 46,
            "metadata": {},
            "outputs": [
                {
                    "name": "stdout",
                    "output_type": "stream",
                    "text": [
                        "{'User-Agent': 'python-requests/2.30.0', 'Accept-Encoding': 'gzip, deflate, br', 'Accept': '*/*', 'Connection': 'keep-alive'}\n"
                    ]
                }
            ],
            "source": [
                "from pprint import pprint\n",
                "\n",
                "pprint(resp.request.headers)"
            ]
        },
        {
            "cell_type": "code",
            "execution_count": 47,
            "metadata": {},
            "outputs": [
                {
                    "data": {
                        "text/html": [
                            "<pre style=\"white-space:pre;overflow-x:auto;line-height:normal;font-family:Menlo,'DejaVu Sans Mono',consolas,'Courier New',monospace\">\n",
                            "<span style=\"font-weight: bold\">{</span>\n",
                            "    <span style=\"color: #008000; text-decoration-color: #008000\">'headers'</span>: <span style=\"font-weight: bold\">{</span>\n",
                            "        <span style=\"color: #008000; text-decoration-color: #008000\">'Accept'</span>: <span style=\"color: #008000; text-decoration-color: #008000\">'*/*'</span>,\n",
                            "        <span style=\"color: #008000; text-decoration-color: #008000\">'Accept-Encoding'</span>: <span style=\"color: #008000; text-decoration-color: #008000\">'gzip, deflate, br'</span>,\n",
                            "        <span style=\"color: #008000; text-decoration-color: #008000\">'Host'</span>: <span style=\"color: #008000; text-decoration-color: #008000\">'httpbin.org'</span>,\n",
                            "        <span style=\"color: #008000; text-decoration-color: #008000\">'User-Agent'</span>: <span style=\"color: #008000; text-decoration-color: #008000\">'Mozilla/5.0 (X11; Linux x86_64) AppleWebKit/537.36 (KHTML, like Gecko) Chrome/113.0.0.0 Safari/537.36'</span>,\n",
                            "        <span style=\"color: #008000; text-decoration-color: #008000\">'X-Amzn-Trace-Id'</span>: <span style=\"color: #008000; text-decoration-color: #008000\">'Root=1-64631e37-1eaf858e21cad8902017e951'</span>\n",
                            "    <span style=\"font-weight: bold\">}</span>\n",
                            "<span style=\"font-weight: bold\">}</span>\n",
                            "</pre>\n"
                        ],
                        "text/plain": [
                            "\n",
                            "\u001b[1m{\u001b[0m\n",
                            "    \u001b[32m'headers'\u001b[0m: \u001b[1m{\u001b[0m\n",
                            "        \u001b[32m'Accept'\u001b[0m: \u001b[32m'*/*'\u001b[0m,\n",
                            "        \u001b[32m'Accept-Encoding'\u001b[0m: \u001b[32m'gzip, deflate, br'\u001b[0m,\n",
                            "        \u001b[32m'Host'\u001b[0m: \u001b[32m'httpbin.org'\u001b[0m,\n",
                            "        \u001b[32m'User-Agent'\u001b[0m: \u001b[32m'Mozilla/5.0 \u001b[0m\u001b[32m(\u001b[0m\u001b[32mX11; Linux x86_64\u001b[0m\u001b[32m)\u001b[0m\u001b[32m AppleWebKit/537.36 \u001b[0m\u001b[32m(\u001b[0m\u001b[32mKHTML, like Gecko\u001b[0m\u001b[32m)\u001b[0m\u001b[32m Chrome/113.0.0.0 Safari/537.36'\u001b[0m,\n",
                            "        \u001b[32m'X-Amzn-Trace-Id'\u001b[0m: \u001b[32m'\u001b[0m\u001b[32mRoot\u001b[0m\u001b[32m=\u001b[0m\u001b[32m1\u001b[0m\u001b[32m-64631e37-1eaf858e21cad8902017e951'\u001b[0m\n",
                            "    \u001b[1m}\u001b[0m\n",
                            "\u001b[1m}\u001b[0m\n"
                        ]
                    },
                    "metadata": {},
                    "output_type": "display_data"
                }
            ],
            "source": [
                "resp = requests.get(\n",
                "    \"http://httpbin.org/headers\",\n",
                "    headers={\n",
                "        \"User-Agent\": \"Mozilla/5.0 (X11; Linux x86_64) AppleWebKit/537.36 (KHTML, like Gecko) Chrome/113.0.0.0 Safari/537.36\"\n",
                "    },\n",
                ")\n",
                "resp.json()"
            ]
        },
        {
            "cell_type": "code",
            "execution_count": 48,
            "metadata": {},
            "outputs": [
                {
                    "data": {
                        "text/html": [
                            "<pre style=\"white-space:pre;overflow-x:auto;line-height:normal;font-family:Menlo,'DejaVu Sans Mono',consolas,'Courier New',monospace\"><span style=\"font-weight: bold\">(</span><span style=\"color: #008000; text-decoration-color: #008000\">'27071.595'</span>, <span style=\"color: #008000; text-decoration-color: #008000\">'https://api.coinbase.com/v2/exchange-rates?currency=BTC'</span><span style=\"font-weight: bold\">)</span>\n",
                            "</pre>\n"
                        ],
                        "text/plain": [
                            "\u001b[1m(\u001b[0m\u001b[32m'27071.595'\u001b[0m, \u001b[32m'https://api.coinbase.com/v2/exchange-rates?\u001b[0m\u001b[32mcurrency\u001b[0m\u001b[32m=\u001b[0m\u001b[32mBTC\u001b[0m\u001b[32m'\u001b[0m\u001b[1m)\u001b[0m\n"
                        ]
                    },
                    "metadata": {},
                    "output_type": "display_data"
                }
            ],
            "source": [
                "# query parameters\n",
                "url = \"https://api.coinbase.com/v2/exchange-rates?currency=BTC\"\n",
                "resp = requests.get(url)\n",
                "resp.json()[\"data\"][\"rates\"][\"USD\"], resp.url"
            ]
        },
        {
            "cell_type": "code",
            "execution_count": 49,
            "metadata": {},
            "outputs": [
                {
                    "data": {
                        "text/html": [
                            "<pre style=\"white-space:pre;overflow-x:auto;line-height:normal;font-family:Menlo,'DejaVu Sans Mono',consolas,'Courier New',monospace\"><span style=\"font-weight: bold\">(</span><span style=\"color: #008000; text-decoration-color: #008000\">'27071.595'</span>, <span style=\"color: #008000; text-decoration-color: #008000\">'https://api.coinbase.com/v2/exchange-rates?currency=BTC'</span><span style=\"font-weight: bold\">)</span>\n",
                            "</pre>\n"
                        ],
                        "text/plain": [
                            "\u001b[1m(\u001b[0m\u001b[32m'27071.595'\u001b[0m, \u001b[32m'https://api.coinbase.com/v2/exchange-rates?\u001b[0m\u001b[32mcurrency\u001b[0m\u001b[32m=\u001b[0m\u001b[32mBTC\u001b[0m\u001b[32m'\u001b[0m\u001b[1m)\u001b[0m\n"
                        ]
                    },
                    "metadata": {},
                    "output_type": "display_data"
                }
            ],
            "source": [
                "url = \"https://api.coinbase.com/v2/exchange-rates\"\n",
                "params = {\"currency\": \"BTC\"}\n",
                "resp = requests.get(url, params=params)\n",
                "resp.json()[\"data\"][\"rates\"][\"USD\"], resp.url"
            ]
        },
        {
            "cell_type": "code",
            "execution_count": 50,
            "metadata": {},
            "outputs": [
                {
                    "data": {
                        "text/html": [
                            "<pre style=\"white-space:pre;overflow-x:auto;line-height:normal;font-family:Menlo,'DejaVu Sans Mono',consolas,'Courier New',monospace\"><span style=\"font-weight: bold\">(&lt;</span><span style=\"color: #ff00ff; text-decoration-color: #ff00ff; font-weight: bold\">Response</span><span style=\"color: #000000; text-decoration-color: #000000\"> </span><span style=\"color: #000000; text-decoration-color: #000000; font-weight: bold\">[</span><span style=\"color: #008080; text-decoration-color: #008080; font-weight: bold\">200</span><span style=\"color: #000000; text-decoration-color: #000000; font-weight: bold\">]</span><span style=\"font-weight: bold\">&gt;</span>, <span style=\"color: #008000; text-decoration-color: #008000\">'https://api.sunrisesunset.io/json?lat=12.97194&amp;lng=77.59369'</span><span style=\"font-weight: bold\">)</span>\n",
                            "</pre>\n"
                        ],
                        "text/plain": [
                            "\u001b[1m(\u001b[0m\u001b[1m<\u001b[0m\u001b[1;95mResponse\u001b[0m\u001b[39m \u001b[0m\u001b[1;39m[\u001b[0m\u001b[1;36m200\u001b[0m\u001b[1;39m]\u001b[0m\u001b[1m>\u001b[0m, \u001b[32m'https://api.sunrisesunset.io/json?\u001b[0m\u001b[32mlat\u001b[0m\u001b[32m=\u001b[0m\u001b[32m12\u001b[0m\u001b[32m.97194&\u001b[0m\u001b[32mlng\u001b[0m\u001b[32m=\u001b[0m\u001b[32m77\u001b[0m\u001b[32m.59369'\u001b[0m\u001b[1m)\u001b[0m\n"
                        ]
                    },
                    "metadata": {},
                    "output_type": "display_data"
                }
            ],
            "source": [
                "url = \"https://api.sunrisesunset.io/json\"\n",
                "params = {\"lat\": 12.97194, \"lng\": 77.59369}\n",
                "headers = {\n",
                "    \"User-Agent\": \"Mozilla/5.0 (X11; Linux x86_64) AppleWebKit/537.36 (KHTML, like Gecko) Chrome/113.0.0.0 Safari/537.36\"\n",
                "}\n",
                "resp = requests.get(url, params=params, headers=headers)\n",
                "resp, resp.url"
            ]
        },
        {
            "cell_type": "code",
            "execution_count": 51,
            "metadata": {},
            "outputs": [
                {
                    "data": {
                        "text/html": [
                            "<pre style=\"white-space:pre;overflow-x:auto;line-height:normal;font-family:Menlo,'DejaVu Sans Mono',consolas,'Courier New',monospace\">\n",
                            "<span style=\"font-weight: bold\">{</span>\n",
                            "    <span style=\"color: #008000; text-decoration-color: #008000\">'results'</span>: <span style=\"font-weight: bold\">{</span>\n",
                            "        <span style=\"color: #008000; text-decoration-color: #008000\">'sunrise'</span>: <span style=\"color: #008000; text-decoration-color: #008000\">'5:55:35 AM'</span>,\n",
                            "        <span style=\"color: #008000; text-decoration-color: #008000\">'sunset'</span>: <span style=\"color: #008000; text-decoration-color: #008000\">'6:39:09 PM'</span>,\n",
                            "        <span style=\"color: #008000; text-decoration-color: #008000\">'first_light'</span>: <span style=\"color: #008000; text-decoration-color: #008000\">'4:39:26 AM'</span>,\n",
                            "        <span style=\"color: #008000; text-decoration-color: #008000\">'last_light'</span>: <span style=\"color: #008000; text-decoration-color: #008000\">'7:55:19 PM'</span>,\n",
                            "        <span style=\"color: #008000; text-decoration-color: #008000\">'dawn'</span>: <span style=\"color: #008000; text-decoration-color: #008000\">'5:32:58 AM'</span>,\n",
                            "        <span style=\"color: #008000; text-decoration-color: #008000\">'dusk'</span>: <span style=\"color: #008000; text-decoration-color: #008000\">'7:01:47 PM'</span>,\n",
                            "        <span style=\"color: #008000; text-decoration-color: #008000\">'solar_noon'</span>: <span style=\"color: #008000; text-decoration-color: #008000\">'12:17:22 PM'</span>,\n",
                            "        <span style=\"color: #008000; text-decoration-color: #008000\">'golden_hour'</span>: <span style=\"color: #008000; text-decoration-color: #008000\">'6:09:31 PM'</span>,\n",
                            "        <span style=\"color: #008000; text-decoration-color: #008000\">'day_length'</span>: <span style=\"color: #008000; text-decoration-color: #008000\">'12:43:34'</span>,\n",
                            "        <span style=\"color: #008000; text-decoration-color: #008000\">'timezone'</span>: <span style=\"color: #008000; text-decoration-color: #008000\">'Asia/Kolkata'</span>\n",
                            "    <span style=\"font-weight: bold\">}</span>,\n",
                            "    <span style=\"color: #008000; text-decoration-color: #008000\">'status'</span>: <span style=\"color: #008000; text-decoration-color: #008000\">'OK'</span>\n",
                            "<span style=\"font-weight: bold\">}</span>\n",
                            "</pre>\n"
                        ],
                        "text/plain": [
                            "\n",
                            "\u001b[1m{\u001b[0m\n",
                            "    \u001b[32m'results'\u001b[0m: \u001b[1m{\u001b[0m\n",
                            "        \u001b[32m'sunrise'\u001b[0m: \u001b[32m'5:55:35 AM'\u001b[0m,\n",
                            "        \u001b[32m'sunset'\u001b[0m: \u001b[32m'6:39:09 PM'\u001b[0m,\n",
                            "        \u001b[32m'first_light'\u001b[0m: \u001b[32m'4:39:26 AM'\u001b[0m,\n",
                            "        \u001b[32m'last_light'\u001b[0m: \u001b[32m'7:55:19 PM'\u001b[0m,\n",
                            "        \u001b[32m'dawn'\u001b[0m: \u001b[32m'5:32:58 AM'\u001b[0m,\n",
                            "        \u001b[32m'dusk'\u001b[0m: \u001b[32m'7:01:47 PM'\u001b[0m,\n",
                            "        \u001b[32m'solar_noon'\u001b[0m: \u001b[32m'12:17:22 PM'\u001b[0m,\n",
                            "        \u001b[32m'golden_hour'\u001b[0m: \u001b[32m'6:09:31 PM'\u001b[0m,\n",
                            "        \u001b[32m'day_length'\u001b[0m: \u001b[32m'12:43:34'\u001b[0m,\n",
                            "        \u001b[32m'timezone'\u001b[0m: \u001b[32m'Asia/Kolkata'\u001b[0m\n",
                            "    \u001b[1m}\u001b[0m,\n",
                            "    \u001b[32m'status'\u001b[0m: \u001b[32m'OK'\u001b[0m\n",
                            "\u001b[1m}\u001b[0m\n"
                        ]
                    },
                    "metadata": {},
                    "output_type": "display_data"
                }
            ],
            "source": [
                "resp.json()"
            ]
        },
        {
            "cell_type": "code",
            "execution_count": 52,
            "metadata": {},
            "outputs": [],
            "source": [
                "url = \"https://www.httpbin.org/basic-auth/user1/pass2\""
            ]
        },
        {
            "cell_type": "code",
            "execution_count": 53,
            "metadata": {},
            "outputs": [
                {
                    "data": {
                        "text/html": [
                            "<pre style=\"white-space:pre;overflow-x:auto;line-height:normal;font-family:Menlo,'DejaVu Sans Mono',consolas,'Courier New',monospace\"><span style=\"font-weight: bold\">(&lt;</span><span style=\"color: #ff00ff; text-decoration-color: #ff00ff; font-weight: bold\">Response</span><span style=\"color: #000000; text-decoration-color: #000000\"> </span><span style=\"color: #000000; text-decoration-color: #000000; font-weight: bold\">[</span><span style=\"color: #008080; text-decoration-color: #008080; font-weight: bold\">401</span><span style=\"color: #000000; text-decoration-color: #000000; font-weight: bold\">]</span><span style=\"font-weight: bold\">&gt;</span>, <span style=\"color: #008000; text-decoration-color: #008000\">''</span><span style=\"font-weight: bold\">)</span>\n",
                            "</pre>\n"
                        ],
                        "text/plain": [
                            "\u001b[1m(\u001b[0m\u001b[1m<\u001b[0m\u001b[1;95mResponse\u001b[0m\u001b[39m \u001b[0m\u001b[1;39m[\u001b[0m\u001b[1;36m401\u001b[0m\u001b[1;39m]\u001b[0m\u001b[1m>\u001b[0m, \u001b[32m''\u001b[0m\u001b[1m)\u001b[0m\n"
                        ]
                    },
                    "metadata": {},
                    "output_type": "display_data"
                }
            ],
            "source": [
                "auth = (\"user2\", \"pass1\")\n",
                "resp = requests.get(url, auth=auth)\n",
                "resp, resp.text"
            ]
        },
        {
            "cell_type": "code",
            "execution_count": 54,
            "metadata": {},
            "outputs": [
                {
                    "data": {
                        "text/html": [
                            "<pre style=\"white-space:pre;overflow-x:auto;line-height:normal;font-family:Menlo,'DejaVu Sans Mono',consolas,'Courier New',monospace\"><span style=\"font-weight: bold\">(&lt;</span><span style=\"color: #ff00ff; text-decoration-color: #ff00ff; font-weight: bold\">Response</span><span style=\"color: #000000; text-decoration-color: #000000\"> </span><span style=\"color: #000000; text-decoration-color: #000000; font-weight: bold\">[</span><span style=\"color: #008080; text-decoration-color: #008080; font-weight: bold\">200</span><span style=\"color: #000000; text-decoration-color: #000000; font-weight: bold\">]</span><span style=\"font-weight: bold\">&gt;</span>, <span style=\"font-weight: bold\">{</span><span style=\"color: #008000; text-decoration-color: #008000\">'authenticated'</span>: <span style=\"color: #00ff00; text-decoration-color: #00ff00; font-style: italic\">True</span>, <span style=\"color: #008000; text-decoration-color: #008000\">'user'</span>: <span style=\"color: #008000; text-decoration-color: #008000\">'user1'</span><span style=\"font-weight: bold\">})</span>\n",
                            "</pre>\n"
                        ],
                        "text/plain": [
                            "\u001b[1m(\u001b[0m\u001b[1m<\u001b[0m\u001b[1;95mResponse\u001b[0m\u001b[39m \u001b[0m\u001b[1;39m[\u001b[0m\u001b[1;36m200\u001b[0m\u001b[1;39m]\u001b[0m\u001b[1m>\u001b[0m, \u001b[1m{\u001b[0m\u001b[32m'authenticated'\u001b[0m: \u001b[3;92mTrue\u001b[0m, \u001b[32m'user'\u001b[0m: \u001b[32m'user1'\u001b[0m\u001b[1m}\u001b[0m\u001b[1m)\u001b[0m\n"
                        ]
                    },
                    "metadata": {},
                    "output_type": "display_data"
                }
            ],
            "source": [
                "auth = (\"user1\", \"pass2\")\n",
                "resp = requests.get(url, auth=auth)\n",
                "resp, resp.json()"
            ]
        },
        {
            "cell_type": "code",
            "execution_count": 55,
            "metadata": {},
            "outputs": [],
            "source": [
                "url = \"https://www.httpbin.org/bearer\""
            ]
        },
        {
            "cell_type": "code",
            "execution_count": 56,
            "metadata": {},
            "outputs": [
                {
                    "data": {
                        "text/html": [
                            "<pre style=\"white-space:pre;overflow-x:auto;line-height:normal;font-family:Menlo,'DejaVu Sans Mono',consolas,'Courier New',monospace\"><span style=\"font-weight: bold\">(&lt;</span><span style=\"color: #ff00ff; text-decoration-color: #ff00ff; font-weight: bold\">Response</span><span style=\"color: #000000; text-decoration-color: #000000\"> </span><span style=\"color: #000000; text-decoration-color: #000000; font-weight: bold\">[</span><span style=\"color: #008080; text-decoration-color: #008080; font-weight: bold\">401</span><span style=\"color: #000000; text-decoration-color: #000000; font-weight: bold\">]</span><span style=\"font-weight: bold\">&gt;</span>, <span style=\"color: #008000; text-decoration-color: #008000\">''</span><span style=\"font-weight: bold\">)</span>\n",
                            "</pre>\n"
                        ],
                        "text/plain": [
                            "\u001b[1m(\u001b[0m\u001b[1m<\u001b[0m\u001b[1;95mResponse\u001b[0m\u001b[39m \u001b[0m\u001b[1;39m[\u001b[0m\u001b[1;36m401\u001b[0m\u001b[1;39m]\u001b[0m\u001b[1m>\u001b[0m, \u001b[32m''\u001b[0m\u001b[1m)\u001b[0m\n"
                        ]
                    },
                    "metadata": {},
                    "output_type": "display_data"
                }
            ],
            "source": [
                "headers = {\"Authorization\": \"test\"}\n",
                "resp = requests.get(url, headers=headers)\n",
                "resp, resp.text"
            ]
        },
        {
            "cell_type": "code",
            "execution_count": 58,
            "metadata": {},
            "outputs": [
                {
                    "data": {
                        "text/html": [
                            "<pre style=\"white-space:pre;overflow-x:auto;line-height:normal;font-family:Menlo,'DejaVu Sans Mono',consolas,'Courier New',monospace\"><span style=\"font-weight: bold\">(&lt;</span><span style=\"color: #ff00ff; text-decoration-color: #ff00ff; font-weight: bold\">Response</span><span style=\"color: #000000; text-decoration-color: #000000\"> </span><span style=\"color: #000000; text-decoration-color: #000000; font-weight: bold\">[</span><span style=\"color: #008080; text-decoration-color: #008080; font-weight: bold\">200</span><span style=\"color: #000000; text-decoration-color: #000000; font-weight: bold\">]</span><span style=\"font-weight: bold\">&gt;</span>, <span style=\"font-weight: bold\">{</span><span style=\"color: #008000; text-decoration-color: #008000\">'authenticated'</span>: <span style=\"color: #00ff00; text-decoration-color: #00ff00; font-style: italic\">True</span>, <span style=\"color: #008000; text-decoration-color: #008000\">'token'</span>: <span style=\"color: #008000; text-decoration-color: #008000\">'test'</span><span style=\"font-weight: bold\">})</span>\n",
                            "</pre>\n"
                        ],
                        "text/plain": [
                            "\u001b[1m(\u001b[0m\u001b[1m<\u001b[0m\u001b[1;95mResponse\u001b[0m\u001b[39m \u001b[0m\u001b[1;39m[\u001b[0m\u001b[1;36m200\u001b[0m\u001b[1;39m]\u001b[0m\u001b[1m>\u001b[0m, \u001b[1m{\u001b[0m\u001b[32m'authenticated'\u001b[0m: \u001b[3;92mTrue\u001b[0m, \u001b[32m'token'\u001b[0m: \u001b[32m'test'\u001b[0m\u001b[1m}\u001b[0m\u001b[1m)\u001b[0m\n"
                        ]
                    },
                    "metadata": {},
                    "output_type": "display_data"
                }
            ],
            "source": [
                "headers = {\"Authorization\": \"Bearer test\"}\n",
                "resp = requests.get(url, headers=headers)\n",
                "resp, resp.json()"
            ]
        },
        {
            "cell_type": "code",
            "execution_count": 59,
            "metadata": {},
            "outputs": [
                {
                    "data": {
                        "text/html": [
                            "<pre style=\"white-space:pre;overflow-x:auto;line-height:normal;font-family:Menlo,'DejaVu Sans Mono',consolas,'Courier New',monospace\">\n",
                            "<span style=\"font-weight: bold\">{</span>\n",
                            "    <span style=\"color: #008000; text-decoration-color: #008000\">'args'</span>: <span style=\"font-weight: bold\">{}</span>,\n",
                            "    <span style=\"color: #008000; text-decoration-color: #008000\">'data'</span>: <span style=\"color: #008000; text-decoration-color: #008000\">''</span>,\n",
                            "    <span style=\"color: #008000; text-decoration-color: #008000\">'files'</span>: <span style=\"font-weight: bold\">{}</span>,\n",
                            "    <span style=\"color: #008000; text-decoration-color: #008000\">'form'</span>: <span style=\"font-weight: bold\">{</span>\n",
                            "        <span style=\"color: #008000; text-decoration-color: #008000\">'email'</span>: <span style=\"color: #008000; text-decoration-color: #008000\">'evelyn@gmail.com'</span>,\n",
                            "        <span style=\"color: #008000; text-decoration-color: #008000\">'movie'</span>: <span style=\"color: #008000; text-decoration-color: #008000\">'Everything Everywhere All at Once'</span>\n",
                            "    <span style=\"font-weight: bold\">}</span>,\n",
                            "    <span style=\"color: #008000; text-decoration-color: #008000\">'headers'</span>: <span style=\"font-weight: bold\">{</span>\n",
                            "        <span style=\"color: #008000; text-decoration-color: #008000\">'Accept'</span>: <span style=\"color: #008000; text-decoration-color: #008000\">'*/*'</span>,\n",
                            "        <span style=\"color: #008000; text-decoration-color: #008000\">'Accept-Encoding'</span>: <span style=\"color: #008000; text-decoration-color: #008000\">'gzip, deflate, br'</span>,\n",
                            "        <span style=\"color: #008000; text-decoration-color: #008000\">'Content-Length'</span>: <span style=\"color: #008000; text-decoration-color: #008000\">'64'</span>,\n",
                            "        <span style=\"color: #008000; text-decoration-color: #008000\">'Content-Type'</span>: <span style=\"color: #008000; text-decoration-color: #008000\">'application/x-www-form-urlencoded'</span>,\n",
                            "        <span style=\"color: #008000; text-decoration-color: #008000\">'Host'</span>: <span style=\"color: #008000; text-decoration-color: #008000\">'www.httpbin.org'</span>,\n",
                            "        <span style=\"color: #008000; text-decoration-color: #008000\">'User-Agent'</span>: <span style=\"color: #008000; text-decoration-color: #008000\">'python-requests/2.30.0'</span>,\n",
                            "        <span style=\"color: #008000; text-decoration-color: #008000\">'X-Amzn-Trace-Id'</span>: <span style=\"color: #008000; text-decoration-color: #008000\">'Root=1-64631e9d-3dc48bc5562791e55f75cba2'</span>\n",
                            "    <span style=\"font-weight: bold\">}</span>,\n",
                            "    <span style=\"color: #008000; text-decoration-color: #008000\">'json'</span>: <span style=\"color: #800080; text-decoration-color: #800080; font-style: italic\">None</span>,\n",
                            "    <span style=\"color: #008000; text-decoration-color: #008000\">'url'</span>: <span style=\"color: #008000; text-decoration-color: #008000\">'https://www.httpbin.org/post'</span>\n",
                            "<span style=\"font-weight: bold\">}</span>\n",
                            "</pre>\n"
                        ],
                        "text/plain": [
                            "\n",
                            "\u001b[1m{\u001b[0m\n",
                            "    \u001b[32m'args'\u001b[0m: \u001b[1m{\u001b[0m\u001b[1m}\u001b[0m,\n",
                            "    \u001b[32m'data'\u001b[0m: \u001b[32m''\u001b[0m,\n",
                            "    \u001b[32m'files'\u001b[0m: \u001b[1m{\u001b[0m\u001b[1m}\u001b[0m,\n",
                            "    \u001b[32m'form'\u001b[0m: \u001b[1m{\u001b[0m\n",
                            "        \u001b[32m'email'\u001b[0m: \u001b[32m'evelyn@gmail.com'\u001b[0m,\n",
                            "        \u001b[32m'movie'\u001b[0m: \u001b[32m'Everything Everywhere All at Once'\u001b[0m\n",
                            "    \u001b[1m}\u001b[0m,\n",
                            "    \u001b[32m'headers'\u001b[0m: \u001b[1m{\u001b[0m\n",
                            "        \u001b[32m'Accept'\u001b[0m: \u001b[32m'*/*'\u001b[0m,\n",
                            "        \u001b[32m'Accept-Encoding'\u001b[0m: \u001b[32m'gzip, deflate, br'\u001b[0m,\n",
                            "        \u001b[32m'Content-Length'\u001b[0m: \u001b[32m'64'\u001b[0m,\n",
                            "        \u001b[32m'Content-Type'\u001b[0m: \u001b[32m'application/x-www-form-urlencoded'\u001b[0m,\n",
                            "        \u001b[32m'Host'\u001b[0m: \u001b[32m'www.httpbin.org'\u001b[0m,\n",
                            "        \u001b[32m'User-Agent'\u001b[0m: \u001b[32m'python-requests/2.30.0'\u001b[0m,\n",
                            "        \u001b[32m'X-Amzn-Trace-Id'\u001b[0m: \u001b[32m'\u001b[0m\u001b[32mRoot\u001b[0m\u001b[32m=\u001b[0m\u001b[32m1\u001b[0m\u001b[32m-64631e9d-3dc48bc5562791e55f75cba2'\u001b[0m\n",
                            "    \u001b[1m}\u001b[0m,\n",
                            "    \u001b[32m'json'\u001b[0m: \u001b[3;35mNone\u001b[0m,\n",
                            "    \u001b[32m'url'\u001b[0m: \u001b[32m'https://www.httpbin.org/post'\u001b[0m\n",
                            "\u001b[1m}\u001b[0m\n"
                        ]
                    },
                    "metadata": {},
                    "output_type": "display_data"
                }
            ],
            "source": [
                "# POST request\n",
                "# form-urlencoded\n",
                "url = \"https://www.httpbin.org/post\"\n",
                "data = {\"movie\": \"Everything Everywhere All at Once\", \"email\": \"evelyn@gmail.com\"}\n",
                "resp = requests.post(url, data=data)\n",
                "data = resp.json()\n",
                "del data[\"origin\"]  # remove IP\n",
                "data"
            ]
        },
        {
            "cell_type": "code",
            "execution_count": 60,
            "metadata": {},
            "outputs": [
                {
                    "data": {
                        "text/html": [
                            "<pre style=\"white-space:pre;overflow-x:auto;line-height:normal;font-family:Menlo,'DejaVu Sans Mono',consolas,'Courier New',monospace\">\n",
                            "<span style=\"font-weight: bold\">(</span>\n",
                            "    <span style=\"color: #008000; text-decoration-color: #008000\">'https://www.httpbin.org/post'</span>,\n",
                            "    <span style=\"color: #008000; text-decoration-color: #008000\">'movie=Everything+Everywhere+All+at+Once&amp;email=evelyn%40gmail.com'</span>\n",
                            "<span style=\"font-weight: bold\">)</span>\n",
                            "</pre>\n"
                        ],
                        "text/plain": [
                            "\n",
                            "\u001b[1m(\u001b[0m\n",
                            "    \u001b[32m'https://www.httpbin.org/post'\u001b[0m,\n",
                            "    \u001b[32m'\u001b[0m\u001b[32mmovie\u001b[0m\u001b[32m=\u001b[0m\u001b[32mEverything\u001b[0m\u001b[32m+Everywhere+All+at+Once&\u001b[0m\u001b[32memail\u001b[0m\u001b[32m=\u001b[0m\u001b[32mevelyn\u001b[0m\u001b[32m%40gmail.com'\u001b[0m\n",
                            "\u001b[1m)\u001b[0m\n"
                        ]
                    },
                    "metadata": {},
                    "output_type": "display_data"
                }
            ],
            "source": [
                "resp.url, resp.request.body"
            ]
        },
        {
            "cell_type": "code",
            "execution_count": null,
            "metadata": {},
            "outputs": [],
            "source": []
        },
        {
            "cell_type": "code",
            "execution_count": 61,
            "metadata": {},
            "outputs": [
                {
                    "data": {
                        "text/html": [
                            "<pre style=\"white-space:pre;overflow-x:auto;line-height:normal;font-family:Menlo,'DejaVu Sans Mono',consolas,'Courier New',monospace\">\n",
                            "<span style=\"font-weight: bold\">{</span>\n",
                            "    <span style=\"color: #008000; text-decoration-color: #008000\">'args'</span>: <span style=\"font-weight: bold\">{}</span>,\n",
                            "    <span style=\"color: #008000; text-decoration-color: #008000\">'data'</span>: <span style=\"color: #008000; text-decoration-color: #008000\">'Everything Everywhere All at Once'</span>,\n",
                            "    <span style=\"color: #008000; text-decoration-color: #008000\">'files'</span>: <span style=\"font-weight: bold\">{}</span>,\n",
                            "    <span style=\"color: #008000; text-decoration-color: #008000\">'form'</span>: <span style=\"font-weight: bold\">{}</span>,\n",
                            "    <span style=\"color: #008000; text-decoration-color: #008000\">'headers'</span>: <span style=\"font-weight: bold\">{</span>\n",
                            "        <span style=\"color: #008000; text-decoration-color: #008000\">'Accept'</span>: <span style=\"color: #008000; text-decoration-color: #008000\">'*/*'</span>,\n",
                            "        <span style=\"color: #008000; text-decoration-color: #008000\">'Accept-Encoding'</span>: <span style=\"color: #008000; text-decoration-color: #008000\">'gzip, deflate, br'</span>,\n",
                            "        <span style=\"color: #008000; text-decoration-color: #008000\">'Content-Length'</span>: <span style=\"color: #008000; text-decoration-color: #008000\">'33'</span>,\n",
                            "        <span style=\"color: #008000; text-decoration-color: #008000\">'Host'</span>: <span style=\"color: #008000; text-decoration-color: #008000\">'www.httpbin.org'</span>,\n",
                            "        <span style=\"color: #008000; text-decoration-color: #008000\">'User-Agent'</span>: <span style=\"color: #008000; text-decoration-color: #008000\">'python-requests/2.30.0'</span>,\n",
                            "        <span style=\"color: #008000; text-decoration-color: #008000\">'X-Amzn-Trace-Id'</span>: <span style=\"color: #008000; text-decoration-color: #008000\">'Root=1-64631ea2-26f53dfa4646a44a23ee8386'</span>\n",
                            "    <span style=\"font-weight: bold\">}</span>,\n",
                            "    <span style=\"color: #008000; text-decoration-color: #008000\">'json'</span>: <span style=\"color: #800080; text-decoration-color: #800080; font-style: italic\">None</span>,\n",
                            "    <span style=\"color: #008000; text-decoration-color: #008000\">'url'</span>: <span style=\"color: #008000; text-decoration-color: #008000\">'https://www.httpbin.org/post'</span>\n",
                            "<span style=\"font-weight: bold\">}</span>\n",
                            "</pre>\n"
                        ],
                        "text/plain": [
                            "\n",
                            "\u001b[1m{\u001b[0m\n",
                            "    \u001b[32m'args'\u001b[0m: \u001b[1m{\u001b[0m\u001b[1m}\u001b[0m,\n",
                            "    \u001b[32m'data'\u001b[0m: \u001b[32m'Everything Everywhere All at Once'\u001b[0m,\n",
                            "    \u001b[32m'files'\u001b[0m: \u001b[1m{\u001b[0m\u001b[1m}\u001b[0m,\n",
                            "    \u001b[32m'form'\u001b[0m: \u001b[1m{\u001b[0m\u001b[1m}\u001b[0m,\n",
                            "    \u001b[32m'headers'\u001b[0m: \u001b[1m{\u001b[0m\n",
                            "        \u001b[32m'Accept'\u001b[0m: \u001b[32m'*/*'\u001b[0m,\n",
                            "        \u001b[32m'Accept-Encoding'\u001b[0m: \u001b[32m'gzip, deflate, br'\u001b[0m,\n",
                            "        \u001b[32m'Content-Length'\u001b[0m: \u001b[32m'33'\u001b[0m,\n",
                            "        \u001b[32m'Host'\u001b[0m: \u001b[32m'www.httpbin.org'\u001b[0m,\n",
                            "        \u001b[32m'User-Agent'\u001b[0m: \u001b[32m'python-requests/2.30.0'\u001b[0m,\n",
                            "        \u001b[32m'X-Amzn-Trace-Id'\u001b[0m: \u001b[32m'\u001b[0m\u001b[32mRoot\u001b[0m\u001b[32m=\u001b[0m\u001b[32m1\u001b[0m\u001b[32m-64631ea2-26f53dfa4646a44a23ee8386'\u001b[0m\n",
                            "    \u001b[1m}\u001b[0m,\n",
                            "    \u001b[32m'json'\u001b[0m: \u001b[3;35mNone\u001b[0m,\n",
                            "    \u001b[32m'url'\u001b[0m: \u001b[32m'https://www.httpbin.org/post'\u001b[0m\n",
                            "\u001b[1m}\u001b[0m\n"
                        ]
                    },
                    "metadata": {},
                    "output_type": "display_data"
                }
            ],
            "source": [
                "# POST request\n",
                "# text data\n",
                "url = \"https://www.httpbin.org/post\"\n",
                "data = \"Everything Everywhere All at Once\"\n",
                "resp = requests.post(url, data=data)\n",
                "data = resp.json()\n",
                "del data[\"origin\"]  # remove IP\n",
                "data"
            ]
        },
        {
            "cell_type": "code",
            "execution_count": 62,
            "metadata": {},
            "outputs": [
                {
                    "data": {
                        "text/html": [
                            "<pre style=\"white-space:pre;overflow-x:auto;line-height:normal;font-family:Menlo,'DejaVu Sans Mono',consolas,'Courier New',monospace\"><span style=\"font-weight: bold\">(</span><span style=\"color: #008000; text-decoration-color: #008000\">'https://www.httpbin.org/post'</span>, <span style=\"color: #008000; text-decoration-color: #008000\">'Everything Everywhere All at Once'</span><span style=\"font-weight: bold\">)</span>\n",
                            "</pre>\n"
                        ],
                        "text/plain": [
                            "\u001b[1m(\u001b[0m\u001b[32m'https://www.httpbin.org/post'\u001b[0m, \u001b[32m'Everything Everywhere All at Once'\u001b[0m\u001b[1m)\u001b[0m\n"
                        ]
                    },
                    "metadata": {},
                    "output_type": "display_data"
                }
            ],
            "source": [
                "resp.url, resp.request.body"
            ]
        },
        {
            "cell_type": "code",
            "execution_count": null,
            "metadata": {},
            "outputs": [],
            "source": []
        },
        {
            "cell_type": "code",
            "execution_count": 63,
            "metadata": {},
            "outputs": [
                {
                    "data": {
                        "text/html": [
                            "<pre style=\"white-space:pre;overflow-x:auto;line-height:normal;font-family:Menlo,'DejaVu Sans Mono',consolas,'Courier New',monospace\">\n",
                            "<span style=\"font-weight: bold\">{</span>\n",
                            "    <span style=\"color: #008000; text-decoration-color: #008000\">'args'</span>: <span style=\"font-weight: bold\">{}</span>,\n",
                            "    <span style=\"color: #008000; text-decoration-color: #008000\">'data'</span>: <span style=\"color: #008000; text-decoration-color: #008000\">'{\"movie\": \"Everything Everywhere All at Once\", \"email\": \"evelyn@gmail.com\"}'</span>,\n",
                            "    <span style=\"color: #008000; text-decoration-color: #008000\">'files'</span>: <span style=\"font-weight: bold\">{}</span>,\n",
                            "    <span style=\"color: #008000; text-decoration-color: #008000\">'form'</span>: <span style=\"font-weight: bold\">{}</span>,\n",
                            "    <span style=\"color: #008000; text-decoration-color: #008000\">'headers'</span>: <span style=\"font-weight: bold\">{</span>\n",
                            "        <span style=\"color: #008000; text-decoration-color: #008000\">'Accept'</span>: <span style=\"color: #008000; text-decoration-color: #008000\">'*/*'</span>,\n",
                            "        <span style=\"color: #008000; text-decoration-color: #008000\">'Accept-Encoding'</span>: <span style=\"color: #008000; text-decoration-color: #008000\">'gzip, deflate, br'</span>,\n",
                            "        <span style=\"color: #008000; text-decoration-color: #008000\">'Content-Length'</span>: <span style=\"color: #008000; text-decoration-color: #008000\">'75'</span>,\n",
                            "        <span style=\"color: #008000; text-decoration-color: #008000\">'Content-Type'</span>: <span style=\"color: #008000; text-decoration-color: #008000\">'application/json'</span>,\n",
                            "        <span style=\"color: #008000; text-decoration-color: #008000\">'Host'</span>: <span style=\"color: #008000; text-decoration-color: #008000\">'www.httpbin.org'</span>,\n",
                            "        <span style=\"color: #008000; text-decoration-color: #008000\">'User-Agent'</span>: <span style=\"color: #008000; text-decoration-color: #008000\">'python-requests/2.30.0'</span>,\n",
                            "        <span style=\"color: #008000; text-decoration-color: #008000\">'X-Amzn-Trace-Id'</span>: <span style=\"color: #008000; text-decoration-color: #008000\">'Root=1-64631ea6-3b2f3d4d69930dc26383d93a'</span>\n",
                            "    <span style=\"font-weight: bold\">}</span>,\n",
                            "    <span style=\"color: #008000; text-decoration-color: #008000\">'json'</span>: <span style=\"font-weight: bold\">{</span>\n",
                            "        <span style=\"color: #008000; text-decoration-color: #008000\">'email'</span>: <span style=\"color: #008000; text-decoration-color: #008000\">'evelyn@gmail.com'</span>,\n",
                            "        <span style=\"color: #008000; text-decoration-color: #008000\">'movie'</span>: <span style=\"color: #008000; text-decoration-color: #008000\">'Everything Everywhere All at Once'</span>\n",
                            "    <span style=\"font-weight: bold\">}</span>,\n",
                            "    <span style=\"color: #008000; text-decoration-color: #008000\">'url'</span>: <span style=\"color: #008000; text-decoration-color: #008000\">'https://www.httpbin.org/post'</span>\n",
                            "<span style=\"font-weight: bold\">}</span>\n",
                            "</pre>\n"
                        ],
                        "text/plain": [
                            "\n",
                            "\u001b[1m{\u001b[0m\n",
                            "    \u001b[32m'args'\u001b[0m: \u001b[1m{\u001b[0m\u001b[1m}\u001b[0m,\n",
                            "    \u001b[32m'data'\u001b[0m: \u001b[32m'\u001b[0m\u001b[32m{\u001b[0m\u001b[32m\"movie\": \"Everything Everywhere All at Once\", \"email\": \"evelyn@gmail.com\"\u001b[0m\u001b[32m}\u001b[0m\u001b[32m'\u001b[0m,\n",
                            "    \u001b[32m'files'\u001b[0m: \u001b[1m{\u001b[0m\u001b[1m}\u001b[0m,\n",
                            "    \u001b[32m'form'\u001b[0m: \u001b[1m{\u001b[0m\u001b[1m}\u001b[0m,\n",
                            "    \u001b[32m'headers'\u001b[0m: \u001b[1m{\u001b[0m\n",
                            "        \u001b[32m'Accept'\u001b[0m: \u001b[32m'*/*'\u001b[0m,\n",
                            "        \u001b[32m'Accept-Encoding'\u001b[0m: \u001b[32m'gzip, deflate, br'\u001b[0m,\n",
                            "        \u001b[32m'Content-Length'\u001b[0m: \u001b[32m'75'\u001b[0m,\n",
                            "        \u001b[32m'Content-Type'\u001b[0m: \u001b[32m'application/json'\u001b[0m,\n",
                            "        \u001b[32m'Host'\u001b[0m: \u001b[32m'www.httpbin.org'\u001b[0m,\n",
                            "        \u001b[32m'User-Agent'\u001b[0m: \u001b[32m'python-requests/2.30.0'\u001b[0m,\n",
                            "        \u001b[32m'X-Amzn-Trace-Id'\u001b[0m: \u001b[32m'\u001b[0m\u001b[32mRoot\u001b[0m\u001b[32m=\u001b[0m\u001b[32m1\u001b[0m\u001b[32m-64631ea6-3b2f3d4d69930dc26383d93a'\u001b[0m\n",
                            "    \u001b[1m}\u001b[0m,\n",
                            "    \u001b[32m'json'\u001b[0m: \u001b[1m{\u001b[0m\n",
                            "        \u001b[32m'email'\u001b[0m: \u001b[32m'evelyn@gmail.com'\u001b[0m,\n",
                            "        \u001b[32m'movie'\u001b[0m: \u001b[32m'Everything Everywhere All at Once'\u001b[0m\n",
                            "    \u001b[1m}\u001b[0m,\n",
                            "    \u001b[32m'url'\u001b[0m: \u001b[32m'https://www.httpbin.org/post'\u001b[0m\n",
                            "\u001b[1m}\u001b[0m\n"
                        ]
                    },
                    "metadata": {},
                    "output_type": "display_data"
                }
            ],
            "source": [
                "# POST request\n",
                "# JSON body\n",
                "url = \"https://www.httpbin.org/post\"\n",
                "data = {\"movie\": \"Everything Everywhere All at Once\", \"email\": \"evelyn@gmail.com\"}\n",
                "resp = requests.post(url, json=data)\n",
                "data = resp.json()\n",
                "del data[\"origin\"]  # remove IP\n",
                "data"
            ]
        },
        {
            "cell_type": "code",
            "execution_count": 64,
            "metadata": {},
            "outputs": [
                {
                    "data": {
                        "text/html": [
                            "<pre style=\"white-space:pre;overflow-x:auto;line-height:normal;font-family:Menlo,'DejaVu Sans Mono',consolas,'Courier New',monospace\">\n",
                            "<span style=\"font-weight: bold\">(</span>\n",
                            "    <span style=\"color: #008000; text-decoration-color: #008000\">'https://www.httpbin.org/post'</span>,\n",
                            "    <span style=\"color: #008000; text-decoration-color: #008000\">b'{\"movie\": \"Everything Everywhere All at Once\", \"email\": \"evelyn@gmail.com\"}'</span>\n",
                            "<span style=\"font-weight: bold\">)</span>\n",
                            "</pre>\n"
                        ],
                        "text/plain": [
                            "\n",
                            "\u001b[1m(\u001b[0m\n",
                            "    \u001b[32m'https://www.httpbin.org/post'\u001b[0m,\n",
                            "    \u001b[32mb'\u001b[0m\u001b[32m{\u001b[0m\u001b[32m\"movie\": \"Everything Everywhere All at Once\", \"email\": \"evelyn@gmail.com\"\u001b[0m\u001b[32m}\u001b[0m\u001b[32m'\u001b[0m\n",
                            "\u001b[1m)\u001b[0m\n"
                        ]
                    },
                    "metadata": {},
                    "output_type": "display_data"
                }
            ],
            "source": [
                "resp.url, resp.request.body"
            ]
        },
        {
            "cell_type": "code",
            "execution_count": null,
            "metadata": {},
            "outputs": [],
            "source": []
        }
    ],
    "metadata": {
        "kernelspec": {
            "display_name": "base",
            "language": "python",
            "name": "python3"
        },
        "language_info": {
            "codemirror_mode": {
                "name": "ipython",
                "version": 3
            },
            "file_extension": ".py",
            "mimetype": "text/x-python",
            "name": "python",
            "nbconvert_exporter": "python",
            "pygments_lexer": "ipython3",
            "version": "3.8.12"
        },
        "orig_nbformat": 4
    },
    "nbformat": 4,
    "nbformat_minor": 2
}