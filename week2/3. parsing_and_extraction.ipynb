{
    "cells": [
        {
            "attachments": {},
            "cell_type": "markdown",
            "metadata": {},
            "source": [
                "## Section 5: Parsing And Extraction"
            ]
        },
        {
            "attachments": {},
            "cell_type": "markdown",
            "metadata": {},
            "source": [
                "### BeautifulSoup"
            ]
        },
        {
            "cell_type": "code",
            "execution_count": 83,
            "metadata": {},
            "outputs": [],
            "source": [
                "# !pip install beautifulsoup4"
            ]
        },
        {
            "cell_type": "code",
            "execution_count": 84,
            "metadata": {},
            "outputs": [],
            "source": [
                "import requests\n",
                "from bs4 import BeautifulSoup"
            ]
        },
        {
            "cell_type": "code",
            "execution_count": 85,
            "metadata": {},
            "outputs": [
                {
                    "data": {
                        "text/html": [
                            "<pre style=\"white-space:pre;overflow-x:auto;line-height:normal;font-family:Menlo,'DejaVu Sans Mono',consolas,'Courier New',monospace\"><span style=\"font-weight: bold\">&lt;</span><span style=\"color: #ff00ff; text-decoration-color: #ff00ff; font-weight: bold\">Response</span><span style=\"color: #000000; text-decoration-color: #000000\"> </span><span style=\"color: #000000; text-decoration-color: #000000; font-weight: bold\">[</span><span style=\"color: #008080; text-decoration-color: #008080; font-weight: bold\">200</span><span style=\"color: #000000; text-decoration-color: #000000; font-weight: bold\">]</span><span style=\"font-weight: bold\">&gt;</span>\n",
                            "</pre>\n"
                        ],
                        "text/plain": [
                            "\u001b[1m<\u001b[0m\u001b[1;95mResponse\u001b[0m\u001b[39m \u001b[0m\u001b[1;39m[\u001b[0m\u001b[1;36m200\u001b[0m\u001b[1;39m]\u001b[0m\u001b[1m>\u001b[0m\n"
                        ]
                    },
                    "metadata": {},
                    "output_type": "display_data"
                }
            ],
            "source": [
                "url = \"https://books.toscrape.com\"\n",
                "resp = requests.get(url)\n",
                "resp"
            ]
        },
        {
            "cell_type": "code",
            "execution_count": 86,
            "metadata": {},
            "outputs": [],
            "source": [
                "soup = BeautifulSoup(resp.content, \"html.parser\")"
            ]
        },
        {
            "attachments": {},
            "cell_type": "markdown",
            "metadata": {},
            "source": [
                "### Tags"
            ]
        },
        {
            "cell_type": "code",
            "execution_count": 87,
            "metadata": {},
            "outputs": [
                {
                    "data": {
                        "text/html": [
                            "<pre style=\"white-space:pre;overflow-x:auto;line-height:normal;font-family:Menlo,'DejaVu Sans Mono',consolas,'Courier New',monospace\">\n",
                            "<span style=\"font-weight: bold\">&lt;</span><span style=\"color: #ff00ff; text-decoration-color: #ff00ff; font-weight: bold\">title</span><span style=\"font-weight: bold\">&gt;</span>\n",
                            "    All products | Books to Scrape - Sandbox\n",
                            "<span style=\"font-weight: bold\">&lt;</span><span style=\"color: #800080; text-decoration-color: #800080\">/</span><span style=\"color: #ff00ff; text-decoration-color: #ff00ff\">title</span><span style=\"font-weight: bold\">&gt;</span>\n",
                            "</pre>\n"
                        ],
                        "text/plain": [
                            "\n",
                            "\u001b[1m<\u001b[0m\u001b[1;95mtitle\u001b[0m\u001b[1m>\u001b[0m\n",
                            "    All products | Books to Scrape - Sandbox\n",
                            "\u001b[1m<\u001b[0m\u001b[35m/\u001b[0m\u001b[95mtitle\u001b[0m\u001b[1m>\u001b[0m\n"
                        ]
                    },
                    "metadata": {},
                    "output_type": "display_data"
                }
            ],
            "source": [
                "soup.title"
            ]
        },
        {
            "cell_type": "code",
            "execution_count": 88,
            "metadata": {},
            "outputs": [
                {
                    "name": "stdout",
                    "output_type": "stream",
                    "text": [
                        "<!DOCTYPE html>\n",
                        "<!--[if lt IE 7]>      <html lang=\"en-us\" class=\"no-js lt-ie9 lt-ie8 lt-ie7\"> <![endif]-->\n",
                        "<!--[if IE 7]>         <html lang=\"en-us\" class=\"no-js lt-ie9 lt-ie8\"> <![endif]-->\n",
                        "<!--[if IE 8]>         <html lang=\"en-us\" class=\"no-js lt-ie9\"> <![endif]-->\n",
                        "<!--[if gt IE 8]><!-->\n",
                        "<html class=\"no-js\" lang=\"en-us\">\n",
                        " <!--<![endif]-->\n",
                        " <head>\n",
                        "  <title>\n",
                        "   All products | Books to Scrape - Sandbox\n",
                        "  </title>\n",
                        "  <meta content=\"text/html; charset=utf-8\" http-equiv=\"content-type\"/>\n",
                        "  <meta content=\"24th Jun 2016 09:29\" name=\"created\"/>\n",
                        "  <meta content=\"\" name=\"description\"/>\n",
                        "  <meta content=\"width=device-width\" name=\"viewport\"/>\n",
                        "  <meta content=\"NOARCHIVE,NOCACHE\" name=\"robots\"/>\n",
                        "  <!-- Le HTML5 shim, for IE6-8 support of HTML elements -->\n",
                        "  <!--[if lt IE 9]>\n",
                        "        <script src=\"//html5shim.googlecode.com/svn/trunk/html5.js\"></script>\n",
                        "        <![endif]-->\n",
                        "  <link href=\"static/oscar/favicon.ico\" rel=\"shortcut icon\"/>\n",
                        "  <link href=\"static/oscar/css/styles.css\" rel=\"stylesheet\" type=\"text/css\"/>\n",
                        "  <link href=\"static/oscar/js/bootstrap-datetimepicker/bootstrap-datetimepicker.css\" rel=\"stylesheet\"/>\n",
                        "  <link href=\"static/oscar/css/datetimepicker.css\" rel=\"stylesheet\" type=\"text/css\"/>\n",
                        " </head>\n",
                        " <body class=\"default\" id=\"default\">\n",
                        "  <header class=\"header container-fluid\">\n",
                        "   <div class=\"page_inner\">\n",
                        "    <div class=\"row\">\n",
                        "     <div class=\"col-sm-8 h1\">\n",
                        "      <a href=\"index.html\">\n",
                        "       Books to Scrape\n",
                        "      </a>\n",
                        "      <small>\n",
                        "       We love being scraped!\n",
                        "      </small>\n",
                        "     </div>\n",
                        "    </div>\n",
                        "   </div>\n",
                        "  </header>\n",
                        "  <div class=\"container-fluid page\">\n",
                        "   <div class=\"page_inner\">\n",
                        "    <ul class=\"breadcrumb\">\n",
                        "     <li>\n",
                        "      <a href=\"index.html\">\n",
                        "       Home\n",
                        "      </a>\n",
                        "     </li>\n",
                        "     <li class=\"active\">\n",
                        "      All products\n",
                        "     </li>\n",
                        "    </ul>\n",
                        "    <div class=\"row\">\n",
                        "     <aside class=\"sidebar col-sm-4 col-md-3\">\n",
                        "      <div id=\"promotions_left\">\n",
                        "      </div>\n",
                        "      <div class=\"side_categories\">\n",
                        "       <ul class=\"nav nav-list\">\n",
                        "        <li>\n",
                        "         <a href=\"catalogue/category/books_1/index.html\">\n",
                        "          Books\n",
                        "         </a>\n",
                        "         <ul>\n",
                        "          <li>\n",
                        "           <a href=\"catalogue/category/books/travel_2/index.html\">\n",
                        "            Travel\n",
                        "           </a>\n",
                        "          </li>\n",
                        "          <li>\n",
                        "           <a href=\"catalogue/category/books/mystery_3/index.html\">\n",
                        "            Mystery\n",
                        "           </a>\n",
                        "          </li>\n",
                        "          <li>\n",
                        "           <a href=\"catalogue/category/books/historical-fiction_4/index.html\">\n",
                        "            Historical Fiction\n",
                        "           </a>\n",
                        "          </li>\n",
                        "          <li>\n",
                        "           <a href=\"catalogue/category/books/sequential-art_5/index.html\">\n",
                        "            Sequential Art\n",
                        "           </a>\n",
                        "          </li>\n",
                        "          <li>\n",
                        "           <a href=\"catalogue/category/books/classics_6/index.html\">\n",
                        "            Classics\n",
                        "           </a>\n",
                        "          </li>\n",
                        "          <li>\n",
                        "           <a href=\"catalogue/category/books/philosophy_7/index.html\">\n",
                        "            Philosophy\n",
                        "           </a>\n",
                        "          </li>\n",
                        "          <li>\n",
                        "           <a href=\"catalogue/category/books/romance_8/index.html\">\n",
                        "            Romance\n",
                        "           </a>\n",
                        "          </li>\n",
                        "          <li>\n",
                        "           <a href=\"catalogue/category/books/womens-fiction_9/index.html\">\n",
                        "            Womens Fiction\n",
                        "           </a>\n",
                        "          </li>\n",
                        "          <li>\n",
                        "           <a href=\"catalogue/category/books/fiction_10/index.html\">\n",
                        "            Fiction\n",
                        "           </a>\n",
                        "          </li>\n",
                        "          <li>\n",
                        "           <a href=\"catalogue/category/books/childrens_11/index.html\">\n",
                        "            Childrens\n",
                        "           </a>\n",
                        "          </li>\n",
                        "          <li>\n",
                        "           <a href=\"catalogue/category/books/religion_12/index.html\">\n",
                        "            Religion\n",
                        "           </a>\n",
                        "          </li>\n",
                        "          <li>\n",
                        "           <a href=\"catalogue/category/books/nonfiction_13/index.html\">\n",
                        "            Nonfiction\n",
                        "           </a>\n",
                        "          </li>\n",
                        "          <li>\n",
                        "           <a href=\"catalogue/category/books/music_14/index.html\">\n",
                        "            Music\n",
                        "           </a>\n",
                        "          </li>\n",
                        "          <li>\n",
                        "           <a href=\"catalogue/category/books/default_15/index.html\">\n",
                        "            Default\n",
                        "           </a>\n",
                        "          </li>\n",
                        "          <li>\n",
                        "           <a href=\"catalogue/category/books/science-fiction_16/index.html\">\n",
                        "            Science Fiction\n",
                        "           </a>\n",
                        "          </li>\n",
                        "          <li>\n",
                        "           <a href=\"catalogue/category/books/sports-and-games_17/index.html\">\n",
                        "            Sports and Games\n",
                        "           </a>\n",
                        "          </li>\n",
                        "          <li>\n",
                        "           <a href=\"catalogue/category/books/add-a-comment_18/index.html\">\n",
                        "            Add a comment\n",
                        "           </a>\n",
                        "          </li>\n",
                        "          <li>\n",
                        "           <a href=\"catalogue/category/books/fantasy_19/index.html\">\n",
                        "            Fantasy\n",
                        "           </a>\n",
                        "          </li>\n",
                        "          <li>\n",
                        "           <a href=\"catalogue/category/books/new-adult_20/index.html\">\n",
                        "            New Adult\n",
                        "           </a>\n",
                        "          </li>\n",
                        "          <li>\n",
                        "           <a href=\"catalogue/category/books/young-adult_21/index.html\">\n",
                        "            Young Adult\n",
                        "           </a>\n",
                        "          </li>\n",
                        "          <li>\n",
                        "           <a href=\"catalogue/category/books/science_22/index.html\">\n",
                        "            Science\n",
                        "           </a>\n",
                        "          </li>\n",
                        "          <li>\n",
                        "           <a href=\"catalogue/category/books/poetry_23/index.html\">\n",
                        "            Poetry\n",
                        "           </a>\n",
                        "          </li>\n",
                        "          <li>\n",
                        "           <a href=\"catalogue/category/books/paranormal_24/index.html\">\n",
                        "            Paranormal\n",
                        "           </a>\n",
                        "          </li>\n",
                        "          <li>\n",
                        "           <a href=\"catalogue/category/books/art_25/index.html\">\n",
                        "            Art\n",
                        "           </a>\n",
                        "          </li>\n",
                        "          <li>\n",
                        "           <a href=\"catalogue/category/books/psychology_26/index.html\">\n",
                        "            Psychology\n",
                        "           </a>\n",
                        "          </li>\n",
                        "          <li>\n",
                        "           <a href=\"catalogue/category/books/autobiography_27/index.html\">\n",
                        "            Autobiography\n",
                        "           </a>\n",
                        "          </li>\n",
                        "          <li>\n",
                        "           <a href=\"catalogue/category/books/parenting_28/index.html\">\n",
                        "            Parenting\n",
                        "           </a>\n",
                        "          </li>\n",
                        "          <li>\n",
                        "           <a href=\"catalogue/category/books/adult-fiction_29/index.html\">\n",
                        "            Adult Fiction\n",
                        "           </a>\n",
                        "          </li>\n",
                        "          <li>\n",
                        "           <a href=\"catalogue/category/books/humor_30/index.html\">\n",
                        "            Humor\n",
                        "           </a>\n",
                        "          </li>\n",
                        "          <li>\n",
                        "           <a href=\"catalogue/category/books/horror_31/index.html\">\n",
                        "            Horror\n",
                        "           </a>\n",
                        "          </li>\n",
                        "          <li>\n",
                        "           <a href=\"catalogue/category/books/history_32/index.html\">\n",
                        "            History\n",
                        "           </a>\n",
                        "          </li>\n",
                        "          <li>\n",
                        "           <a href=\"catalogue/category/books/food-and-drink_33/index.html\">\n",
                        "            Food and Drink\n",
                        "           </a>\n",
                        "          </li>\n",
                        "          <li>\n",
                        "           <a href=\"catalogue/category/books/christian-fiction_34/index.html\">\n",
                        "            Christian Fiction\n",
                        "           </a>\n",
                        "          </li>\n",
                        "          <li>\n",
                        "           <a href=\"catalogue/category/books/business_35/index.html\">\n",
                        "            Business\n",
                        "           </a>\n",
                        "          </li>\n",
                        "          <li>\n",
                        "           <a href=\"catalogue/category/books/biography_36/index.html\">\n",
                        "            Biography\n",
                        "           </a>\n",
                        "          </li>\n",
                        "          <li>\n",
                        "           <a href=\"catalogue/category/books/thriller_37/index.html\">\n",
                        "            Thriller\n",
                        "           </a>\n",
                        "          </li>\n",
                        "          <li>\n",
                        "           <a href=\"catalogue/category/books/contemporary_38/index.html\">\n",
                        "            Contemporary\n",
                        "           </a>\n",
                        "          </li>\n",
                        "          <li>\n",
                        "           <a href=\"catalogue/category/books/spirituality_39/index.html\">\n",
                        "            Spirituality\n",
                        "           </a>\n",
                        "          </li>\n",
                        "          <li>\n",
                        "           <a href=\"catalogue/category/books/academic_40/index.html\">\n",
                        "            Academic\n",
                        "           </a>\n",
                        "          </li>\n",
                        "          <li>\n",
                        "           <a href=\"catalogue/category/books/self-help_41/index.html\">\n",
                        "            Self Help\n",
                        "           </a>\n",
                        "          </li>\n",
                        "          <li>\n",
                        "           <a href=\"catalogue/category/books/historical_42/index.html\">\n",
                        "            Historical\n",
                        "           </a>\n",
                        "          </li>\n",
                        "          <li>\n",
                        "           <a href=\"catalogue/category/books/christian_43/index.html\">\n",
                        "            Christian\n",
                        "           </a>\n",
                        "          </li>\n",
                        "          <li>\n",
                        "           <a href=\"catalogue/category/books/suspense_44/index.html\">\n",
                        "            Suspense\n",
                        "           </a>\n",
                        "          </li>\n",
                        "          <li>\n",
                        "           <a href=\"catalogue/category/books/short-stories_45/index.html\">\n",
                        "            Short Stories\n",
                        "           </a>\n",
                        "          </li>\n",
                        "          <li>\n",
                        "           <a href=\"catalogue/category/books/novels_46/index.html\">\n",
                        "            Novels\n",
                        "           </a>\n",
                        "          </li>\n",
                        "          <li>\n",
                        "           <a href=\"catalogue/category/books/health_47/index.html\">\n",
                        "            Health\n",
                        "           </a>\n",
                        "          </li>\n",
                        "          <li>\n",
                        "           <a href=\"catalogue/category/books/politics_48/index.html\">\n",
                        "            Politics\n",
                        "           </a>\n",
                        "          </li>\n",
                        "          <li>\n",
                        "           <a href=\"catalogue/category/books/cultural_49/index.html\">\n",
                        "            Cultural\n",
                        "           </a>\n",
                        "          </li>\n",
                        "          <li>\n",
                        "           <a href=\"catalogue/category/books/erotica_50/index.html\">\n",
                        "            Erotica\n",
                        "           </a>\n",
                        "          </li>\n",
                        "          <li>\n",
                        "           <a href=\"catalogue/category/books/crime_51/index.html\">\n",
                        "            Crime\n",
                        "           </a>\n",
                        "          </li>\n",
                        "         </ul>\n",
                        "        </li>\n",
                        "       </ul>\n",
                        "      </div>\n",
                        "     </aside>\n",
                        "     <div class=\"col-sm-8 col-md-9\">\n",
                        "      <div class=\"page-header action\">\n",
                        "       <h1>\n",
                        "        All products\n",
                        "       </h1>\n",
                        "      </div>\n",
                        "      <div id=\"messages\">\n",
                        "      </div>\n",
                        "      <div id=\"promotions\">\n",
                        "      </div>\n",
                        "      <form class=\"form-horizontal\" method=\"get\">\n",
                        "       <div style=\"display:none\">\n",
                        "       </div>\n",
                        "       <strong>\n",
                        "        1000\n",
                        "       </strong>\n",
                        "       results - showing\n",
                        "       <strong>\n",
                        "        1\n",
                        "       </strong>\n",
                        "       to\n",
                        "       <strong>\n",
                        "        20\n",
                        "       </strong>\n",
                        "       .\n",
                        "      </form>\n",
                        "      <section>\n",
                        "       <div class=\"alert alert-warning\" role=\"alert\">\n",
                        "        <strong>\n",
                        "         Warning!\n",
                        "        </strong>\n",
                        "        This is a demo website for web scraping purposes. Prices and ratings here were randomly assigned and have no real meaning.\n",
                        "       </div>\n",
                        "       <div>\n",
                        "        <ol class=\"row\">\n",
                        "         <li class=\"col-xs-6 col-sm-4 col-md-3 col-lg-3\">\n",
                        "          <article class=\"product_pod\">\n",
                        "           <div class=\"image_container\">\n",
                        "            <a href=\"catalogue/a-light-in-the-attic_1000/index.html\">\n",
                        "             <img alt=\"A Light in the Attic\" class=\"thumbnail\" src=\"media/cache/2c/da/2cdad67c44b002e7ead0cc35693c0e8b.jpg\"/>\n",
                        "            </a>\n",
                        "           </div>\n",
                        "           <p class=\"star-rating Three\">\n",
                        "            <i class=\"icon-star\">\n",
                        "            </i>\n",
                        "            <i class=\"icon-star\">\n",
                        "            </i>\n",
                        "            <i class=\"icon-star\">\n",
                        "            </i>\n",
                        "            <i class=\"icon-star\">\n",
                        "            </i>\n",
                        "            <i class=\"icon-star\">\n",
                        "            </i>\n",
                        "           </p>\n",
                        "           <h3>\n",
                        "            <a href=\"catalogue/a-light-in-the-attic_1000/index.html\" title=\"A Light in the Attic\">\n",
                        "             A Light in the ...\n",
                        "            </a>\n",
                        "           </h3>\n",
                        "           <div class=\"product_price\">\n",
                        "            <p class=\"price_color\">\n",
                        "             £51.77\n",
                        "            </p>\n",
                        "            <p class=\"instock availability\">\n",
                        "             <i class=\"icon-ok\">\n",
                        "             </i>\n",
                        "             In stock\n",
                        "            </p>\n",
                        "            <form>\n",
                        "             <button class=\"btn btn-primary btn-block\" data-loading-text=\"Adding...\" type=\"submit\">\n",
                        "              Add to basket\n",
                        "             </button>\n",
                        "            </form>\n",
                        "           </div>\n",
                        "          </article>\n",
                        "         </li>\n",
                        "         <li class=\"col-xs-6 col-sm-4 col-md-3 col-lg-3\">\n",
                        "          <article class=\"product_pod\">\n",
                        "           <div class=\"image_container\">\n",
                        "            <a href=\"catalogue/tipping-the-velvet_999/index.html\">\n",
                        "             <img alt=\"Tipping the Velvet\" class=\"thumbnail\" src=\"media/cache/26/0c/260c6ae16bce31c8f8c95daddd9f4a1c.jpg\"/>\n",
                        "            </a>\n",
                        "           </div>\n",
                        "           <p class=\"star-rating One\">\n",
                        "            <i class=\"icon-star\">\n",
                        "            </i>\n",
                        "            <i class=\"icon-star\">\n",
                        "            </i>\n",
                        "            <i class=\"icon-star\">\n",
                        "            </i>\n",
                        "            <i class=\"icon-star\">\n",
                        "            </i>\n",
                        "            <i class=\"icon-star\">\n",
                        "            </i>\n",
                        "           </p>\n",
                        "           <h3>\n",
                        "            <a href=\"catalogue/tipping-the-velvet_999/index.html\" title=\"Tipping the Velvet\">\n",
                        "             Tipping the Velvet\n",
                        "            </a>\n",
                        "           </h3>\n",
                        "           <div class=\"product_price\">\n",
                        "            <p class=\"price_color\">\n",
                        "             £53.74\n",
                        "            </p>\n",
                        "            <p class=\"instock availability\">\n",
                        "             <i class=\"icon-ok\">\n",
                        "             </i>\n",
                        "             In stock\n",
                        "            </p>\n",
                        "            <form>\n",
                        "             <button class=\"btn btn-primary btn-block\" data-loading-text=\"Adding...\" type=\"submit\">\n",
                        "              Add to basket\n",
                        "             </button>\n",
                        "            </form>\n",
                        "           </div>\n",
                        "          </article>\n",
                        "         </li>\n",
                        "         <li class=\"col-xs-6 col-sm-4 col-md-3 col-lg-3\">\n",
                        "          <article class=\"product_pod\">\n",
                        "           <div class=\"image_container\">\n",
                        "            <a href=\"catalogue/soumission_998/index.html\">\n",
                        "             <img alt=\"Soumission\" class=\"thumbnail\" src=\"media/cache/3e/ef/3eef99c9d9adef34639f510662022830.jpg\"/>\n",
                        "            </a>\n",
                        "           </div>\n",
                        "           <p class=\"star-rating One\">\n",
                        "            <i class=\"icon-star\">\n",
                        "            </i>\n",
                        "            <i class=\"icon-star\">\n",
                        "            </i>\n",
                        "            <i class=\"icon-star\">\n",
                        "            </i>\n",
                        "            <i class=\"icon-star\">\n",
                        "            </i>\n",
                        "            <i class=\"icon-star\">\n",
                        "            </i>\n",
                        "           </p>\n",
                        "           <h3>\n",
                        "            <a href=\"catalogue/soumission_998/index.html\" title=\"Soumission\">\n",
                        "             Soumission\n",
                        "            </a>\n",
                        "           </h3>\n",
                        "           <div class=\"product_price\">\n",
                        "            <p class=\"price_color\">\n",
                        "             £50.10\n",
                        "            </p>\n",
                        "            <p class=\"instock availability\">\n",
                        "             <i class=\"icon-ok\">\n",
                        "             </i>\n",
                        "             In stock\n",
                        "            </p>\n",
                        "            <form>\n",
                        "             <button class=\"btn btn-primary btn-block\" data-loading-text=\"Adding...\" type=\"submit\">\n",
                        "              Add to basket\n",
                        "             </button>\n",
                        "            </form>\n",
                        "           </div>\n",
                        "          </article>\n",
                        "         </li>\n",
                        "         <li class=\"col-xs-6 col-sm-4 col-md-3 col-lg-3\">\n",
                        "          <article class=\"product_pod\">\n",
                        "           <div class=\"image_container\">\n",
                        "            <a href=\"catalogue/sharp-objects_997/index.html\">\n",
                        "             <img alt=\"Sharp Objects\" class=\"thumbnail\" src=\"media/cache/32/51/3251cf3a3412f53f339e42cac2134093.jpg\"/>\n",
                        "            </a>\n",
                        "           </div>\n",
                        "           <p class=\"star-rating Four\">\n",
                        "            <i class=\"icon-star\">\n",
                        "            </i>\n",
                        "            <i class=\"icon-star\">\n",
                        "            </i>\n",
                        "            <i class=\"icon-star\">\n",
                        "            </i>\n",
                        "            <i class=\"icon-star\">\n",
                        "            </i>\n",
                        "            <i class=\"icon-star\">\n",
                        "            </i>\n",
                        "           </p>\n",
                        "           <h3>\n",
                        "            <a href=\"catalogue/sharp-objects_997/index.html\" title=\"Sharp Objects\">\n",
                        "             Sharp Objects\n",
                        "            </a>\n",
                        "           </h3>\n",
                        "           <div class=\"product_price\">\n",
                        "            <p class=\"price_color\">\n",
                        "             £47.82\n",
                        "            </p>\n",
                        "            <p class=\"instock availability\">\n",
                        "             <i class=\"icon-ok\">\n",
                        "             </i>\n",
                        "             In stock\n",
                        "            </p>\n",
                        "            <form>\n",
                        "             <button class=\"btn btn-primary btn-block\" data-loading-text=\"Adding...\" type=\"submit\">\n",
                        "              Add to basket\n",
                        "             </button>\n",
                        "            </form>\n",
                        "           </div>\n",
                        "          </article>\n",
                        "         </li>\n",
                        "         <li class=\"col-xs-6 col-sm-4 col-md-3 col-lg-3\">\n",
                        "          <article class=\"product_pod\">\n",
                        "           <div class=\"image_container\">\n",
                        "            <a href=\"catalogue/sapiens-a-brief-history-of-humankind_996/index.html\">\n",
                        "             <img alt=\"Sapiens: A Brief History of Humankind\" class=\"thumbnail\" src=\"media/cache/be/a5/bea5697f2534a2f86a3ef27b5a8c12a6.jpg\"/>\n",
                        "            </a>\n",
                        "           </div>\n",
                        "           <p class=\"star-rating Five\">\n",
                        "            <i class=\"icon-star\">\n",
                        "            </i>\n",
                        "            <i class=\"icon-star\">\n",
                        "            </i>\n",
                        "            <i class=\"icon-star\">\n",
                        "            </i>\n",
                        "            <i class=\"icon-star\">\n",
                        "            </i>\n",
                        "            <i class=\"icon-star\">\n",
                        "            </i>\n",
                        "           </p>\n",
                        "           <h3>\n",
                        "            <a href=\"catalogue/sapiens-a-brief-history-of-humankind_996/index.html\" title=\"Sapiens: A Brief History of Humankind\">\n",
                        "             Sapiens: A Brief History ...\n",
                        "            </a>\n",
                        "           </h3>\n",
                        "           <div class=\"product_price\">\n",
                        "            <p class=\"price_color\">\n",
                        "             £54.23\n",
                        "            </p>\n",
                        "            <p class=\"instock availability\">\n",
                        "             <i class=\"icon-ok\">\n",
                        "             </i>\n",
                        "             In stock\n",
                        "            </p>\n",
                        "            <form>\n",
                        "             <button class=\"btn btn-primary btn-block\" data-loading-text=\"Adding...\" type=\"submit\">\n",
                        "              Add to basket\n",
                        "             </button>\n",
                        "            </form>\n",
                        "           </div>\n",
                        "          </article>\n",
                        "         </li>\n",
                        "         <li class=\"col-xs-6 col-sm-4 col-md-3 col-lg-3\">\n",
                        "          <article class=\"product_pod\">\n",
                        "           <div class=\"image_container\">\n",
                        "            <a href=\"catalogue/the-requiem-red_995/index.html\">\n",
                        "             <img alt=\"The Requiem Red\" class=\"thumbnail\" src=\"media/cache/68/33/68339b4c9bc034267e1da611ab3b34f8.jpg\"/>\n",
                        "            </a>\n",
                        "           </div>\n",
                        "           <p class=\"star-rating One\">\n",
                        "            <i class=\"icon-star\">\n",
                        "            </i>\n",
                        "            <i class=\"icon-star\">\n",
                        "            </i>\n",
                        "            <i class=\"icon-star\">\n",
                        "            </i>\n",
                        "            <i class=\"icon-star\">\n",
                        "            </i>\n",
                        "            <i class=\"icon-star\">\n",
                        "            </i>\n",
                        "           </p>\n",
                        "           <h3>\n",
                        "            <a href=\"catalogue/the-requiem-red_995/index.html\" title=\"The Requiem Red\">\n",
                        "             The Requiem Red\n",
                        "            </a>\n",
                        "           </h3>\n",
                        "           <div class=\"product_price\">\n",
                        "            <p class=\"price_color\">\n",
                        "             £22.65\n",
                        "            </p>\n",
                        "            <p class=\"instock availability\">\n",
                        "             <i class=\"icon-ok\">\n",
                        "             </i>\n",
                        "             In stock\n",
                        "            </p>\n",
                        "            <form>\n",
                        "             <button class=\"btn btn-primary btn-block\" data-loading-text=\"Adding...\" type=\"submit\">\n",
                        "              Add to basket\n",
                        "             </button>\n",
                        "            </form>\n",
                        "           </div>\n",
                        "          </article>\n",
                        "         </li>\n",
                        "         <li class=\"col-xs-6 col-sm-4 col-md-3 col-lg-3\">\n",
                        "          <article class=\"product_pod\">\n",
                        "           <div class=\"image_container\">\n",
                        "            <a href=\"catalogue/the-dirty-little-secrets-of-getting-your-dream-job_994/index.html\">\n",
                        "             <img alt=\"The Dirty Little Secrets of Getting Your Dream Job\" class=\"thumbnail\" src=\"media/cache/92/27/92274a95b7c251fea59a2b8a78275ab4.jpg\"/>\n",
                        "            </a>\n",
                        "           </div>\n",
                        "           <p class=\"star-rating Four\">\n",
                        "            <i class=\"icon-star\">\n",
                        "            </i>\n",
                        "            <i class=\"icon-star\">\n",
                        "            </i>\n",
                        "            <i class=\"icon-star\">\n",
                        "            </i>\n",
                        "            <i class=\"icon-star\">\n",
                        "            </i>\n",
                        "            <i class=\"icon-star\">\n",
                        "            </i>\n",
                        "           </p>\n",
                        "           <h3>\n",
                        "            <a href=\"catalogue/the-dirty-little-secrets-of-getting-your-dream-job_994/index.html\" title=\"The Dirty Little Secrets of Getting Your Dream Job\">\n",
                        "             The Dirty Little Secrets ...\n",
                        "            </a>\n",
                        "           </h3>\n",
                        "           <div class=\"product_price\">\n",
                        "            <p class=\"price_color\">\n",
                        "             £33.34\n",
                        "            </p>\n",
                        "            <p class=\"instock availability\">\n",
                        "             <i class=\"icon-ok\">\n",
                        "             </i>\n",
                        "             In stock\n",
                        "            </p>\n",
                        "            <form>\n",
                        "             <button class=\"btn btn-primary btn-block\" data-loading-text=\"Adding...\" type=\"submit\">\n",
                        "              Add to basket\n",
                        "             </button>\n",
                        "            </form>\n",
                        "           </div>\n",
                        "          </article>\n",
                        "         </li>\n",
                        "         <li class=\"col-xs-6 col-sm-4 col-md-3 col-lg-3\">\n",
                        "          <article class=\"product_pod\">\n",
                        "           <div class=\"image_container\">\n",
                        "            <a href=\"catalogue/the-coming-woman-a-novel-based-on-the-life-of-the-infamous-feminist-victoria-woodhull_993/index.html\">\n",
                        "             <img alt=\"The Coming Woman: A Novel Based on the Life of the Infamous Feminist, Victoria Woodhull\" class=\"thumbnail\" src=\"media/cache/3d/54/3d54940e57e662c4dd1f3ff00c78cc64.jpg\"/>\n",
                        "            </a>\n",
                        "           </div>\n",
                        "           <p class=\"star-rating Three\">\n",
                        "            <i class=\"icon-star\">\n",
                        "            </i>\n",
                        "            <i class=\"icon-star\">\n",
                        "            </i>\n",
                        "            <i class=\"icon-star\">\n",
                        "            </i>\n",
                        "            <i class=\"icon-star\">\n",
                        "            </i>\n",
                        "            <i class=\"icon-star\">\n",
                        "            </i>\n",
                        "           </p>\n",
                        "           <h3>\n",
                        "            <a href=\"catalogue/the-coming-woman-a-novel-based-on-the-life-of-the-infamous-feminist-victoria-woodhull_993/index.html\" title=\"The Coming Woman: A Novel Based on the Life of the Infamous Feminist, Victoria Woodhull\">\n",
                        "             The Coming Woman: A ...\n",
                        "            </a>\n",
                        "           </h3>\n",
                        "           <div class=\"product_price\">\n",
                        "            <p class=\"price_color\">\n",
                        "             £17.93\n",
                        "            </p>\n",
                        "            <p class=\"instock availability\">\n",
                        "             <i class=\"icon-ok\">\n",
                        "             </i>\n",
                        "             In stock\n",
                        "            </p>\n",
                        "            <form>\n",
                        "             <button class=\"btn btn-primary btn-block\" data-loading-text=\"Adding...\" type=\"submit\">\n",
                        "              Add to basket\n",
                        "             </button>\n",
                        "            </form>\n",
                        "           </div>\n",
                        "          </article>\n",
                        "         </li>\n",
                        "         <li class=\"col-xs-6 col-sm-4 col-md-3 col-lg-3\">\n",
                        "          <article class=\"product_pod\">\n",
                        "           <div class=\"image_container\">\n",
                        "            <a href=\"catalogue/the-boys-in-the-boat-nine-americans-and-their-epic-quest-for-gold-at-the-1936-berlin-olympics_992/index.html\">\n",
                        "             <img alt=\"The Boys in the Boat: Nine Americans and Their Epic Quest for Gold at the 1936 Berlin Olympics\" class=\"thumbnail\" src=\"media/cache/66/88/66883b91f6804b2323c8369331cb7dd1.jpg\"/>\n",
                        "            </a>\n",
                        "           </div>\n",
                        "           <p class=\"star-rating Four\">\n",
                        "            <i class=\"icon-star\">\n",
                        "            </i>\n",
                        "            <i class=\"icon-star\">\n",
                        "            </i>\n",
                        "            <i class=\"icon-star\">\n",
                        "            </i>\n",
                        "            <i class=\"icon-star\">\n",
                        "            </i>\n",
                        "            <i class=\"icon-star\">\n",
                        "            </i>\n",
                        "           </p>\n",
                        "           <h3>\n",
                        "            <a href=\"catalogue/the-boys-in-the-boat-nine-americans-and-their-epic-quest-for-gold-at-the-1936-berlin-olympics_992/index.html\" title=\"The Boys in the Boat: Nine Americans and Their Epic Quest for Gold at the 1936 Berlin Olympics\">\n",
                        "             The Boys in the ...\n",
                        "            </a>\n",
                        "           </h3>\n",
                        "           <div class=\"product_price\">\n",
                        "            <p class=\"price_color\">\n",
                        "             £22.60\n",
                        "            </p>\n",
                        "            <p class=\"instock availability\">\n",
                        "             <i class=\"icon-ok\">\n",
                        "             </i>\n",
                        "             In stock\n",
                        "            </p>\n",
                        "            <form>\n",
                        "             <button class=\"btn btn-primary btn-block\" data-loading-text=\"Adding...\" type=\"submit\">\n",
                        "              Add to basket\n",
                        "             </button>\n",
                        "            </form>\n",
                        "           </div>\n",
                        "          </article>\n",
                        "         </li>\n",
                        "         <li class=\"col-xs-6 col-sm-4 col-md-3 col-lg-3\">\n",
                        "          <article class=\"product_pod\">\n",
                        "           <div class=\"image_container\">\n",
                        "            <a href=\"catalogue/the-black-maria_991/index.html\">\n",
                        "             <img alt=\"The Black Maria\" class=\"thumbnail\" src=\"media/cache/58/46/5846057e28022268153beff6d352b06c.jpg\"/>\n",
                        "            </a>\n",
                        "           </div>\n",
                        "           <p class=\"star-rating One\">\n",
                        "            <i class=\"icon-star\">\n",
                        "            </i>\n",
                        "            <i class=\"icon-star\">\n",
                        "            </i>\n",
                        "            <i class=\"icon-star\">\n",
                        "            </i>\n",
                        "            <i class=\"icon-star\">\n",
                        "            </i>\n",
                        "            <i class=\"icon-star\">\n",
                        "            </i>\n",
                        "           </p>\n",
                        "           <h3>\n",
                        "            <a href=\"catalogue/the-black-maria_991/index.html\" title=\"The Black Maria\">\n",
                        "             The Black Maria\n",
                        "            </a>\n",
                        "           </h3>\n",
                        "           <div class=\"product_price\">\n",
                        "            <p class=\"price_color\">\n",
                        "             £52.15\n",
                        "            </p>\n",
                        "            <p class=\"instock availability\">\n",
                        "             <i class=\"icon-ok\">\n",
                        "             </i>\n",
                        "             In stock\n",
                        "            </p>\n",
                        "            <form>\n",
                        "             <button class=\"btn btn-primary btn-block\" data-loading-text=\"Adding...\" type=\"submit\">\n",
                        "              Add to basket\n",
                        "             </button>\n",
                        "            </form>\n",
                        "           </div>\n",
                        "          </article>\n",
                        "         </li>\n",
                        "         <li class=\"col-xs-6 col-sm-4 col-md-3 col-lg-3\">\n",
                        "          <article class=\"product_pod\">\n",
                        "           <div class=\"image_container\">\n",
                        "            <a href=\"catalogue/starving-hearts-triangular-trade-trilogy-1_990/index.html\">\n",
                        "             <img alt=\"Starving Hearts (Triangular Trade Trilogy, #1)\" class=\"thumbnail\" src=\"media/cache/be/f4/bef44da28c98f905a3ebec0b87be8530.jpg\"/>\n",
                        "            </a>\n",
                        "           </div>\n",
                        "           <p class=\"star-rating Two\">\n",
                        "            <i class=\"icon-star\">\n",
                        "            </i>\n",
                        "            <i class=\"icon-star\">\n",
                        "            </i>\n",
                        "            <i class=\"icon-star\">\n",
                        "            </i>\n",
                        "            <i class=\"icon-star\">\n",
                        "            </i>\n",
                        "            <i class=\"icon-star\">\n",
                        "            </i>\n",
                        "           </p>\n",
                        "           <h3>\n",
                        "            <a href=\"catalogue/starving-hearts-triangular-trade-trilogy-1_990/index.html\" title=\"Starving Hearts (Triangular Trade Trilogy, #1)\">\n",
                        "             Starving Hearts (Triangular Trade ...\n",
                        "            </a>\n",
                        "           </h3>\n",
                        "           <div class=\"product_price\">\n",
                        "            <p class=\"price_color\">\n",
                        "             £13.99\n",
                        "            </p>\n",
                        "            <p class=\"instock availability\">\n",
                        "             <i class=\"icon-ok\">\n",
                        "             </i>\n",
                        "             In stock\n",
                        "            </p>\n",
                        "            <form>\n",
                        "             <button class=\"btn btn-primary btn-block\" data-loading-text=\"Adding...\" type=\"submit\">\n",
                        "              Add to basket\n",
                        "             </button>\n",
                        "            </form>\n",
                        "           </div>\n",
                        "          </article>\n",
                        "         </li>\n",
                        "         <li class=\"col-xs-6 col-sm-4 col-md-3 col-lg-3\">\n",
                        "          <article class=\"product_pod\">\n",
                        "           <div class=\"image_container\">\n",
                        "            <a href=\"catalogue/shakespeares-sonnets_989/index.html\">\n",
                        "             <img alt=\"Shakespeare's Sonnets\" class=\"thumbnail\" src=\"media/cache/10/48/1048f63d3b5061cd2f424d20b3f9b666.jpg\"/>\n",
                        "            </a>\n",
                        "           </div>\n",
                        "           <p class=\"star-rating Four\">\n",
                        "            <i class=\"icon-star\">\n",
                        "            </i>\n",
                        "            <i class=\"icon-star\">\n",
                        "            </i>\n",
                        "            <i class=\"icon-star\">\n",
                        "            </i>\n",
                        "            <i class=\"icon-star\">\n",
                        "            </i>\n",
                        "            <i class=\"icon-star\">\n",
                        "            </i>\n",
                        "           </p>\n",
                        "           <h3>\n",
                        "            <a href=\"catalogue/shakespeares-sonnets_989/index.html\" title=\"Shakespeare's Sonnets\">\n",
                        "             Shakespeare's Sonnets\n",
                        "            </a>\n",
                        "           </h3>\n",
                        "           <div class=\"product_price\">\n",
                        "            <p class=\"price_color\">\n",
                        "             £20.66\n",
                        "            </p>\n",
                        "            <p class=\"instock availability\">\n",
                        "             <i class=\"icon-ok\">\n",
                        "             </i>\n",
                        "             In stock\n",
                        "            </p>\n",
                        "            <form>\n",
                        "             <button class=\"btn btn-primary btn-block\" data-loading-text=\"Adding...\" type=\"submit\">\n",
                        "              Add to basket\n",
                        "             </button>\n",
                        "            </form>\n",
                        "           </div>\n",
                        "          </article>\n",
                        "         </li>\n",
                        "         <li class=\"col-xs-6 col-sm-4 col-md-3 col-lg-3\">\n",
                        "          <article class=\"product_pod\">\n",
                        "           <div class=\"image_container\">\n",
                        "            <a href=\"catalogue/set-me-free_988/index.html\">\n",
                        "             <img alt=\"Set Me Free\" class=\"thumbnail\" src=\"media/cache/5b/88/5b88c52633f53cacf162c15f4f823153.jpg\"/>\n",
                        "            </a>\n",
                        "           </div>\n",
                        "           <p class=\"star-rating Five\">\n",
                        "            <i class=\"icon-star\">\n",
                        "            </i>\n",
                        "            <i class=\"icon-star\">\n",
                        "            </i>\n",
                        "            <i class=\"icon-star\">\n",
                        "            </i>\n",
                        "            <i class=\"icon-star\">\n",
                        "            </i>\n",
                        "            <i class=\"icon-star\">\n",
                        "            </i>\n",
                        "           </p>\n",
                        "           <h3>\n",
                        "            <a href=\"catalogue/set-me-free_988/index.html\" title=\"Set Me Free\">\n",
                        "             Set Me Free\n",
                        "            </a>\n",
                        "           </h3>\n",
                        "           <div class=\"product_price\">\n",
                        "            <p class=\"price_color\">\n",
                        "             £17.46\n",
                        "            </p>\n",
                        "            <p class=\"instock availability\">\n",
                        "             <i class=\"icon-ok\">\n",
                        "             </i>\n",
                        "             In stock\n",
                        "            </p>\n",
                        "            <form>\n",
                        "             <button class=\"btn btn-primary btn-block\" data-loading-text=\"Adding...\" type=\"submit\">\n",
                        "              Add to basket\n",
                        "             </button>\n",
                        "            </form>\n",
                        "           </div>\n",
                        "          </article>\n",
                        "         </li>\n",
                        "         <li class=\"col-xs-6 col-sm-4 col-md-3 col-lg-3\">\n",
                        "          <article class=\"product_pod\">\n",
                        "           <div class=\"image_container\">\n",
                        "            <a href=\"catalogue/scott-pilgrims-precious-little-life-scott-pilgrim-1_987/index.html\">\n",
                        "             <img alt=\"Scott Pilgrim's Precious Little Life (Scott Pilgrim #1)\" class=\"thumbnail\" src=\"media/cache/94/b1/94b1b8b244bce9677c2f29ccc890d4d2.jpg\"/>\n",
                        "            </a>\n",
                        "           </div>\n",
                        "           <p class=\"star-rating Five\">\n",
                        "            <i class=\"icon-star\">\n",
                        "            </i>\n",
                        "            <i class=\"icon-star\">\n",
                        "            </i>\n",
                        "            <i class=\"icon-star\">\n",
                        "            </i>\n",
                        "            <i class=\"icon-star\">\n",
                        "            </i>\n",
                        "            <i class=\"icon-star\">\n",
                        "            </i>\n",
                        "           </p>\n",
                        "           <h3>\n",
                        "            <a href=\"catalogue/scott-pilgrims-precious-little-life-scott-pilgrim-1_987/index.html\" title=\"Scott Pilgrim's Precious Little Life (Scott Pilgrim #1)\">\n",
                        "             Scott Pilgrim's Precious Little ...\n",
                        "            </a>\n",
                        "           </h3>\n",
                        "           <div class=\"product_price\">\n",
                        "            <p class=\"price_color\">\n",
                        "             £52.29\n",
                        "            </p>\n",
                        "            <p class=\"instock availability\">\n",
                        "             <i class=\"icon-ok\">\n",
                        "             </i>\n",
                        "             In stock\n",
                        "            </p>\n",
                        "            <form>\n",
                        "             <button class=\"btn btn-primary btn-block\" data-loading-text=\"Adding...\" type=\"submit\">\n",
                        "              Add to basket\n",
                        "             </button>\n",
                        "            </form>\n",
                        "           </div>\n",
                        "          </article>\n",
                        "         </li>\n",
                        "         <li class=\"col-xs-6 col-sm-4 col-md-3 col-lg-3\">\n",
                        "          <article class=\"product_pod\">\n",
                        "           <div class=\"image_container\">\n",
                        "            <a href=\"catalogue/rip-it-up-and-start-again_986/index.html\">\n",
                        "             <img alt=\"Rip it Up and Start Again\" class=\"thumbnail\" src=\"media/cache/81/c4/81c4a973364e17d01f217e1188253d5e.jpg\"/>\n",
                        "            </a>\n",
                        "           </div>\n",
                        "           <p class=\"star-rating Five\">\n",
                        "            <i class=\"icon-star\">\n",
                        "            </i>\n",
                        "            <i class=\"icon-star\">\n",
                        "            </i>\n",
                        "            <i class=\"icon-star\">\n",
                        "            </i>\n",
                        "            <i class=\"icon-star\">\n",
                        "            </i>\n",
                        "            <i class=\"icon-star\">\n",
                        "            </i>\n",
                        "           </p>\n",
                        "           <h3>\n",
                        "            <a href=\"catalogue/rip-it-up-and-start-again_986/index.html\" title=\"Rip it Up and Start Again\">\n",
                        "             Rip it Up and ...\n",
                        "            </a>\n",
                        "           </h3>\n",
                        "           <div class=\"product_price\">\n",
                        "            <p class=\"price_color\">\n",
                        "             £35.02\n",
                        "            </p>\n",
                        "            <p class=\"instock availability\">\n",
                        "             <i class=\"icon-ok\">\n",
                        "             </i>\n",
                        "             In stock\n",
                        "            </p>\n",
                        "            <form>\n",
                        "             <button class=\"btn btn-primary btn-block\" data-loading-text=\"Adding...\" type=\"submit\">\n",
                        "              Add to basket\n",
                        "             </button>\n",
                        "            </form>\n",
                        "           </div>\n",
                        "          </article>\n",
                        "         </li>\n",
                        "         <li class=\"col-xs-6 col-sm-4 col-md-3 col-lg-3\">\n",
                        "          <article class=\"product_pod\">\n",
                        "           <div class=\"image_container\">\n",
                        "            <a href=\"catalogue/our-band-could-be-your-life-scenes-from-the-american-indie-underground-1981-1991_985/index.html\">\n",
                        "             <img alt=\"Our Band Could Be Your Life: Scenes from the American Indie Underground, 1981-1991\" class=\"thumbnail\" src=\"media/cache/54/60/54607fe8945897cdcced0044103b10b6.jpg\"/>\n",
                        "            </a>\n",
                        "           </div>\n",
                        "           <p class=\"star-rating Three\">\n",
                        "            <i class=\"icon-star\">\n",
                        "            </i>\n",
                        "            <i class=\"icon-star\">\n",
                        "            </i>\n",
                        "            <i class=\"icon-star\">\n",
                        "            </i>\n",
                        "            <i class=\"icon-star\">\n",
                        "            </i>\n",
                        "            <i class=\"icon-star\">\n",
                        "            </i>\n",
                        "           </p>\n",
                        "           <h3>\n",
                        "            <a href=\"catalogue/our-band-could-be-your-life-scenes-from-the-american-indie-underground-1981-1991_985/index.html\" title=\"Our Band Could Be Your Life: Scenes from the American Indie Underground, 1981-1991\">\n",
                        "             Our Band Could Be ...\n",
                        "            </a>\n",
                        "           </h3>\n",
                        "           <div class=\"product_price\">\n",
                        "            <p class=\"price_color\">\n",
                        "             £57.25\n",
                        "            </p>\n",
                        "            <p class=\"instock availability\">\n",
                        "             <i class=\"icon-ok\">\n",
                        "             </i>\n",
                        "             In stock\n",
                        "            </p>\n",
                        "            <form>\n",
                        "             <button class=\"btn btn-primary btn-block\" data-loading-text=\"Adding...\" type=\"submit\">\n",
                        "              Add to basket\n",
                        "             </button>\n",
                        "            </form>\n",
                        "           </div>\n",
                        "          </article>\n",
                        "         </li>\n",
                        "         <li class=\"col-xs-6 col-sm-4 col-md-3 col-lg-3\">\n",
                        "          <article class=\"product_pod\">\n",
                        "           <div class=\"image_container\">\n",
                        "            <a href=\"catalogue/olio_984/index.html\">\n",
                        "             <img alt=\"Olio\" class=\"thumbnail\" src=\"media/cache/55/33/553310a7162dfbc2c6d19a84da0df9e1.jpg\"/>\n",
                        "            </a>\n",
                        "           </div>\n",
                        "           <p class=\"star-rating One\">\n",
                        "            <i class=\"icon-star\">\n",
                        "            </i>\n",
                        "            <i class=\"icon-star\">\n",
                        "            </i>\n",
                        "            <i class=\"icon-star\">\n",
                        "            </i>\n",
                        "            <i class=\"icon-star\">\n",
                        "            </i>\n",
                        "            <i class=\"icon-star\">\n",
                        "            </i>\n",
                        "           </p>\n",
                        "           <h3>\n",
                        "            <a href=\"catalogue/olio_984/index.html\" title=\"Olio\">\n",
                        "             Olio\n",
                        "            </a>\n",
                        "           </h3>\n",
                        "           <div class=\"product_price\">\n",
                        "            <p class=\"price_color\">\n",
                        "             £23.88\n",
                        "            </p>\n",
                        "            <p class=\"instock availability\">\n",
                        "             <i class=\"icon-ok\">\n",
                        "             </i>\n",
                        "             In stock\n",
                        "            </p>\n",
                        "            <form>\n",
                        "             <button class=\"btn btn-primary btn-block\" data-loading-text=\"Adding...\" type=\"submit\">\n",
                        "              Add to basket\n",
                        "             </button>\n",
                        "            </form>\n",
                        "           </div>\n",
                        "          </article>\n",
                        "         </li>\n",
                        "         <li class=\"col-xs-6 col-sm-4 col-md-3 col-lg-3\">\n",
                        "          <article class=\"product_pod\">\n",
                        "           <div class=\"image_container\">\n",
                        "            <a href=\"catalogue/mesaerion-the-best-science-fiction-stories-1800-1849_983/index.html\">\n",
                        "             <img alt=\"Mesaerion: The Best Science Fiction Stories 1800-1849\" class=\"thumbnail\" src=\"media/cache/09/a3/09a3aef48557576e1a85ba7efea8ecb7.jpg\"/>\n",
                        "            </a>\n",
                        "           </div>\n",
                        "           <p class=\"star-rating One\">\n",
                        "            <i class=\"icon-star\">\n",
                        "            </i>\n",
                        "            <i class=\"icon-star\">\n",
                        "            </i>\n",
                        "            <i class=\"icon-star\">\n",
                        "            </i>\n",
                        "            <i class=\"icon-star\">\n",
                        "            </i>\n",
                        "            <i class=\"icon-star\">\n",
                        "            </i>\n",
                        "           </p>\n",
                        "           <h3>\n",
                        "            <a href=\"catalogue/mesaerion-the-best-science-fiction-stories-1800-1849_983/index.html\" title=\"Mesaerion: The Best Science Fiction Stories 1800-1849\">\n",
                        "             Mesaerion: The Best Science ...\n",
                        "            </a>\n",
                        "           </h3>\n",
                        "           <div class=\"product_price\">\n",
                        "            <p class=\"price_color\">\n",
                        "             £37.59\n",
                        "            </p>\n",
                        "            <p class=\"instock availability\">\n",
                        "             <i class=\"icon-ok\">\n",
                        "             </i>\n",
                        "             In stock\n",
                        "            </p>\n",
                        "            <form>\n",
                        "             <button class=\"btn btn-primary btn-block\" data-loading-text=\"Adding...\" type=\"submit\">\n",
                        "              Add to basket\n",
                        "             </button>\n",
                        "            </form>\n",
                        "           </div>\n",
                        "          </article>\n",
                        "         </li>\n",
                        "         <li class=\"col-xs-6 col-sm-4 col-md-3 col-lg-3\">\n",
                        "          <article class=\"product_pod\">\n",
                        "           <div class=\"image_container\">\n",
                        "            <a href=\"catalogue/libertarianism-for-beginners_982/index.html\">\n",
                        "             <img alt=\"Libertarianism for Beginners\" class=\"thumbnail\" src=\"media/cache/0b/bc/0bbcd0a6f4bcd81ccb1049a52736406e.jpg\"/>\n",
                        "            </a>\n",
                        "           </div>\n",
                        "           <p class=\"star-rating Two\">\n",
                        "            <i class=\"icon-star\">\n",
                        "            </i>\n",
                        "            <i class=\"icon-star\">\n",
                        "            </i>\n",
                        "            <i class=\"icon-star\">\n",
                        "            </i>\n",
                        "            <i class=\"icon-star\">\n",
                        "            </i>\n",
                        "            <i class=\"icon-star\">\n",
                        "            </i>\n",
                        "           </p>\n",
                        "           <h3>\n",
                        "            <a href=\"catalogue/libertarianism-for-beginners_982/index.html\" title=\"Libertarianism for Beginners\">\n",
                        "             Libertarianism for Beginners\n",
                        "            </a>\n",
                        "           </h3>\n",
                        "           <div class=\"product_price\">\n",
                        "            <p class=\"price_color\">\n",
                        "             £51.33\n",
                        "            </p>\n",
                        "            <p class=\"instock availability\">\n",
                        "             <i class=\"icon-ok\">\n",
                        "             </i>\n",
                        "             In stock\n",
                        "            </p>\n",
                        "            <form>\n",
                        "             <button class=\"btn btn-primary btn-block\" data-loading-text=\"Adding...\" type=\"submit\">\n",
                        "              Add to basket\n",
                        "             </button>\n",
                        "            </form>\n",
                        "           </div>\n",
                        "          </article>\n",
                        "         </li>\n",
                        "         <li class=\"col-xs-6 col-sm-4 col-md-3 col-lg-3\">\n",
                        "          <article class=\"product_pod\">\n",
                        "           <div class=\"image_container\">\n",
                        "            <a href=\"catalogue/its-only-the-himalayas_981/index.html\">\n",
                        "             <img alt=\"It's Only the Himalayas\" class=\"thumbnail\" src=\"media/cache/27/a5/27a53d0bb95bdd88288eaf66c9230d7e.jpg\"/>\n",
                        "            </a>\n",
                        "           </div>\n",
                        "           <p class=\"star-rating Two\">\n",
                        "            <i class=\"icon-star\">\n",
                        "            </i>\n",
                        "            <i class=\"icon-star\">\n",
                        "            </i>\n",
                        "            <i class=\"icon-star\">\n",
                        "            </i>\n",
                        "            <i class=\"icon-star\">\n",
                        "            </i>\n",
                        "            <i class=\"icon-star\">\n",
                        "            </i>\n",
                        "           </p>\n",
                        "           <h3>\n",
                        "            <a href=\"catalogue/its-only-the-himalayas_981/index.html\" title=\"It's Only the Himalayas\">\n",
                        "             It's Only the Himalayas\n",
                        "            </a>\n",
                        "           </h3>\n",
                        "           <div class=\"product_price\">\n",
                        "            <p class=\"price_color\">\n",
                        "             £45.17\n",
                        "            </p>\n",
                        "            <p class=\"instock availability\">\n",
                        "             <i class=\"icon-ok\">\n",
                        "             </i>\n",
                        "             In stock\n",
                        "            </p>\n",
                        "            <form>\n",
                        "             <button class=\"btn btn-primary btn-block\" data-loading-text=\"Adding...\" type=\"submit\">\n",
                        "              Add to basket\n",
                        "             </button>\n",
                        "            </form>\n",
                        "           </div>\n",
                        "          </article>\n",
                        "         </li>\n",
                        "        </ol>\n",
                        "        <div>\n",
                        "         <ul class=\"pager\">\n",
                        "          <li class=\"current\">\n",
                        "           Page 1 of 50\n",
                        "          </li>\n",
                        "          <li class=\"next\">\n",
                        "           <a href=\"catalogue/page-2.html\">\n",
                        "            next\n",
                        "           </a>\n",
                        "          </li>\n",
                        "         </ul>\n",
                        "        </div>\n",
                        "       </div>\n",
                        "      </section>\n",
                        "     </div>\n",
                        "    </div>\n",
                        "    <!-- /row -->\n",
                        "   </div>\n",
                        "   <!-- /page_inner -->\n",
                        "  </div>\n",
                        "  <!-- /container-fluid -->\n",
                        "  <footer class=\"footer container-fluid\">\n",
                        "  </footer>\n",
                        "  <!-- jQuery -->\n",
                        "  <script src=\"http://ajax.googleapis.com/ajax/libs/jquery/1.9.1/jquery.min.js\">\n",
                        "  </script>\n",
                        "  <script>\n",
                        "   window.jQuery || document.write('<script src=\"static/oscar/js/jquery/jquery-1.9.1.min.js\"><\\/script>')\n",
                        "  </script>\n",
                        "  <!-- Twitter Bootstrap -->\n",
                        "  <script src=\"static/oscar/js/bootstrap3/bootstrap.min.js\" type=\"text/javascript\">\n",
                        "  </script>\n",
                        "  <!-- Oscar -->\n",
                        "  <script charset=\"utf-8\" src=\"static/oscar/js/oscar/ui.js\" type=\"text/javascript\">\n",
                        "  </script>\n",
                        "  <script charset=\"utf-8\" src=\"static/oscar/js/bootstrap-datetimepicker/bootstrap-datetimepicker.js\" type=\"text/javascript\">\n",
                        "  </script>\n",
                        "  <script charset=\"utf-8\" src=\"static/oscar/js/bootstrap-datetimepicker/locales/bootstrap-datetimepicker.all.js\" type=\"text/javascript\">\n",
                        "  </script>\n",
                        "  <script type=\"text/javascript\">\n",
                        "   $(function() {\n",
                        "                \n",
                        "    \n",
                        "    \n",
                        "    oscar.init();\n",
                        "\n",
                        "    oscar.search.init();\n",
                        "\n",
                        "            });\n",
                        "  </script>\n",
                        "  <!-- Version: N/A -->\n",
                        " </body>\n",
                        "</html>\n",
                        "\n"
                    ]
                }
            ],
            "source": [
                "print(soup.prettify())"
            ]
        },
        {
            "cell_type": "code",
            "execution_count": 89,
            "metadata": {},
            "outputs": [
                {
                    "data": {
                        "text/html": [
                            "<pre style=\"white-space:pre;overflow-x:auto;line-height:normal;font-family:Menlo,'DejaVu Sans Mono',consolas,'Courier New',monospace\"><span style=\"font-weight: bold\">&lt;</span><span style=\"color: #ff00ff; text-decoration-color: #ff00ff; font-weight: bold\">h1</span><span style=\"font-weight: bold\">&gt;</span>All products<span style=\"font-weight: bold\">&lt;</span><span style=\"color: #800080; text-decoration-color: #800080\">/</span><span style=\"color: #ff00ff; text-decoration-color: #ff00ff\">h1</span><span style=\"font-weight: bold\">&gt;</span>\n",
                            "</pre>\n"
                        ],
                        "text/plain": [
                            "\u001b[1m<\u001b[0m\u001b[1;95mh1\u001b[0m\u001b[1m>\u001b[0mAll products\u001b[1m<\u001b[0m\u001b[35m/\u001b[0m\u001b[95mh1\u001b[0m\u001b[1m>\u001b[0m\n"
                        ]
                    },
                    "metadata": {},
                    "output_type": "display_data"
                }
            ],
            "source": [
                "soup.h1"
            ]
        },
        {
            "cell_type": "code",
            "execution_count": 90,
            "metadata": {},
            "outputs": [
                {
                    "data": {
                        "text/html": [
                            "<pre style=\"white-space:pre;overflow-x:auto;line-height:normal;font-family:Menlo,'DejaVu Sans Mono',consolas,'Courier New',monospace\">\n",
                            "<span style=\"font-weight: bold\">&lt;</span><span style=\"color: #ff00ff; text-decoration-color: #ff00ff; font-weight: bold\">div</span><span style=\"color: #000000; text-decoration-color: #000000\"> </span><span style=\"color: #808000; text-decoration-color: #808000\">class</span><span style=\"color: #000000; text-decoration-color: #000000\">=</span><span style=\"color: #008000; text-decoration-color: #008000\">\"page_inner\"</span><span style=\"font-weight: bold\">&gt;</span>\n",
                            "<span style=\"font-weight: bold\">&lt;</span><span style=\"color: #ff00ff; text-decoration-color: #ff00ff; font-weight: bold\">div</span><span style=\"color: #000000; text-decoration-color: #000000\"> </span><span style=\"color: #808000; text-decoration-color: #808000\">class</span><span style=\"color: #000000; text-decoration-color: #000000\">=</span><span style=\"color: #008000; text-decoration-color: #008000\">\"row\"</span><span style=\"font-weight: bold\">&gt;</span>\n",
                            "<span style=\"font-weight: bold\">&lt;</span><span style=\"color: #ff00ff; text-decoration-color: #ff00ff; font-weight: bold\">div</span><span style=\"color: #000000; text-decoration-color: #000000\"> </span><span style=\"color: #808000; text-decoration-color: #808000\">class</span><span style=\"color: #000000; text-decoration-color: #000000\">=</span><span style=\"color: #008000; text-decoration-color: #008000\">\"col-sm-8 h1\"</span><span style=\"font-weight: bold\">&gt;&lt;</span><span style=\"color: #ff00ff; text-decoration-color: #ff00ff; font-weight: bold\">a</span><span style=\"color: #000000; text-decoration-color: #000000\"> </span><span style=\"color: #808000; text-decoration-color: #808000\">href</span><span style=\"color: #000000; text-decoration-color: #000000\">=</span><span style=\"color: #008000; text-decoration-color: #008000\">\"index.html\"</span><span style=\"font-weight: bold\">&gt;</span>Books to Scrape<span style=\"font-weight: bold\">&lt;</span><span style=\"color: #800080; text-decoration-color: #800080\">/</span><span style=\"color: #ff00ff; text-decoration-color: #ff00ff\">a</span><span style=\"font-weight: bold\">&gt;&lt;</span><span style=\"color: #ff00ff; text-decoration-color: #ff00ff; font-weight: bold\">small</span><span style=\"font-weight: bold\">&gt;</span> We love being scraped!<span style=\"font-weight: bold\">&lt;</span><span style=\"color: #800080; text-decoration-color: #800080\">/</span><span style=\"color: #ff00ff; text-decoration-color: #ff00ff\">small</span><span style=\"font-weight: bold\">&gt;</span>\n",
                            "<span style=\"font-weight: bold\">&lt;</span><span style=\"color: #800080; text-decoration-color: #800080\">/</span><span style=\"color: #ff00ff; text-decoration-color: #ff00ff\">div</span><span style=\"font-weight: bold\">&gt;</span>\n",
                            "<span style=\"font-weight: bold\">&lt;</span><span style=\"color: #800080; text-decoration-color: #800080\">/</span><span style=\"color: #ff00ff; text-decoration-color: #ff00ff\">div</span><span style=\"font-weight: bold\">&gt;</span>\n",
                            "<span style=\"font-weight: bold\">&lt;</span><span style=\"color: #800080; text-decoration-color: #800080\">/</span><span style=\"color: #ff00ff; text-decoration-color: #ff00ff\">div</span><span style=\"font-weight: bold\">&gt;</span>\n",
                            "</pre>\n"
                        ],
                        "text/plain": [
                            "\n",
                            "\u001b[1m<\u001b[0m\u001b[1;95mdiv\u001b[0m\u001b[39m \u001b[0m\u001b[33mclass\u001b[0m\u001b[39m=\u001b[0m\u001b[32m\"page_inner\"\u001b[0m\u001b[1m>\u001b[0m\n",
                            "\u001b[1m<\u001b[0m\u001b[1;95mdiv\u001b[0m\u001b[39m \u001b[0m\u001b[33mclass\u001b[0m\u001b[39m=\u001b[0m\u001b[32m\"row\"\u001b[0m\u001b[1m>\u001b[0m\n",
                            "\u001b[1m<\u001b[0m\u001b[1;95mdiv\u001b[0m\u001b[39m \u001b[0m\u001b[33mclass\u001b[0m\u001b[39m=\u001b[0m\u001b[32m\"col\u001b[0m\u001b[32m-sm-8 h1\"\u001b[0m\u001b[1m>\u001b[0m\u001b[1m<\u001b[0m\u001b[1;95ma\u001b[0m\u001b[39m \u001b[0m\u001b[33mhref\u001b[0m\u001b[39m=\u001b[0m\u001b[32m\"index\u001b[0m\u001b[32m.html\"\u001b[0m\u001b[1m>\u001b[0mBooks to Scrape\u001b[1m<\u001b[0m\u001b[35m/\u001b[0m\u001b[95ma\u001b[0m\u001b[1m>\u001b[0m\u001b[1m<\u001b[0m\u001b[1;95msmall\u001b[0m\u001b[1m>\u001b[0m We love being scraped!\u001b[1m<\u001b[0m\u001b[35m/\u001b[0m\u001b[95msmall\u001b[0m\u001b[1m>\u001b[0m\n",
                            "\u001b[1m<\u001b[0m\u001b[35m/\u001b[0m\u001b[95mdiv\u001b[0m\u001b[1m>\u001b[0m\n",
                            "\u001b[1m<\u001b[0m\u001b[35m/\u001b[0m\u001b[95mdiv\u001b[0m\u001b[1m>\u001b[0m\n",
                            "\u001b[1m<\u001b[0m\u001b[35m/\u001b[0m\u001b[95mdiv\u001b[0m\u001b[1m>\u001b[0m\n"
                        ]
                    },
                    "metadata": {},
                    "output_type": "display_data"
                }
            ],
            "source": [
                "first_div = soup.div\n",
                "first_div"
            ]
        },
        {
            "cell_type": "code",
            "execution_count": 91,
            "metadata": {},
            "outputs": [
                {
                    "data": {
                        "text/html": [
                            "<pre style=\"white-space:pre;overflow-x:auto;line-height:normal;font-family:Menlo,'DejaVu Sans Mono',consolas,'Courier New',monospace\"><span style=\"font-weight: bold\">&lt;</span><span style=\"color: #ff00ff; text-decoration-color: #ff00ff; font-weight: bold\">class</span><span style=\"color: #000000; text-decoration-color: #000000\"> </span><span style=\"color: #008000; text-decoration-color: #008000\">'bs4.element.Tag'</span><span style=\"font-weight: bold\">&gt;</span>\n",
                            "</pre>\n"
                        ],
                        "text/plain": [
                            "\u001b[1m<\u001b[0m\u001b[1;95mclass\u001b[0m\u001b[39m \u001b[0m\u001b[32m'bs4.element.Tag'\u001b[0m\u001b[1m>\u001b[0m\n"
                        ]
                    },
                    "metadata": {},
                    "output_type": "display_data"
                }
            ],
            "source": [
                "type(first_div)"
            ]
        },
        {
            "cell_type": "code",
            "execution_count": 92,
            "metadata": {},
            "outputs": [
                {
                    "data": {
                        "text/html": [
                            "<pre style=\"white-space:pre;overflow-x:auto;line-height:normal;font-family:Menlo,'DejaVu Sans Mono',consolas,'Courier New',monospace\"><span style=\"font-weight: bold\">{</span><span style=\"color: #008000; text-decoration-color: #008000\">'class'</span>: <span style=\"font-weight: bold\">[</span><span style=\"color: #008000; text-decoration-color: #008000\">'page_inner'</span><span style=\"font-weight: bold\">]}</span>\n",
                            "</pre>\n"
                        ],
                        "text/plain": [
                            "\u001b[1m{\u001b[0m\u001b[32m'class'\u001b[0m: \u001b[1m[\u001b[0m\u001b[32m'page_inner'\u001b[0m\u001b[1m]\u001b[0m\u001b[1m}\u001b[0m\n"
                        ]
                    },
                    "metadata": {},
                    "output_type": "display_data"
                }
            ],
            "source": [
                "first_div.attrs"
            ]
        },
        {
            "cell_type": "code",
            "execution_count": 93,
            "metadata": {},
            "outputs": [
                {
                    "data": {
                        "text/html": [
                            "<pre style=\"white-space:pre;overflow-x:auto;line-height:normal;font-family:Menlo,'DejaVu Sans Mono',consolas,'Courier New',monospace\"><span style=\"font-weight: bold\">{</span><span style=\"color: #008000; text-decoration-color: #008000\">'class'</span>: <span style=\"font-weight: bold\">[</span><span style=\"color: #008000; text-decoration-color: #008000\">'col-sm-8'</span>, <span style=\"color: #008000; text-decoration-color: #008000\">'h1'</span><span style=\"font-weight: bold\">]}</span>\n",
                            "</pre>\n"
                        ],
                        "text/plain": [
                            "\u001b[1m{\u001b[0m\u001b[32m'class'\u001b[0m: \u001b[1m[\u001b[0m\u001b[32m'col-sm-8'\u001b[0m, \u001b[32m'h1'\u001b[0m\u001b[1m]\u001b[0m\u001b[1m}\u001b[0m\n"
                        ]
                    },
                    "metadata": {},
                    "output_type": "display_data"
                }
            ],
            "source": [
                "first_div.div.div.attrs"
            ]
        },
        {
            "attachments": {},
            "cell_type": "markdown",
            "metadata": {},
            "source": [
                "### Parents, Children, And Descendants"
            ]
        },
        {
            "cell_type": "code",
            "execution_count": 94,
            "metadata": {},
            "outputs": [
                {
                    "data": {
                        "text/html": [
                            "<pre style=\"white-space:pre;overflow-x:auto;line-height:normal;font-family:Menlo,'DejaVu Sans Mono',consolas,'Courier New',monospace\">\n",
                            "<span style=\"font-weight: bold\">&lt;</span><span style=\"color: #ff00ff; text-decoration-color: #ff00ff; font-weight: bold\">ul</span><span style=\"color: #000000; text-decoration-color: #000000\"> </span><span style=\"color: #808000; text-decoration-color: #808000\">class</span><span style=\"color: #000000; text-decoration-color: #000000\">=</span><span style=\"color: #008000; text-decoration-color: #008000\">\"breadcrumb\"</span><span style=\"font-weight: bold\">&gt;</span>\n",
                            "<span style=\"font-weight: bold\">&lt;</span><span style=\"color: #ff00ff; text-decoration-color: #ff00ff; font-weight: bold\">li</span><span style=\"font-weight: bold\">&gt;</span>\n",
                            "<span style=\"font-weight: bold\">&lt;</span><span style=\"color: #ff00ff; text-decoration-color: #ff00ff; font-weight: bold\">a</span><span style=\"color: #000000; text-decoration-color: #000000\"> </span><span style=\"color: #808000; text-decoration-color: #808000\">href</span><span style=\"color: #000000; text-decoration-color: #000000\">=</span><span style=\"color: #008000; text-decoration-color: #008000\">\"index.html\"</span><span style=\"font-weight: bold\">&gt;</span>Home<span style=\"font-weight: bold\">&lt;</span><span style=\"color: #800080; text-decoration-color: #800080\">/</span><span style=\"color: #ff00ff; text-decoration-color: #ff00ff\">a</span><span style=\"font-weight: bold\">&gt;</span>\n",
                            "<span style=\"font-weight: bold\">&lt;</span><span style=\"color: #800080; text-decoration-color: #800080\">/</span><span style=\"color: #ff00ff; text-decoration-color: #ff00ff\">li</span><span style=\"font-weight: bold\">&gt;</span>\n",
                            "<span style=\"font-weight: bold\">&lt;</span><span style=\"color: #ff00ff; text-decoration-color: #ff00ff; font-weight: bold\">li</span><span style=\"color: #000000; text-decoration-color: #000000\"> </span><span style=\"color: #808000; text-decoration-color: #808000\">class</span><span style=\"color: #000000; text-decoration-color: #000000\">=</span><span style=\"color: #008000; text-decoration-color: #008000\">\"active\"</span><span style=\"font-weight: bold\">&gt;</span>All products<span style=\"font-weight: bold\">&lt;</span><span style=\"color: #800080; text-decoration-color: #800080\">/</span><span style=\"color: #ff00ff; text-decoration-color: #ff00ff\">li</span><span style=\"font-weight: bold\">&gt;</span>\n",
                            "<span style=\"font-weight: bold\">&lt;</span><span style=\"color: #800080; text-decoration-color: #800080\">/</span><span style=\"color: #ff00ff; text-decoration-color: #ff00ff\">ul</span><span style=\"font-weight: bold\">&gt;</span>\n",
                            "</pre>\n"
                        ],
                        "text/plain": [
                            "\n",
                            "\u001b[1m<\u001b[0m\u001b[1;95mul\u001b[0m\u001b[39m \u001b[0m\u001b[33mclass\u001b[0m\u001b[39m=\u001b[0m\u001b[32m\"breadcrumb\"\u001b[0m\u001b[1m>\u001b[0m\n",
                            "\u001b[1m<\u001b[0m\u001b[1;95mli\u001b[0m\u001b[1m>\u001b[0m\n",
                            "\u001b[1m<\u001b[0m\u001b[1;95ma\u001b[0m\u001b[39m \u001b[0m\u001b[33mhref\u001b[0m\u001b[39m=\u001b[0m\u001b[32m\"index\u001b[0m\u001b[32m.html\"\u001b[0m\u001b[1m>\u001b[0mHome\u001b[1m<\u001b[0m\u001b[35m/\u001b[0m\u001b[95ma\u001b[0m\u001b[1m>\u001b[0m\n",
                            "\u001b[1m<\u001b[0m\u001b[35m/\u001b[0m\u001b[95mli\u001b[0m\u001b[1m>\u001b[0m\n",
                            "\u001b[1m<\u001b[0m\u001b[1;95mli\u001b[0m\u001b[39m \u001b[0m\u001b[33mclass\u001b[0m\u001b[39m=\u001b[0m\u001b[32m\"active\"\u001b[0m\u001b[1m>\u001b[0mAll products\u001b[1m<\u001b[0m\u001b[35m/\u001b[0m\u001b[95mli\u001b[0m\u001b[1m>\u001b[0m\n",
                            "\u001b[1m<\u001b[0m\u001b[35m/\u001b[0m\u001b[95mul\u001b[0m\u001b[1m>\u001b[0m\n"
                        ]
                    },
                    "metadata": {},
                    "output_type": "display_data"
                }
            ],
            "source": [
                "ul = soup.ul\n",
                "ul"
            ]
        },
        {
            "cell_type": "code",
            "execution_count": 95,
            "metadata": {},
            "outputs": [
                {
                    "data": {
                        "text/html": [
                            "<pre style=\"white-space:pre;overflow-x:auto;line-height:normal;font-family:Menlo,'DejaVu Sans Mono',consolas,'Courier New',monospace\">\n",
                            "<span style=\"font-weight: bold\">[</span>\n",
                            "    <span style=\"color: #008000; text-decoration-color: #008000\">'\\n'</span>,\n",
                            "    <span style=\"font-weight: bold\">&lt;</span><span style=\"color: #ff00ff; text-decoration-color: #ff00ff; font-weight: bold\">li</span><span style=\"font-weight: bold\">&gt;</span>\n",
                            "<span style=\"font-weight: bold\">&lt;</span><span style=\"color: #ff00ff; text-decoration-color: #ff00ff; font-weight: bold\">a</span><span style=\"color: #000000; text-decoration-color: #000000\"> </span><span style=\"color: #808000; text-decoration-color: #808000\">href</span><span style=\"color: #000000; text-decoration-color: #000000\">=</span><span style=\"color: #008000; text-decoration-color: #008000\">\"index.html\"</span><span style=\"font-weight: bold\">&gt;</span>Home<span style=\"font-weight: bold\">&lt;</span><span style=\"color: #800080; text-decoration-color: #800080\">/</span><span style=\"color: #ff00ff; text-decoration-color: #ff00ff\">a</span><span style=\"font-weight: bold\">&gt;</span>\n",
                            "<span style=\"font-weight: bold\">&lt;</span><span style=\"color: #800080; text-decoration-color: #800080\">/</span><span style=\"color: #ff00ff; text-decoration-color: #ff00ff\">li</span><span style=\"font-weight: bold\">&gt;</span>,\n",
                            "    <span style=\"color: #008000; text-decoration-color: #008000\">'\\n'</span>,\n",
                            "    <span style=\"font-weight: bold\">&lt;</span><span style=\"color: #ff00ff; text-decoration-color: #ff00ff; font-weight: bold\">li</span><span style=\"color: #000000; text-decoration-color: #000000\"> </span><span style=\"color: #808000; text-decoration-color: #808000\">class</span><span style=\"color: #000000; text-decoration-color: #000000\">=</span><span style=\"color: #008000; text-decoration-color: #008000\">\"active\"</span><span style=\"font-weight: bold\">&gt;</span>All products<span style=\"font-weight: bold\">&lt;</span><span style=\"color: #800080; text-decoration-color: #800080\">/</span><span style=\"color: #ff00ff; text-decoration-color: #ff00ff\">li</span><span style=\"font-weight: bold\">&gt;</span>,\n",
                            "    <span style=\"color: #008000; text-decoration-color: #008000\">'\\n'</span>\n",
                            "<span style=\"font-weight: bold\">]</span>\n",
                            "</pre>\n"
                        ],
                        "text/plain": [
                            "\n",
                            "\u001b[1m[\u001b[0m\n",
                            "    \u001b[32m'\\n'\u001b[0m,\n",
                            "    \u001b[1m<\u001b[0m\u001b[1;95mli\u001b[0m\u001b[1m>\u001b[0m\n",
                            "\u001b[1m<\u001b[0m\u001b[1;95ma\u001b[0m\u001b[39m \u001b[0m\u001b[33mhref\u001b[0m\u001b[39m=\u001b[0m\u001b[32m\"index\u001b[0m\u001b[32m.html\"\u001b[0m\u001b[1m>\u001b[0mHome\u001b[1m<\u001b[0m\u001b[35m/\u001b[0m\u001b[95ma\u001b[0m\u001b[1m>\u001b[0m\n",
                            "\u001b[1m<\u001b[0m\u001b[35m/\u001b[0m\u001b[95mli\u001b[0m\u001b[1m>\u001b[0m,\n",
                            "    \u001b[32m'\\n'\u001b[0m,\n",
                            "    \u001b[1m<\u001b[0m\u001b[1;95mli\u001b[0m\u001b[39m \u001b[0m\u001b[33mclass\u001b[0m\u001b[39m=\u001b[0m\u001b[32m\"active\"\u001b[0m\u001b[1m>\u001b[0mAll products\u001b[1m<\u001b[0m\u001b[35m/\u001b[0m\u001b[95mli\u001b[0m\u001b[1m>\u001b[0m,\n",
                            "    \u001b[32m'\\n'\u001b[0m\n",
                            "\u001b[1m]\u001b[0m\n"
                        ]
                    },
                    "metadata": {},
                    "output_type": "display_data"
                }
            ],
            "source": [
                "list(ul.children)"
            ]
        },
        {
            "cell_type": "code",
            "execution_count": 96,
            "metadata": {},
            "outputs": [],
            "source": [
                "from bs4.element import NavigableString\n",
                "\n",
                "\n",
                "def no_nav_strings(iterable):\n",
                "    return list(filter(lambda x: type(x) != NavigableString, iterable))"
            ]
        },
        {
            "cell_type": "code",
            "execution_count": 97,
            "metadata": {},
            "outputs": [
                {
                    "data": {
                        "text/html": [
                            "<pre style=\"white-space:pre;overflow-x:auto;line-height:normal;font-family:Menlo,'DejaVu Sans Mono',consolas,'Courier New',monospace\">\n",
                            "<span style=\"font-weight: bold\">[&lt;</span><span style=\"color: #ff00ff; text-decoration-color: #ff00ff; font-weight: bold\">li</span><span style=\"font-weight: bold\">&gt;</span>\n",
                            "<span style=\"font-weight: bold\">&lt;</span><span style=\"color: #ff00ff; text-decoration-color: #ff00ff; font-weight: bold\">a</span><span style=\"color: #000000; text-decoration-color: #000000\"> </span><span style=\"color: #808000; text-decoration-color: #808000\">href</span><span style=\"color: #000000; text-decoration-color: #000000\">=</span><span style=\"color: #008000; text-decoration-color: #008000\">\"index.html\"</span><span style=\"font-weight: bold\">&gt;</span>Home<span style=\"font-weight: bold\">&lt;</span><span style=\"color: #800080; text-decoration-color: #800080\">/</span><span style=\"color: #ff00ff; text-decoration-color: #ff00ff\">a</span><span style=\"font-weight: bold\">&gt;</span>\n",
                            "<span style=\"font-weight: bold\">&lt;</span><span style=\"color: #800080; text-decoration-color: #800080\">/</span><span style=\"color: #ff00ff; text-decoration-color: #ff00ff\">li</span><span style=\"font-weight: bold\">&gt;</span>, <span style=\"font-weight: bold\">&lt;</span><span style=\"color: #ff00ff; text-decoration-color: #ff00ff; font-weight: bold\">li</span><span style=\"color: #000000; text-decoration-color: #000000\"> </span><span style=\"color: #808000; text-decoration-color: #808000\">class</span><span style=\"color: #000000; text-decoration-color: #000000\">=</span><span style=\"color: #008000; text-decoration-color: #008000\">\"active\"</span><span style=\"font-weight: bold\">&gt;</span>All products<span style=\"font-weight: bold\">&lt;</span><span style=\"color: #800080; text-decoration-color: #800080\">/</span><span style=\"color: #ff00ff; text-decoration-color: #ff00ff\">li</span><span style=\"font-weight: bold\">&gt;]</span>\n",
                            "</pre>\n"
                        ],
                        "text/plain": [
                            "\n",
                            "\u001b[1m[\u001b[0m\u001b[1m<\u001b[0m\u001b[1;95mli\u001b[0m\u001b[1m>\u001b[0m\n",
                            "\u001b[1m<\u001b[0m\u001b[1;95ma\u001b[0m\u001b[39m \u001b[0m\u001b[33mhref\u001b[0m\u001b[39m=\u001b[0m\u001b[32m\"index\u001b[0m\u001b[32m.html\"\u001b[0m\u001b[1m>\u001b[0mHome\u001b[1m<\u001b[0m\u001b[35m/\u001b[0m\u001b[95ma\u001b[0m\u001b[1m>\u001b[0m\n",
                            "\u001b[1m<\u001b[0m\u001b[35m/\u001b[0m\u001b[95mli\u001b[0m\u001b[1m>\u001b[0m, \u001b[1m<\u001b[0m\u001b[1;95mli\u001b[0m\u001b[39m \u001b[0m\u001b[33mclass\u001b[0m\u001b[39m=\u001b[0m\u001b[32m\"active\"\u001b[0m\u001b[1m>\u001b[0mAll products\u001b[1m<\u001b[0m\u001b[35m/\u001b[0m\u001b[95mli\u001b[0m\u001b[1m>\u001b[0m\u001b[1m]\u001b[0m\n"
                        ]
                    },
                    "metadata": {},
                    "output_type": "display_data"
                }
            ],
            "source": [
                "no_nav_strings(ul.children)"
            ]
        },
        {
            "cell_type": "code",
            "execution_count": 98,
            "metadata": {},
            "outputs": [
                {
                    "data": {
                        "text/html": [
                            "<pre style=\"white-space:pre;overflow-x:auto;line-height:normal;font-family:Menlo,'DejaVu Sans Mono',consolas,'Courier New',monospace\">\n",
                            "<span style=\"font-weight: bold\">[</span>\n",
                            "    <span style=\"font-weight: bold\">&lt;</span><span style=\"color: #ff00ff; text-decoration-color: #ff00ff; font-weight: bold\">li</span><span style=\"font-weight: bold\">&gt;</span>\n",
                            "<span style=\"font-weight: bold\">&lt;</span><span style=\"color: #ff00ff; text-decoration-color: #ff00ff; font-weight: bold\">a</span><span style=\"color: #000000; text-decoration-color: #000000\"> </span><span style=\"color: #808000; text-decoration-color: #808000\">href</span><span style=\"color: #000000; text-decoration-color: #000000\">=</span><span style=\"color: #008000; text-decoration-color: #008000\">\"index.html\"</span><span style=\"font-weight: bold\">&gt;</span>Home<span style=\"font-weight: bold\">&lt;</span><span style=\"color: #800080; text-decoration-color: #800080\">/</span><span style=\"color: #ff00ff; text-decoration-color: #ff00ff\">a</span><span style=\"font-weight: bold\">&gt;</span>\n",
                            "<span style=\"font-weight: bold\">&lt;</span><span style=\"color: #800080; text-decoration-color: #800080\">/</span><span style=\"color: #ff00ff; text-decoration-color: #ff00ff\">li</span><span style=\"font-weight: bold\">&gt;</span>,\n",
                            "    <span style=\"font-weight: bold\">&lt;</span><span style=\"color: #ff00ff; text-decoration-color: #ff00ff; font-weight: bold\">a</span><span style=\"color: #000000; text-decoration-color: #000000\"> </span><span style=\"color: #808000; text-decoration-color: #808000\">href</span><span style=\"color: #000000; text-decoration-color: #000000\">=</span><span style=\"color: #008000; text-decoration-color: #008000\">\"index.html\"</span><span style=\"font-weight: bold\">&gt;</span>Home<span style=\"font-weight: bold\">&lt;</span><span style=\"color: #800080; text-decoration-color: #800080\">/</span><span style=\"color: #ff00ff; text-decoration-color: #ff00ff\">a</span><span style=\"font-weight: bold\">&gt;</span>,\n",
                            "    <span style=\"font-weight: bold\">&lt;</span><span style=\"color: #ff00ff; text-decoration-color: #ff00ff; font-weight: bold\">li</span><span style=\"color: #000000; text-decoration-color: #000000\"> </span><span style=\"color: #808000; text-decoration-color: #808000\">class</span><span style=\"color: #000000; text-decoration-color: #000000\">=</span><span style=\"color: #008000; text-decoration-color: #008000\">\"active\"</span><span style=\"font-weight: bold\">&gt;</span>All products<span style=\"font-weight: bold\">&lt;</span><span style=\"color: #800080; text-decoration-color: #800080\">/</span><span style=\"color: #ff00ff; text-decoration-color: #ff00ff\">li</span><span style=\"font-weight: bold\">&gt;</span>\n",
                            "<span style=\"font-weight: bold\">]</span>\n",
                            "</pre>\n"
                        ],
                        "text/plain": [
                            "\n",
                            "\u001b[1m[\u001b[0m\n",
                            "    \u001b[1m<\u001b[0m\u001b[1;95mli\u001b[0m\u001b[1m>\u001b[0m\n",
                            "\u001b[1m<\u001b[0m\u001b[1;95ma\u001b[0m\u001b[39m \u001b[0m\u001b[33mhref\u001b[0m\u001b[39m=\u001b[0m\u001b[32m\"index\u001b[0m\u001b[32m.html\"\u001b[0m\u001b[1m>\u001b[0mHome\u001b[1m<\u001b[0m\u001b[35m/\u001b[0m\u001b[95ma\u001b[0m\u001b[1m>\u001b[0m\n",
                            "\u001b[1m<\u001b[0m\u001b[35m/\u001b[0m\u001b[95mli\u001b[0m\u001b[1m>\u001b[0m,\n",
                            "    \u001b[1m<\u001b[0m\u001b[1;95ma\u001b[0m\u001b[39m \u001b[0m\u001b[33mhref\u001b[0m\u001b[39m=\u001b[0m\u001b[32m\"index\u001b[0m\u001b[32m.html\"\u001b[0m\u001b[1m>\u001b[0mHome\u001b[1m<\u001b[0m\u001b[35m/\u001b[0m\u001b[95ma\u001b[0m\u001b[1m>\u001b[0m,\n",
                            "    \u001b[1m<\u001b[0m\u001b[1;95mli\u001b[0m\u001b[39m \u001b[0m\u001b[33mclass\u001b[0m\u001b[39m=\u001b[0m\u001b[32m\"active\"\u001b[0m\u001b[1m>\u001b[0mAll products\u001b[1m<\u001b[0m\u001b[35m/\u001b[0m\u001b[95mli\u001b[0m\u001b[1m>\u001b[0m\n",
                            "\u001b[1m]\u001b[0m\n"
                        ]
                    },
                    "metadata": {},
                    "output_type": "display_data"
                }
            ],
            "source": [
                "ul_descendants = no_nav_strings(ul.descendants)\n",
                "ul_descendants"
            ]
        },
        {
            "cell_type": "code",
            "execution_count": 99,
            "metadata": {},
            "outputs": [
                {
                    "data": {
                        "text/html": [
                            "<pre style=\"white-space:pre;overflow-x:auto;line-height:normal;font-family:Menlo,'DejaVu Sans Mono',consolas,'Courier New',monospace\"><span style=\"font-weight: bold\">&lt;</span><span style=\"color: #ff00ff; text-decoration-color: #ff00ff; font-weight: bold\">a</span><span style=\"color: #000000; text-decoration-color: #000000\"> </span><span style=\"color: #808000; text-decoration-color: #808000\">href</span><span style=\"color: #000000; text-decoration-color: #000000\">=</span><span style=\"color: #008000; text-decoration-color: #008000\">\"index.html\"</span><span style=\"font-weight: bold\">&gt;</span>Home<span style=\"font-weight: bold\">&lt;</span><span style=\"color: #800080; text-decoration-color: #800080\">/</span><span style=\"color: #ff00ff; text-decoration-color: #ff00ff\">a</span><span style=\"font-weight: bold\">&gt;</span>\n",
                            "</pre>\n"
                        ],
                        "text/plain": [
                            "\u001b[1m<\u001b[0m\u001b[1;95ma\u001b[0m\u001b[39m \u001b[0m\u001b[33mhref\u001b[0m\u001b[39m=\u001b[0m\u001b[32m\"index\u001b[0m\u001b[32m.html\"\u001b[0m\u001b[1m>\u001b[0mHome\u001b[1m<\u001b[0m\u001b[35m/\u001b[0m\u001b[95ma\u001b[0m\u001b[1m>\u001b[0m\n"
                        ]
                    },
                    "metadata": {},
                    "output_type": "display_data"
                }
            ],
            "source": [
                "ul_descendants[1]"
            ]
        },
        {
            "cell_type": "code",
            "execution_count": 100,
            "metadata": {},
            "outputs": [
                {
                    "data": {
                        "text/html": [
                            "<pre style=\"white-space:pre;overflow-x:auto;line-height:normal;font-family:Menlo,'DejaVu Sans Mono',consolas,'Courier New',monospace\">\n",
                            "<span style=\"font-weight: bold\">&lt;</span><span style=\"color: #ff00ff; text-decoration-color: #ff00ff; font-weight: bold\">li</span><span style=\"font-weight: bold\">&gt;</span>\n",
                            "<span style=\"font-weight: bold\">&lt;</span><span style=\"color: #ff00ff; text-decoration-color: #ff00ff; font-weight: bold\">a</span><span style=\"color: #000000; text-decoration-color: #000000\"> </span><span style=\"color: #808000; text-decoration-color: #808000\">href</span><span style=\"color: #000000; text-decoration-color: #000000\">=</span><span style=\"color: #008000; text-decoration-color: #008000\">\"index.html\"</span><span style=\"font-weight: bold\">&gt;</span>Home<span style=\"font-weight: bold\">&lt;</span><span style=\"color: #800080; text-decoration-color: #800080\">/</span><span style=\"color: #ff00ff; text-decoration-color: #ff00ff\">a</span><span style=\"font-weight: bold\">&gt;</span>\n",
                            "<span style=\"font-weight: bold\">&lt;</span><span style=\"color: #800080; text-decoration-color: #800080\">/</span><span style=\"color: #ff00ff; text-decoration-color: #ff00ff\">li</span><span style=\"font-weight: bold\">&gt;</span>\n",
                            "</pre>\n"
                        ],
                        "text/plain": [
                            "\n",
                            "\u001b[1m<\u001b[0m\u001b[1;95mli\u001b[0m\u001b[1m>\u001b[0m\n",
                            "\u001b[1m<\u001b[0m\u001b[1;95ma\u001b[0m\u001b[39m \u001b[0m\u001b[33mhref\u001b[0m\u001b[39m=\u001b[0m\u001b[32m\"index\u001b[0m\u001b[32m.html\"\u001b[0m\u001b[1m>\u001b[0mHome\u001b[1m<\u001b[0m\u001b[35m/\u001b[0m\u001b[95ma\u001b[0m\u001b[1m>\u001b[0m\n",
                            "\u001b[1m<\u001b[0m\u001b[35m/\u001b[0m\u001b[95mli\u001b[0m\u001b[1m>\u001b[0m\n"
                        ]
                    },
                    "metadata": {},
                    "output_type": "display_data"
                }
            ],
            "source": [
                "ul_descendants[1].parent"
            ]
        },
        {
            "attachments": {},
            "cell_type": "markdown",
            "metadata": {},
            "source": [
                "### Siblings"
            ]
        },
        {
            "cell_type": "code",
            "execution_count": 101,
            "metadata": {},
            "outputs": [
                {
                    "data": {
                        "text/html": [
                            "<pre style=\"white-space:pre;overflow-x:auto;line-height:normal;font-family:Menlo,'DejaVu Sans Mono',consolas,'Courier New',monospace\">\n",
                            "<span style=\"font-weight: bold\">&lt;</span><span style=\"color: #ff00ff; text-decoration-color: #ff00ff; font-weight: bold\">ul</span><span style=\"color: #000000; text-decoration-color: #000000\"> </span><span style=\"color: #808000; text-decoration-color: #808000\">class</span><span style=\"color: #000000; text-decoration-color: #000000\">=</span><span style=\"color: #008000; text-decoration-color: #008000\">\"breadcrumb\"</span><span style=\"font-weight: bold\">&gt;</span>\n",
                            "<span style=\"font-weight: bold\">&lt;</span><span style=\"color: #ff00ff; text-decoration-color: #ff00ff; font-weight: bold\">li</span><span style=\"font-weight: bold\">&gt;</span>\n",
                            "<span style=\"font-weight: bold\">&lt;</span><span style=\"color: #ff00ff; text-decoration-color: #ff00ff; font-weight: bold\">a</span><span style=\"color: #000000; text-decoration-color: #000000\"> </span><span style=\"color: #808000; text-decoration-color: #808000\">href</span><span style=\"color: #000000; text-decoration-color: #000000\">=</span><span style=\"color: #008000; text-decoration-color: #008000\">\"index.html\"</span><span style=\"font-weight: bold\">&gt;</span>Home<span style=\"font-weight: bold\">&lt;</span><span style=\"color: #800080; text-decoration-color: #800080\">/</span><span style=\"color: #ff00ff; text-decoration-color: #ff00ff\">a</span><span style=\"font-weight: bold\">&gt;</span>\n",
                            "<span style=\"font-weight: bold\">&lt;</span><span style=\"color: #800080; text-decoration-color: #800080\">/</span><span style=\"color: #ff00ff; text-decoration-color: #ff00ff\">li</span><span style=\"font-weight: bold\">&gt;</span>\n",
                            "<span style=\"font-weight: bold\">&lt;</span><span style=\"color: #ff00ff; text-decoration-color: #ff00ff; font-weight: bold\">li</span><span style=\"color: #000000; text-decoration-color: #000000\"> </span><span style=\"color: #808000; text-decoration-color: #808000\">class</span><span style=\"color: #000000; text-decoration-color: #000000\">=</span><span style=\"color: #008000; text-decoration-color: #008000\">\"active\"</span><span style=\"font-weight: bold\">&gt;</span>All products<span style=\"font-weight: bold\">&lt;</span><span style=\"color: #800080; text-decoration-color: #800080\">/</span><span style=\"color: #ff00ff; text-decoration-color: #ff00ff\">li</span><span style=\"font-weight: bold\">&gt;</span>\n",
                            "<span style=\"font-weight: bold\">&lt;</span><span style=\"color: #800080; text-decoration-color: #800080\">/</span><span style=\"color: #ff00ff; text-decoration-color: #ff00ff\">ul</span><span style=\"font-weight: bold\">&gt;</span>\n",
                            "</pre>\n"
                        ],
                        "text/plain": [
                            "\n",
                            "\u001b[1m<\u001b[0m\u001b[1;95mul\u001b[0m\u001b[39m \u001b[0m\u001b[33mclass\u001b[0m\u001b[39m=\u001b[0m\u001b[32m\"breadcrumb\"\u001b[0m\u001b[1m>\u001b[0m\n",
                            "\u001b[1m<\u001b[0m\u001b[1;95mli\u001b[0m\u001b[1m>\u001b[0m\n",
                            "\u001b[1m<\u001b[0m\u001b[1;95ma\u001b[0m\u001b[39m \u001b[0m\u001b[33mhref\u001b[0m\u001b[39m=\u001b[0m\u001b[32m\"index\u001b[0m\u001b[32m.html\"\u001b[0m\u001b[1m>\u001b[0mHome\u001b[1m<\u001b[0m\u001b[35m/\u001b[0m\u001b[95ma\u001b[0m\u001b[1m>\u001b[0m\n",
                            "\u001b[1m<\u001b[0m\u001b[35m/\u001b[0m\u001b[95mli\u001b[0m\u001b[1m>\u001b[0m\n",
                            "\u001b[1m<\u001b[0m\u001b[1;95mli\u001b[0m\u001b[39m \u001b[0m\u001b[33mclass\u001b[0m\u001b[39m=\u001b[0m\u001b[32m\"active\"\u001b[0m\u001b[1m>\u001b[0mAll products\u001b[1m<\u001b[0m\u001b[35m/\u001b[0m\u001b[95mli\u001b[0m\u001b[1m>\u001b[0m\n",
                            "\u001b[1m<\u001b[0m\u001b[35m/\u001b[0m\u001b[95mul\u001b[0m\u001b[1m>\u001b[0m\n"
                        ]
                    },
                    "metadata": {},
                    "output_type": "display_data"
                }
            ],
            "source": [
                "ul"
            ]
        },
        {
            "cell_type": "code",
            "execution_count": 102,
            "metadata": {},
            "outputs": [
                {
                    "data": {
                        "text/html": [
                            "<pre style=\"white-space:pre;overflow-x:auto;line-height:normal;font-family:Menlo,'DejaVu Sans Mono',consolas,'Courier New',monospace\"><span style=\"color: #008000; text-decoration-color: #008000\">'\\n'</span>\n",
                            "</pre>\n"
                        ],
                        "text/plain": [
                            "\u001b[32m'\\n'\u001b[0m\n"
                        ]
                    },
                    "metadata": {},
                    "output_type": "display_data"
                }
            ],
            "source": [
                "ul.li.next_sibling"
            ]
        },
        {
            "cell_type": "code",
            "execution_count": 103,
            "metadata": {},
            "outputs": [
                {
                    "data": {
                        "text/html": [
                            "<pre style=\"white-space:pre;overflow-x:auto;line-height:normal;font-family:Menlo,'DejaVu Sans Mono',consolas,'Courier New',monospace\"><span style=\"font-weight: bold\">&lt;</span><span style=\"color: #ff00ff; text-decoration-color: #ff00ff; font-weight: bold\">li</span><span style=\"color: #000000; text-decoration-color: #000000\"> </span><span style=\"color: #808000; text-decoration-color: #808000\">class</span><span style=\"color: #000000; text-decoration-color: #000000\">=</span><span style=\"color: #008000; text-decoration-color: #008000\">\"active\"</span><span style=\"font-weight: bold\">&gt;</span>All products<span style=\"font-weight: bold\">&lt;</span><span style=\"color: #800080; text-decoration-color: #800080\">/</span><span style=\"color: #ff00ff; text-decoration-color: #ff00ff\">li</span><span style=\"font-weight: bold\">&gt;</span>\n",
                            "</pre>\n"
                        ],
                        "text/plain": [
                            "\u001b[1m<\u001b[0m\u001b[1;95mli\u001b[0m\u001b[39m \u001b[0m\u001b[33mclass\u001b[0m\u001b[39m=\u001b[0m\u001b[32m\"active\"\u001b[0m\u001b[1m>\u001b[0mAll products\u001b[1m<\u001b[0m\u001b[35m/\u001b[0m\u001b[95mli\u001b[0m\u001b[1m>\u001b[0m\n"
                        ]
                    },
                    "metadata": {},
                    "output_type": "display_data"
                }
            ],
            "source": [
                "ul.li.next_sibling.next_sibling"
            ]
        },
        {
            "cell_type": "code",
            "execution_count": 104,
            "metadata": {},
            "outputs": [
                {
                    "data": {
                        "text/html": [
                            "<pre style=\"white-space:pre;overflow-x:auto;line-height:normal;font-family:Menlo,'DejaVu Sans Mono',consolas,'Courier New',monospace\"><span style=\"color: #008000; text-decoration-color: #008000\">'\\n'</span>\n",
                            "</pre>\n"
                        ],
                        "text/plain": [
                            "\u001b[32m'\\n'\u001b[0m\n"
                        ]
                    },
                    "metadata": {},
                    "output_type": "display_data"
                }
            ],
            "source": [
                "ul.li.next_sibling.next_sibling.previous_sibling"
            ]
        },
        {
            "attachments": {},
            "cell_type": "markdown",
            "metadata": {},
            "source": [
                "### Extracting text"
            ]
        },
        {
            "cell_type": "code",
            "execution_count": 105,
            "metadata": {},
            "outputs": [
                {
                    "data": {
                        "text/html": [
                            "<pre style=\"white-space:pre;overflow-x:auto;line-height:normal;font-family:Menlo,'DejaVu Sans Mono',consolas,'Courier New',monospace\">\n",
                            "<span style=\"font-weight: bold\">&lt;</span><span style=\"color: #ff00ff; text-decoration-color: #ff00ff; font-weight: bold\">ul</span><span style=\"color: #000000; text-decoration-color: #000000\"> </span><span style=\"color: #808000; text-decoration-color: #808000\">class</span><span style=\"color: #000000; text-decoration-color: #000000\">=</span><span style=\"color: #008000; text-decoration-color: #008000\">\"breadcrumb\"</span><span style=\"font-weight: bold\">&gt;</span>\n",
                            "<span style=\"font-weight: bold\">&lt;</span><span style=\"color: #ff00ff; text-decoration-color: #ff00ff; font-weight: bold\">li</span><span style=\"font-weight: bold\">&gt;</span>\n",
                            "<span style=\"font-weight: bold\">&lt;</span><span style=\"color: #ff00ff; text-decoration-color: #ff00ff; font-weight: bold\">a</span><span style=\"color: #000000; text-decoration-color: #000000\"> </span><span style=\"color: #808000; text-decoration-color: #808000\">href</span><span style=\"color: #000000; text-decoration-color: #000000\">=</span><span style=\"color: #008000; text-decoration-color: #008000\">\"index.html\"</span><span style=\"font-weight: bold\">&gt;</span>Home<span style=\"font-weight: bold\">&lt;</span><span style=\"color: #800080; text-decoration-color: #800080\">/</span><span style=\"color: #ff00ff; text-decoration-color: #ff00ff\">a</span><span style=\"font-weight: bold\">&gt;</span>\n",
                            "<span style=\"font-weight: bold\">&lt;</span><span style=\"color: #800080; text-decoration-color: #800080\">/</span><span style=\"color: #ff00ff; text-decoration-color: #ff00ff\">li</span><span style=\"font-weight: bold\">&gt;</span>\n",
                            "<span style=\"font-weight: bold\">&lt;</span><span style=\"color: #ff00ff; text-decoration-color: #ff00ff; font-weight: bold\">li</span><span style=\"color: #000000; text-decoration-color: #000000\"> </span><span style=\"color: #808000; text-decoration-color: #808000\">class</span><span style=\"color: #000000; text-decoration-color: #000000\">=</span><span style=\"color: #008000; text-decoration-color: #008000\">\"active\"</span><span style=\"font-weight: bold\">&gt;</span>All products<span style=\"font-weight: bold\">&lt;</span><span style=\"color: #800080; text-decoration-color: #800080\">/</span><span style=\"color: #ff00ff; text-decoration-color: #ff00ff\">li</span><span style=\"font-weight: bold\">&gt;</span>\n",
                            "<span style=\"font-weight: bold\">&lt;</span><span style=\"color: #800080; text-decoration-color: #800080\">/</span><span style=\"color: #ff00ff; text-decoration-color: #ff00ff\">ul</span><span style=\"font-weight: bold\">&gt;</span>\n",
                            "</pre>\n"
                        ],
                        "text/plain": [
                            "\n",
                            "\u001b[1m<\u001b[0m\u001b[1;95mul\u001b[0m\u001b[39m \u001b[0m\u001b[33mclass\u001b[0m\u001b[39m=\u001b[0m\u001b[32m\"breadcrumb\"\u001b[0m\u001b[1m>\u001b[0m\n",
                            "\u001b[1m<\u001b[0m\u001b[1;95mli\u001b[0m\u001b[1m>\u001b[0m\n",
                            "\u001b[1m<\u001b[0m\u001b[1;95ma\u001b[0m\u001b[39m \u001b[0m\u001b[33mhref\u001b[0m\u001b[39m=\u001b[0m\u001b[32m\"index\u001b[0m\u001b[32m.html\"\u001b[0m\u001b[1m>\u001b[0mHome\u001b[1m<\u001b[0m\u001b[35m/\u001b[0m\u001b[95ma\u001b[0m\u001b[1m>\u001b[0m\n",
                            "\u001b[1m<\u001b[0m\u001b[35m/\u001b[0m\u001b[95mli\u001b[0m\u001b[1m>\u001b[0m\n",
                            "\u001b[1m<\u001b[0m\u001b[1;95mli\u001b[0m\u001b[39m \u001b[0m\u001b[33mclass\u001b[0m\u001b[39m=\u001b[0m\u001b[32m\"active\"\u001b[0m\u001b[1m>\u001b[0mAll products\u001b[1m<\u001b[0m\u001b[35m/\u001b[0m\u001b[95mli\u001b[0m\u001b[1m>\u001b[0m\n",
                            "\u001b[1m<\u001b[0m\u001b[35m/\u001b[0m\u001b[95mul\u001b[0m\u001b[1m>\u001b[0m\n"
                        ]
                    },
                    "metadata": {},
                    "output_type": "display_data"
                }
            ],
            "source": [
                "soup.ul"
            ]
        },
        {
            "cell_type": "code",
            "execution_count": 106,
            "metadata": {},
            "outputs": [
                {
                    "data": {
                        "text/html": [
                            "<pre style=\"white-space:pre;overflow-x:auto;line-height:normal;font-family:Menlo,'DejaVu Sans Mono',consolas,'Courier New',monospace\"><span style=\"color: #008000; text-decoration-color: #008000\">'\\n\\nHome\\n\\nAll products\\n'</span>\n",
                            "</pre>\n"
                        ],
                        "text/plain": [
                            "\u001b[32m'\\n\\nHome\\n\\nAll products\\n'\u001b[0m\n"
                        ]
                    },
                    "metadata": {},
                    "output_type": "display_data"
                }
            ],
            "source": [
                "soup.ul.text"
            ]
        },
        {
            "cell_type": "code",
            "execution_count": 107,
            "metadata": {},
            "outputs": [],
            "source": [
                "soup.ul.string  # children/descendants text not included"
            ]
        },
        {
            "cell_type": "code",
            "execution_count": 108,
            "metadata": {},
            "outputs": [
                {
                    "data": {
                        "text/html": [
                            "<pre style=\"white-space:pre;overflow-x:auto;line-height:normal;font-family:Menlo,'DejaVu Sans Mono',consolas,'Courier New',monospace\"><span style=\"font-weight: bold\">(</span><span style=\"color: #008000; text-decoration-color: #008000\">'Home'</span>, <span style=\"font-weight: bold\">&lt;</span><span style=\"color: #ff00ff; text-decoration-color: #ff00ff; font-weight: bold\">class</span><span style=\"color: #000000; text-decoration-color: #000000\"> </span><span style=\"color: #008000; text-decoration-color: #008000\">'bs4.element.NavigableString'</span><span style=\"font-weight: bold\">&gt;)</span>\n",
                            "</pre>\n"
                        ],
                        "text/plain": [
                            "\u001b[1m(\u001b[0m\u001b[32m'Home'\u001b[0m, \u001b[1m<\u001b[0m\u001b[1;95mclass\u001b[0m\u001b[39m \u001b[0m\u001b[32m'bs4.element.NavigableString'\u001b[0m\u001b[1m>\u001b[0m\u001b[1m)\u001b[0m\n"
                        ]
                    },
                    "metadata": {},
                    "output_type": "display_data"
                }
            ],
            "source": [
                "soup.ul.a.string, type(soup.ul.a.string)"
            ]
        },
        {
            "cell_type": "code",
            "execution_count": 109,
            "metadata": {},
            "outputs": [
                {
                    "data": {
                        "text/html": [
                            "<pre style=\"white-space:pre;overflow-x:auto;line-height:normal;font-family:Menlo,'DejaVu Sans Mono',consolas,'Courier New',monospace\"><span style=\"color: #008000; text-decoration-color: #008000\">'\\n\\nHome\\n\\nAll products\\n'</span>\n",
                            "</pre>\n"
                        ],
                        "text/plain": [
                            "\u001b[32m'\\n\\nHome\\n\\nAll products\\n'\u001b[0m\n"
                        ]
                    },
                    "metadata": {},
                    "output_type": "display_data"
                }
            ],
            "source": [
                "soup.ul.text"
            ]
        },
        {
            "cell_type": "code",
            "execution_count": 110,
            "metadata": {},
            "outputs": [
                {
                    "data": {
                        "text/html": [
                            "<pre style=\"white-space:pre;overflow-x:auto;line-height:normal;font-family:Menlo,'DejaVu Sans Mono',consolas,'Courier New',monospace\"><span style=\"color: #008000; text-decoration-color: #008000\">'\\n\\nHome\\n\\nAll products\\n'</span>\n",
                            "</pre>\n"
                        ],
                        "text/plain": [
                            "\u001b[32m'\\n\\nHome\\n\\nAll products\\n'\u001b[0m\n"
                        ]
                    },
                    "metadata": {},
                    "output_type": "display_data"
                }
            ],
            "source": [
                "soup.ul.get_text()"
            ]
        },
        {
            "cell_type": "code",
            "execution_count": 111,
            "metadata": {},
            "outputs": [
                {
                    "data": {
                        "text/html": [
                            "<pre style=\"white-space:pre;overflow-x:auto;line-height:normal;font-family:Menlo,'DejaVu Sans Mono',consolas,'Courier New',monospace\"><span style=\"color: #008000; text-decoration-color: #008000\">'HomeAll products'</span>\n",
                            "</pre>\n"
                        ],
                        "text/plain": [
                            "\u001b[32m'HomeAll products'\u001b[0m\n"
                        ]
                    },
                    "metadata": {},
                    "output_type": "display_data"
                }
            ],
            "source": [
                "soup.ul.get_text(strip=True)"
            ]
        },
        {
            "cell_type": "code",
            "execution_count": 112,
            "metadata": {},
            "outputs": [
                {
                    "data": {
                        "text/html": [
                            "<pre style=\"white-space:pre;overflow-x:auto;line-height:normal;font-family:Menlo,'DejaVu Sans Mono',consolas,'Courier New',monospace\"><span style=\"color: #008000; text-decoration-color: #008000\">'\\n==&gt;\\n==&gt;Home==&gt;\\n==&gt;\\n==&gt;All products==&gt;\\n'</span>\n",
                            "</pre>\n"
                        ],
                        "text/plain": [
                            "\u001b[32m'\\\u001b[0m\u001b[32mn\u001b[0m\u001b[32m==>\\\u001b[0m\u001b[32mn\u001b[0m\u001b[32m==>\u001b[0m\u001b[32mHome\u001b[0m\u001b[32m==>\\\u001b[0m\u001b[32mn\u001b[0m\u001b[32m==>\\\u001b[0m\u001b[32mn\u001b[0m\u001b[32m==>All \u001b[0m\u001b[32mproducts\u001b[0m\u001b[32m==>\\n'\u001b[0m\n"
                        ]
                    },
                    "metadata": {},
                    "output_type": "display_data"
                }
            ],
            "source": [
                "soup.ul.get_text(separator=\"==>\")"
            ]
        },
        {
            "cell_type": "code",
            "execution_count": 113,
            "metadata": {},
            "outputs": [
                {
                    "data": {
                        "text/html": [
                            "<pre style=\"white-space:pre;overflow-x:auto;line-height:normal;font-family:Menlo,'DejaVu Sans Mono',consolas,'Courier New',monospace\"><span style=\"color: #008000; text-decoration-color: #008000\">'Home==&gt;All products'</span>\n",
                            "</pre>\n"
                        ],
                        "text/plain": [
                            "\u001b[32m'\u001b[0m\u001b[32mHome\u001b[0m\u001b[32m==>All products'\u001b[0m\n"
                        ]
                    },
                    "metadata": {},
                    "output_type": "display_data"
                }
            ],
            "source": [
                "soup.ul.get_text(separator=\"==>\", strip=True)"
            ]
        },
        {
            "attachments": {},
            "cell_type": "markdown",
            "metadata": {},
            "source": [
                "### All strings"
            ]
        },
        {
            "cell_type": "code",
            "execution_count": 114,
            "metadata": {},
            "outputs": [
                {
                    "data": {
                        "text/html": [
                            "<pre style=\"white-space:pre;overflow-x:auto;line-height:normal;font-family:Menlo,'DejaVu Sans Mono',consolas,'Courier New',monospace\"><span style=\"font-weight: bold\">[</span><span style=\"color: #008000; text-decoration-color: #008000\">'\\n'</span>, <span style=\"color: #008000; text-decoration-color: #008000\">'\\n'</span>, <span style=\"color: #008000; text-decoration-color: #008000\">'\\n'</span>, <span style=\"color: #008000; text-decoration-color: #008000\">'\\n'</span>, <span style=\"color: #008000; text-decoration-color: #008000\">' '</span><span style=\"font-weight: bold\">]</span>\n",
                            "</pre>\n"
                        ],
                        "text/plain": [
                            "\u001b[1m[\u001b[0m\u001b[32m'\\n'\u001b[0m, \u001b[32m'\\n'\u001b[0m, \u001b[32m'\\n'\u001b[0m, \u001b[32m'\\n'\u001b[0m, \u001b[32m' '\u001b[0m\u001b[1m]\u001b[0m\n"
                        ]
                    },
                    "metadata": {},
                    "output_type": "display_data"
                }
            ],
            "source": [
                "all_strings = list(soup.strings)\n",
                "all_strings[:5]"
            ]
        },
        {
            "cell_type": "code",
            "execution_count": 115,
            "metadata": {},
            "outputs": [
                {
                    "data": {
                        "text/html": [
                            "<pre style=\"white-space:pre;overflow-x:auto;line-height:normal;font-family:Menlo,'DejaVu Sans Mono',consolas,'Courier New',monospace\"><span style=\"font-weight: bold\">&lt;</span><span style=\"color: #ff00ff; text-decoration-color: #ff00ff; font-weight: bold\">generator</span><span style=\"color: #000000; text-decoration-color: #000000\"> object PageElement.stripped_strings at </span><span style=\"color: #008080; text-decoration-color: #008080; font-weight: bold\">0x7f805377c2e0</span><span style=\"font-weight: bold\">&gt;</span>\n",
                            "</pre>\n"
                        ],
                        "text/plain": [
                            "\u001b[1m<\u001b[0m\u001b[1;95mgenerator\u001b[0m\u001b[39m object PageElement.stripped_strings at \u001b[0m\u001b[1;36m0x7f805377c2e0\u001b[0m\u001b[1m>\u001b[0m\n"
                        ]
                    },
                    "metadata": {},
                    "output_type": "display_data"
                }
            ],
            "source": [
                "soup.stripped_strings"
            ]
        },
        {
            "cell_type": "code",
            "execution_count": 116,
            "metadata": {},
            "outputs": [
                {
                    "data": {
                        "text/html": [
                            "<pre style=\"white-space:pre;overflow-x:auto;line-height:normal;font-family:Menlo,'DejaVu Sans Mono',consolas,'Courier New',monospace\">\n",
                            "<span style=\"font-weight: bold\">[</span>\n",
                            "    <span style=\"color: #008000; text-decoration-color: #008000\">'All products | Books to Scrape - Sandbox'</span>,\n",
                            "    <span style=\"color: #008000; text-decoration-color: #008000\">'Books to Scrape'</span>,\n",
                            "    <span style=\"color: #008000; text-decoration-color: #008000\">'We love being scraped!'</span>,\n",
                            "    <span style=\"color: #008000; text-decoration-color: #008000\">'Home'</span>,\n",
                            "    <span style=\"color: #008000; text-decoration-color: #008000\">'All products'</span>\n",
                            "<span style=\"font-weight: bold\">]</span>\n",
                            "</pre>\n"
                        ],
                        "text/plain": [
                            "\n",
                            "\u001b[1m[\u001b[0m\n",
                            "    \u001b[32m'All products | Books to Scrape - Sandbox'\u001b[0m,\n",
                            "    \u001b[32m'Books to Scrape'\u001b[0m,\n",
                            "    \u001b[32m'We love being scraped!'\u001b[0m,\n",
                            "    \u001b[32m'Home'\u001b[0m,\n",
                            "    \u001b[32m'All products'\u001b[0m\n",
                            "\u001b[1m]\u001b[0m\n"
                        ]
                    },
                    "metadata": {},
                    "output_type": "display_data"
                }
            ],
            "source": [
                "all_strings = list(soup.stripped_strings)\n",
                "all_strings[:5]"
            ]
        },
        {
            "attachments": {},
            "cell_type": "markdown",
            "metadata": {},
            "source": [
                "### Search"
            ]
        },
        {
            "cell_type": "code",
            "execution_count": 117,
            "metadata": {},
            "outputs": [
                {
                    "data": {
                        "text/html": [
                            "<pre style=\"white-space:pre;overflow-x:auto;line-height:normal;font-family:Menlo,'DejaVu Sans Mono',consolas,'Courier New',monospace\"><span style=\"color: #008080; text-decoration-color: #008080; font-weight: bold\">541</span>\n",
                            "</pre>\n"
                        ],
                        "text/plain": [
                            "\u001b[1;36m541\u001b[0m\n"
                        ]
                    },
                    "metadata": {},
                    "output_type": "display_data"
                }
            ],
            "source": [
                "len(soup.find_all())"
            ]
        },
        {
            "cell_type": "code",
            "execution_count": 118,
            "metadata": {},
            "outputs": [
                {
                    "data": {
                        "text/html": [
                            "<pre style=\"white-space:pre;overflow-x:auto;line-height:normal;font-family:Menlo,'DejaVu Sans Mono',consolas,'Courier New',monospace\"><span style=\"color: #008080; text-decoration-color: #008080; font-weight: bold\">1</span>\n",
                            "</pre>\n"
                        ],
                        "text/plain": [
                            "\u001b[1;36m1\u001b[0m\n"
                        ]
                    },
                    "metadata": {},
                    "output_type": "display_data"
                }
            ],
            "source": [
                "len(soup.find_all(\"h1\"))"
            ]
        },
        {
            "cell_type": "code",
            "execution_count": 119,
            "metadata": {},
            "outputs": [
                {
                    "data": {
                        "text/html": [
                            "<pre style=\"white-space:pre;overflow-x:auto;line-height:normal;font-family:Menlo,'DejaVu Sans Mono',consolas,'Courier New',monospace\"><span style=\"color: #008080; text-decoration-color: #008080; font-weight: bold\">20</span>\n",
                            "</pre>\n"
                        ],
                        "text/plain": [
                            "\u001b[1;36m20\u001b[0m\n"
                        ]
                    },
                    "metadata": {},
                    "output_type": "display_data"
                }
            ],
            "source": [
                "len(soup.find_all(\"h3\"))"
            ]
        },
        {
            "cell_type": "code",
            "execution_count": 120,
            "metadata": {},
            "outputs": [
                {
                    "data": {
                        "text/html": [
                            "<pre style=\"white-space:pre;overflow-x:auto;line-height:normal;font-family:Menlo,'DejaVu Sans Mono',consolas,'Courier New',monospace\"><span style=\"color: #008080; text-decoration-color: #008080; font-weight: bold\">21</span>\n",
                            "</pre>\n"
                        ],
                        "text/plain": [
                            "\u001b[1;36m21\u001b[0m\n"
                        ]
                    },
                    "metadata": {},
                    "output_type": "display_data"
                }
            ],
            "source": [
                "len(soup.find_all([\"h1\", \"h3\"]))"
            ]
        },
        {
            "cell_type": "code",
            "execution_count": 121,
            "metadata": {},
            "outputs": [
                {
                    "data": {
                        "text/html": [
                            "<pre style=\"white-space:pre;overflow-x:auto;line-height:normal;font-family:Menlo,'DejaVu Sans Mono',consolas,'Courier New',monospace\">\n",
                            "<span style=\"font-weight: bold\">[</span>\n",
                            "    <span style=\"font-weight: bold\">&lt;</span><span style=\"color: #ff00ff; text-decoration-color: #ff00ff; font-weight: bold\">p</span><span style=\"color: #000000; text-decoration-color: #000000\"> </span><span style=\"color: #808000; text-decoration-color: #808000\">class</span><span style=\"color: #000000; text-decoration-color: #000000\">=</span><span style=\"color: #008000; text-decoration-color: #008000\">\"price_color\"</span><span style=\"font-weight: bold\">&gt;</span>£<span style=\"color: #008080; text-decoration-color: #008080; font-weight: bold\">51.77</span><span style=\"font-weight: bold\">&lt;</span><span style=\"color: #800080; text-decoration-color: #800080\">/</span><span style=\"color: #ff00ff; text-decoration-color: #ff00ff\">p</span><span style=\"font-weight: bold\">&gt;</span>,\n",
                            "    <span style=\"font-weight: bold\">&lt;</span><span style=\"color: #ff00ff; text-decoration-color: #ff00ff; font-weight: bold\">p</span><span style=\"color: #000000; text-decoration-color: #000000\"> </span><span style=\"color: #808000; text-decoration-color: #808000\">class</span><span style=\"color: #000000; text-decoration-color: #000000\">=</span><span style=\"color: #008000; text-decoration-color: #008000\">\"price_color\"</span><span style=\"font-weight: bold\">&gt;</span>£<span style=\"color: #008080; text-decoration-color: #008080; font-weight: bold\">53.74</span><span style=\"font-weight: bold\">&lt;</span><span style=\"color: #800080; text-decoration-color: #800080\">/</span><span style=\"color: #ff00ff; text-decoration-color: #ff00ff\">p</span><span style=\"font-weight: bold\">&gt;</span>,\n",
                            "    <span style=\"font-weight: bold\">&lt;</span><span style=\"color: #ff00ff; text-decoration-color: #ff00ff; font-weight: bold\">p</span><span style=\"color: #000000; text-decoration-color: #000000\"> </span><span style=\"color: #808000; text-decoration-color: #808000\">class</span><span style=\"color: #000000; text-decoration-color: #000000\">=</span><span style=\"color: #008000; text-decoration-color: #008000\">\"price_color\"</span><span style=\"font-weight: bold\">&gt;</span>£<span style=\"color: #008080; text-decoration-color: #008080; font-weight: bold\">50.10</span><span style=\"font-weight: bold\">&lt;</span><span style=\"color: #800080; text-decoration-color: #800080\">/</span><span style=\"color: #ff00ff; text-decoration-color: #ff00ff\">p</span><span style=\"font-weight: bold\">&gt;</span>,\n",
                            "    <span style=\"font-weight: bold\">&lt;</span><span style=\"color: #ff00ff; text-decoration-color: #ff00ff; font-weight: bold\">p</span><span style=\"color: #000000; text-decoration-color: #000000\"> </span><span style=\"color: #808000; text-decoration-color: #808000\">class</span><span style=\"color: #000000; text-decoration-color: #000000\">=</span><span style=\"color: #008000; text-decoration-color: #008000\">\"price_color\"</span><span style=\"font-weight: bold\">&gt;</span>£<span style=\"color: #008080; text-decoration-color: #008080; font-weight: bold\">47.82</span><span style=\"font-weight: bold\">&lt;</span><span style=\"color: #800080; text-decoration-color: #800080\">/</span><span style=\"color: #ff00ff; text-decoration-color: #ff00ff\">p</span><span style=\"font-weight: bold\">&gt;</span>,\n",
                            "    <span style=\"font-weight: bold\">&lt;</span><span style=\"color: #ff00ff; text-decoration-color: #ff00ff; font-weight: bold\">p</span><span style=\"color: #000000; text-decoration-color: #000000\"> </span><span style=\"color: #808000; text-decoration-color: #808000\">class</span><span style=\"color: #000000; text-decoration-color: #000000\">=</span><span style=\"color: #008000; text-decoration-color: #008000\">\"price_color\"</span><span style=\"font-weight: bold\">&gt;</span>£<span style=\"color: #008080; text-decoration-color: #008080; font-weight: bold\">54.23</span><span style=\"font-weight: bold\">&lt;</span><span style=\"color: #800080; text-decoration-color: #800080\">/</span><span style=\"color: #ff00ff; text-decoration-color: #ff00ff\">p</span><span style=\"font-weight: bold\">&gt;</span>,\n",
                            "    <span style=\"font-weight: bold\">&lt;</span><span style=\"color: #ff00ff; text-decoration-color: #ff00ff; font-weight: bold\">p</span><span style=\"color: #000000; text-decoration-color: #000000\"> </span><span style=\"color: #808000; text-decoration-color: #808000\">class</span><span style=\"color: #000000; text-decoration-color: #000000\">=</span><span style=\"color: #008000; text-decoration-color: #008000\">\"price_color\"</span><span style=\"font-weight: bold\">&gt;</span>£<span style=\"color: #008080; text-decoration-color: #008080; font-weight: bold\">22.65</span><span style=\"font-weight: bold\">&lt;</span><span style=\"color: #800080; text-decoration-color: #800080\">/</span><span style=\"color: #ff00ff; text-decoration-color: #ff00ff\">p</span><span style=\"font-weight: bold\">&gt;</span>,\n",
                            "    <span style=\"font-weight: bold\">&lt;</span><span style=\"color: #ff00ff; text-decoration-color: #ff00ff; font-weight: bold\">p</span><span style=\"color: #000000; text-decoration-color: #000000\"> </span><span style=\"color: #808000; text-decoration-color: #808000\">class</span><span style=\"color: #000000; text-decoration-color: #000000\">=</span><span style=\"color: #008000; text-decoration-color: #008000\">\"price_color\"</span><span style=\"font-weight: bold\">&gt;</span>£<span style=\"color: #008080; text-decoration-color: #008080; font-weight: bold\">33.34</span><span style=\"font-weight: bold\">&lt;</span><span style=\"color: #800080; text-decoration-color: #800080\">/</span><span style=\"color: #ff00ff; text-decoration-color: #ff00ff\">p</span><span style=\"font-weight: bold\">&gt;</span>,\n",
                            "    <span style=\"font-weight: bold\">&lt;</span><span style=\"color: #ff00ff; text-decoration-color: #ff00ff; font-weight: bold\">p</span><span style=\"color: #000000; text-decoration-color: #000000\"> </span><span style=\"color: #808000; text-decoration-color: #808000\">class</span><span style=\"color: #000000; text-decoration-color: #000000\">=</span><span style=\"color: #008000; text-decoration-color: #008000\">\"price_color\"</span><span style=\"font-weight: bold\">&gt;</span>£<span style=\"color: #008080; text-decoration-color: #008080; font-weight: bold\">17.93</span><span style=\"font-weight: bold\">&lt;</span><span style=\"color: #800080; text-decoration-color: #800080\">/</span><span style=\"color: #ff00ff; text-decoration-color: #ff00ff\">p</span><span style=\"font-weight: bold\">&gt;</span>,\n",
                            "    <span style=\"font-weight: bold\">&lt;</span><span style=\"color: #ff00ff; text-decoration-color: #ff00ff; font-weight: bold\">p</span><span style=\"color: #000000; text-decoration-color: #000000\"> </span><span style=\"color: #808000; text-decoration-color: #808000\">class</span><span style=\"color: #000000; text-decoration-color: #000000\">=</span><span style=\"color: #008000; text-decoration-color: #008000\">\"price_color\"</span><span style=\"font-weight: bold\">&gt;</span>£<span style=\"color: #008080; text-decoration-color: #008080; font-weight: bold\">22.60</span><span style=\"font-weight: bold\">&lt;</span><span style=\"color: #800080; text-decoration-color: #800080\">/</span><span style=\"color: #ff00ff; text-decoration-color: #ff00ff\">p</span><span style=\"font-weight: bold\">&gt;</span>,\n",
                            "    <span style=\"font-weight: bold\">&lt;</span><span style=\"color: #ff00ff; text-decoration-color: #ff00ff; font-weight: bold\">p</span><span style=\"color: #000000; text-decoration-color: #000000\"> </span><span style=\"color: #808000; text-decoration-color: #808000\">class</span><span style=\"color: #000000; text-decoration-color: #000000\">=</span><span style=\"color: #008000; text-decoration-color: #008000\">\"price_color\"</span><span style=\"font-weight: bold\">&gt;</span>£<span style=\"color: #008080; text-decoration-color: #008080; font-weight: bold\">52.15</span><span style=\"font-weight: bold\">&lt;</span><span style=\"color: #800080; text-decoration-color: #800080\">/</span><span style=\"color: #ff00ff; text-decoration-color: #ff00ff\">p</span><span style=\"font-weight: bold\">&gt;</span>,\n",
                            "    <span style=\"font-weight: bold\">&lt;</span><span style=\"color: #ff00ff; text-decoration-color: #ff00ff; font-weight: bold\">p</span><span style=\"color: #000000; text-decoration-color: #000000\"> </span><span style=\"color: #808000; text-decoration-color: #808000\">class</span><span style=\"color: #000000; text-decoration-color: #000000\">=</span><span style=\"color: #008000; text-decoration-color: #008000\">\"price_color\"</span><span style=\"font-weight: bold\">&gt;</span>£<span style=\"color: #008080; text-decoration-color: #008080; font-weight: bold\">13.99</span><span style=\"font-weight: bold\">&lt;</span><span style=\"color: #800080; text-decoration-color: #800080\">/</span><span style=\"color: #ff00ff; text-decoration-color: #ff00ff\">p</span><span style=\"font-weight: bold\">&gt;</span>,\n",
                            "    <span style=\"font-weight: bold\">&lt;</span><span style=\"color: #ff00ff; text-decoration-color: #ff00ff; font-weight: bold\">p</span><span style=\"color: #000000; text-decoration-color: #000000\"> </span><span style=\"color: #808000; text-decoration-color: #808000\">class</span><span style=\"color: #000000; text-decoration-color: #000000\">=</span><span style=\"color: #008000; text-decoration-color: #008000\">\"price_color\"</span><span style=\"font-weight: bold\">&gt;</span>£<span style=\"color: #008080; text-decoration-color: #008080; font-weight: bold\">20.66</span><span style=\"font-weight: bold\">&lt;</span><span style=\"color: #800080; text-decoration-color: #800080\">/</span><span style=\"color: #ff00ff; text-decoration-color: #ff00ff\">p</span><span style=\"font-weight: bold\">&gt;</span>,\n",
                            "    <span style=\"font-weight: bold\">&lt;</span><span style=\"color: #ff00ff; text-decoration-color: #ff00ff; font-weight: bold\">p</span><span style=\"color: #000000; text-decoration-color: #000000\"> </span><span style=\"color: #808000; text-decoration-color: #808000\">class</span><span style=\"color: #000000; text-decoration-color: #000000\">=</span><span style=\"color: #008000; text-decoration-color: #008000\">\"price_color\"</span><span style=\"font-weight: bold\">&gt;</span>£<span style=\"color: #008080; text-decoration-color: #008080; font-weight: bold\">17.46</span><span style=\"font-weight: bold\">&lt;</span><span style=\"color: #800080; text-decoration-color: #800080\">/</span><span style=\"color: #ff00ff; text-decoration-color: #ff00ff\">p</span><span style=\"font-weight: bold\">&gt;</span>,\n",
                            "    <span style=\"font-weight: bold\">&lt;</span><span style=\"color: #ff00ff; text-decoration-color: #ff00ff; font-weight: bold\">p</span><span style=\"color: #000000; text-decoration-color: #000000\"> </span><span style=\"color: #808000; text-decoration-color: #808000\">class</span><span style=\"color: #000000; text-decoration-color: #000000\">=</span><span style=\"color: #008000; text-decoration-color: #008000\">\"price_color\"</span><span style=\"font-weight: bold\">&gt;</span>£<span style=\"color: #008080; text-decoration-color: #008080; font-weight: bold\">52.29</span><span style=\"font-weight: bold\">&lt;</span><span style=\"color: #800080; text-decoration-color: #800080\">/</span><span style=\"color: #ff00ff; text-decoration-color: #ff00ff\">p</span><span style=\"font-weight: bold\">&gt;</span>,\n",
                            "    <span style=\"font-weight: bold\">&lt;</span><span style=\"color: #ff00ff; text-decoration-color: #ff00ff; font-weight: bold\">p</span><span style=\"color: #000000; text-decoration-color: #000000\"> </span><span style=\"color: #808000; text-decoration-color: #808000\">class</span><span style=\"color: #000000; text-decoration-color: #000000\">=</span><span style=\"color: #008000; text-decoration-color: #008000\">\"price_color\"</span><span style=\"font-weight: bold\">&gt;</span>£<span style=\"color: #008080; text-decoration-color: #008080; font-weight: bold\">35.02</span><span style=\"font-weight: bold\">&lt;</span><span style=\"color: #800080; text-decoration-color: #800080\">/</span><span style=\"color: #ff00ff; text-decoration-color: #ff00ff\">p</span><span style=\"font-weight: bold\">&gt;</span>,\n",
                            "    <span style=\"font-weight: bold\">&lt;</span><span style=\"color: #ff00ff; text-decoration-color: #ff00ff; font-weight: bold\">p</span><span style=\"color: #000000; text-decoration-color: #000000\"> </span><span style=\"color: #808000; text-decoration-color: #808000\">class</span><span style=\"color: #000000; text-decoration-color: #000000\">=</span><span style=\"color: #008000; text-decoration-color: #008000\">\"price_color\"</span><span style=\"font-weight: bold\">&gt;</span>£<span style=\"color: #008080; text-decoration-color: #008080; font-weight: bold\">57.25</span><span style=\"font-weight: bold\">&lt;</span><span style=\"color: #800080; text-decoration-color: #800080\">/</span><span style=\"color: #ff00ff; text-decoration-color: #ff00ff\">p</span><span style=\"font-weight: bold\">&gt;</span>,\n",
                            "    <span style=\"font-weight: bold\">&lt;</span><span style=\"color: #ff00ff; text-decoration-color: #ff00ff; font-weight: bold\">p</span><span style=\"color: #000000; text-decoration-color: #000000\"> </span><span style=\"color: #808000; text-decoration-color: #808000\">class</span><span style=\"color: #000000; text-decoration-color: #000000\">=</span><span style=\"color: #008000; text-decoration-color: #008000\">\"price_color\"</span><span style=\"font-weight: bold\">&gt;</span>£<span style=\"color: #008080; text-decoration-color: #008080; font-weight: bold\">23.88</span><span style=\"font-weight: bold\">&lt;</span><span style=\"color: #800080; text-decoration-color: #800080\">/</span><span style=\"color: #ff00ff; text-decoration-color: #ff00ff\">p</span><span style=\"font-weight: bold\">&gt;</span>,\n",
                            "    <span style=\"font-weight: bold\">&lt;</span><span style=\"color: #ff00ff; text-decoration-color: #ff00ff; font-weight: bold\">p</span><span style=\"color: #000000; text-decoration-color: #000000\"> </span><span style=\"color: #808000; text-decoration-color: #808000\">class</span><span style=\"color: #000000; text-decoration-color: #000000\">=</span><span style=\"color: #008000; text-decoration-color: #008000\">\"price_color\"</span><span style=\"font-weight: bold\">&gt;</span>£<span style=\"color: #008080; text-decoration-color: #008080; font-weight: bold\">37.59</span><span style=\"font-weight: bold\">&lt;</span><span style=\"color: #800080; text-decoration-color: #800080\">/</span><span style=\"color: #ff00ff; text-decoration-color: #ff00ff\">p</span><span style=\"font-weight: bold\">&gt;</span>,\n",
                            "    <span style=\"font-weight: bold\">&lt;</span><span style=\"color: #ff00ff; text-decoration-color: #ff00ff; font-weight: bold\">p</span><span style=\"color: #000000; text-decoration-color: #000000\"> </span><span style=\"color: #808000; text-decoration-color: #808000\">class</span><span style=\"color: #000000; text-decoration-color: #000000\">=</span><span style=\"color: #008000; text-decoration-color: #008000\">\"price_color\"</span><span style=\"font-weight: bold\">&gt;</span>£<span style=\"color: #008080; text-decoration-color: #008080; font-weight: bold\">51.33</span><span style=\"font-weight: bold\">&lt;</span><span style=\"color: #800080; text-decoration-color: #800080\">/</span><span style=\"color: #ff00ff; text-decoration-color: #ff00ff\">p</span><span style=\"font-weight: bold\">&gt;</span>,\n",
                            "    <span style=\"font-weight: bold\">&lt;</span><span style=\"color: #ff00ff; text-decoration-color: #ff00ff; font-weight: bold\">p</span><span style=\"color: #000000; text-decoration-color: #000000\"> </span><span style=\"color: #808000; text-decoration-color: #808000\">class</span><span style=\"color: #000000; text-decoration-color: #000000\">=</span><span style=\"color: #008000; text-decoration-color: #008000\">\"price_color\"</span><span style=\"font-weight: bold\">&gt;</span>£<span style=\"color: #008080; text-decoration-color: #008080; font-weight: bold\">45.17</span><span style=\"font-weight: bold\">&lt;</span><span style=\"color: #800080; text-decoration-color: #800080\">/</span><span style=\"color: #ff00ff; text-decoration-color: #ff00ff\">p</span><span style=\"font-weight: bold\">&gt;</span>\n",
                            "<span style=\"font-weight: bold\">]</span>\n",
                            "</pre>\n"
                        ],
                        "text/plain": [
                            "\n",
                            "\u001b[1m[\u001b[0m\n",
                            "    \u001b[1m<\u001b[0m\u001b[1;95mp\u001b[0m\u001b[39m \u001b[0m\u001b[33mclass\u001b[0m\u001b[39m=\u001b[0m\u001b[32m\"price_color\"\u001b[0m\u001b[1m>\u001b[0m£\u001b[1;36m51.77\u001b[0m\u001b[1m<\u001b[0m\u001b[35m/\u001b[0m\u001b[95mp\u001b[0m\u001b[1m>\u001b[0m,\n",
                            "    \u001b[1m<\u001b[0m\u001b[1;95mp\u001b[0m\u001b[39m \u001b[0m\u001b[33mclass\u001b[0m\u001b[39m=\u001b[0m\u001b[32m\"price_color\"\u001b[0m\u001b[1m>\u001b[0m£\u001b[1;36m53.74\u001b[0m\u001b[1m<\u001b[0m\u001b[35m/\u001b[0m\u001b[95mp\u001b[0m\u001b[1m>\u001b[0m,\n",
                            "    \u001b[1m<\u001b[0m\u001b[1;95mp\u001b[0m\u001b[39m \u001b[0m\u001b[33mclass\u001b[0m\u001b[39m=\u001b[0m\u001b[32m\"price_color\"\u001b[0m\u001b[1m>\u001b[0m£\u001b[1;36m50.10\u001b[0m\u001b[1m<\u001b[0m\u001b[35m/\u001b[0m\u001b[95mp\u001b[0m\u001b[1m>\u001b[0m,\n",
                            "    \u001b[1m<\u001b[0m\u001b[1;95mp\u001b[0m\u001b[39m \u001b[0m\u001b[33mclass\u001b[0m\u001b[39m=\u001b[0m\u001b[32m\"price_color\"\u001b[0m\u001b[1m>\u001b[0m£\u001b[1;36m47.82\u001b[0m\u001b[1m<\u001b[0m\u001b[35m/\u001b[0m\u001b[95mp\u001b[0m\u001b[1m>\u001b[0m,\n",
                            "    \u001b[1m<\u001b[0m\u001b[1;95mp\u001b[0m\u001b[39m \u001b[0m\u001b[33mclass\u001b[0m\u001b[39m=\u001b[0m\u001b[32m\"price_color\"\u001b[0m\u001b[1m>\u001b[0m£\u001b[1;36m54.23\u001b[0m\u001b[1m<\u001b[0m\u001b[35m/\u001b[0m\u001b[95mp\u001b[0m\u001b[1m>\u001b[0m,\n",
                            "    \u001b[1m<\u001b[0m\u001b[1;95mp\u001b[0m\u001b[39m \u001b[0m\u001b[33mclass\u001b[0m\u001b[39m=\u001b[0m\u001b[32m\"price_color\"\u001b[0m\u001b[1m>\u001b[0m£\u001b[1;36m22.65\u001b[0m\u001b[1m<\u001b[0m\u001b[35m/\u001b[0m\u001b[95mp\u001b[0m\u001b[1m>\u001b[0m,\n",
                            "    \u001b[1m<\u001b[0m\u001b[1;95mp\u001b[0m\u001b[39m \u001b[0m\u001b[33mclass\u001b[0m\u001b[39m=\u001b[0m\u001b[32m\"price_color\"\u001b[0m\u001b[1m>\u001b[0m£\u001b[1;36m33.34\u001b[0m\u001b[1m<\u001b[0m\u001b[35m/\u001b[0m\u001b[95mp\u001b[0m\u001b[1m>\u001b[0m,\n",
                            "    \u001b[1m<\u001b[0m\u001b[1;95mp\u001b[0m\u001b[39m \u001b[0m\u001b[33mclass\u001b[0m\u001b[39m=\u001b[0m\u001b[32m\"price_color\"\u001b[0m\u001b[1m>\u001b[0m£\u001b[1;36m17.93\u001b[0m\u001b[1m<\u001b[0m\u001b[35m/\u001b[0m\u001b[95mp\u001b[0m\u001b[1m>\u001b[0m,\n",
                            "    \u001b[1m<\u001b[0m\u001b[1;95mp\u001b[0m\u001b[39m \u001b[0m\u001b[33mclass\u001b[0m\u001b[39m=\u001b[0m\u001b[32m\"price_color\"\u001b[0m\u001b[1m>\u001b[0m£\u001b[1;36m22.60\u001b[0m\u001b[1m<\u001b[0m\u001b[35m/\u001b[0m\u001b[95mp\u001b[0m\u001b[1m>\u001b[0m,\n",
                            "    \u001b[1m<\u001b[0m\u001b[1;95mp\u001b[0m\u001b[39m \u001b[0m\u001b[33mclass\u001b[0m\u001b[39m=\u001b[0m\u001b[32m\"price_color\"\u001b[0m\u001b[1m>\u001b[0m£\u001b[1;36m52.15\u001b[0m\u001b[1m<\u001b[0m\u001b[35m/\u001b[0m\u001b[95mp\u001b[0m\u001b[1m>\u001b[0m,\n",
                            "    \u001b[1m<\u001b[0m\u001b[1;95mp\u001b[0m\u001b[39m \u001b[0m\u001b[33mclass\u001b[0m\u001b[39m=\u001b[0m\u001b[32m\"price_color\"\u001b[0m\u001b[1m>\u001b[0m£\u001b[1;36m13.99\u001b[0m\u001b[1m<\u001b[0m\u001b[35m/\u001b[0m\u001b[95mp\u001b[0m\u001b[1m>\u001b[0m,\n",
                            "    \u001b[1m<\u001b[0m\u001b[1;95mp\u001b[0m\u001b[39m \u001b[0m\u001b[33mclass\u001b[0m\u001b[39m=\u001b[0m\u001b[32m\"price_color\"\u001b[0m\u001b[1m>\u001b[0m£\u001b[1;36m20.66\u001b[0m\u001b[1m<\u001b[0m\u001b[35m/\u001b[0m\u001b[95mp\u001b[0m\u001b[1m>\u001b[0m,\n",
                            "    \u001b[1m<\u001b[0m\u001b[1;95mp\u001b[0m\u001b[39m \u001b[0m\u001b[33mclass\u001b[0m\u001b[39m=\u001b[0m\u001b[32m\"price_color\"\u001b[0m\u001b[1m>\u001b[0m£\u001b[1;36m17.46\u001b[0m\u001b[1m<\u001b[0m\u001b[35m/\u001b[0m\u001b[95mp\u001b[0m\u001b[1m>\u001b[0m,\n",
                            "    \u001b[1m<\u001b[0m\u001b[1;95mp\u001b[0m\u001b[39m \u001b[0m\u001b[33mclass\u001b[0m\u001b[39m=\u001b[0m\u001b[32m\"price_color\"\u001b[0m\u001b[1m>\u001b[0m£\u001b[1;36m52.29\u001b[0m\u001b[1m<\u001b[0m\u001b[35m/\u001b[0m\u001b[95mp\u001b[0m\u001b[1m>\u001b[0m,\n",
                            "    \u001b[1m<\u001b[0m\u001b[1;95mp\u001b[0m\u001b[39m \u001b[0m\u001b[33mclass\u001b[0m\u001b[39m=\u001b[0m\u001b[32m\"price_color\"\u001b[0m\u001b[1m>\u001b[0m£\u001b[1;36m35.02\u001b[0m\u001b[1m<\u001b[0m\u001b[35m/\u001b[0m\u001b[95mp\u001b[0m\u001b[1m>\u001b[0m,\n",
                            "    \u001b[1m<\u001b[0m\u001b[1;95mp\u001b[0m\u001b[39m \u001b[0m\u001b[33mclass\u001b[0m\u001b[39m=\u001b[0m\u001b[32m\"price_color\"\u001b[0m\u001b[1m>\u001b[0m£\u001b[1;36m57.25\u001b[0m\u001b[1m<\u001b[0m\u001b[35m/\u001b[0m\u001b[95mp\u001b[0m\u001b[1m>\u001b[0m,\n",
                            "    \u001b[1m<\u001b[0m\u001b[1;95mp\u001b[0m\u001b[39m \u001b[0m\u001b[33mclass\u001b[0m\u001b[39m=\u001b[0m\u001b[32m\"price_color\"\u001b[0m\u001b[1m>\u001b[0m£\u001b[1;36m23.88\u001b[0m\u001b[1m<\u001b[0m\u001b[35m/\u001b[0m\u001b[95mp\u001b[0m\u001b[1m>\u001b[0m,\n",
                            "    \u001b[1m<\u001b[0m\u001b[1;95mp\u001b[0m\u001b[39m \u001b[0m\u001b[33mclass\u001b[0m\u001b[39m=\u001b[0m\u001b[32m\"price_color\"\u001b[0m\u001b[1m>\u001b[0m£\u001b[1;36m37.59\u001b[0m\u001b[1m<\u001b[0m\u001b[35m/\u001b[0m\u001b[95mp\u001b[0m\u001b[1m>\u001b[0m,\n",
                            "    \u001b[1m<\u001b[0m\u001b[1;95mp\u001b[0m\u001b[39m \u001b[0m\u001b[33mclass\u001b[0m\u001b[39m=\u001b[0m\u001b[32m\"price_color\"\u001b[0m\u001b[1m>\u001b[0m£\u001b[1;36m51.33\u001b[0m\u001b[1m<\u001b[0m\u001b[35m/\u001b[0m\u001b[95mp\u001b[0m\u001b[1m>\u001b[0m,\n",
                            "    \u001b[1m<\u001b[0m\u001b[1;95mp\u001b[0m\u001b[39m \u001b[0m\u001b[33mclass\u001b[0m\u001b[39m=\u001b[0m\u001b[32m\"price_color\"\u001b[0m\u001b[1m>\u001b[0m£\u001b[1;36m45.17\u001b[0m\u001b[1m<\u001b[0m\u001b[35m/\u001b[0m\u001b[95mp\u001b[0m\u001b[1m>\u001b[0m\n",
                            "\u001b[1m]\u001b[0m\n"
                        ]
                    },
                    "metadata": {},
                    "output_type": "display_data"
                }
            ],
            "source": [
                "price_tags = soup.find_all(\"p\", attrs={\"class\": \"price_color\"})\n",
                "price_tags"
            ]
        },
        {
            "cell_type": "code",
            "execution_count": 122,
            "metadata": {},
            "outputs": [
                {
                    "data": {
                        "text/html": [
                            "<pre style=\"white-space:pre;overflow-x:auto;line-height:normal;font-family:Menlo,'DejaVu Sans Mono',consolas,'Courier New',monospace\">\n",
                            "<span style=\"font-weight: bold\">[</span>\n",
                            "    <span style=\"color: #008000; text-decoration-color: #008000\">'£51.77'</span>,\n",
                            "    <span style=\"color: #008000; text-decoration-color: #008000\">'£53.74'</span>,\n",
                            "    <span style=\"color: #008000; text-decoration-color: #008000\">'£50.10'</span>,\n",
                            "    <span style=\"color: #008000; text-decoration-color: #008000\">'£47.82'</span>,\n",
                            "    <span style=\"color: #008000; text-decoration-color: #008000\">'£54.23'</span>,\n",
                            "    <span style=\"color: #008000; text-decoration-color: #008000\">'£22.65'</span>,\n",
                            "    <span style=\"color: #008000; text-decoration-color: #008000\">'£33.34'</span>,\n",
                            "    <span style=\"color: #008000; text-decoration-color: #008000\">'£17.93'</span>,\n",
                            "    <span style=\"color: #008000; text-decoration-color: #008000\">'£22.60'</span>,\n",
                            "    <span style=\"color: #008000; text-decoration-color: #008000\">'£52.15'</span>,\n",
                            "    <span style=\"color: #008000; text-decoration-color: #008000\">'£13.99'</span>,\n",
                            "    <span style=\"color: #008000; text-decoration-color: #008000\">'£20.66'</span>,\n",
                            "    <span style=\"color: #008000; text-decoration-color: #008000\">'£17.46'</span>,\n",
                            "    <span style=\"color: #008000; text-decoration-color: #008000\">'£52.29'</span>,\n",
                            "    <span style=\"color: #008000; text-decoration-color: #008000\">'£35.02'</span>,\n",
                            "    <span style=\"color: #008000; text-decoration-color: #008000\">'£57.25'</span>,\n",
                            "    <span style=\"color: #008000; text-decoration-color: #008000\">'£23.88'</span>,\n",
                            "    <span style=\"color: #008000; text-decoration-color: #008000\">'£37.59'</span>,\n",
                            "    <span style=\"color: #008000; text-decoration-color: #008000\">'£51.33'</span>,\n",
                            "    <span style=\"color: #008000; text-decoration-color: #008000\">'£45.17'</span>\n",
                            "<span style=\"font-weight: bold\">]</span>\n",
                            "</pre>\n"
                        ],
                        "text/plain": [
                            "\n",
                            "\u001b[1m[\u001b[0m\n",
                            "    \u001b[32m'£51.77'\u001b[0m,\n",
                            "    \u001b[32m'£53.74'\u001b[0m,\n",
                            "    \u001b[32m'£50.10'\u001b[0m,\n",
                            "    \u001b[32m'£47.82'\u001b[0m,\n",
                            "    \u001b[32m'£54.23'\u001b[0m,\n",
                            "    \u001b[32m'£22.65'\u001b[0m,\n",
                            "    \u001b[32m'£33.34'\u001b[0m,\n",
                            "    \u001b[32m'£17.93'\u001b[0m,\n",
                            "    \u001b[32m'£22.60'\u001b[0m,\n",
                            "    \u001b[32m'£52.15'\u001b[0m,\n",
                            "    \u001b[32m'£13.99'\u001b[0m,\n",
                            "    \u001b[32m'£20.66'\u001b[0m,\n",
                            "    \u001b[32m'£17.46'\u001b[0m,\n",
                            "    \u001b[32m'£52.29'\u001b[0m,\n",
                            "    \u001b[32m'£35.02'\u001b[0m,\n",
                            "    \u001b[32m'£57.25'\u001b[0m,\n",
                            "    \u001b[32m'£23.88'\u001b[0m,\n",
                            "    \u001b[32m'£37.59'\u001b[0m,\n",
                            "    \u001b[32m'£51.33'\u001b[0m,\n",
                            "    \u001b[32m'£45.17'\u001b[0m\n",
                            "\u001b[1m]\u001b[0m\n"
                        ]
                    },
                    "metadata": {},
                    "output_type": "display_data"
                }
            ],
            "source": [
                "[price_tag.text for price_tag in price_tags]"
            ]
        },
        {
            "cell_type": "code",
            "execution_count": 123,
            "metadata": {},
            "outputs": [
                {
                    "data": {
                        "text/html": [
                            "<pre style=\"white-space:pre;overflow-x:auto;line-height:normal;font-family:Menlo,'DejaVu Sans Mono',consolas,'Courier New',monospace\">\n",
                            "<span style=\"font-weight: bold\">[</span>\n",
                            "    <span style=\"font-weight: bold\">&lt;</span><span style=\"color: #ff00ff; text-decoration-color: #ff00ff; font-weight: bold\">p</span><span style=\"color: #000000; text-decoration-color: #000000\"> </span><span style=\"color: #808000; text-decoration-color: #808000\">class</span><span style=\"color: #000000; text-decoration-color: #000000\">=</span><span style=\"color: #008000; text-decoration-color: #008000\">\"price_color\"</span><span style=\"font-weight: bold\">&gt;</span>£<span style=\"color: #008080; text-decoration-color: #008080; font-weight: bold\">51.77</span><span style=\"font-weight: bold\">&lt;</span><span style=\"color: #800080; text-decoration-color: #800080\">/</span><span style=\"color: #ff00ff; text-decoration-color: #ff00ff\">p</span><span style=\"font-weight: bold\">&gt;</span>,\n",
                            "    <span style=\"font-weight: bold\">&lt;</span><span style=\"color: #ff00ff; text-decoration-color: #ff00ff; font-weight: bold\">p</span><span style=\"color: #000000; text-decoration-color: #000000\"> </span><span style=\"color: #808000; text-decoration-color: #808000\">class</span><span style=\"color: #000000; text-decoration-color: #000000\">=</span><span style=\"color: #008000; text-decoration-color: #008000\">\"price_color\"</span><span style=\"font-weight: bold\">&gt;</span>£<span style=\"color: #008080; text-decoration-color: #008080; font-weight: bold\">53.74</span><span style=\"font-weight: bold\">&lt;</span><span style=\"color: #800080; text-decoration-color: #800080\">/</span><span style=\"color: #ff00ff; text-decoration-color: #ff00ff\">p</span><span style=\"font-weight: bold\">&gt;</span>,\n",
                            "    <span style=\"font-weight: bold\">&lt;</span><span style=\"color: #ff00ff; text-decoration-color: #ff00ff; font-weight: bold\">p</span><span style=\"color: #000000; text-decoration-color: #000000\"> </span><span style=\"color: #808000; text-decoration-color: #808000\">class</span><span style=\"color: #000000; text-decoration-color: #000000\">=</span><span style=\"color: #008000; text-decoration-color: #008000\">\"price_color\"</span><span style=\"font-weight: bold\">&gt;</span>£<span style=\"color: #008080; text-decoration-color: #008080; font-weight: bold\">50.10</span><span style=\"font-weight: bold\">&lt;</span><span style=\"color: #800080; text-decoration-color: #800080\">/</span><span style=\"color: #ff00ff; text-decoration-color: #ff00ff\">p</span><span style=\"font-weight: bold\">&gt;</span>,\n",
                            "    <span style=\"font-weight: bold\">&lt;</span><span style=\"color: #ff00ff; text-decoration-color: #ff00ff; font-weight: bold\">p</span><span style=\"color: #000000; text-decoration-color: #000000\"> </span><span style=\"color: #808000; text-decoration-color: #808000\">class</span><span style=\"color: #000000; text-decoration-color: #000000\">=</span><span style=\"color: #008000; text-decoration-color: #008000\">\"price_color\"</span><span style=\"font-weight: bold\">&gt;</span>£<span style=\"color: #008080; text-decoration-color: #008080; font-weight: bold\">47.82</span><span style=\"font-weight: bold\">&lt;</span><span style=\"color: #800080; text-decoration-color: #800080\">/</span><span style=\"color: #ff00ff; text-decoration-color: #ff00ff\">p</span><span style=\"font-weight: bold\">&gt;</span>,\n",
                            "    <span style=\"font-weight: bold\">&lt;</span><span style=\"color: #ff00ff; text-decoration-color: #ff00ff; font-weight: bold\">p</span><span style=\"color: #000000; text-decoration-color: #000000\"> </span><span style=\"color: #808000; text-decoration-color: #808000\">class</span><span style=\"color: #000000; text-decoration-color: #000000\">=</span><span style=\"color: #008000; text-decoration-color: #008000\">\"price_color\"</span><span style=\"font-weight: bold\">&gt;</span>£<span style=\"color: #008080; text-decoration-color: #008080; font-weight: bold\">54.23</span><span style=\"font-weight: bold\">&lt;</span><span style=\"color: #800080; text-decoration-color: #800080\">/</span><span style=\"color: #ff00ff; text-decoration-color: #ff00ff\">p</span><span style=\"font-weight: bold\">&gt;</span>,\n",
                            "    <span style=\"font-weight: bold\">&lt;</span><span style=\"color: #ff00ff; text-decoration-color: #ff00ff; font-weight: bold\">p</span><span style=\"color: #000000; text-decoration-color: #000000\"> </span><span style=\"color: #808000; text-decoration-color: #808000\">class</span><span style=\"color: #000000; text-decoration-color: #000000\">=</span><span style=\"color: #008000; text-decoration-color: #008000\">\"price_color\"</span><span style=\"font-weight: bold\">&gt;</span>£<span style=\"color: #008080; text-decoration-color: #008080; font-weight: bold\">22.65</span><span style=\"font-weight: bold\">&lt;</span><span style=\"color: #800080; text-decoration-color: #800080\">/</span><span style=\"color: #ff00ff; text-decoration-color: #ff00ff\">p</span><span style=\"font-weight: bold\">&gt;</span>,\n",
                            "    <span style=\"font-weight: bold\">&lt;</span><span style=\"color: #ff00ff; text-decoration-color: #ff00ff; font-weight: bold\">p</span><span style=\"color: #000000; text-decoration-color: #000000\"> </span><span style=\"color: #808000; text-decoration-color: #808000\">class</span><span style=\"color: #000000; text-decoration-color: #000000\">=</span><span style=\"color: #008000; text-decoration-color: #008000\">\"price_color\"</span><span style=\"font-weight: bold\">&gt;</span>£<span style=\"color: #008080; text-decoration-color: #008080; font-weight: bold\">33.34</span><span style=\"font-weight: bold\">&lt;</span><span style=\"color: #800080; text-decoration-color: #800080\">/</span><span style=\"color: #ff00ff; text-decoration-color: #ff00ff\">p</span><span style=\"font-weight: bold\">&gt;</span>,\n",
                            "    <span style=\"font-weight: bold\">&lt;</span><span style=\"color: #ff00ff; text-decoration-color: #ff00ff; font-weight: bold\">p</span><span style=\"color: #000000; text-decoration-color: #000000\"> </span><span style=\"color: #808000; text-decoration-color: #808000\">class</span><span style=\"color: #000000; text-decoration-color: #000000\">=</span><span style=\"color: #008000; text-decoration-color: #008000\">\"price_color\"</span><span style=\"font-weight: bold\">&gt;</span>£<span style=\"color: #008080; text-decoration-color: #008080; font-weight: bold\">17.93</span><span style=\"font-weight: bold\">&lt;</span><span style=\"color: #800080; text-decoration-color: #800080\">/</span><span style=\"color: #ff00ff; text-decoration-color: #ff00ff\">p</span><span style=\"font-weight: bold\">&gt;</span>,\n",
                            "    <span style=\"font-weight: bold\">&lt;</span><span style=\"color: #ff00ff; text-decoration-color: #ff00ff; font-weight: bold\">p</span><span style=\"color: #000000; text-decoration-color: #000000\"> </span><span style=\"color: #808000; text-decoration-color: #808000\">class</span><span style=\"color: #000000; text-decoration-color: #000000\">=</span><span style=\"color: #008000; text-decoration-color: #008000\">\"price_color\"</span><span style=\"font-weight: bold\">&gt;</span>£<span style=\"color: #008080; text-decoration-color: #008080; font-weight: bold\">22.60</span><span style=\"font-weight: bold\">&lt;</span><span style=\"color: #800080; text-decoration-color: #800080\">/</span><span style=\"color: #ff00ff; text-decoration-color: #ff00ff\">p</span><span style=\"font-weight: bold\">&gt;</span>,\n",
                            "    <span style=\"font-weight: bold\">&lt;</span><span style=\"color: #ff00ff; text-decoration-color: #ff00ff; font-weight: bold\">p</span><span style=\"color: #000000; text-decoration-color: #000000\"> </span><span style=\"color: #808000; text-decoration-color: #808000\">class</span><span style=\"color: #000000; text-decoration-color: #000000\">=</span><span style=\"color: #008000; text-decoration-color: #008000\">\"price_color\"</span><span style=\"font-weight: bold\">&gt;</span>£<span style=\"color: #008080; text-decoration-color: #008080; font-weight: bold\">52.15</span><span style=\"font-weight: bold\">&lt;</span><span style=\"color: #800080; text-decoration-color: #800080\">/</span><span style=\"color: #ff00ff; text-decoration-color: #ff00ff\">p</span><span style=\"font-weight: bold\">&gt;</span>,\n",
                            "    <span style=\"font-weight: bold\">&lt;</span><span style=\"color: #ff00ff; text-decoration-color: #ff00ff; font-weight: bold\">p</span><span style=\"color: #000000; text-decoration-color: #000000\"> </span><span style=\"color: #808000; text-decoration-color: #808000\">class</span><span style=\"color: #000000; text-decoration-color: #000000\">=</span><span style=\"color: #008000; text-decoration-color: #008000\">\"price_color\"</span><span style=\"font-weight: bold\">&gt;</span>£<span style=\"color: #008080; text-decoration-color: #008080; font-weight: bold\">13.99</span><span style=\"font-weight: bold\">&lt;</span><span style=\"color: #800080; text-decoration-color: #800080\">/</span><span style=\"color: #ff00ff; text-decoration-color: #ff00ff\">p</span><span style=\"font-weight: bold\">&gt;</span>,\n",
                            "    <span style=\"font-weight: bold\">&lt;</span><span style=\"color: #ff00ff; text-decoration-color: #ff00ff; font-weight: bold\">p</span><span style=\"color: #000000; text-decoration-color: #000000\"> </span><span style=\"color: #808000; text-decoration-color: #808000\">class</span><span style=\"color: #000000; text-decoration-color: #000000\">=</span><span style=\"color: #008000; text-decoration-color: #008000\">\"price_color\"</span><span style=\"font-weight: bold\">&gt;</span>£<span style=\"color: #008080; text-decoration-color: #008080; font-weight: bold\">20.66</span><span style=\"font-weight: bold\">&lt;</span><span style=\"color: #800080; text-decoration-color: #800080\">/</span><span style=\"color: #ff00ff; text-decoration-color: #ff00ff\">p</span><span style=\"font-weight: bold\">&gt;</span>,\n",
                            "    <span style=\"font-weight: bold\">&lt;</span><span style=\"color: #ff00ff; text-decoration-color: #ff00ff; font-weight: bold\">p</span><span style=\"color: #000000; text-decoration-color: #000000\"> </span><span style=\"color: #808000; text-decoration-color: #808000\">class</span><span style=\"color: #000000; text-decoration-color: #000000\">=</span><span style=\"color: #008000; text-decoration-color: #008000\">\"price_color\"</span><span style=\"font-weight: bold\">&gt;</span>£<span style=\"color: #008080; text-decoration-color: #008080; font-weight: bold\">17.46</span><span style=\"font-weight: bold\">&lt;</span><span style=\"color: #800080; text-decoration-color: #800080\">/</span><span style=\"color: #ff00ff; text-decoration-color: #ff00ff\">p</span><span style=\"font-weight: bold\">&gt;</span>,\n",
                            "    <span style=\"font-weight: bold\">&lt;</span><span style=\"color: #ff00ff; text-decoration-color: #ff00ff; font-weight: bold\">p</span><span style=\"color: #000000; text-decoration-color: #000000\"> </span><span style=\"color: #808000; text-decoration-color: #808000\">class</span><span style=\"color: #000000; text-decoration-color: #000000\">=</span><span style=\"color: #008000; text-decoration-color: #008000\">\"price_color\"</span><span style=\"font-weight: bold\">&gt;</span>£<span style=\"color: #008080; text-decoration-color: #008080; font-weight: bold\">52.29</span><span style=\"font-weight: bold\">&lt;</span><span style=\"color: #800080; text-decoration-color: #800080\">/</span><span style=\"color: #ff00ff; text-decoration-color: #ff00ff\">p</span><span style=\"font-weight: bold\">&gt;</span>,\n",
                            "    <span style=\"font-weight: bold\">&lt;</span><span style=\"color: #ff00ff; text-decoration-color: #ff00ff; font-weight: bold\">p</span><span style=\"color: #000000; text-decoration-color: #000000\"> </span><span style=\"color: #808000; text-decoration-color: #808000\">class</span><span style=\"color: #000000; text-decoration-color: #000000\">=</span><span style=\"color: #008000; text-decoration-color: #008000\">\"price_color\"</span><span style=\"font-weight: bold\">&gt;</span>£<span style=\"color: #008080; text-decoration-color: #008080; font-weight: bold\">35.02</span><span style=\"font-weight: bold\">&lt;</span><span style=\"color: #800080; text-decoration-color: #800080\">/</span><span style=\"color: #ff00ff; text-decoration-color: #ff00ff\">p</span><span style=\"font-weight: bold\">&gt;</span>,\n",
                            "    <span style=\"font-weight: bold\">&lt;</span><span style=\"color: #ff00ff; text-decoration-color: #ff00ff; font-weight: bold\">p</span><span style=\"color: #000000; text-decoration-color: #000000\"> </span><span style=\"color: #808000; text-decoration-color: #808000\">class</span><span style=\"color: #000000; text-decoration-color: #000000\">=</span><span style=\"color: #008000; text-decoration-color: #008000\">\"price_color\"</span><span style=\"font-weight: bold\">&gt;</span>£<span style=\"color: #008080; text-decoration-color: #008080; font-weight: bold\">57.25</span><span style=\"font-weight: bold\">&lt;</span><span style=\"color: #800080; text-decoration-color: #800080\">/</span><span style=\"color: #ff00ff; text-decoration-color: #ff00ff\">p</span><span style=\"font-weight: bold\">&gt;</span>,\n",
                            "    <span style=\"font-weight: bold\">&lt;</span><span style=\"color: #ff00ff; text-decoration-color: #ff00ff; font-weight: bold\">p</span><span style=\"color: #000000; text-decoration-color: #000000\"> </span><span style=\"color: #808000; text-decoration-color: #808000\">class</span><span style=\"color: #000000; text-decoration-color: #000000\">=</span><span style=\"color: #008000; text-decoration-color: #008000\">\"price_color\"</span><span style=\"font-weight: bold\">&gt;</span>£<span style=\"color: #008080; text-decoration-color: #008080; font-weight: bold\">23.88</span><span style=\"font-weight: bold\">&lt;</span><span style=\"color: #800080; text-decoration-color: #800080\">/</span><span style=\"color: #ff00ff; text-decoration-color: #ff00ff\">p</span><span style=\"font-weight: bold\">&gt;</span>,\n",
                            "    <span style=\"font-weight: bold\">&lt;</span><span style=\"color: #ff00ff; text-decoration-color: #ff00ff; font-weight: bold\">p</span><span style=\"color: #000000; text-decoration-color: #000000\"> </span><span style=\"color: #808000; text-decoration-color: #808000\">class</span><span style=\"color: #000000; text-decoration-color: #000000\">=</span><span style=\"color: #008000; text-decoration-color: #008000\">\"price_color\"</span><span style=\"font-weight: bold\">&gt;</span>£<span style=\"color: #008080; text-decoration-color: #008080; font-weight: bold\">37.59</span><span style=\"font-weight: bold\">&lt;</span><span style=\"color: #800080; text-decoration-color: #800080\">/</span><span style=\"color: #ff00ff; text-decoration-color: #ff00ff\">p</span><span style=\"font-weight: bold\">&gt;</span>,\n",
                            "    <span style=\"font-weight: bold\">&lt;</span><span style=\"color: #ff00ff; text-decoration-color: #ff00ff; font-weight: bold\">p</span><span style=\"color: #000000; text-decoration-color: #000000\"> </span><span style=\"color: #808000; text-decoration-color: #808000\">class</span><span style=\"color: #000000; text-decoration-color: #000000\">=</span><span style=\"color: #008000; text-decoration-color: #008000\">\"price_color\"</span><span style=\"font-weight: bold\">&gt;</span>£<span style=\"color: #008080; text-decoration-color: #008080; font-weight: bold\">51.33</span><span style=\"font-weight: bold\">&lt;</span><span style=\"color: #800080; text-decoration-color: #800080\">/</span><span style=\"color: #ff00ff; text-decoration-color: #ff00ff\">p</span><span style=\"font-weight: bold\">&gt;</span>,\n",
                            "    <span style=\"font-weight: bold\">&lt;</span><span style=\"color: #ff00ff; text-decoration-color: #ff00ff; font-weight: bold\">p</span><span style=\"color: #000000; text-decoration-color: #000000\"> </span><span style=\"color: #808000; text-decoration-color: #808000\">class</span><span style=\"color: #000000; text-decoration-color: #000000\">=</span><span style=\"color: #008000; text-decoration-color: #008000\">\"price_color\"</span><span style=\"font-weight: bold\">&gt;</span>£<span style=\"color: #008080; text-decoration-color: #008080; font-weight: bold\">45.17</span><span style=\"font-weight: bold\">&lt;</span><span style=\"color: #800080; text-decoration-color: #800080\">/</span><span style=\"color: #ff00ff; text-decoration-color: #ff00ff\">p</span><span style=\"font-weight: bold\">&gt;</span>\n",
                            "<span style=\"font-weight: bold\">]</span>\n",
                            "</pre>\n"
                        ],
                        "text/plain": [
                            "\n",
                            "\u001b[1m[\u001b[0m\n",
                            "    \u001b[1m<\u001b[0m\u001b[1;95mp\u001b[0m\u001b[39m \u001b[0m\u001b[33mclass\u001b[0m\u001b[39m=\u001b[0m\u001b[32m\"price_color\"\u001b[0m\u001b[1m>\u001b[0m£\u001b[1;36m51.77\u001b[0m\u001b[1m<\u001b[0m\u001b[35m/\u001b[0m\u001b[95mp\u001b[0m\u001b[1m>\u001b[0m,\n",
                            "    \u001b[1m<\u001b[0m\u001b[1;95mp\u001b[0m\u001b[39m \u001b[0m\u001b[33mclass\u001b[0m\u001b[39m=\u001b[0m\u001b[32m\"price_color\"\u001b[0m\u001b[1m>\u001b[0m£\u001b[1;36m53.74\u001b[0m\u001b[1m<\u001b[0m\u001b[35m/\u001b[0m\u001b[95mp\u001b[0m\u001b[1m>\u001b[0m,\n",
                            "    \u001b[1m<\u001b[0m\u001b[1;95mp\u001b[0m\u001b[39m \u001b[0m\u001b[33mclass\u001b[0m\u001b[39m=\u001b[0m\u001b[32m\"price_color\"\u001b[0m\u001b[1m>\u001b[0m£\u001b[1;36m50.10\u001b[0m\u001b[1m<\u001b[0m\u001b[35m/\u001b[0m\u001b[95mp\u001b[0m\u001b[1m>\u001b[0m,\n",
                            "    \u001b[1m<\u001b[0m\u001b[1;95mp\u001b[0m\u001b[39m \u001b[0m\u001b[33mclass\u001b[0m\u001b[39m=\u001b[0m\u001b[32m\"price_color\"\u001b[0m\u001b[1m>\u001b[0m£\u001b[1;36m47.82\u001b[0m\u001b[1m<\u001b[0m\u001b[35m/\u001b[0m\u001b[95mp\u001b[0m\u001b[1m>\u001b[0m,\n",
                            "    \u001b[1m<\u001b[0m\u001b[1;95mp\u001b[0m\u001b[39m \u001b[0m\u001b[33mclass\u001b[0m\u001b[39m=\u001b[0m\u001b[32m\"price_color\"\u001b[0m\u001b[1m>\u001b[0m£\u001b[1;36m54.23\u001b[0m\u001b[1m<\u001b[0m\u001b[35m/\u001b[0m\u001b[95mp\u001b[0m\u001b[1m>\u001b[0m,\n",
                            "    \u001b[1m<\u001b[0m\u001b[1;95mp\u001b[0m\u001b[39m \u001b[0m\u001b[33mclass\u001b[0m\u001b[39m=\u001b[0m\u001b[32m\"price_color\"\u001b[0m\u001b[1m>\u001b[0m£\u001b[1;36m22.65\u001b[0m\u001b[1m<\u001b[0m\u001b[35m/\u001b[0m\u001b[95mp\u001b[0m\u001b[1m>\u001b[0m,\n",
                            "    \u001b[1m<\u001b[0m\u001b[1;95mp\u001b[0m\u001b[39m \u001b[0m\u001b[33mclass\u001b[0m\u001b[39m=\u001b[0m\u001b[32m\"price_color\"\u001b[0m\u001b[1m>\u001b[0m£\u001b[1;36m33.34\u001b[0m\u001b[1m<\u001b[0m\u001b[35m/\u001b[0m\u001b[95mp\u001b[0m\u001b[1m>\u001b[0m,\n",
                            "    \u001b[1m<\u001b[0m\u001b[1;95mp\u001b[0m\u001b[39m \u001b[0m\u001b[33mclass\u001b[0m\u001b[39m=\u001b[0m\u001b[32m\"price_color\"\u001b[0m\u001b[1m>\u001b[0m£\u001b[1;36m17.93\u001b[0m\u001b[1m<\u001b[0m\u001b[35m/\u001b[0m\u001b[95mp\u001b[0m\u001b[1m>\u001b[0m,\n",
                            "    \u001b[1m<\u001b[0m\u001b[1;95mp\u001b[0m\u001b[39m \u001b[0m\u001b[33mclass\u001b[0m\u001b[39m=\u001b[0m\u001b[32m\"price_color\"\u001b[0m\u001b[1m>\u001b[0m£\u001b[1;36m22.60\u001b[0m\u001b[1m<\u001b[0m\u001b[35m/\u001b[0m\u001b[95mp\u001b[0m\u001b[1m>\u001b[0m,\n",
                            "    \u001b[1m<\u001b[0m\u001b[1;95mp\u001b[0m\u001b[39m \u001b[0m\u001b[33mclass\u001b[0m\u001b[39m=\u001b[0m\u001b[32m\"price_color\"\u001b[0m\u001b[1m>\u001b[0m£\u001b[1;36m52.15\u001b[0m\u001b[1m<\u001b[0m\u001b[35m/\u001b[0m\u001b[95mp\u001b[0m\u001b[1m>\u001b[0m,\n",
                            "    \u001b[1m<\u001b[0m\u001b[1;95mp\u001b[0m\u001b[39m \u001b[0m\u001b[33mclass\u001b[0m\u001b[39m=\u001b[0m\u001b[32m\"price_color\"\u001b[0m\u001b[1m>\u001b[0m£\u001b[1;36m13.99\u001b[0m\u001b[1m<\u001b[0m\u001b[35m/\u001b[0m\u001b[95mp\u001b[0m\u001b[1m>\u001b[0m,\n",
                            "    \u001b[1m<\u001b[0m\u001b[1;95mp\u001b[0m\u001b[39m \u001b[0m\u001b[33mclass\u001b[0m\u001b[39m=\u001b[0m\u001b[32m\"price_color\"\u001b[0m\u001b[1m>\u001b[0m£\u001b[1;36m20.66\u001b[0m\u001b[1m<\u001b[0m\u001b[35m/\u001b[0m\u001b[95mp\u001b[0m\u001b[1m>\u001b[0m,\n",
                            "    \u001b[1m<\u001b[0m\u001b[1;95mp\u001b[0m\u001b[39m \u001b[0m\u001b[33mclass\u001b[0m\u001b[39m=\u001b[0m\u001b[32m\"price_color\"\u001b[0m\u001b[1m>\u001b[0m£\u001b[1;36m17.46\u001b[0m\u001b[1m<\u001b[0m\u001b[35m/\u001b[0m\u001b[95mp\u001b[0m\u001b[1m>\u001b[0m,\n",
                            "    \u001b[1m<\u001b[0m\u001b[1;95mp\u001b[0m\u001b[39m \u001b[0m\u001b[33mclass\u001b[0m\u001b[39m=\u001b[0m\u001b[32m\"price_color\"\u001b[0m\u001b[1m>\u001b[0m£\u001b[1;36m52.29\u001b[0m\u001b[1m<\u001b[0m\u001b[35m/\u001b[0m\u001b[95mp\u001b[0m\u001b[1m>\u001b[0m,\n",
                            "    \u001b[1m<\u001b[0m\u001b[1;95mp\u001b[0m\u001b[39m \u001b[0m\u001b[33mclass\u001b[0m\u001b[39m=\u001b[0m\u001b[32m\"price_color\"\u001b[0m\u001b[1m>\u001b[0m£\u001b[1;36m35.02\u001b[0m\u001b[1m<\u001b[0m\u001b[35m/\u001b[0m\u001b[95mp\u001b[0m\u001b[1m>\u001b[0m,\n",
                            "    \u001b[1m<\u001b[0m\u001b[1;95mp\u001b[0m\u001b[39m \u001b[0m\u001b[33mclass\u001b[0m\u001b[39m=\u001b[0m\u001b[32m\"price_color\"\u001b[0m\u001b[1m>\u001b[0m£\u001b[1;36m57.25\u001b[0m\u001b[1m<\u001b[0m\u001b[35m/\u001b[0m\u001b[95mp\u001b[0m\u001b[1m>\u001b[0m,\n",
                            "    \u001b[1m<\u001b[0m\u001b[1;95mp\u001b[0m\u001b[39m \u001b[0m\u001b[33mclass\u001b[0m\u001b[39m=\u001b[0m\u001b[32m\"price_color\"\u001b[0m\u001b[1m>\u001b[0m£\u001b[1;36m23.88\u001b[0m\u001b[1m<\u001b[0m\u001b[35m/\u001b[0m\u001b[95mp\u001b[0m\u001b[1m>\u001b[0m,\n",
                            "    \u001b[1m<\u001b[0m\u001b[1;95mp\u001b[0m\u001b[39m \u001b[0m\u001b[33mclass\u001b[0m\u001b[39m=\u001b[0m\u001b[32m\"price_color\"\u001b[0m\u001b[1m>\u001b[0m£\u001b[1;36m37.59\u001b[0m\u001b[1m<\u001b[0m\u001b[35m/\u001b[0m\u001b[95mp\u001b[0m\u001b[1m>\u001b[0m,\n",
                            "    \u001b[1m<\u001b[0m\u001b[1;95mp\u001b[0m\u001b[39m \u001b[0m\u001b[33mclass\u001b[0m\u001b[39m=\u001b[0m\u001b[32m\"price_color\"\u001b[0m\u001b[1m>\u001b[0m£\u001b[1;36m51.33\u001b[0m\u001b[1m<\u001b[0m\u001b[35m/\u001b[0m\u001b[95mp\u001b[0m\u001b[1m>\u001b[0m,\n",
                            "    \u001b[1m<\u001b[0m\u001b[1;95mp\u001b[0m\u001b[39m \u001b[0m\u001b[33mclass\u001b[0m\u001b[39m=\u001b[0m\u001b[32m\"price_color\"\u001b[0m\u001b[1m>\u001b[0m£\u001b[1;36m45.17\u001b[0m\u001b[1m<\u001b[0m\u001b[35m/\u001b[0m\u001b[95mp\u001b[0m\u001b[1m>\u001b[0m\n",
                            "\u001b[1m]\u001b[0m\n"
                        ]
                    },
                    "metadata": {},
                    "output_type": "display_data"
                }
            ],
            "source": [
                "soup.find_all(\"p\", class_=\"price_color\")  # instead of attrs"
            ]
        },
        {
            "cell_type": "code",
            "execution_count": 124,
            "metadata": {},
            "outputs": [
                {
                    "data": {
                        "text/html": [
                            "<pre style=\"white-space:pre;overflow-x:auto;line-height:normal;font-family:Menlo,'DejaVu Sans Mono',consolas,'Courier New',monospace\"><span style=\"color: #008080; text-decoration-color: #008080; font-weight: bold\">20</span>\n",
                            "</pre>\n"
                        ],
                        "text/plain": [
                            "\u001b[1;36m20\u001b[0m\n"
                        ]
                    },
                    "metadata": {},
                    "output_type": "display_data"
                }
            ],
            "source": [
                "rating_stars = soup.find_all(\"p\", attrs={\"class\": \"star-rating\"})\n",
                "len(rating_stars)"
            ]
        },
        {
            "cell_type": "code",
            "execution_count": 125,
            "metadata": {},
            "outputs": [
                {
                    "data": {
                        "text/html": [
                            "<pre style=\"white-space:pre;overflow-x:auto;line-height:normal;font-family:Menlo,'DejaVu Sans Mono',consolas,'Courier New',monospace\"><span style=\"color: #008080; text-decoration-color: #008080; font-weight: bold\">4</span>\n",
                            "</pre>\n"
                        ],
                        "text/plain": [
                            "\u001b[1;36m4\u001b[0m\n"
                        ]
                    },
                    "metadata": {},
                    "output_type": "display_data"
                }
            ],
            "source": [
                "rating_stars = soup.find_all(\"p\", attrs={\"class\": \"star-rating Four\"})\n",
                "len(rating_stars)"
            ]
        },
        {
            "cell_type": "code",
            "execution_count": 126,
            "metadata": {},
            "outputs": [
                {
                    "data": {
                        "text/html": [
                            "<pre style=\"white-space:pre;overflow-x:auto;line-height:normal;font-family:Menlo,'DejaVu Sans Mono',consolas,'Courier New',monospace\"><span style=\"color: #008080; text-decoration-color: #008080; font-weight: bold\">4</span>\n",
                            "</pre>\n"
                        ],
                        "text/plain": [
                            "\u001b[1;36m4\u001b[0m\n"
                        ]
                    },
                    "metadata": {},
                    "output_type": "display_data"
                }
            ],
            "source": [
                "rating_stars = soup.find_all(\"p\", attrs={\"class\": \"star-rating Five\"})\n",
                "len(rating_stars)"
            ]
        },
        {
            "cell_type": "code",
            "execution_count": 127,
            "metadata": {},
            "outputs": [
                {
                    "data": {
                        "text/html": [
                            "<pre style=\"white-space:pre;overflow-x:auto;line-height:normal;font-family:Menlo,'DejaVu Sans Mono',consolas,'Courier New',monospace\"><span style=\"color: #008080; text-decoration-color: #008080; font-weight: bold\">8</span>\n",
                            "</pre>\n"
                        ],
                        "text/plain": [
                            "\u001b[1;36m8\u001b[0m\n"
                        ]
                    },
                    "metadata": {},
                    "output_type": "display_data"
                }
            ],
            "source": [
                "rating_stars = soup.find_all(\"p\", attrs={\"class\": lambda x: x in (\"Four\", \"Five\")})\n",
                "len(rating_stars)"
            ]
        },
        {
            "attachments": {},
            "cell_type": "markdown",
            "metadata": {},
            "source": [
                "### Challenge\n",
                "\n",
                "- Extract the following elements from the 1st page of books.toscrape.com:\n",
                "\n",
                "  * full book title \n",
                "  * price as float\n",
                "  * rating as int  \n",
                "\n",
                "- Data should be stored as python list of dictionaries, where each book is a dictionary  \n",
                "\n",
                "-  e.g.\n",
                "```python  \n",
                "  {\n",
                "    'title': 'Mesaerion: The Best Science Fiction Stories 1800-1849',\n",
                "    'price': 37.59,\n",
                "    'rating': 1\n",
                "  }\n",
                "``` "
            ]
        },
        {
            "attachments": {},
            "cell_type": "markdown",
            "metadata": {},
            "source": [
                "### Solution"
            ]
        },
        {
            "cell_type": "code",
            "execution_count": 128,
            "metadata": {},
            "outputs": [],
            "source": [
                "def fetch():\n",
                "    url = \"https://books.toscrape.com/\"\n",
                "    resp = requests.get(url)\n",
                "    soup = BeautifulSoup(resp.content)\n",
                "    return soup\n",
                "\n",
                "\n",
                "def parse(soup):\n",
                "    items = []\n",
                "    articles = soup.find_all(\"article\", class_=\"product_pod\")\n",
                "    for article in articles:\n",
                "        title = article.find(\"h3\").find(\"a\")[\"title\"]\n",
                "        price = float(article.find(\"p\", class_=\"price_color\").text.strip(\"£\"))\n",
                "        word_to_int_mapping = {\"One\": 1, \"Two\": 2, \"Three\": 3, \"Four\": 4, \"Five\": 5}\n",
                "        rating_word = article.find(\"p\", class_=\"star-rating\")[\"class\"][-1]\n",
                "        rating = word_to_int_mapping.get(rating_word)\n",
                "        item = {\"title\": title, \"price\": price, \"rating\": rating}\n",
                "        items.append(item)\n",
                "    return items"
            ]
        },
        {
            "cell_type": "code",
            "execution_count": 129,
            "metadata": {},
            "outputs": [
                {
                    "data": {
                        "text/html": [
                            "<pre style=\"white-space:pre;overflow-x:auto;line-height:normal;font-family:Menlo,'DejaVu Sans Mono',consolas,'Courier New',monospace\">\n",
                            "<span style=\"font-weight: bold\">[</span>\n",
                            "    <span style=\"font-weight: bold\">{</span><span style=\"color: #008000; text-decoration-color: #008000\">'title'</span>: <span style=\"color: #008000; text-decoration-color: #008000\">'A Light in the Attic'</span>, <span style=\"color: #008000; text-decoration-color: #008000\">'price'</span>: <span style=\"color: #008080; text-decoration-color: #008080; font-weight: bold\">51.77</span>, <span style=\"color: #008000; text-decoration-color: #008000\">'rating'</span>: <span style=\"color: #008080; text-decoration-color: #008080; font-weight: bold\">3</span><span style=\"font-weight: bold\">}</span>,\n",
                            "    <span style=\"font-weight: bold\">{</span><span style=\"color: #008000; text-decoration-color: #008000\">'title'</span>: <span style=\"color: #008000; text-decoration-color: #008000\">'Tipping the Velvet'</span>, <span style=\"color: #008000; text-decoration-color: #008000\">'price'</span>: <span style=\"color: #008080; text-decoration-color: #008080; font-weight: bold\">53.74</span>, <span style=\"color: #008000; text-decoration-color: #008000\">'rating'</span>: <span style=\"color: #008080; text-decoration-color: #008080; font-weight: bold\">1</span><span style=\"font-weight: bold\">}</span>,\n",
                            "    <span style=\"font-weight: bold\">{</span><span style=\"color: #008000; text-decoration-color: #008000\">'title'</span>: <span style=\"color: #008000; text-decoration-color: #008000\">'Soumission'</span>, <span style=\"color: #008000; text-decoration-color: #008000\">'price'</span>: <span style=\"color: #008080; text-decoration-color: #008080; font-weight: bold\">50.1</span>, <span style=\"color: #008000; text-decoration-color: #008000\">'rating'</span>: <span style=\"color: #008080; text-decoration-color: #008080; font-weight: bold\">1</span><span style=\"font-weight: bold\">}</span>,\n",
                            "    <span style=\"font-weight: bold\">{</span><span style=\"color: #008000; text-decoration-color: #008000\">'title'</span>: <span style=\"color: #008000; text-decoration-color: #008000\">'Sharp Objects'</span>, <span style=\"color: #008000; text-decoration-color: #008000\">'price'</span>: <span style=\"color: #008080; text-decoration-color: #008080; font-weight: bold\">47.82</span>, <span style=\"color: #008000; text-decoration-color: #008000\">'rating'</span>: <span style=\"color: #008080; text-decoration-color: #008080; font-weight: bold\">4</span><span style=\"font-weight: bold\">}</span>,\n",
                            "    <span style=\"font-weight: bold\">{</span>\n",
                            "        <span style=\"color: #008000; text-decoration-color: #008000\">'title'</span>: <span style=\"color: #008000; text-decoration-color: #008000\">'Sapiens: A Brief History of Humankind'</span>,\n",
                            "        <span style=\"color: #008000; text-decoration-color: #008000\">'price'</span>: <span style=\"color: #008080; text-decoration-color: #008080; font-weight: bold\">54.23</span>,\n",
                            "        <span style=\"color: #008000; text-decoration-color: #008000\">'rating'</span>: <span style=\"color: #008080; text-decoration-color: #008080; font-weight: bold\">5</span>\n",
                            "    <span style=\"font-weight: bold\">}</span>,\n",
                            "    <span style=\"font-weight: bold\">{</span><span style=\"color: #008000; text-decoration-color: #008000\">'title'</span>: <span style=\"color: #008000; text-decoration-color: #008000\">'The Requiem Red'</span>, <span style=\"color: #008000; text-decoration-color: #008000\">'price'</span>: <span style=\"color: #008080; text-decoration-color: #008080; font-weight: bold\">22.65</span>, <span style=\"color: #008000; text-decoration-color: #008000\">'rating'</span>: <span style=\"color: #008080; text-decoration-color: #008080; font-weight: bold\">1</span><span style=\"font-weight: bold\">}</span>,\n",
                            "    <span style=\"font-weight: bold\">{</span>\n",
                            "        <span style=\"color: #008000; text-decoration-color: #008000\">'title'</span>: <span style=\"color: #008000; text-decoration-color: #008000\">'The Dirty Little Secrets of Getting Your Dream Job'</span>,\n",
                            "        <span style=\"color: #008000; text-decoration-color: #008000\">'price'</span>: <span style=\"color: #008080; text-decoration-color: #008080; font-weight: bold\">33.34</span>,\n",
                            "        <span style=\"color: #008000; text-decoration-color: #008000\">'rating'</span>: <span style=\"color: #008080; text-decoration-color: #008080; font-weight: bold\">4</span>\n",
                            "    <span style=\"font-weight: bold\">}</span>,\n",
                            "    <span style=\"font-weight: bold\">{</span>\n",
                            "        <span style=\"color: #008000; text-decoration-color: #008000\">'title'</span>: <span style=\"color: #008000; text-decoration-color: #008000\">'The Coming Woman: A Novel Based on the Life of the Infamous Feminist, Victoria Woodhull'</span>,\n",
                            "        <span style=\"color: #008000; text-decoration-color: #008000\">'price'</span>: <span style=\"color: #008080; text-decoration-color: #008080; font-weight: bold\">17.93</span>,\n",
                            "        <span style=\"color: #008000; text-decoration-color: #008000\">'rating'</span>: <span style=\"color: #008080; text-decoration-color: #008080; font-weight: bold\">3</span>\n",
                            "    <span style=\"font-weight: bold\">}</span>,\n",
                            "    <span style=\"font-weight: bold\">{</span>\n",
                            "        <span style=\"color: #008000; text-decoration-color: #008000\">'title'</span>: <span style=\"color: #008000; text-decoration-color: #008000\">'The Boys in the Boat: Nine Americans and Their Epic Quest for Gold at the 1936 Berlin Olympics'</span>,\n",
                            "        <span style=\"color: #008000; text-decoration-color: #008000\">'price'</span>: <span style=\"color: #008080; text-decoration-color: #008080; font-weight: bold\">22.6</span>,\n",
                            "        <span style=\"color: #008000; text-decoration-color: #008000\">'rating'</span>: <span style=\"color: #008080; text-decoration-color: #008080; font-weight: bold\">4</span>\n",
                            "    <span style=\"font-weight: bold\">}</span>,\n",
                            "    <span style=\"font-weight: bold\">{</span><span style=\"color: #008000; text-decoration-color: #008000\">'title'</span>: <span style=\"color: #008000; text-decoration-color: #008000\">'The Black Maria'</span>, <span style=\"color: #008000; text-decoration-color: #008000\">'price'</span>: <span style=\"color: #008080; text-decoration-color: #008080; font-weight: bold\">52.15</span>, <span style=\"color: #008000; text-decoration-color: #008000\">'rating'</span>: <span style=\"color: #008080; text-decoration-color: #008080; font-weight: bold\">1</span><span style=\"font-weight: bold\">}</span>,\n",
                            "    <span style=\"font-weight: bold\">{</span>\n",
                            "        <span style=\"color: #008000; text-decoration-color: #008000\">'title'</span>: <span style=\"color: #008000; text-decoration-color: #008000\">'Starving Hearts (Triangular Trade Trilogy, #1)'</span>,\n",
                            "        <span style=\"color: #008000; text-decoration-color: #008000\">'price'</span>: <span style=\"color: #008080; text-decoration-color: #008080; font-weight: bold\">13.99</span>,\n",
                            "        <span style=\"color: #008000; text-decoration-color: #008000\">'rating'</span>: <span style=\"color: #008080; text-decoration-color: #008080; font-weight: bold\">2</span>\n",
                            "    <span style=\"font-weight: bold\">}</span>,\n",
                            "    <span style=\"font-weight: bold\">{</span><span style=\"color: #008000; text-decoration-color: #008000\">'title'</span>: <span style=\"color: #008000; text-decoration-color: #008000\">\"Shakespeare's Sonnets\"</span>, <span style=\"color: #008000; text-decoration-color: #008000\">'price'</span>: <span style=\"color: #008080; text-decoration-color: #008080; font-weight: bold\">20.66</span>, <span style=\"color: #008000; text-decoration-color: #008000\">'rating'</span>: <span style=\"color: #008080; text-decoration-color: #008080; font-weight: bold\">4</span><span style=\"font-weight: bold\">}</span>,\n",
                            "    <span style=\"font-weight: bold\">{</span><span style=\"color: #008000; text-decoration-color: #008000\">'title'</span>: <span style=\"color: #008000; text-decoration-color: #008000\">'Set Me Free'</span>, <span style=\"color: #008000; text-decoration-color: #008000\">'price'</span>: <span style=\"color: #008080; text-decoration-color: #008080; font-weight: bold\">17.46</span>, <span style=\"color: #008000; text-decoration-color: #008000\">'rating'</span>: <span style=\"color: #008080; text-decoration-color: #008080; font-weight: bold\">5</span><span style=\"font-weight: bold\">}</span>,\n",
                            "    <span style=\"font-weight: bold\">{</span>\n",
                            "        <span style=\"color: #008000; text-decoration-color: #008000\">'title'</span>: <span style=\"color: #008000; text-decoration-color: #008000\">\"Scott Pilgrim's Precious Little Life (Scott Pilgrim #1)\"</span>,\n",
                            "        <span style=\"color: #008000; text-decoration-color: #008000\">'price'</span>: <span style=\"color: #008080; text-decoration-color: #008080; font-weight: bold\">52.29</span>,\n",
                            "        <span style=\"color: #008000; text-decoration-color: #008000\">'rating'</span>: <span style=\"color: #008080; text-decoration-color: #008080; font-weight: bold\">5</span>\n",
                            "    <span style=\"font-weight: bold\">}</span>,\n",
                            "    <span style=\"font-weight: bold\">{</span><span style=\"color: #008000; text-decoration-color: #008000\">'title'</span>: <span style=\"color: #008000; text-decoration-color: #008000\">'Rip it Up and Start Again'</span>, <span style=\"color: #008000; text-decoration-color: #008000\">'price'</span>: <span style=\"color: #008080; text-decoration-color: #008080; font-weight: bold\">35.02</span>, <span style=\"color: #008000; text-decoration-color: #008000\">'rating'</span>: <span style=\"color: #008080; text-decoration-color: #008080; font-weight: bold\">5</span><span style=\"font-weight: bold\">}</span>,\n",
                            "    <span style=\"font-weight: bold\">{</span>\n",
                            "        <span style=\"color: #008000; text-decoration-color: #008000\">'title'</span>: <span style=\"color: #008000; text-decoration-color: #008000\">'Our Band Could Be Your Life: Scenes from the American Indie Underground, 1981-1991'</span>,\n",
                            "        <span style=\"color: #008000; text-decoration-color: #008000\">'price'</span>: <span style=\"color: #008080; text-decoration-color: #008080; font-weight: bold\">57.25</span>,\n",
                            "        <span style=\"color: #008000; text-decoration-color: #008000\">'rating'</span>: <span style=\"color: #008080; text-decoration-color: #008080; font-weight: bold\">3</span>\n",
                            "    <span style=\"font-weight: bold\">}</span>,\n",
                            "    <span style=\"font-weight: bold\">{</span><span style=\"color: #008000; text-decoration-color: #008000\">'title'</span>: <span style=\"color: #008000; text-decoration-color: #008000\">'Olio'</span>, <span style=\"color: #008000; text-decoration-color: #008000\">'price'</span>: <span style=\"color: #008080; text-decoration-color: #008080; font-weight: bold\">23.88</span>, <span style=\"color: #008000; text-decoration-color: #008000\">'rating'</span>: <span style=\"color: #008080; text-decoration-color: #008080; font-weight: bold\">1</span><span style=\"font-weight: bold\">}</span>,\n",
                            "    <span style=\"font-weight: bold\">{</span>\n",
                            "        <span style=\"color: #008000; text-decoration-color: #008000\">'title'</span>: <span style=\"color: #008000; text-decoration-color: #008000\">'Mesaerion: The Best Science Fiction Stories 1800-1849'</span>,\n",
                            "        <span style=\"color: #008000; text-decoration-color: #008000\">'price'</span>: <span style=\"color: #008080; text-decoration-color: #008080; font-weight: bold\">37.59</span>,\n",
                            "        <span style=\"color: #008000; text-decoration-color: #008000\">'rating'</span>: <span style=\"color: #008080; text-decoration-color: #008080; font-weight: bold\">1</span>\n",
                            "    <span style=\"font-weight: bold\">}</span>,\n",
                            "    <span style=\"font-weight: bold\">{</span><span style=\"color: #008000; text-decoration-color: #008000\">'title'</span>: <span style=\"color: #008000; text-decoration-color: #008000\">'Libertarianism for Beginners'</span>, <span style=\"color: #008000; text-decoration-color: #008000\">'price'</span>: <span style=\"color: #008080; text-decoration-color: #008080; font-weight: bold\">51.33</span>, <span style=\"color: #008000; text-decoration-color: #008000\">'rating'</span>: <span style=\"color: #008080; text-decoration-color: #008080; font-weight: bold\">2</span><span style=\"font-weight: bold\">}</span>,\n",
                            "    <span style=\"font-weight: bold\">{</span><span style=\"color: #008000; text-decoration-color: #008000\">'title'</span>: <span style=\"color: #008000; text-decoration-color: #008000\">\"It's Only the Himalayas\"</span>, <span style=\"color: #008000; text-decoration-color: #008000\">'price'</span>: <span style=\"color: #008080; text-decoration-color: #008080; font-weight: bold\">45.17</span>, <span style=\"color: #008000; text-decoration-color: #008000\">'rating'</span>: <span style=\"color: #008080; text-decoration-color: #008080; font-weight: bold\">2</span><span style=\"font-weight: bold\">}</span>\n",
                            "<span style=\"font-weight: bold\">]</span>\n",
                            "</pre>\n"
                        ],
                        "text/plain": [
                            "\n",
                            "\u001b[1m[\u001b[0m\n",
                            "    \u001b[1m{\u001b[0m\u001b[32m'title'\u001b[0m: \u001b[32m'A Light in the Attic'\u001b[0m, \u001b[32m'price'\u001b[0m: \u001b[1;36m51.77\u001b[0m, \u001b[32m'rating'\u001b[0m: \u001b[1;36m3\u001b[0m\u001b[1m}\u001b[0m,\n",
                            "    \u001b[1m{\u001b[0m\u001b[32m'title'\u001b[0m: \u001b[32m'Tipping the Velvet'\u001b[0m, \u001b[32m'price'\u001b[0m: \u001b[1;36m53.74\u001b[0m, \u001b[32m'rating'\u001b[0m: \u001b[1;36m1\u001b[0m\u001b[1m}\u001b[0m,\n",
                            "    \u001b[1m{\u001b[0m\u001b[32m'title'\u001b[0m: \u001b[32m'Soumission'\u001b[0m, \u001b[32m'price'\u001b[0m: \u001b[1;36m50.1\u001b[0m, \u001b[32m'rating'\u001b[0m: \u001b[1;36m1\u001b[0m\u001b[1m}\u001b[0m,\n",
                            "    \u001b[1m{\u001b[0m\u001b[32m'title'\u001b[0m: \u001b[32m'Sharp Objects'\u001b[0m, \u001b[32m'price'\u001b[0m: \u001b[1;36m47.82\u001b[0m, \u001b[32m'rating'\u001b[0m: \u001b[1;36m4\u001b[0m\u001b[1m}\u001b[0m,\n",
                            "    \u001b[1m{\u001b[0m\n",
                            "        \u001b[32m'title'\u001b[0m: \u001b[32m'Sapiens: A Brief History of Humankind'\u001b[0m,\n",
                            "        \u001b[32m'price'\u001b[0m: \u001b[1;36m54.23\u001b[0m,\n",
                            "        \u001b[32m'rating'\u001b[0m: \u001b[1;36m5\u001b[0m\n",
                            "    \u001b[1m}\u001b[0m,\n",
                            "    \u001b[1m{\u001b[0m\u001b[32m'title'\u001b[0m: \u001b[32m'The Requiem Red'\u001b[0m, \u001b[32m'price'\u001b[0m: \u001b[1;36m22.65\u001b[0m, \u001b[32m'rating'\u001b[0m: \u001b[1;36m1\u001b[0m\u001b[1m}\u001b[0m,\n",
                            "    \u001b[1m{\u001b[0m\n",
                            "        \u001b[32m'title'\u001b[0m: \u001b[32m'The Dirty Little Secrets of Getting Your Dream Job'\u001b[0m,\n",
                            "        \u001b[32m'price'\u001b[0m: \u001b[1;36m33.34\u001b[0m,\n",
                            "        \u001b[32m'rating'\u001b[0m: \u001b[1;36m4\u001b[0m\n",
                            "    \u001b[1m}\u001b[0m,\n",
                            "    \u001b[1m{\u001b[0m\n",
                            "        \u001b[32m'title'\u001b[0m: \u001b[32m'The Coming Woman: A Novel Based on the Life of the Infamous Feminist, Victoria Woodhull'\u001b[0m,\n",
                            "        \u001b[32m'price'\u001b[0m: \u001b[1;36m17.93\u001b[0m,\n",
                            "        \u001b[32m'rating'\u001b[0m: \u001b[1;36m3\u001b[0m\n",
                            "    \u001b[1m}\u001b[0m,\n",
                            "    \u001b[1m{\u001b[0m\n",
                            "        \u001b[32m'title'\u001b[0m: \u001b[32m'The Boys in the Boat: Nine Americans and Their Epic Quest for Gold at the 1936 Berlin Olympics'\u001b[0m,\n",
                            "        \u001b[32m'price'\u001b[0m: \u001b[1;36m22.6\u001b[0m,\n",
                            "        \u001b[32m'rating'\u001b[0m: \u001b[1;36m4\u001b[0m\n",
                            "    \u001b[1m}\u001b[0m,\n",
                            "    \u001b[1m{\u001b[0m\u001b[32m'title'\u001b[0m: \u001b[32m'The Black Maria'\u001b[0m, \u001b[32m'price'\u001b[0m: \u001b[1;36m52.15\u001b[0m, \u001b[32m'rating'\u001b[0m: \u001b[1;36m1\u001b[0m\u001b[1m}\u001b[0m,\n",
                            "    \u001b[1m{\u001b[0m\n",
                            "        \u001b[32m'title'\u001b[0m: \u001b[32m'Starving Hearts \u001b[0m\u001b[32m(\u001b[0m\u001b[32mTriangular Trade Trilogy, #1\u001b[0m\u001b[32m)\u001b[0m\u001b[32m'\u001b[0m,\n",
                            "        \u001b[32m'price'\u001b[0m: \u001b[1;36m13.99\u001b[0m,\n",
                            "        \u001b[32m'rating'\u001b[0m: \u001b[1;36m2\u001b[0m\n",
                            "    \u001b[1m}\u001b[0m,\n",
                            "    \u001b[1m{\u001b[0m\u001b[32m'title'\u001b[0m: \u001b[32m\"Shakespeare's Sonnets\"\u001b[0m, \u001b[32m'price'\u001b[0m: \u001b[1;36m20.66\u001b[0m, \u001b[32m'rating'\u001b[0m: \u001b[1;36m4\u001b[0m\u001b[1m}\u001b[0m,\n",
                            "    \u001b[1m{\u001b[0m\u001b[32m'title'\u001b[0m: \u001b[32m'Set Me Free'\u001b[0m, \u001b[32m'price'\u001b[0m: \u001b[1;36m17.46\u001b[0m, \u001b[32m'rating'\u001b[0m: \u001b[1;36m5\u001b[0m\u001b[1m}\u001b[0m,\n",
                            "    \u001b[1m{\u001b[0m\n",
                            "        \u001b[32m'title'\u001b[0m: \u001b[32m\"Scott Pilgrim's Precious Little Life \u001b[0m\u001b[32m(\u001b[0m\u001b[32mScott Pilgrim #1\u001b[0m\u001b[32m)\u001b[0m\u001b[32m\"\u001b[0m,\n",
                            "        \u001b[32m'price'\u001b[0m: \u001b[1;36m52.29\u001b[0m,\n",
                            "        \u001b[32m'rating'\u001b[0m: \u001b[1;36m5\u001b[0m\n",
                            "    \u001b[1m}\u001b[0m,\n",
                            "    \u001b[1m{\u001b[0m\u001b[32m'title'\u001b[0m: \u001b[32m'Rip it Up and Start Again'\u001b[0m, \u001b[32m'price'\u001b[0m: \u001b[1;36m35.02\u001b[0m, \u001b[32m'rating'\u001b[0m: \u001b[1;36m5\u001b[0m\u001b[1m}\u001b[0m,\n",
                            "    \u001b[1m{\u001b[0m\n",
                            "        \u001b[32m'title'\u001b[0m: \u001b[32m'Our Band Could Be Your Life: Scenes from the American Indie Underground, 1981-1991'\u001b[0m,\n",
                            "        \u001b[32m'price'\u001b[0m: \u001b[1;36m57.25\u001b[0m,\n",
                            "        \u001b[32m'rating'\u001b[0m: \u001b[1;36m3\u001b[0m\n",
                            "    \u001b[1m}\u001b[0m,\n",
                            "    \u001b[1m{\u001b[0m\u001b[32m'title'\u001b[0m: \u001b[32m'Olio'\u001b[0m, \u001b[32m'price'\u001b[0m: \u001b[1;36m23.88\u001b[0m, \u001b[32m'rating'\u001b[0m: \u001b[1;36m1\u001b[0m\u001b[1m}\u001b[0m,\n",
                            "    \u001b[1m{\u001b[0m\n",
                            "        \u001b[32m'title'\u001b[0m: \u001b[32m'Mesaerion: The Best Science Fiction Stories 1800-1849'\u001b[0m,\n",
                            "        \u001b[32m'price'\u001b[0m: \u001b[1;36m37.59\u001b[0m,\n",
                            "        \u001b[32m'rating'\u001b[0m: \u001b[1;36m1\u001b[0m\n",
                            "    \u001b[1m}\u001b[0m,\n",
                            "    \u001b[1m{\u001b[0m\u001b[32m'title'\u001b[0m: \u001b[32m'Libertarianism for Beginners'\u001b[0m, \u001b[32m'price'\u001b[0m: \u001b[1;36m51.33\u001b[0m, \u001b[32m'rating'\u001b[0m: \u001b[1;36m2\u001b[0m\u001b[1m}\u001b[0m,\n",
                            "    \u001b[1m{\u001b[0m\u001b[32m'title'\u001b[0m: \u001b[32m\"It's Only the Himalayas\"\u001b[0m, \u001b[32m'price'\u001b[0m: \u001b[1;36m45.17\u001b[0m, \u001b[32m'rating'\u001b[0m: \u001b[1;36m2\u001b[0m\u001b[1m}\u001b[0m\n",
                            "\u001b[1m]\u001b[0m\n"
                        ]
                    },
                    "metadata": {},
                    "output_type": "display_data"
                }
            ],
            "source": [
                "soup = fetch()\n",
                "books = parse(soup)\n",
                "books"
            ]
        },
        {
            "cell_type": "code",
            "execution_count": 130,
            "metadata": {},
            "outputs": [
                {
                    "data": {
                        "text/html": [
                            "<pre style=\"white-space:pre;overflow-x:auto;line-height:normal;font-family:Menlo,'DejaVu Sans Mono',consolas,'Courier New',monospace\"><span style=\"color: #008000; text-decoration-color: #008000\">'£51.77'</span>\n",
                            "</pre>\n"
                        ],
                        "text/plain": [
                            "\u001b[32m'£51.77'\u001b[0m\n"
                        ]
                    },
                    "metadata": {},
                    "output_type": "display_data"
                }
            ],
            "source": [
                "# alternate approach to cleaning price, using regex\n",
                "# advantage: works with different currencies\n",
                "article = soup.find_all(\"article\", class_=\"product_pod\")[0]\n",
                "raw_price = article.find(\"p\", class_=\"price_color\").text\n",
                "raw_price"
            ]
        },
        {
            "cell_type": "code",
            "execution_count": 131,
            "metadata": {},
            "outputs": [
                {
                    "data": {
                        "text/html": [
                            "<pre style=\"white-space:pre;overflow-x:auto;line-height:normal;font-family:Menlo,'DejaVu Sans Mono',consolas,'Courier New',monospace\"><span style=\"color: #008080; text-decoration-color: #008080; font-weight: bold\">51.77</span>\n",
                            "</pre>\n"
                        ],
                        "text/plain": [
                            "\u001b[1;36m51.77\u001b[0m\n"
                        ]
                    },
                    "metadata": {},
                    "output_type": "display_data"
                }
            ],
            "source": [
                "import re\n",
                "\n",
                "price = float(re.sub(\"[^0-9.]\", \"\", raw_price))\n",
                "price"
            ]
        },
        {
            "attachments": {},
            "cell_type": "markdown",
            "metadata": {},
            "source": [
                "### pandas"
            ]
        },
        {
            "cell_type": "code",
            "execution_count": 132,
            "metadata": {},
            "outputs": [],
            "source": [
                "# !pip install pandas"
            ]
        },
        {
            "cell_type": "code",
            "execution_count": 133,
            "metadata": {},
            "outputs": [],
            "source": [
                "import pandas as pd"
            ]
        },
        {
            "cell_type": "code",
            "execution_count": 134,
            "metadata": {},
            "outputs": [
                {
                    "data": {
                        "text/html": [
                            "<div>\n",
                            "<style scoped>\n",
                            "    .dataframe tbody tr th:only-of-type {\n",
                            "        vertical-align: middle;\n",
                            "    }\n",
                            "\n",
                            "    .dataframe tbody tr th {\n",
                            "        vertical-align: top;\n",
                            "    }\n",
                            "\n",
                            "    .dataframe thead th {\n",
                            "        text-align: right;\n",
                            "    }\n",
                            "</style>\n",
                            "<table border=\"1\" class=\"dataframe\">\n",
                            "  <thead>\n",
                            "    <tr style=\"text-align: right;\">\n",
                            "      <th></th>\n",
                            "      <th>title</th>\n",
                            "      <th>price</th>\n",
                            "      <th>rating</th>\n",
                            "    </tr>\n",
                            "  </thead>\n",
                            "  <tbody>\n",
                            "    <tr>\n",
                            "      <th>0</th>\n",
                            "      <td>A Light in the Attic</td>\n",
                            "      <td>51.77</td>\n",
                            "      <td>3</td>\n",
                            "    </tr>\n",
                            "    <tr>\n",
                            "      <th>1</th>\n",
                            "      <td>Tipping the Velvet</td>\n",
                            "      <td>53.74</td>\n",
                            "      <td>1</td>\n",
                            "    </tr>\n",
                            "    <tr>\n",
                            "      <th>2</th>\n",
                            "      <td>Soumission</td>\n",
                            "      <td>50.10</td>\n",
                            "      <td>1</td>\n",
                            "    </tr>\n",
                            "    <tr>\n",
                            "      <th>3</th>\n",
                            "      <td>Sharp Objects</td>\n",
                            "      <td>47.82</td>\n",
                            "      <td>4</td>\n",
                            "    </tr>\n",
                            "    <tr>\n",
                            "      <th>4</th>\n",
                            "      <td>Sapiens: A Brief History of Humankind</td>\n",
                            "      <td>54.23</td>\n",
                            "      <td>5</td>\n",
                            "    </tr>\n",
                            "    <tr>\n",
                            "      <th>5</th>\n",
                            "      <td>The Requiem Red</td>\n",
                            "      <td>22.65</td>\n",
                            "      <td>1</td>\n",
                            "    </tr>\n",
                            "    <tr>\n",
                            "      <th>6</th>\n",
                            "      <td>The Dirty Little Secrets of Getting Your Dream...</td>\n",
                            "      <td>33.34</td>\n",
                            "      <td>4</td>\n",
                            "    </tr>\n",
                            "    <tr>\n",
                            "      <th>7</th>\n",
                            "      <td>The Coming Woman: A Novel Based on the Life of...</td>\n",
                            "      <td>17.93</td>\n",
                            "      <td>3</td>\n",
                            "    </tr>\n",
                            "    <tr>\n",
                            "      <th>8</th>\n",
                            "      <td>The Boys in the Boat: Nine Americans and Their...</td>\n",
                            "      <td>22.60</td>\n",
                            "      <td>4</td>\n",
                            "    </tr>\n",
                            "    <tr>\n",
                            "      <th>9</th>\n",
                            "      <td>The Black Maria</td>\n",
                            "      <td>52.15</td>\n",
                            "      <td>1</td>\n",
                            "    </tr>\n",
                            "    <tr>\n",
                            "      <th>10</th>\n",
                            "      <td>Starving Hearts (Triangular Trade Trilogy, #1)</td>\n",
                            "      <td>13.99</td>\n",
                            "      <td>2</td>\n",
                            "    </tr>\n",
                            "    <tr>\n",
                            "      <th>11</th>\n",
                            "      <td>Shakespeare's Sonnets</td>\n",
                            "      <td>20.66</td>\n",
                            "      <td>4</td>\n",
                            "    </tr>\n",
                            "    <tr>\n",
                            "      <th>12</th>\n",
                            "      <td>Set Me Free</td>\n",
                            "      <td>17.46</td>\n",
                            "      <td>5</td>\n",
                            "    </tr>\n",
                            "    <tr>\n",
                            "      <th>13</th>\n",
                            "      <td>Scott Pilgrim's Precious Little Life (Scott Pi...</td>\n",
                            "      <td>52.29</td>\n",
                            "      <td>5</td>\n",
                            "    </tr>\n",
                            "    <tr>\n",
                            "      <th>14</th>\n",
                            "      <td>Rip it Up and Start Again</td>\n",
                            "      <td>35.02</td>\n",
                            "      <td>5</td>\n",
                            "    </tr>\n",
                            "    <tr>\n",
                            "      <th>15</th>\n",
                            "      <td>Our Band Could Be Your Life: Scenes from the A...</td>\n",
                            "      <td>57.25</td>\n",
                            "      <td>3</td>\n",
                            "    </tr>\n",
                            "    <tr>\n",
                            "      <th>16</th>\n",
                            "      <td>Olio</td>\n",
                            "      <td>23.88</td>\n",
                            "      <td>1</td>\n",
                            "    </tr>\n",
                            "    <tr>\n",
                            "      <th>17</th>\n",
                            "      <td>Mesaerion: The Best Science Fiction Stories 18...</td>\n",
                            "      <td>37.59</td>\n",
                            "      <td>1</td>\n",
                            "    </tr>\n",
                            "    <tr>\n",
                            "      <th>18</th>\n",
                            "      <td>Libertarianism for Beginners</td>\n",
                            "      <td>51.33</td>\n",
                            "      <td>2</td>\n",
                            "    </tr>\n",
                            "    <tr>\n",
                            "      <th>19</th>\n",
                            "      <td>It's Only the Himalayas</td>\n",
                            "      <td>45.17</td>\n",
                            "      <td>2</td>\n",
                            "    </tr>\n",
                            "  </tbody>\n",
                            "</table>\n",
                            "</div>"
                        ]
                    },
                    "execution_count": 134,
                    "metadata": {},
                    "output_type": "execute_result"
                }
            ],
            "source": [
                "df = pd.DataFrame(books)\n",
                "df"
            ]
        },
        {
            "cell_type": "code",
            "execution_count": 135,
            "metadata": {},
            "outputs": [
                {
                    "data": {
                        "text/html": [
                            "<pre style=\"white-space:pre;overflow-x:auto;line-height:normal;font-family:Menlo,'DejaVu Sans Mono',consolas,'Courier New',monospace\"><span style=\"color: #008080; text-decoration-color: #008080; font-weight: bold\">38.048500000000004</span>\n",
                            "</pre>\n"
                        ],
                        "text/plain": [
                            "\u001b[1;36m38.048500000000004\u001b[0m\n"
                        ]
                    },
                    "metadata": {},
                    "output_type": "display_data"
                }
            ],
            "source": [
                "# average of all prices\n",
                "df.price.mean()"
            ]
        },
        {
            "cell_type": "code",
            "execution_count": 136,
            "metadata": {},
            "outputs": [
                {
                    "data": {
                        "text/html": [
                            "<pre style=\"white-space:pre;overflow-x:auto;line-height:normal;font-family:Menlo,'DejaVu Sans Mono',consolas,'Courier New',monospace\">\n",
                            "<span style=\"color: #800080; text-decoration-color: #800080; font-weight: bold\">array</span><span style=\"font-weight: bold\">([</span><span style=\"color: #008000; text-decoration-color: #008000\">'The Coming Woman: A Novel Based on the Life of the Infamous Feminist, Victoria Woodhull'</span>,\n",
                            "       <span style=\"color: #008000; text-decoration-color: #008000\">'Starving Hearts (Triangular Trade Trilogy, #1)'</span>, <span style=\"color: #008000; text-decoration-color: #008000\">'Set Me Free'</span><span style=\"font-weight: bold\">]</span>,\n",
                            "      <span style=\"color: #808000; text-decoration-color: #808000\">dtype</span>=<span style=\"color: #800080; text-decoration-color: #800080\">object</span><span style=\"font-weight: bold\">)</span>\n",
                            "</pre>\n"
                        ],
                        "text/plain": [
                            "\n",
                            "\u001b[1;35marray\u001b[0m\u001b[1m(\u001b[0m\u001b[1m[\u001b[0m\u001b[32m'The Coming Woman: A Novel Based on the Life of the Infamous Feminist, Victoria Woodhull'\u001b[0m,\n",
                            "       \u001b[32m'Starving Hearts \u001b[0m\u001b[32m(\u001b[0m\u001b[32mTriangular Trade Trilogy, #1\u001b[0m\u001b[32m)\u001b[0m\u001b[32m'\u001b[0m, \u001b[32m'Set Me Free'\u001b[0m\u001b[1m]\u001b[0m,\n",
                            "      \u001b[33mdtype\u001b[0m=\u001b[35mobject\u001b[0m\u001b[1m)\u001b[0m\n"
                        ]
                    },
                    "metadata": {},
                    "output_type": "display_data"
                }
            ],
            "source": [
                "# books where price is less than 20\n",
                "df[df.price < 20].title.values"
            ]
        },
        {
            "cell_type": "code",
            "execution_count": 137,
            "metadata": {},
            "outputs": [],
            "source": [
                "# https://pandas.pydata.org/docs/reference/api/pandas.DataFrame.to_csv.html\n",
                "df.to_csv(\"books.csv\", index=False)"
            ]
        },
        {
            "cell_type": "code",
            "execution_count": 138,
            "metadata": {},
            "outputs": [],
            "source": [
                "# https://pandas.pydata.org/docs/reference/api/pandas.DataFrame.to_json.html\n",
                "df.to_json(\"books.json\", orient=\"records\")"
            ]
        },
        {
            "attachments": {},
            "cell_type": "markdown",
            "metadata": {},
            "source": [
                "### orient options for to_json"
            ]
        },
        {
            "cell_type": "code",
            "execution_count": 139,
            "metadata": {},
            "outputs": [],
            "source": [
                "import os\n",
                "\n",
                "base = \"to_json_orient_options\"\n",
                "os.makedirs(base, exist_ok=True)"
            ]
        },
        {
            "cell_type": "code",
            "execution_count": 140,
            "metadata": {},
            "outputs": [],
            "source": [
                "orient_options = [\"split\", \"records\", \"index\", \"columns\", \"values\"]\n",
                "books_sample = df[:5]"
            ]
        },
        {
            "cell_type": "code",
            "execution_count": 141,
            "metadata": {},
            "outputs": [],
            "source": [
                "for orient_option in orient_options:\n",
                "    books_sample.to_json(f\"{base}/{orient_option}.json\", orient=orient_option)"
            ]
        },
        {
            "attachments": {},
            "cell_type": "markdown",
            "metadata": {},
            "source": [
                "### Functional Search Patterns"
            ]
        },
        {
            "cell_type": "code",
            "execution_count": 142,
            "metadata": {},
            "outputs": [
                {
                    "data": {
                        "text/html": [
                            "<pre style=\"white-space:pre;overflow-x:auto;line-height:normal;font-family:Menlo,'DejaVu Sans Mono',consolas,'Courier New',monospace\">\n",
                            "<span style=\"font-weight: bold\">[&lt;</span><span style=\"color: #ff00ff; text-decoration-color: #ff00ff; font-weight: bold\">div</span><span style=\"color: #000000; text-decoration-color: #000000\"> </span><span style=\"color: #808000; text-decoration-color: #808000\">id</span><span style=\"color: #000000; text-decoration-color: #000000\">=</span><span style=\"color: #008000; text-decoration-color: #008000\">\"messages\"</span><span style=\"font-weight: bold\">&gt;</span>\n",
                            "<span style=\"font-weight: bold\">&lt;</span><span style=\"color: #800080; text-decoration-color: #800080\">/</span><span style=\"color: #ff00ff; text-decoration-color: #ff00ff\">div</span><span style=\"font-weight: bold\">&gt;]</span>\n",
                            "</pre>\n"
                        ],
                        "text/plain": [
                            "\n",
                            "\u001b[1m[\u001b[0m\u001b[1m<\u001b[0m\u001b[1;95mdiv\u001b[0m\u001b[39m \u001b[0m\u001b[33mid\u001b[0m\u001b[39m=\u001b[0m\u001b[32m\"messages\"\u001b[0m\u001b[1m>\u001b[0m\n",
                            "\u001b[1m<\u001b[0m\u001b[35m/\u001b[0m\u001b[95mdiv\u001b[0m\u001b[1m>\u001b[0m\u001b[1m]\u001b[0m\n"
                        ]
                    },
                    "metadata": {},
                    "output_type": "display_data"
                }
            ],
            "source": [
                "soup.find_all(id=\"messages\")"
            ]
        },
        {
            "cell_type": "code",
            "execution_count": 143,
            "metadata": {},
            "outputs": [
                {
                    "data": {
                        "text/html": [
                            "<pre style=\"white-space:pre;overflow-x:auto;line-height:normal;font-family:Menlo,'DejaVu Sans Mono',consolas,'Courier New',monospace\">\n",
                            "<span style=\"font-weight: bold\">[&lt;</span><span style=\"color: #ff00ff; text-decoration-color: #ff00ff; font-weight: bold\">div</span><span style=\"color: #000000; text-decoration-color: #000000\"> </span><span style=\"color: #808000; text-decoration-color: #808000\">id</span><span style=\"color: #000000; text-decoration-color: #000000\">=</span><span style=\"color: #008000; text-decoration-color: #008000\">\"messages\"</span><span style=\"font-weight: bold\">&gt;</span>\n",
                            "<span style=\"font-weight: bold\">&lt;</span><span style=\"color: #800080; text-decoration-color: #800080\">/</span><span style=\"color: #ff00ff; text-decoration-color: #ff00ff\">div</span><span style=\"font-weight: bold\">&gt;]</span>\n",
                            "</pre>\n"
                        ],
                        "text/plain": [
                            "\n",
                            "\u001b[1m[\u001b[0m\u001b[1m<\u001b[0m\u001b[1;95mdiv\u001b[0m\u001b[39m \u001b[0m\u001b[33mid\u001b[0m\u001b[39m=\u001b[0m\u001b[32m\"messages\"\u001b[0m\u001b[1m>\u001b[0m\n",
                            "\u001b[1m<\u001b[0m\u001b[35m/\u001b[0m\u001b[95mdiv\u001b[0m\u001b[1m>\u001b[0m\u001b[1m]\u001b[0m\n"
                        ]
                    },
                    "metadata": {},
                    "output_type": "display_data"
                }
            ],
            "source": [
                "soup.find_all(attrs={\"id\": \"messages\"})"
            ]
        },
        {
            "cell_type": "code",
            "execution_count": 144,
            "metadata": {},
            "outputs": [
                {
                    "data": {
                        "text/html": [
                            "<pre style=\"white-space:pre;overflow-x:auto;line-height:normal;font-family:Menlo,'DejaVu Sans Mono',consolas,'Courier New',monospace\"><span style=\"color: #008080; text-decoration-color: #008080; font-weight: bold\">4</span>\n",
                            "</pre>\n"
                        ],
                        "text/plain": [
                            "\u001b[1;36m4\u001b[0m\n"
                        ]
                    },
                    "metadata": {},
                    "output_type": "display_data"
                }
            ],
            "source": [
                "len(soup.find_all(attrs={\"id\": lambda x: x is not None}))"
            ]
        },
        {
            "cell_type": "code",
            "execution_count": 145,
            "metadata": {},
            "outputs": [
                {
                    "data": {
                        "text/html": [
                            "<pre style=\"white-space:pre;overflow-x:auto;line-height:normal;font-family:Menlo,'DejaVu Sans Mono',consolas,'Courier New',monospace\"><span style=\"color: #008080; text-decoration-color: #008080; font-weight: bold\">4</span>\n",
                            "</pre>\n"
                        ],
                        "text/plain": [
                            "\u001b[1;36m4\u001b[0m\n"
                        ]
                    },
                    "metadata": {},
                    "output_type": "display_data"
                }
            ],
            "source": [
                "len(soup.find_all(id=lambda x: x is not None))"
            ]
        },
        {
            "cell_type": "code",
            "execution_count": 146,
            "metadata": {},
            "outputs": [
                {
                    "data": {
                        "text/html": [
                            "<pre style=\"white-space:pre;overflow-x:auto;line-height:normal;font-family:Menlo,'DejaVu Sans Mono',consolas,'Courier New',monospace\"><span style=\"color: #008080; text-decoration-color: #008080; font-weight: bold\">4</span>\n",
                            "</pre>\n"
                        ],
                        "text/plain": [
                            "\u001b[1;36m4\u001b[0m\n"
                        ]
                    },
                    "metadata": {},
                    "output_type": "display_data"
                }
            ],
            "source": [
                "len(soup.find_all(lambda x: x.has_attr(\"id\")))"
            ]
        },
        {
            "cell_type": "code",
            "execution_count": 147,
            "metadata": {},
            "outputs": [],
            "source": [
                "def fiction_category_anchor(tag):\n",
                "    return tag.name == \"a\" and \"category\" in tag[\"href\"] and \"Fiction\" in tag.text"
            ]
        },
        {
            "cell_type": "code",
            "execution_count": 148,
            "metadata": {},
            "outputs": [
                {
                    "data": {
                        "text/html": [
                            "<pre style=\"white-space:pre;overflow-x:auto;line-height:normal;font-family:Menlo,'DejaVu Sans Mono',consolas,'Courier New',monospace\">\n",
                            "<span style=\"font-weight: bold\">[</span>\n",
                            "    <span style=\"font-weight: bold\">&lt;</span><span style=\"color: #ff00ff; text-decoration-color: #ff00ff; font-weight: bold\">a</span><span style=\"color: #000000; text-decoration-color: #000000\"> </span><span style=\"color: #808000; text-decoration-color: #808000\">href</span><span style=\"color: #000000; text-decoration-color: #000000\">=</span><span style=\"color: #008000; text-decoration-color: #008000\">\"catalogue/category/books/historical-fiction_4/index.html\"</span><span style=\"font-weight: bold\">&gt;</span>\n",
                            "                            \n",
                            "                                Historical Fiction\n",
                            "                            \n",
                            "                        <span style=\"font-weight: bold\">&lt;</span><span style=\"color: #800080; text-decoration-color: #800080\">/</span><span style=\"color: #ff00ff; text-decoration-color: #ff00ff\">a</span><span style=\"font-weight: bold\">&gt;</span>,\n",
                            "    <span style=\"font-weight: bold\">&lt;</span><span style=\"color: #ff00ff; text-decoration-color: #ff00ff; font-weight: bold\">a</span><span style=\"color: #000000; text-decoration-color: #000000\"> </span><span style=\"color: #808000; text-decoration-color: #808000\">href</span><span style=\"color: #000000; text-decoration-color: #000000\">=</span><span style=\"color: #008000; text-decoration-color: #008000\">\"catalogue/category/books/womens-fiction_9/index.html\"</span><span style=\"font-weight: bold\">&gt;</span>\n",
                            "                            \n",
                            "                                Womens Fiction\n",
                            "                            \n",
                            "                        <span style=\"font-weight: bold\">&lt;</span><span style=\"color: #800080; text-decoration-color: #800080\">/</span><span style=\"color: #ff00ff; text-decoration-color: #ff00ff\">a</span><span style=\"font-weight: bold\">&gt;</span>,\n",
                            "    <span style=\"font-weight: bold\">&lt;</span><span style=\"color: #ff00ff; text-decoration-color: #ff00ff; font-weight: bold\">a</span><span style=\"color: #000000; text-decoration-color: #000000\"> </span><span style=\"color: #808000; text-decoration-color: #808000\">href</span><span style=\"color: #000000; text-decoration-color: #000000\">=</span><span style=\"color: #008000; text-decoration-color: #008000\">\"catalogue/category/books/fiction_10/index.html\"</span><span style=\"font-weight: bold\">&gt;</span>\n",
                            "                            \n",
                            "                                Fiction\n",
                            "                            \n",
                            "                        <span style=\"font-weight: bold\">&lt;</span><span style=\"color: #800080; text-decoration-color: #800080\">/</span><span style=\"color: #ff00ff; text-decoration-color: #ff00ff\">a</span><span style=\"font-weight: bold\">&gt;</span>,\n",
                            "    <span style=\"font-weight: bold\">&lt;</span><span style=\"color: #ff00ff; text-decoration-color: #ff00ff; font-weight: bold\">a</span><span style=\"color: #000000; text-decoration-color: #000000\"> </span><span style=\"color: #808000; text-decoration-color: #808000\">href</span><span style=\"color: #000000; text-decoration-color: #000000\">=</span><span style=\"color: #008000; text-decoration-color: #008000\">\"catalogue/category/books/science-fiction_16/index.html\"</span><span style=\"font-weight: bold\">&gt;</span>\n",
                            "                            \n",
                            "                                Science Fiction\n",
                            "                            \n",
                            "                        <span style=\"font-weight: bold\">&lt;</span><span style=\"color: #800080; text-decoration-color: #800080\">/</span><span style=\"color: #ff00ff; text-decoration-color: #ff00ff\">a</span><span style=\"font-weight: bold\">&gt;</span>,\n",
                            "    <span style=\"font-weight: bold\">&lt;</span><span style=\"color: #ff00ff; text-decoration-color: #ff00ff; font-weight: bold\">a</span><span style=\"color: #000000; text-decoration-color: #000000\"> </span><span style=\"color: #808000; text-decoration-color: #808000\">href</span><span style=\"color: #000000; text-decoration-color: #000000\">=</span><span style=\"color: #008000; text-decoration-color: #008000\">\"catalogue/category/books/adult-fiction_29/index.html\"</span><span style=\"font-weight: bold\">&gt;</span>\n",
                            "                            \n",
                            "                                Adult Fiction\n",
                            "                            \n",
                            "                        <span style=\"font-weight: bold\">&lt;</span><span style=\"color: #800080; text-decoration-color: #800080\">/</span><span style=\"color: #ff00ff; text-decoration-color: #ff00ff\">a</span><span style=\"font-weight: bold\">&gt;</span>,\n",
                            "    <span style=\"font-weight: bold\">&lt;</span><span style=\"color: #ff00ff; text-decoration-color: #ff00ff; font-weight: bold\">a</span><span style=\"color: #000000; text-decoration-color: #000000\"> </span><span style=\"color: #808000; text-decoration-color: #808000\">href</span><span style=\"color: #000000; text-decoration-color: #000000\">=</span><span style=\"color: #008000; text-decoration-color: #008000\">\"catalogue/category/books/christian-fiction_34/index.html\"</span><span style=\"font-weight: bold\">&gt;</span>\n",
                            "                            \n",
                            "                                Christian Fiction\n",
                            "                            \n",
                            "                        <span style=\"font-weight: bold\">&lt;</span><span style=\"color: #800080; text-decoration-color: #800080\">/</span><span style=\"color: #ff00ff; text-decoration-color: #ff00ff\">a</span><span style=\"font-weight: bold\">&gt;</span>\n",
                            "<span style=\"font-weight: bold\">]</span>\n",
                            "</pre>\n"
                        ],
                        "text/plain": [
                            "\n",
                            "\u001b[1m[\u001b[0m\n",
                            "    \u001b[1m<\u001b[0m\u001b[1;95ma\u001b[0m\u001b[39m \u001b[0m\u001b[33mhref\u001b[0m\u001b[39m=\u001b[0m\u001b[32m\"catalogue\u001b[0m\u001b[32m/category/books/historical-fiction_4/index.html\"\u001b[0m\u001b[1m>\u001b[0m\n",
                            "                            \n",
                            "                                Historical Fiction\n",
                            "                            \n",
                            "                        \u001b[1m<\u001b[0m\u001b[35m/\u001b[0m\u001b[95ma\u001b[0m\u001b[1m>\u001b[0m,\n",
                            "    \u001b[1m<\u001b[0m\u001b[1;95ma\u001b[0m\u001b[39m \u001b[0m\u001b[33mhref\u001b[0m\u001b[39m=\u001b[0m\u001b[32m\"catalogue\u001b[0m\u001b[32m/category/books/womens-fiction_9/index.html\"\u001b[0m\u001b[1m>\u001b[0m\n",
                            "                            \n",
                            "                                Womens Fiction\n",
                            "                            \n",
                            "                        \u001b[1m<\u001b[0m\u001b[35m/\u001b[0m\u001b[95ma\u001b[0m\u001b[1m>\u001b[0m,\n",
                            "    \u001b[1m<\u001b[0m\u001b[1;95ma\u001b[0m\u001b[39m \u001b[0m\u001b[33mhref\u001b[0m\u001b[39m=\u001b[0m\u001b[32m\"catalogue\u001b[0m\u001b[32m/category/books/fiction_10/index.html\"\u001b[0m\u001b[1m>\u001b[0m\n",
                            "                            \n",
                            "                                Fiction\n",
                            "                            \n",
                            "                        \u001b[1m<\u001b[0m\u001b[35m/\u001b[0m\u001b[95ma\u001b[0m\u001b[1m>\u001b[0m,\n",
                            "    \u001b[1m<\u001b[0m\u001b[1;95ma\u001b[0m\u001b[39m \u001b[0m\u001b[33mhref\u001b[0m\u001b[39m=\u001b[0m\u001b[32m\"catalogue\u001b[0m\u001b[32m/category/books/science-fiction_16/index.html\"\u001b[0m\u001b[1m>\u001b[0m\n",
                            "                            \n",
                            "                                Science Fiction\n",
                            "                            \n",
                            "                        \u001b[1m<\u001b[0m\u001b[35m/\u001b[0m\u001b[95ma\u001b[0m\u001b[1m>\u001b[0m,\n",
                            "    \u001b[1m<\u001b[0m\u001b[1;95ma\u001b[0m\u001b[39m \u001b[0m\u001b[33mhref\u001b[0m\u001b[39m=\u001b[0m\u001b[32m\"catalogue\u001b[0m\u001b[32m/category/books/adult-fiction_29/index.html\"\u001b[0m\u001b[1m>\u001b[0m\n",
                            "                            \n",
                            "                                Adult Fiction\n",
                            "                            \n",
                            "                        \u001b[1m<\u001b[0m\u001b[35m/\u001b[0m\u001b[95ma\u001b[0m\u001b[1m>\u001b[0m,\n",
                            "    \u001b[1m<\u001b[0m\u001b[1;95ma\u001b[0m\u001b[39m \u001b[0m\u001b[33mhref\u001b[0m\u001b[39m=\u001b[0m\u001b[32m\"catalogue\u001b[0m\u001b[32m/category/books/christian-fiction_34/index.html\"\u001b[0m\u001b[1m>\u001b[0m\n",
                            "                            \n",
                            "                                Christian Fiction\n",
                            "                            \n",
                            "                        \u001b[1m<\u001b[0m\u001b[35m/\u001b[0m\u001b[95ma\u001b[0m\u001b[1m>\u001b[0m\n",
                            "\u001b[1m]\u001b[0m\n"
                        ]
                    },
                    "metadata": {},
                    "output_type": "display_data"
                }
            ],
            "source": [
                "fiction = soup.find_all(fiction_category_anchor)\n",
                "fiction"
            ]
        },
        {
            "cell_type": "code",
            "execution_count": 149,
            "metadata": {},
            "outputs": [
                {
                    "data": {
                        "text/html": [
                            "<pre style=\"white-space:pre;overflow-x:auto;line-height:normal;font-family:Menlo,'DejaVu Sans Mono',consolas,'Courier New',monospace\"><span style=\"color: #008080; text-decoration-color: #008080; font-weight: bold\">6</span>\n",
                            "</pre>\n"
                        ],
                        "text/plain": [
                            "\u001b[1;36m6\u001b[0m\n"
                        ]
                    },
                    "metadata": {},
                    "output_type": "display_data"
                }
            ],
            "source": [
                "len(fiction)"
            ]
        },
        {
            "attachments": {},
            "cell_type": "markdown",
            "metadata": {},
            "source": [
                "### Text Search"
            ]
        },
        {
            "cell_type": "code",
            "execution_count": 150,
            "metadata": {},
            "outputs": [
                {
                    "data": {
                        "text/html": [
                            "<pre style=\"white-space:pre;overflow-x:auto;line-height:normal;font-family:Menlo,'DejaVu Sans Mono',consolas,'Courier New',monospace\"><span style=\"font-weight: bold\">[]</span>\n",
                            "</pre>\n"
                        ],
                        "text/plain": [
                            "\u001b[1m[\u001b[0m\u001b[1m]\u001b[0m\n"
                        ]
                    },
                    "metadata": {},
                    "output_type": "display_data"
                }
            ],
            "source": [
                "soup.find_all(string=\"Fiction\")"
            ]
        },
        {
            "cell_type": "code",
            "execution_count": 151,
            "metadata": {},
            "outputs": [
                {
                    "data": {
                        "text/html": [
                            "<pre style=\"white-space:pre;overflow-x:auto;line-height:normal;font-family:Menlo,'DejaVu Sans Mono',consolas,'Courier New',monospace\"><span style=\"color: #800080; text-decoration-color: #800080; font-weight: bold\">re.compile</span><span style=\"font-weight: bold\">(</span><span style=\"color: #008000; text-decoration-color: #008000\">'Fiction'</span>, re.IGNORECASE<span style=\"font-weight: bold\">)</span>\n",
                            "</pre>\n"
                        ],
                        "text/plain": [
                            "\u001b[1;35mre.compile\u001b[0m\u001b[1m(\u001b[0m\u001b[32m'Fiction'\u001b[0m, re.IGNORECASE\u001b[1m)\u001b[0m\n"
                        ]
                    },
                    "metadata": {},
                    "output_type": "display_data"
                }
            ],
            "source": [
                "import re\n",
                "\n",
                "re.compile(\"Fiction\", re.I)"
            ]
        },
        {
            "cell_type": "code",
            "execution_count": 152,
            "metadata": {},
            "outputs": [
                {
                    "data": {
                        "text/html": [
                            "<pre style=\"white-space:pre;overflow-x:auto;line-height:normal;font-family:Menlo,'DejaVu Sans Mono',consolas,'Courier New',monospace\">\n",
                            "<span style=\"font-weight: bold\">[</span>\n",
                            "    <span style=\"color: #008000; text-decoration-color: #008000\">'\\n                            \\n                                Historical Fiction\\n                            \\n                        '</span>,\n",
                            "    <span style=\"color: #008000; text-decoration-color: #008000\">'\\n                            \\n                                Womens Fiction\\n                            \\n                        '</span>,\n",
                            "    <span style=\"color: #008000; text-decoration-color: #008000\">'\\n                            \\n                                Fiction\\n                            \\n                        '</span>,\n",
                            "    <span style=\"color: #008000; text-decoration-color: #008000\">'\\n                            \\n                                Nonfiction\\n                            \\n                        '</span>,\n",
                            "    <span style=\"color: #008000; text-decoration-color: #008000\">'\\n                            \\n                                Science Fiction\\n                            \\n                        '</span>,\n",
                            "    <span style=\"color: #008000; text-decoration-color: #008000\">'\\n                            \\n                                Adult Fiction\\n                            \\n                        '</span>,\n",
                            "    <span style=\"color: #008000; text-decoration-color: #008000\">'\\n                            \\n                                Christian Fiction\\n                            \\n                        '</span>\n",
                            "<span style=\"font-weight: bold\">]</span>\n",
                            "</pre>\n"
                        ],
                        "text/plain": [
                            "\n",
                            "\u001b[1m[\u001b[0m\n",
                            "    \u001b[32m'\\n                            \\n                                Historical Fiction\\n                            \\n                        '\u001b[0m,\n",
                            "    \u001b[32m'\\n                            \\n                                Womens Fiction\\n                            \\n                        '\u001b[0m,\n",
                            "    \u001b[32m'\\n                            \\n                                Fiction\\n                            \\n                        '\u001b[0m,\n",
                            "    \u001b[32m'\\n                            \\n                                Nonfiction\\n                            \\n                        '\u001b[0m,\n",
                            "    \u001b[32m'\\n                            \\n                                Science Fiction\\n                            \\n                        '\u001b[0m,\n",
                            "    \u001b[32m'\\n                            \\n                                Adult Fiction\\n                            \\n                        '\u001b[0m,\n",
                            "    \u001b[32m'\\n                            \\n                                Christian Fiction\\n                            \\n                        '\u001b[0m\n",
                            "\u001b[1m]\u001b[0m\n"
                        ]
                    },
                    "metadata": {},
                    "output_type": "display_data"
                }
            ],
            "source": [
                "soup.find_all(string=re.compile(\"Fiction\", re.I))"
            ]
        },
        {
            "cell_type": "code",
            "execution_count": 153,
            "metadata": {},
            "outputs": [],
            "source": [
                "text_matches = soup.find_all(string=re.compile(\"Fiction\", re.I))"
            ]
        },
        {
            "cell_type": "code",
            "execution_count": 154,
            "metadata": {},
            "outputs": [
                {
                    "data": {
                        "text/html": [
                            "<pre style=\"white-space:pre;overflow-x:auto;line-height:normal;font-family:Menlo,'DejaVu Sans Mono',consolas,'Courier New',monospace\">\n",
                            "<span style=\"font-weight: bold\">[</span>\n",
                            "    <span style=\"color: #008000; text-decoration-color: #008000\">'Historical Fiction'</span>,\n",
                            "    <span style=\"color: #008000; text-decoration-color: #008000\">'Womens Fiction'</span>,\n",
                            "    <span style=\"color: #008000; text-decoration-color: #008000\">'Fiction'</span>,\n",
                            "    <span style=\"color: #008000; text-decoration-color: #008000\">'Nonfiction'</span>,\n",
                            "    <span style=\"color: #008000; text-decoration-color: #008000\">'Science Fiction'</span>,\n",
                            "    <span style=\"color: #008000; text-decoration-color: #008000\">'Adult Fiction'</span>,\n",
                            "    <span style=\"color: #008000; text-decoration-color: #008000\">'Christian Fiction'</span>\n",
                            "<span style=\"font-weight: bold\">]</span>\n",
                            "</pre>\n"
                        ],
                        "text/plain": [
                            "\n",
                            "\u001b[1m[\u001b[0m\n",
                            "    \u001b[32m'Historical Fiction'\u001b[0m,\n",
                            "    \u001b[32m'Womens Fiction'\u001b[0m,\n",
                            "    \u001b[32m'Fiction'\u001b[0m,\n",
                            "    \u001b[32m'Nonfiction'\u001b[0m,\n",
                            "    \u001b[32m'Science Fiction'\u001b[0m,\n",
                            "    \u001b[32m'Adult Fiction'\u001b[0m,\n",
                            "    \u001b[32m'Christian Fiction'\u001b[0m\n",
                            "\u001b[1m]\u001b[0m\n"
                        ]
                    },
                    "metadata": {},
                    "output_type": "display_data"
                }
            ],
            "source": [
                "[text.strip() for text in text_matches]"
            ]
        },
        {
            "attachments": {},
            "cell_type": "markdown",
            "metadata": {},
            "source": [
                "### Searching By CSS"
            ]
        },
        {
            "cell_type": "code",
            "execution_count": 155,
            "metadata": {},
            "outputs": [],
            "source": [
                "book_tags = soup.find_all(\"article\", attrs={\"class\": \"product_pod\"})"
            ]
        },
        {
            "cell_type": "code",
            "execution_count": 156,
            "metadata": {},
            "outputs": [
                {
                    "data": {
                        "text/html": [
                            "<pre style=\"white-space:pre;overflow-x:auto;line-height:normal;font-family:Menlo,'DejaVu Sans Mono',consolas,'Courier New',monospace\">\n",
                            "<span style=\"font-weight: bold\">[</span>\n",
                            "    <span style=\"color: #008000; text-decoration-color: #008000\">'A Light in the Attic'</span>,\n",
                            "    <span style=\"color: #008000; text-decoration-color: #008000\">'Tipping the Velvet'</span>,\n",
                            "    <span style=\"color: #008000; text-decoration-color: #008000\">'Soumission'</span>,\n",
                            "    <span style=\"color: #008000; text-decoration-color: #008000\">'Sharp Objects'</span>,\n",
                            "    <span style=\"color: #008000; text-decoration-color: #008000\">'Sapiens: A Brief History of Humankind'</span>,\n",
                            "    <span style=\"color: #008000; text-decoration-color: #008000\">'The Requiem Red'</span>,\n",
                            "    <span style=\"color: #008000; text-decoration-color: #008000\">'The Dirty Little Secrets of Getting Your Dream Job'</span>,\n",
                            "    <span style=\"color: #008000; text-decoration-color: #008000\">'The Coming Woman: A Novel Based on the Life of the Infamous Feminist, Victoria Woodhull'</span>,\n",
                            "    <span style=\"color: #008000; text-decoration-color: #008000\">'The Boys in the Boat: Nine Americans and Their Epic Quest for Gold at the 1936 Berlin Olympics'</span>,\n",
                            "    <span style=\"color: #008000; text-decoration-color: #008000\">'The Black Maria'</span>,\n",
                            "    <span style=\"color: #008000; text-decoration-color: #008000\">'Starving Hearts (Triangular Trade Trilogy, #1)'</span>,\n",
                            "    <span style=\"color: #008000; text-decoration-color: #008000\">\"Shakespeare's Sonnets\"</span>,\n",
                            "    <span style=\"color: #008000; text-decoration-color: #008000\">'Set Me Free'</span>,\n",
                            "    <span style=\"color: #008000; text-decoration-color: #008000\">\"Scott Pilgrim's Precious Little Life (Scott Pilgrim #1)\"</span>,\n",
                            "    <span style=\"color: #008000; text-decoration-color: #008000\">'Rip it Up and Start Again'</span>,\n",
                            "    <span style=\"color: #008000; text-decoration-color: #008000\">'Our Band Could Be Your Life: Scenes from the American Indie Underground, 1981-1991'</span>,\n",
                            "    <span style=\"color: #008000; text-decoration-color: #008000\">'Olio'</span>,\n",
                            "    <span style=\"color: #008000; text-decoration-color: #008000\">'Mesaerion: The Best Science Fiction Stories 1800-1849'</span>,\n",
                            "    <span style=\"color: #008000; text-decoration-color: #008000\">'Libertarianism for Beginners'</span>,\n",
                            "    <span style=\"color: #008000; text-decoration-color: #008000\">\"It's Only the Himalayas\"</span>\n",
                            "<span style=\"font-weight: bold\">]</span>\n",
                            "</pre>\n"
                        ],
                        "text/plain": [
                            "\n",
                            "\u001b[1m[\u001b[0m\n",
                            "    \u001b[32m'A Light in the Attic'\u001b[0m,\n",
                            "    \u001b[32m'Tipping the Velvet'\u001b[0m,\n",
                            "    \u001b[32m'Soumission'\u001b[0m,\n",
                            "    \u001b[32m'Sharp Objects'\u001b[0m,\n",
                            "    \u001b[32m'Sapiens: A Brief History of Humankind'\u001b[0m,\n",
                            "    \u001b[32m'The Requiem Red'\u001b[0m,\n",
                            "    \u001b[32m'The Dirty Little Secrets of Getting Your Dream Job'\u001b[0m,\n",
                            "    \u001b[32m'The Coming Woman: A Novel Based on the Life of the Infamous Feminist, Victoria Woodhull'\u001b[0m,\n",
                            "    \u001b[32m'The Boys in the Boat: Nine Americans and Their Epic Quest for Gold at the 1936 Berlin Olympics'\u001b[0m,\n",
                            "    \u001b[32m'The Black Maria'\u001b[0m,\n",
                            "    \u001b[32m'Starving Hearts \u001b[0m\u001b[32m(\u001b[0m\u001b[32mTriangular Trade Trilogy, #1\u001b[0m\u001b[32m)\u001b[0m\u001b[32m'\u001b[0m,\n",
                            "    \u001b[32m\"Shakespeare's Sonnets\"\u001b[0m,\n",
                            "    \u001b[32m'Set Me Free'\u001b[0m,\n",
                            "    \u001b[32m\"Scott Pilgrim's Precious Little Life \u001b[0m\u001b[32m(\u001b[0m\u001b[32mScott Pilgrim #1\u001b[0m\u001b[32m)\u001b[0m\u001b[32m\"\u001b[0m,\n",
                            "    \u001b[32m'Rip it Up and Start Again'\u001b[0m,\n",
                            "    \u001b[32m'Our Band Could Be Your Life: Scenes from the American Indie Underground, 1981-1991'\u001b[0m,\n",
                            "    \u001b[32m'Olio'\u001b[0m,\n",
                            "    \u001b[32m'Mesaerion: The Best Science Fiction Stories 1800-1849'\u001b[0m,\n",
                            "    \u001b[32m'Libertarianism for Beginners'\u001b[0m,\n",
                            "    \u001b[32m\"It's Only the Himalayas\"\u001b[0m\n",
                            "\u001b[1m]\u001b[0m\n"
                        ]
                    },
                    "metadata": {},
                    "output_type": "display_data"
                }
            ],
            "source": [
                "titles = []\n",
                "for tag in book_tags:\n",
                "    title = tag.find(\"h3\").find(\"a\")[\"title\"]\n",
                "    titles.append(title)\n",
                "\n",
                "titles"
            ]
        },
        {
            "cell_type": "code",
            "execution_count": 157,
            "metadata": {},
            "outputs": [
                {
                    "data": {
                        "text/html": [
                            "<pre style=\"white-space:pre;overflow-x:auto;line-height:normal;font-family:Menlo,'DejaVu Sans Mono',consolas,'Courier New',monospace\">\n",
                            "<span style=\"font-weight: bold\">[</span>\n",
                            "    <span style=\"color: #008000; text-decoration-color: #008000\">'A Light in the Attic'</span>,\n",
                            "    <span style=\"color: #008000; text-decoration-color: #008000\">'Tipping the Velvet'</span>,\n",
                            "    <span style=\"color: #008000; text-decoration-color: #008000\">'Soumission'</span>,\n",
                            "    <span style=\"color: #008000; text-decoration-color: #008000\">'Sharp Objects'</span>,\n",
                            "    <span style=\"color: #008000; text-decoration-color: #008000\">'Sapiens: A Brief History of Humankind'</span>,\n",
                            "    <span style=\"color: #008000; text-decoration-color: #008000\">'The Requiem Red'</span>,\n",
                            "    <span style=\"color: #008000; text-decoration-color: #008000\">'The Dirty Little Secrets of Getting Your Dream Job'</span>,\n",
                            "    <span style=\"color: #008000; text-decoration-color: #008000\">'The Coming Woman: A Novel Based on the Life of the Infamous Feminist, Victoria Woodhull'</span>,\n",
                            "    <span style=\"color: #008000; text-decoration-color: #008000\">'The Boys in the Boat: Nine Americans and Their Epic Quest for Gold at the 1936 Berlin Olympics'</span>,\n",
                            "    <span style=\"color: #008000; text-decoration-color: #008000\">'The Black Maria'</span>,\n",
                            "    <span style=\"color: #008000; text-decoration-color: #008000\">'Starving Hearts (Triangular Trade Trilogy, #1)'</span>,\n",
                            "    <span style=\"color: #008000; text-decoration-color: #008000\">\"Shakespeare's Sonnets\"</span>,\n",
                            "    <span style=\"color: #008000; text-decoration-color: #008000\">'Set Me Free'</span>,\n",
                            "    <span style=\"color: #008000; text-decoration-color: #008000\">\"Scott Pilgrim's Precious Little Life (Scott Pilgrim #1)\"</span>,\n",
                            "    <span style=\"color: #008000; text-decoration-color: #008000\">'Rip it Up and Start Again'</span>,\n",
                            "    <span style=\"color: #008000; text-decoration-color: #008000\">'Our Band Could Be Your Life: Scenes from the American Indie Underground, 1981-1991'</span>,\n",
                            "    <span style=\"color: #008000; text-decoration-color: #008000\">'Olio'</span>,\n",
                            "    <span style=\"color: #008000; text-decoration-color: #008000\">'Mesaerion: The Best Science Fiction Stories 1800-1849'</span>,\n",
                            "    <span style=\"color: #008000; text-decoration-color: #008000\">'Libertarianism for Beginners'</span>,\n",
                            "    <span style=\"color: #008000; text-decoration-color: #008000\">\"It's Only the Himalayas\"</span>\n",
                            "<span style=\"font-weight: bold\">]</span>\n",
                            "</pre>\n"
                        ],
                        "text/plain": [
                            "\n",
                            "\u001b[1m[\u001b[0m\n",
                            "    \u001b[32m'A Light in the Attic'\u001b[0m,\n",
                            "    \u001b[32m'Tipping the Velvet'\u001b[0m,\n",
                            "    \u001b[32m'Soumission'\u001b[0m,\n",
                            "    \u001b[32m'Sharp Objects'\u001b[0m,\n",
                            "    \u001b[32m'Sapiens: A Brief History of Humankind'\u001b[0m,\n",
                            "    \u001b[32m'The Requiem Red'\u001b[0m,\n",
                            "    \u001b[32m'The Dirty Little Secrets of Getting Your Dream Job'\u001b[0m,\n",
                            "    \u001b[32m'The Coming Woman: A Novel Based on the Life of the Infamous Feminist, Victoria Woodhull'\u001b[0m,\n",
                            "    \u001b[32m'The Boys in the Boat: Nine Americans and Their Epic Quest for Gold at the 1936 Berlin Olympics'\u001b[0m,\n",
                            "    \u001b[32m'The Black Maria'\u001b[0m,\n",
                            "    \u001b[32m'Starving Hearts \u001b[0m\u001b[32m(\u001b[0m\u001b[32mTriangular Trade Trilogy, #1\u001b[0m\u001b[32m)\u001b[0m\u001b[32m'\u001b[0m,\n",
                            "    \u001b[32m\"Shakespeare's Sonnets\"\u001b[0m,\n",
                            "    \u001b[32m'Set Me Free'\u001b[0m,\n",
                            "    \u001b[32m\"Scott Pilgrim's Precious Little Life \u001b[0m\u001b[32m(\u001b[0m\u001b[32mScott Pilgrim #1\u001b[0m\u001b[32m)\u001b[0m\u001b[32m\"\u001b[0m,\n",
                            "    \u001b[32m'Rip it Up and Start Again'\u001b[0m,\n",
                            "    \u001b[32m'Our Band Could Be Your Life: Scenes from the American Indie Underground, 1981-1991'\u001b[0m,\n",
                            "    \u001b[32m'Olio'\u001b[0m,\n",
                            "    \u001b[32m'Mesaerion: The Best Science Fiction Stories 1800-1849'\u001b[0m,\n",
                            "    \u001b[32m'Libertarianism for Beginners'\u001b[0m,\n",
                            "    \u001b[32m\"It's Only the Himalayas\"\u001b[0m\n",
                            "\u001b[1m]\u001b[0m\n"
                        ]
                    },
                    "metadata": {},
                    "output_type": "display_data"
                }
            ],
            "source": [
                "title_tags = soup.select(\"article.product_pod > h3 > a\")\n",
                "titles = [tag[\"title\"] for tag in title_tags]\n",
                "titles"
            ]
        },
        {
            "cell_type": "code",
            "execution_count": 158,
            "metadata": {},
            "outputs": [
                {
                    "data": {
                        "text/html": [
                            "<pre style=\"white-space:pre;overflow-x:auto;line-height:normal;font-family:Menlo,'DejaVu Sans Mono',consolas,'Courier New',monospace\">\n",
                            "<span style=\"font-weight: bold\">[</span>\n",
                            "    <span style=\"font-weight: bold\">&lt;</span><span style=\"color: #ff00ff; text-decoration-color: #ff00ff; font-weight: bold\">a</span><span style=\"color: #000000; text-decoration-color: #000000\"> </span><span style=\"color: #808000; text-decoration-color: #808000\">href</span><span style=\"color: #000000; text-decoration-color: #000000\">=</span><span style=\"color: #008000; text-decoration-color: #008000\">\"catalogue/a-light-in-the-attic_1000/index.html\"</span><span style=\"color: #000000; text-decoration-color: #000000\"> </span><span style=\"color: #808000; text-decoration-color: #808000\">title</span><span style=\"color: #000000; text-decoration-color: #000000\">=</span><span style=\"color: #008000; text-decoration-color: #008000\">\"A Light in the Attic\"</span><span style=\"font-weight: bold\">&gt;</span>A Light in the <span style=\"color: #808000; text-decoration-color: #808000\">...</span><span style=\"font-weight: bold\">&lt;</span><span style=\"color: #800080; text-decoration-color: #800080\">/</span><span style=\"color: #ff00ff; text-decoration-color: #ff00ff\">a</span><span style=\"font-weight: bold\">&gt;</span>,\n",
                            "    <span style=\"font-weight: bold\">&lt;</span><span style=\"color: #ff00ff; text-decoration-color: #ff00ff; font-weight: bold\">a</span><span style=\"color: #000000; text-decoration-color: #000000\"> </span><span style=\"color: #808000; text-decoration-color: #808000\">href</span><span style=\"color: #000000; text-decoration-color: #000000\">=</span><span style=\"color: #008000; text-decoration-color: #008000\">\"catalogue/tipping-the-velvet_999/index.html\"</span><span style=\"color: #000000; text-decoration-color: #000000\"> </span><span style=\"color: #808000; text-decoration-color: #808000\">title</span><span style=\"color: #000000; text-decoration-color: #000000\">=</span><span style=\"color: #008000; text-decoration-color: #008000\">\"Tipping the Velvet\"</span><span style=\"font-weight: bold\">&gt;</span>Tipping the Velvet<span style=\"font-weight: bold\">&lt;</span><span style=\"color: #800080; text-decoration-color: #800080\">/</span><span style=\"color: #ff00ff; text-decoration-color: #ff00ff\">a</span><span style=\"font-weight: bold\">&gt;</span>,\n",
                            "    <span style=\"font-weight: bold\">&lt;</span><span style=\"color: #ff00ff; text-decoration-color: #ff00ff; font-weight: bold\">a</span><span style=\"color: #000000; text-decoration-color: #000000\"> </span><span style=\"color: #808000; text-decoration-color: #808000\">href</span><span style=\"color: #000000; text-decoration-color: #000000\">=</span><span style=\"color: #008000; text-decoration-color: #008000\">\"catalogue/soumission_998/index.html\"</span><span style=\"color: #000000; text-decoration-color: #000000\"> </span><span style=\"color: #808000; text-decoration-color: #808000\">title</span><span style=\"color: #000000; text-decoration-color: #000000\">=</span><span style=\"color: #008000; text-decoration-color: #008000\">\"Soumission\"</span><span style=\"font-weight: bold\">&gt;</span>Soumission<span style=\"font-weight: bold\">&lt;</span><span style=\"color: #800080; text-decoration-color: #800080\">/</span><span style=\"color: #ff00ff; text-decoration-color: #ff00ff\">a</span><span style=\"font-weight: bold\">&gt;</span>,\n",
                            "    <span style=\"font-weight: bold\">&lt;</span><span style=\"color: #ff00ff; text-decoration-color: #ff00ff; font-weight: bold\">a</span><span style=\"color: #000000; text-decoration-color: #000000\"> </span><span style=\"color: #808000; text-decoration-color: #808000\">href</span><span style=\"color: #000000; text-decoration-color: #000000\">=</span><span style=\"color: #008000; text-decoration-color: #008000\">\"catalogue/sharp-objects_997/index.html\"</span><span style=\"color: #000000; text-decoration-color: #000000\"> </span><span style=\"color: #808000; text-decoration-color: #808000\">title</span><span style=\"color: #000000; text-decoration-color: #000000\">=</span><span style=\"color: #008000; text-decoration-color: #008000\">\"Sharp Objects\"</span><span style=\"font-weight: bold\">&gt;</span>Sharp Objects<span style=\"font-weight: bold\">&lt;</span><span style=\"color: #800080; text-decoration-color: #800080\">/</span><span style=\"color: #ff00ff; text-decoration-color: #ff00ff\">a</span><span style=\"font-weight: bold\">&gt;</span>,\n",
                            "    <span style=\"font-weight: bold\">&lt;</span><span style=\"color: #ff00ff; text-decoration-color: #ff00ff; font-weight: bold\">a</span><span style=\"color: #000000; text-decoration-color: #000000\"> </span><span style=\"color: #808000; text-decoration-color: #808000\">href</span><span style=\"color: #000000; text-decoration-color: #000000\">=</span><span style=\"color: #008000; text-decoration-color: #008000\">\"catalogue/sapiens-a-brief-history-of-humankind_996/index.html\"</span><span style=\"color: #000000; text-decoration-color: #000000\"> </span><span style=\"color: #808000; text-decoration-color: #808000\">title</span><span style=\"color: #000000; text-decoration-color: #000000\">=</span><span style=\"color: #008000; text-decoration-color: #008000\">\"Sapiens: A Brief History of Humankind\"</span><span style=\"font-weight: bold\">&gt;</span>Sapiens: A Brief History <span style=\"color: #808000; text-decoration-color: #808000\">...</span><span style=\"font-weight: bold\">&lt;</span><span style=\"color: #800080; text-decoration-color: #800080\">/</span><span style=\"color: #ff00ff; text-decoration-color: #ff00ff\">a</span><span style=\"font-weight: bold\">&gt;</span>,\n",
                            "    <span style=\"font-weight: bold\">&lt;</span><span style=\"color: #ff00ff; text-decoration-color: #ff00ff; font-weight: bold\">a</span><span style=\"color: #000000; text-decoration-color: #000000\"> </span><span style=\"color: #808000; text-decoration-color: #808000\">href</span><span style=\"color: #000000; text-decoration-color: #000000\">=</span><span style=\"color: #008000; text-decoration-color: #008000\">\"catalogue/the-requiem-red_995/index.html\"</span><span style=\"color: #000000; text-decoration-color: #000000\"> </span><span style=\"color: #808000; text-decoration-color: #808000\">title</span><span style=\"color: #000000; text-decoration-color: #000000\">=</span><span style=\"color: #008000; text-decoration-color: #008000\">\"The Requiem Red\"</span><span style=\"font-weight: bold\">&gt;</span>The Requiem Red<span style=\"font-weight: bold\">&lt;</span><span style=\"color: #800080; text-decoration-color: #800080\">/</span><span style=\"color: #ff00ff; text-decoration-color: #ff00ff\">a</span><span style=\"font-weight: bold\">&gt;</span>,\n",
                            "    <span style=\"font-weight: bold\">&lt;</span><span style=\"color: #ff00ff; text-decoration-color: #ff00ff; font-weight: bold\">a</span><span style=\"color: #000000; text-decoration-color: #000000\"> </span><span style=\"color: #808000; text-decoration-color: #808000\">href</span><span style=\"color: #000000; text-decoration-color: #000000\">=</span><span style=\"color: #008000; text-decoration-color: #008000\">\"catalogue/the-dirty-little-secrets-of-getting-your-dream-job_994/index.html\"</span><span style=\"color: #000000; text-decoration-color: #000000\"> </span><span style=\"color: #808000; text-decoration-color: #808000\">title</span><span style=\"color: #000000; text-decoration-color: #000000\">=</span><span style=\"color: #008000; text-decoration-color: #008000\">\"The Dirty Little Secrets of Getting Your Dream Job\"</span><span style=\"font-weight: bold\">&gt;</span>The Dirty Little Secrets <span style=\"color: #808000; text-decoration-color: #808000\">...</span><span style=\"font-weight: bold\">&lt;</span><span style=\"color: #800080; text-decoration-color: #800080\">/</span><span style=\"color: #ff00ff; text-decoration-color: #ff00ff\">a</span><span style=\"font-weight: bold\">&gt;</span>,\n",
                            "    <span style=\"font-weight: bold\">&lt;</span><span style=\"color: #ff00ff; text-decoration-color: #ff00ff; font-weight: bold\">a</span><span style=\"color: #000000; text-decoration-color: #000000\"> </span><span style=\"color: #808000; text-decoration-color: #808000\">href</span><span style=\"color: #000000; text-decoration-color: #000000\">=</span><span style=\"color: #008000; text-decoration-color: #008000\">\"catalogue/the-coming-woman-a-novel-based-on-the-life-of-the-infamous-feminist-victoria-woodhull_993/index.html\"</span><span style=\"color: #000000; text-decoration-color: #000000\"> </span><span style=\"color: #808000; text-decoration-color: #808000\">title</span><span style=\"color: #000000; text-decoration-color: #000000\">=</span><span style=\"color: #008000; text-decoration-color: #008000\">\"The Coming Woman: A Novel Based on the Life of the Infamous Feminist, Victoria Woodhull\"</span><span style=\"font-weight: bold\">&gt;</span>The Coming Woman: A <span style=\"color: #808000; text-decoration-color: #808000\">...</span><span style=\"font-weight: bold\">&lt;</span><span style=\"color: #800080; text-decoration-color: #800080\">/</span><span style=\"color: #ff00ff; text-decoration-color: #ff00ff\">a</span><span style=\"font-weight: bold\">&gt;</span>,\n",
                            "    <span style=\"font-weight: bold\">&lt;</span><span style=\"color: #ff00ff; text-decoration-color: #ff00ff; font-weight: bold\">a</span><span style=\"color: #000000; text-decoration-color: #000000\"> </span><span style=\"color: #808000; text-decoration-color: #808000\">href</span><span style=\"color: #000000; text-decoration-color: #000000\">=</span><span style=\"color: #008000; text-decoration-color: #008000\">\"catalogue/the-boys-in-the-boat-nine-americans-and-their-epic-quest-for-gold-at-the-1936-berlin-olympics_992/index.html\"</span><span style=\"color: #000000; text-decoration-color: #000000\"> </span><span style=\"color: #808000; text-decoration-color: #808000\">title</span><span style=\"color: #000000; text-decoration-color: #000000\">=</span><span style=\"color: #008000; text-decoration-color: #008000\">\"The Boys in the Boat: Nine Americans and Their Epic Quest for Gold at the 1936 Berlin Olympics\"</span><span style=\"font-weight: bold\">&gt;</span>The Boys in the <span style=\"color: #808000; text-decoration-color: #808000\">...</span><span style=\"font-weight: bold\">&lt;</span><span style=\"color: #800080; text-decoration-color: #800080\">/</span><span style=\"color: #ff00ff; text-decoration-color: #ff00ff\">a</span><span style=\"font-weight: bold\">&gt;</span>,\n",
                            "    <span style=\"font-weight: bold\">&lt;</span><span style=\"color: #ff00ff; text-decoration-color: #ff00ff; font-weight: bold\">a</span><span style=\"color: #000000; text-decoration-color: #000000\"> </span><span style=\"color: #808000; text-decoration-color: #808000\">href</span><span style=\"color: #000000; text-decoration-color: #000000\">=</span><span style=\"color: #008000; text-decoration-color: #008000\">\"catalogue/the-black-maria_991/index.html\"</span><span style=\"color: #000000; text-decoration-color: #000000\"> </span><span style=\"color: #808000; text-decoration-color: #808000\">title</span><span style=\"color: #000000; text-decoration-color: #000000\">=</span><span style=\"color: #008000; text-decoration-color: #008000\">\"The Black Maria\"</span><span style=\"font-weight: bold\">&gt;</span>The Black Maria<span style=\"font-weight: bold\">&lt;</span><span style=\"color: #800080; text-decoration-color: #800080\">/</span><span style=\"color: #ff00ff; text-decoration-color: #ff00ff\">a</span><span style=\"font-weight: bold\">&gt;</span>,\n",
                            "    <span style=\"font-weight: bold\">&lt;</span><span style=\"color: #ff00ff; text-decoration-color: #ff00ff; font-weight: bold\">a</span><span style=\"color: #000000; text-decoration-color: #000000\"> </span><span style=\"color: #808000; text-decoration-color: #808000\">href</span><span style=\"color: #000000; text-decoration-color: #000000\">=</span><span style=\"color: #008000; text-decoration-color: #008000\">\"catalogue/starving-hearts-triangular-trade-trilogy-1_990/index.html\"</span><span style=\"color: #000000; text-decoration-color: #000000\"> </span><span style=\"color: #808000; text-decoration-color: #808000\">title</span><span style=\"color: #000000; text-decoration-color: #000000\">=</span><span style=\"color: #008000; text-decoration-color: #008000\">\"Starving Hearts (Triangular Trade Trilogy, #1)\"</span><span style=\"font-weight: bold\">&gt;</span>Starving Hearts <span style=\"font-weight: bold\">(</span>Triangular Trade <span style=\"color: #808000; text-decoration-color: #808000\">...</span><span style=\"font-weight: bold\">&lt;</span><span style=\"color: #800080; text-decoration-color: #800080\">/</span><span style=\"color: #ff00ff; text-decoration-color: #ff00ff\">a</span><span style=\"font-weight: bold\">&gt;</span>,\n",
                            "    <span style=\"font-weight: bold\">&lt;</span><span style=\"color: #ff00ff; text-decoration-color: #ff00ff; font-weight: bold\">a</span><span style=\"color: #000000; text-decoration-color: #000000\"> </span><span style=\"color: #808000; text-decoration-color: #808000\">href</span><span style=\"color: #000000; text-decoration-color: #000000\">=</span><span style=\"color: #008000; text-decoration-color: #008000\">\"catalogue/shakespeares-sonnets_989/index.html\"</span><span style=\"color: #000000; text-decoration-color: #000000\"> </span><span style=\"color: #808000; text-decoration-color: #808000\">title</span><span style=\"color: #000000; text-decoration-color: #000000\">=</span><span style=\"color: #008000; text-decoration-color: #008000\">\"Shakespeare's Sonnets\"</span><span style=\"font-weight: bold\">&gt;</span>Shakespeare's Sonnets<span style=\"font-weight: bold\">&lt;</span><span style=\"color: #800080; text-decoration-color: #800080\">/</span><span style=\"color: #ff00ff; text-decoration-color: #ff00ff\">a</span><span style=\"font-weight: bold\">&gt;</span>,\n",
                            "    <span style=\"font-weight: bold\">&lt;</span><span style=\"color: #ff00ff; text-decoration-color: #ff00ff; font-weight: bold\">a</span><span style=\"color: #000000; text-decoration-color: #000000\"> </span><span style=\"color: #808000; text-decoration-color: #808000\">href</span><span style=\"color: #000000; text-decoration-color: #000000\">=</span><span style=\"color: #008000; text-decoration-color: #008000\">\"catalogue/set-me-free_988/index.html\"</span><span style=\"color: #000000; text-decoration-color: #000000\"> </span><span style=\"color: #808000; text-decoration-color: #808000\">title</span><span style=\"color: #000000; text-decoration-color: #000000\">=</span><span style=\"color: #008000; text-decoration-color: #008000\">\"Set Me Free\"</span><span style=\"font-weight: bold\">&gt;</span>Set Me Free<span style=\"font-weight: bold\">&lt;</span><span style=\"color: #800080; text-decoration-color: #800080\">/</span><span style=\"color: #ff00ff; text-decoration-color: #ff00ff\">a</span><span style=\"font-weight: bold\">&gt;</span>,\n",
                            "    <span style=\"font-weight: bold\">&lt;</span><span style=\"color: #ff00ff; text-decoration-color: #ff00ff; font-weight: bold\">a</span><span style=\"color: #000000; text-decoration-color: #000000\"> </span><span style=\"color: #808000; text-decoration-color: #808000\">href</span><span style=\"color: #000000; text-decoration-color: #000000\">=</span><span style=\"color: #008000; text-decoration-color: #008000\">\"catalogue/scott-pilgrims-precious-little-life-scott-pilgrim-1_987/index.html\"</span><span style=\"color: #000000; text-decoration-color: #000000\"> </span><span style=\"color: #808000; text-decoration-color: #808000\">title</span><span style=\"color: #000000; text-decoration-color: #000000\">=</span><span style=\"color: #008000; text-decoration-color: #008000\">\"Scott Pilgrim's Precious Little Life (Scott Pilgrim #1)\"</span><span style=\"font-weight: bold\">&gt;</span>Scott Pilgrim's Precious Little <span style=\"color: #808000; text-decoration-color: #808000\">...</span><span style=\"font-weight: bold\">&lt;</span><span style=\"color: #800080; text-decoration-color: #800080\">/</span><span style=\"color: #ff00ff; text-decoration-color: #ff00ff\">a</span><span style=\"font-weight: bold\">&gt;</span>,\n",
                            "    <span style=\"font-weight: bold\">&lt;</span><span style=\"color: #ff00ff; text-decoration-color: #ff00ff; font-weight: bold\">a</span><span style=\"color: #000000; text-decoration-color: #000000\"> </span><span style=\"color: #808000; text-decoration-color: #808000\">href</span><span style=\"color: #000000; text-decoration-color: #000000\">=</span><span style=\"color: #008000; text-decoration-color: #008000\">\"catalogue/rip-it-up-and-start-again_986/index.html\"</span><span style=\"color: #000000; text-decoration-color: #000000\"> </span><span style=\"color: #808000; text-decoration-color: #808000\">title</span><span style=\"color: #000000; text-decoration-color: #000000\">=</span><span style=\"color: #008000; text-decoration-color: #008000\">\"Rip it Up and Start Again\"</span><span style=\"font-weight: bold\">&gt;</span>Rip it Up and <span style=\"color: #808000; text-decoration-color: #808000\">...</span><span style=\"font-weight: bold\">&lt;</span><span style=\"color: #800080; text-decoration-color: #800080\">/</span><span style=\"color: #ff00ff; text-decoration-color: #ff00ff\">a</span><span style=\"font-weight: bold\">&gt;</span>,\n",
                            "    <span style=\"font-weight: bold\">&lt;</span><span style=\"color: #ff00ff; text-decoration-color: #ff00ff; font-weight: bold\">a</span><span style=\"color: #000000; text-decoration-color: #000000\"> </span><span style=\"color: #808000; text-decoration-color: #808000\">href</span><span style=\"color: #000000; text-decoration-color: #000000\">=</span><span style=\"color: #008000; text-decoration-color: #008000\">\"catalogue/our-band-could-be-your-life-scenes-from-the-american-indie-underground-1981-1991_985/index.html\"</span><span style=\"color: #000000; text-decoration-color: #000000\"> </span><span style=\"color: #808000; text-decoration-color: #808000\">title</span><span style=\"color: #000000; text-decoration-color: #000000\">=</span><span style=\"color: #008000; text-decoration-color: #008000\">\"Our Band Could Be Your Life: Scenes from the American Indie Underground, 1981-1991\"</span><span style=\"font-weight: bold\">&gt;</span>Our Band Could Be <span style=\"color: #808000; text-decoration-color: #808000\">...</span><span style=\"font-weight: bold\">&lt;</span><span style=\"color: #800080; text-decoration-color: #800080\">/</span><span style=\"color: #ff00ff; text-decoration-color: #ff00ff\">a</span><span style=\"font-weight: bold\">&gt;</span>,\n",
                            "    <span style=\"font-weight: bold\">&lt;</span><span style=\"color: #ff00ff; text-decoration-color: #ff00ff; font-weight: bold\">a</span><span style=\"color: #000000; text-decoration-color: #000000\"> </span><span style=\"color: #808000; text-decoration-color: #808000\">href</span><span style=\"color: #000000; text-decoration-color: #000000\">=</span><span style=\"color: #008000; text-decoration-color: #008000\">\"catalogue/olio_984/index.html\"</span><span style=\"color: #000000; text-decoration-color: #000000\"> </span><span style=\"color: #808000; text-decoration-color: #808000\">title</span><span style=\"color: #000000; text-decoration-color: #000000\">=</span><span style=\"color: #008000; text-decoration-color: #008000\">\"Olio\"</span><span style=\"font-weight: bold\">&gt;</span>Olio<span style=\"font-weight: bold\">&lt;</span><span style=\"color: #800080; text-decoration-color: #800080\">/</span><span style=\"color: #ff00ff; text-decoration-color: #ff00ff\">a</span><span style=\"font-weight: bold\">&gt;</span>,\n",
                            "    <span style=\"font-weight: bold\">&lt;</span><span style=\"color: #ff00ff; text-decoration-color: #ff00ff; font-weight: bold\">a</span><span style=\"color: #000000; text-decoration-color: #000000\"> </span><span style=\"color: #808000; text-decoration-color: #808000\">href</span><span style=\"color: #000000; text-decoration-color: #000000\">=</span><span style=\"color: #008000; text-decoration-color: #008000\">\"catalogue/mesaerion-the-best-science-fiction-stories-1800-1849_983/index.html\"</span><span style=\"color: #000000; text-decoration-color: #000000\"> </span><span style=\"color: #808000; text-decoration-color: #808000\">title</span><span style=\"color: #000000; text-decoration-color: #000000\">=</span><span style=\"color: #008000; text-decoration-color: #008000\">\"Mesaerion: The Best Science Fiction Stories 1800-1849\"</span><span style=\"font-weight: bold\">&gt;</span>Mesaerion: The Best Science <span style=\"color: #808000; text-decoration-color: #808000\">...</span><span style=\"font-weight: bold\">&lt;</span><span style=\"color: #800080; text-decoration-color: #800080\">/</span><span style=\"color: #ff00ff; text-decoration-color: #ff00ff\">a</span><span style=\"font-weight: bold\">&gt;</span>,\n",
                            "    <span style=\"font-weight: bold\">&lt;</span><span style=\"color: #ff00ff; text-decoration-color: #ff00ff; font-weight: bold\">a</span><span style=\"color: #000000; text-decoration-color: #000000\"> </span><span style=\"color: #808000; text-decoration-color: #808000\">href</span><span style=\"color: #000000; text-decoration-color: #000000\">=</span><span style=\"color: #008000; text-decoration-color: #008000\">\"catalogue/libertarianism-for-beginners_982/index.html\"</span><span style=\"color: #000000; text-decoration-color: #000000\"> </span><span style=\"color: #808000; text-decoration-color: #808000\">title</span><span style=\"color: #000000; text-decoration-color: #000000\">=</span><span style=\"color: #008000; text-decoration-color: #008000\">\"Libertarianism for Beginners\"</span><span style=\"font-weight: bold\">&gt;</span>Libertarianism for Beginners<span style=\"font-weight: bold\">&lt;</span><span style=\"color: #800080; text-decoration-color: #800080\">/</span><span style=\"color: #ff00ff; text-decoration-color: #ff00ff\">a</span><span style=\"font-weight: bold\">&gt;</span>,\n",
                            "    <span style=\"font-weight: bold\">&lt;</span><span style=\"color: #ff00ff; text-decoration-color: #ff00ff; font-weight: bold\">a</span><span style=\"color: #000000; text-decoration-color: #000000\"> </span><span style=\"color: #808000; text-decoration-color: #808000\">href</span><span style=\"color: #000000; text-decoration-color: #000000\">=</span><span style=\"color: #008000; text-decoration-color: #008000\">\"catalogue/its-only-the-himalayas_981/index.html\"</span><span style=\"color: #000000; text-decoration-color: #000000\"> </span><span style=\"color: #808000; text-decoration-color: #808000\">title</span><span style=\"color: #000000; text-decoration-color: #000000\">=</span><span style=\"color: #008000; text-decoration-color: #008000\">\"It's Only the Himalayas\"</span><span style=\"font-weight: bold\">&gt;</span>It's Only the Himalayas<span style=\"font-weight: bold\">&lt;</span><span style=\"color: #800080; text-decoration-color: #800080\">/</span><span style=\"color: #ff00ff; text-decoration-color: #ff00ff\">a</span><span style=\"font-weight: bold\">&gt;</span>\n",
                            "<span style=\"font-weight: bold\">]</span>\n",
                            "</pre>\n"
                        ],
                        "text/plain": [
                            "\n",
                            "\u001b[1m[\u001b[0m\n",
                            "    \u001b[1m<\u001b[0m\u001b[1;95ma\u001b[0m\u001b[39m \u001b[0m\u001b[33mhref\u001b[0m\u001b[39m=\u001b[0m\u001b[32m\"catalogue\u001b[0m\u001b[32m/a-light-in-the-attic_1000/index.html\"\u001b[0m\u001b[39m \u001b[0m\u001b[33mtitle\u001b[0m\u001b[39m=\u001b[0m\u001b[32m\"A\u001b[0m\u001b[32m Light in the Attic\"\u001b[0m\u001b[1m>\u001b[0mA Light in the \u001b[33m...\u001b[0m\u001b[1m<\u001b[0m\u001b[35m/\u001b[0m\u001b[95ma\u001b[0m\u001b[1m>\u001b[0m,\n",
                            "    \u001b[1m<\u001b[0m\u001b[1;95ma\u001b[0m\u001b[39m \u001b[0m\u001b[33mhref\u001b[0m\u001b[39m=\u001b[0m\u001b[32m\"catalogue\u001b[0m\u001b[32m/tipping-the-velvet_999/index.html\"\u001b[0m\u001b[39m \u001b[0m\u001b[33mtitle\u001b[0m\u001b[39m=\u001b[0m\u001b[32m\"Tipping\u001b[0m\u001b[32m the Velvet\"\u001b[0m\u001b[1m>\u001b[0mTipping the Velvet\u001b[1m<\u001b[0m\u001b[35m/\u001b[0m\u001b[95ma\u001b[0m\u001b[1m>\u001b[0m,\n",
                            "    \u001b[1m<\u001b[0m\u001b[1;95ma\u001b[0m\u001b[39m \u001b[0m\u001b[33mhref\u001b[0m\u001b[39m=\u001b[0m\u001b[32m\"catalogue\u001b[0m\u001b[32m/soumission_998/index.html\"\u001b[0m\u001b[39m \u001b[0m\u001b[33mtitle\u001b[0m\u001b[39m=\u001b[0m\u001b[32m\"Soumission\"\u001b[0m\u001b[1m>\u001b[0mSoumission\u001b[1m<\u001b[0m\u001b[35m/\u001b[0m\u001b[95ma\u001b[0m\u001b[1m>\u001b[0m,\n",
                            "    \u001b[1m<\u001b[0m\u001b[1;95ma\u001b[0m\u001b[39m \u001b[0m\u001b[33mhref\u001b[0m\u001b[39m=\u001b[0m\u001b[32m\"catalogue\u001b[0m\u001b[32m/sharp-objects_997/index.html\"\u001b[0m\u001b[39m \u001b[0m\u001b[33mtitle\u001b[0m\u001b[39m=\u001b[0m\u001b[32m\"Sharp\u001b[0m\u001b[32m Objects\"\u001b[0m\u001b[1m>\u001b[0mSharp Objects\u001b[1m<\u001b[0m\u001b[35m/\u001b[0m\u001b[95ma\u001b[0m\u001b[1m>\u001b[0m,\n",
                            "    \u001b[1m<\u001b[0m\u001b[1;95ma\u001b[0m\u001b[39m \u001b[0m\u001b[33mhref\u001b[0m\u001b[39m=\u001b[0m\u001b[32m\"catalogue\u001b[0m\u001b[32m/sapiens-a-brief-history-of-humankind_996/index.html\"\u001b[0m\u001b[39m \u001b[0m\u001b[33mtitle\u001b[0m\u001b[39m=\u001b[0m\u001b[32m\"Sapiens\u001b[0m\u001b[32m: A Brief History of Humankind\"\u001b[0m\u001b[1m>\u001b[0mSapiens: A Brief History \u001b[33m...\u001b[0m\u001b[1m<\u001b[0m\u001b[35m/\u001b[0m\u001b[95ma\u001b[0m\u001b[1m>\u001b[0m,\n",
                            "    \u001b[1m<\u001b[0m\u001b[1;95ma\u001b[0m\u001b[39m \u001b[0m\u001b[33mhref\u001b[0m\u001b[39m=\u001b[0m\u001b[32m\"catalogue\u001b[0m\u001b[32m/the-requiem-red_995/index.html\"\u001b[0m\u001b[39m \u001b[0m\u001b[33mtitle\u001b[0m\u001b[39m=\u001b[0m\u001b[32m\"The\u001b[0m\u001b[32m Requiem Red\"\u001b[0m\u001b[1m>\u001b[0mThe Requiem Red\u001b[1m<\u001b[0m\u001b[35m/\u001b[0m\u001b[95ma\u001b[0m\u001b[1m>\u001b[0m,\n",
                            "    \u001b[1m<\u001b[0m\u001b[1;95ma\u001b[0m\u001b[39m \u001b[0m\u001b[33mhref\u001b[0m\u001b[39m=\u001b[0m\u001b[32m\"catalogue\u001b[0m\u001b[32m/the-dirty-little-secrets-of-getting-your-dream-job_994/index.html\"\u001b[0m\u001b[39m \u001b[0m\u001b[33mtitle\u001b[0m\u001b[39m=\u001b[0m\u001b[32m\"The\u001b[0m\u001b[32m Dirty Little Secrets of Getting Your Dream Job\"\u001b[0m\u001b[1m>\u001b[0mThe Dirty Little Secrets \u001b[33m...\u001b[0m\u001b[1m<\u001b[0m\u001b[35m/\u001b[0m\u001b[95ma\u001b[0m\u001b[1m>\u001b[0m,\n",
                            "    \u001b[1m<\u001b[0m\u001b[1;95ma\u001b[0m\u001b[39m \u001b[0m\u001b[33mhref\u001b[0m\u001b[39m=\u001b[0m\u001b[32m\"catalogue\u001b[0m\u001b[32m/the-coming-woman-a-novel-based-on-the-life-of-the-infamous-feminist-victoria-woodhull_993/index.html\"\u001b[0m\u001b[39m \u001b[0m\u001b[33mtitle\u001b[0m\u001b[39m=\u001b[0m\u001b[32m\"The\u001b[0m\u001b[32m Coming Woman: A Novel Based on the Life of the Infamous Feminist, Victoria Woodhull\"\u001b[0m\u001b[1m>\u001b[0mThe Coming Woman: A \u001b[33m...\u001b[0m\u001b[1m<\u001b[0m\u001b[35m/\u001b[0m\u001b[95ma\u001b[0m\u001b[1m>\u001b[0m,\n",
                            "    \u001b[1m<\u001b[0m\u001b[1;95ma\u001b[0m\u001b[39m \u001b[0m\u001b[33mhref\u001b[0m\u001b[39m=\u001b[0m\u001b[32m\"catalogue\u001b[0m\u001b[32m/the-boys-in-the-boat-nine-americans-and-their-epic-quest-for-gold-at-the-1936-berlin-olympics_992/index.html\"\u001b[0m\u001b[39m \u001b[0m\u001b[33mtitle\u001b[0m\u001b[39m=\u001b[0m\u001b[32m\"The\u001b[0m\u001b[32m Boys in the Boat: Nine Americans and Their Epic Quest for Gold at the 1936 Berlin Olympics\"\u001b[0m\u001b[1m>\u001b[0mThe Boys in the \u001b[33m...\u001b[0m\u001b[1m<\u001b[0m\u001b[35m/\u001b[0m\u001b[95ma\u001b[0m\u001b[1m>\u001b[0m,\n",
                            "    \u001b[1m<\u001b[0m\u001b[1;95ma\u001b[0m\u001b[39m \u001b[0m\u001b[33mhref\u001b[0m\u001b[39m=\u001b[0m\u001b[32m\"catalogue\u001b[0m\u001b[32m/the-black-maria_991/index.html\"\u001b[0m\u001b[39m \u001b[0m\u001b[33mtitle\u001b[0m\u001b[39m=\u001b[0m\u001b[32m\"The\u001b[0m\u001b[32m Black Maria\"\u001b[0m\u001b[1m>\u001b[0mThe Black Maria\u001b[1m<\u001b[0m\u001b[35m/\u001b[0m\u001b[95ma\u001b[0m\u001b[1m>\u001b[0m,\n",
                            "    \u001b[1m<\u001b[0m\u001b[1;95ma\u001b[0m\u001b[39m \u001b[0m\u001b[33mhref\u001b[0m\u001b[39m=\u001b[0m\u001b[32m\"catalogue\u001b[0m\u001b[32m/starving-hearts-triangular-trade-trilogy-1_990/index.html\"\u001b[0m\u001b[39m \u001b[0m\u001b[33mtitle\u001b[0m\u001b[39m=\u001b[0m\u001b[32m\"Starving\u001b[0m\u001b[32m Hearts \u001b[0m\u001b[32m(\u001b[0m\u001b[32mTriangular Trade Trilogy, #1\u001b[0m\u001b[32m)\u001b[0m\u001b[32m\"\u001b[0m\u001b[1m>\u001b[0mStarving Hearts \u001b[1m(\u001b[0mTriangular Trade \u001b[33m...\u001b[0m\u001b[1m<\u001b[0m\u001b[35m/\u001b[0m\u001b[95ma\u001b[0m\u001b[1m>\u001b[0m,\n",
                            "    \u001b[1m<\u001b[0m\u001b[1;95ma\u001b[0m\u001b[39m \u001b[0m\u001b[33mhref\u001b[0m\u001b[39m=\u001b[0m\u001b[32m\"catalogue\u001b[0m\u001b[32m/shakespeares-sonnets_989/index.html\"\u001b[0m\u001b[39m \u001b[0m\u001b[33mtitle\u001b[0m\u001b[39m=\u001b[0m\u001b[32m\"Shakespeare\u001b[0m\u001b[32m's Sonnets\"\u001b[0m\u001b[1m>\u001b[0mShakespeare's Sonnets\u001b[1m<\u001b[0m\u001b[35m/\u001b[0m\u001b[95ma\u001b[0m\u001b[1m>\u001b[0m,\n",
                            "    \u001b[1m<\u001b[0m\u001b[1;95ma\u001b[0m\u001b[39m \u001b[0m\u001b[33mhref\u001b[0m\u001b[39m=\u001b[0m\u001b[32m\"catalogue\u001b[0m\u001b[32m/set-me-free_988/index.html\"\u001b[0m\u001b[39m \u001b[0m\u001b[33mtitle\u001b[0m\u001b[39m=\u001b[0m\u001b[32m\"Set\u001b[0m\u001b[32m Me Free\"\u001b[0m\u001b[1m>\u001b[0mSet Me Free\u001b[1m<\u001b[0m\u001b[35m/\u001b[0m\u001b[95ma\u001b[0m\u001b[1m>\u001b[0m,\n",
                            "    \u001b[1m<\u001b[0m\u001b[1;95ma\u001b[0m\u001b[39m \u001b[0m\u001b[33mhref\u001b[0m\u001b[39m=\u001b[0m\u001b[32m\"catalogue\u001b[0m\u001b[32m/scott-pilgrims-precious-little-life-scott-pilgrim-1_987/index.html\"\u001b[0m\u001b[39m \u001b[0m\u001b[33mtitle\u001b[0m\u001b[39m=\u001b[0m\u001b[32m\"Scott\u001b[0m\u001b[32m Pilgrim's Precious Little Life \u001b[0m\u001b[32m(\u001b[0m\u001b[32mScott Pilgrim #1\u001b[0m\u001b[32m)\u001b[0m\u001b[32m\"\u001b[0m\u001b[1m>\u001b[0mScott Pilgrim's Precious Little \u001b[33m...\u001b[0m\u001b[1m<\u001b[0m\u001b[35m/\u001b[0m\u001b[95ma\u001b[0m\u001b[1m>\u001b[0m,\n",
                            "    \u001b[1m<\u001b[0m\u001b[1;95ma\u001b[0m\u001b[39m \u001b[0m\u001b[33mhref\u001b[0m\u001b[39m=\u001b[0m\u001b[32m\"catalogue\u001b[0m\u001b[32m/rip-it-up-and-start-again_986/index.html\"\u001b[0m\u001b[39m \u001b[0m\u001b[33mtitle\u001b[0m\u001b[39m=\u001b[0m\u001b[32m\"Rip\u001b[0m\u001b[32m it Up and Start Again\"\u001b[0m\u001b[1m>\u001b[0mRip it Up and \u001b[33m...\u001b[0m\u001b[1m<\u001b[0m\u001b[35m/\u001b[0m\u001b[95ma\u001b[0m\u001b[1m>\u001b[0m,\n",
                            "    \u001b[1m<\u001b[0m\u001b[1;95ma\u001b[0m\u001b[39m \u001b[0m\u001b[33mhref\u001b[0m\u001b[39m=\u001b[0m\u001b[32m\"catalogue\u001b[0m\u001b[32m/our-band-could-be-your-life-scenes-from-the-american-indie-underground-1981-1991_985/index.html\"\u001b[0m\u001b[39m \u001b[0m\u001b[33mtitle\u001b[0m\u001b[39m=\u001b[0m\u001b[32m\"Our\u001b[0m\u001b[32m Band Could Be Your Life: Scenes from the American Indie Underground, 1981-1991\"\u001b[0m\u001b[1m>\u001b[0mOur Band Could Be \u001b[33m...\u001b[0m\u001b[1m<\u001b[0m\u001b[35m/\u001b[0m\u001b[95ma\u001b[0m\u001b[1m>\u001b[0m,\n",
                            "    \u001b[1m<\u001b[0m\u001b[1;95ma\u001b[0m\u001b[39m \u001b[0m\u001b[33mhref\u001b[0m\u001b[39m=\u001b[0m\u001b[32m\"catalogue\u001b[0m\u001b[32m/olio_984/index.html\"\u001b[0m\u001b[39m \u001b[0m\u001b[33mtitle\u001b[0m\u001b[39m=\u001b[0m\u001b[32m\"Olio\"\u001b[0m\u001b[1m>\u001b[0mOlio\u001b[1m<\u001b[0m\u001b[35m/\u001b[0m\u001b[95ma\u001b[0m\u001b[1m>\u001b[0m,\n",
                            "    \u001b[1m<\u001b[0m\u001b[1;95ma\u001b[0m\u001b[39m \u001b[0m\u001b[33mhref\u001b[0m\u001b[39m=\u001b[0m\u001b[32m\"catalogue\u001b[0m\u001b[32m/mesaerion-the-best-science-fiction-stories-1800-1849_983/index.html\"\u001b[0m\u001b[39m \u001b[0m\u001b[33mtitle\u001b[0m\u001b[39m=\u001b[0m\u001b[32m\"Mesaerion\u001b[0m\u001b[32m: The Best Science Fiction Stories 1800-1849\"\u001b[0m\u001b[1m>\u001b[0mMesaerion: The Best Science \u001b[33m...\u001b[0m\u001b[1m<\u001b[0m\u001b[35m/\u001b[0m\u001b[95ma\u001b[0m\u001b[1m>\u001b[0m,\n",
                            "    \u001b[1m<\u001b[0m\u001b[1;95ma\u001b[0m\u001b[39m \u001b[0m\u001b[33mhref\u001b[0m\u001b[39m=\u001b[0m\u001b[32m\"catalogue\u001b[0m\u001b[32m/libertarianism-for-beginners_982/index.html\"\u001b[0m\u001b[39m \u001b[0m\u001b[33mtitle\u001b[0m\u001b[39m=\u001b[0m\u001b[32m\"Libertarianism\u001b[0m\u001b[32m for Beginners\"\u001b[0m\u001b[1m>\u001b[0mLibertarianism for Beginners\u001b[1m<\u001b[0m\u001b[35m/\u001b[0m\u001b[95ma\u001b[0m\u001b[1m>\u001b[0m,\n",
                            "    \u001b[1m<\u001b[0m\u001b[1;95ma\u001b[0m\u001b[39m \u001b[0m\u001b[33mhref\u001b[0m\u001b[39m=\u001b[0m\u001b[32m\"catalogue\u001b[0m\u001b[32m/its-only-the-himalayas_981/index.html\"\u001b[0m\u001b[39m \u001b[0m\u001b[33mtitle\u001b[0m\u001b[39m=\u001b[0m\u001b[32m\"It\u001b[0m\u001b[32m's Only the Himalayas\"\u001b[0m\u001b[1m>\u001b[0mIt's Only the Himalayas\u001b[1m<\u001b[0m\u001b[35m/\u001b[0m\u001b[95ma\u001b[0m\u001b[1m>\u001b[0m\n",
                            "\u001b[1m]\u001b[0m\n"
                        ]
                    },
                    "metadata": {},
                    "output_type": "display_data"
                }
            ],
            "source": [
                "soup.select(\"[title]\")"
            ]
        },
        {
            "cell_type": "code",
            "execution_count": 159,
            "metadata": {},
            "outputs": [
                {
                    "data": {
                        "text/html": [
                            "<pre style=\"white-space:pre;overflow-x:auto;line-height:normal;font-family:Menlo,'DejaVu Sans Mono',consolas,'Courier New',monospace\">\n",
                            "<span style=\"font-weight: bold\">[</span>\n",
                            "    <span style=\"font-weight: bold\">&lt;</span><span style=\"color: #ff00ff; text-decoration-color: #ff00ff; font-weight: bold\">a</span><span style=\"color: #000000; text-decoration-color: #000000\"> </span><span style=\"color: #808000; text-decoration-color: #808000\">href</span><span style=\"color: #000000; text-decoration-color: #000000\">=</span><span style=\"color: #008000; text-decoration-color: #008000\">\"catalogue/sapiens-a-brief-history-of-humankind_996/index.html\"</span><span style=\"color: #000000; text-decoration-color: #000000\"> </span><span style=\"color: #808000; text-decoration-color: #808000\">title</span><span style=\"color: #000000; text-decoration-color: #000000\">=</span><span style=\"color: #008000; text-decoration-color: #008000\">\"Sapiens: A Brief History of Humankind\"</span><span style=\"font-weight: bold\">&gt;</span>Sapiens: A Brief History <span style=\"color: #808000; text-decoration-color: #808000\">...</span><span style=\"font-weight: bold\">&lt;</span><span style=\"color: #800080; text-decoration-color: #800080\">/</span><span style=\"color: #ff00ff; text-decoration-color: #ff00ff\">a</span><span style=\"font-weight: bold\">&gt;</span>\n",
                            "<span style=\"font-weight: bold\">]</span>\n",
                            "</pre>\n"
                        ],
                        "text/plain": [
                            "\n",
                            "\u001b[1m[\u001b[0m\n",
                            "    \u001b[1m<\u001b[0m\u001b[1;95ma\u001b[0m\u001b[39m \u001b[0m\u001b[33mhref\u001b[0m\u001b[39m=\u001b[0m\u001b[32m\"catalogue\u001b[0m\u001b[32m/sapiens-a-brief-history-of-humankind_996/index.html\"\u001b[0m\u001b[39m \u001b[0m\u001b[33mtitle\u001b[0m\u001b[39m=\u001b[0m\u001b[32m\"Sapiens\u001b[0m\u001b[32m: A Brief History of Humankind\"\u001b[0m\u001b[1m>\u001b[0mSapiens: A Brief History \u001b[33m...\u001b[0m\u001b[1m<\u001b[0m\u001b[35m/\u001b[0m\u001b[95ma\u001b[0m\u001b[1m>\u001b[0m\n",
                            "\u001b[1m]\u001b[0m\n"
                        ]
                    },
                    "metadata": {},
                    "output_type": "display_data"
                }
            ],
            "source": [
                "soup.select(\"[title*=Human]\")"
            ]
        },
        {
            "cell_type": "code",
            "execution_count": 160,
            "metadata": {},
            "outputs": [
                {
                    "data": {
                        "text/html": [
                            "<pre style=\"white-space:pre;overflow-x:auto;line-height:normal;font-family:Menlo,'DejaVu Sans Mono',consolas,'Courier New',monospace\"><span style=\"color: #008080; text-decoration-color: #008080; font-weight: bold\">20</span>\n",
                            "</pre>\n"
                        ],
                        "text/plain": [
                            "\u001b[1;36m20\u001b[0m\n"
                        ]
                    },
                    "metadata": {},
                    "output_type": "display_data"
                }
            ],
            "source": [
                "len(soup.select(\"button.btn-primary[data-loading-text][class*=primary]\"))"
            ]
        },
        {
            "cell_type": "code",
            "execution_count": 161,
            "metadata": {},
            "outputs": [
                {
                    "data": {
                        "text/html": [
                            "<pre style=\"white-space:pre;overflow-x:auto;line-height:normal;font-family:Menlo,'DejaVu Sans Mono',consolas,'Courier New',monospace\"><span style=\"color: #008080; text-decoration-color: #008080; font-weight: bold\">20</span>\n",
                            "</pre>\n"
                        ],
                        "text/plain": [
                            "\u001b[1;36m20\u001b[0m\n"
                        ]
                    },
                    "metadata": {},
                    "output_type": "display_data"
                }
            ],
            "source": [
                "len(soup.select(\"button\"))"
            ]
        },
        {
            "attachments": {},
            "cell_type": "markdown",
            "metadata": {},
            "source": [
                "### Just One Tag"
            ]
        },
        {
            "cell_type": "code",
            "execution_count": 162,
            "metadata": {},
            "outputs": [
                {
                    "data": {
                        "text/html": [
                            "<pre style=\"white-space:pre;overflow-x:auto;line-height:normal;font-family:Menlo,'DejaVu Sans Mono',consolas,'Courier New',monospace\"><span style=\"font-weight: bold\">[&lt;</span><span style=\"color: #ff00ff; text-decoration-color: #ff00ff; font-weight: bold\">a</span><span style=\"color: #000000; text-decoration-color: #000000\"> </span><span style=\"color: #808000; text-decoration-color: #808000\">href</span><span style=\"color: #000000; text-decoration-color: #000000\">=</span><span style=\"color: #008000; text-decoration-color: #008000\">\"index.html\"</span><span style=\"font-weight: bold\">&gt;</span>Books to Scrape<span style=\"font-weight: bold\">&lt;</span><span style=\"color: #800080; text-decoration-color: #800080\">/</span><span style=\"color: #ff00ff; text-decoration-color: #ff00ff\">a</span><span style=\"font-weight: bold\">&gt;]</span>\n",
                            "</pre>\n"
                        ],
                        "text/plain": [
                            "\u001b[1m[\u001b[0m\u001b[1m<\u001b[0m\u001b[1;95ma\u001b[0m\u001b[39m \u001b[0m\u001b[33mhref\u001b[0m\u001b[39m=\u001b[0m\u001b[32m\"index\u001b[0m\u001b[32m.html\"\u001b[0m\u001b[1m>\u001b[0mBooks to Scrape\u001b[1m<\u001b[0m\u001b[35m/\u001b[0m\u001b[95ma\u001b[0m\u001b[1m>\u001b[0m\u001b[1m]\u001b[0m\n"
                        ]
                    },
                    "metadata": {},
                    "output_type": "display_data"
                }
            ],
            "source": [
                "soup.find_all(\"a\", limit=1)"
            ]
        },
        {
            "cell_type": "code",
            "execution_count": 163,
            "metadata": {},
            "outputs": [
                {
                    "data": {
                        "text/html": [
                            "<pre style=\"white-space:pre;overflow-x:auto;line-height:normal;font-family:Menlo,'DejaVu Sans Mono',consolas,'Courier New',monospace\"><span style=\"font-weight: bold\">&lt;</span><span style=\"color: #ff00ff; text-decoration-color: #ff00ff; font-weight: bold\">a</span><span style=\"color: #000000; text-decoration-color: #000000\"> </span><span style=\"color: #808000; text-decoration-color: #808000\">href</span><span style=\"color: #000000; text-decoration-color: #000000\">=</span><span style=\"color: #008000; text-decoration-color: #008000\">\"index.html\"</span><span style=\"font-weight: bold\">&gt;</span>Books to Scrape<span style=\"font-weight: bold\">&lt;</span><span style=\"color: #800080; text-decoration-color: #800080\">/</span><span style=\"color: #ff00ff; text-decoration-color: #ff00ff\">a</span><span style=\"font-weight: bold\">&gt;</span>\n",
                            "</pre>\n"
                        ],
                        "text/plain": [
                            "\u001b[1m<\u001b[0m\u001b[1;95ma\u001b[0m\u001b[39m \u001b[0m\u001b[33mhref\u001b[0m\u001b[39m=\u001b[0m\u001b[32m\"index\u001b[0m\u001b[32m.html\"\u001b[0m\u001b[1m>\u001b[0mBooks to Scrape\u001b[1m<\u001b[0m\u001b[35m/\u001b[0m\u001b[95ma\u001b[0m\u001b[1m>\u001b[0m\n"
                        ]
                    },
                    "metadata": {},
                    "output_type": "display_data"
                }
            ],
            "source": [
                "soup.find(\"a\")"
            ]
        },
        {
            "cell_type": "code",
            "execution_count": 164,
            "metadata": {},
            "outputs": [
                {
                    "data": {
                        "text/html": [
                            "<pre style=\"white-space:pre;overflow-x:auto;line-height:normal;font-family:Menlo,'DejaVu Sans Mono',consolas,'Courier New',monospace\"><span style=\"color: #00ff00; text-decoration-color: #00ff00; font-style: italic\">True</span>\n",
                            "</pre>\n"
                        ],
                        "text/plain": [
                            "\u001b[3;92mTrue\u001b[0m\n"
                        ]
                    },
                    "metadata": {},
                    "output_type": "display_data"
                }
            ],
            "source": [
                "soup.find_all(\"a\", limit=1)[0] is soup.find(\"a\")"
            ]
        },
        {
            "cell_type": "code",
            "execution_count": 165,
            "metadata": {},
            "outputs": [
                {
                    "data": {
                        "text/html": [
                            "<pre style=\"white-space:pre;overflow-x:auto;line-height:normal;font-family:Menlo,'DejaVu Sans Mono',consolas,'Courier New',monospace\"><span style=\"font-weight: bold\">[&lt;</span><span style=\"color: #ff00ff; text-decoration-color: #ff00ff; font-weight: bold\">a</span><span style=\"color: #000000; text-decoration-color: #000000\"> </span><span style=\"color: #808000; text-decoration-color: #808000\">href</span><span style=\"color: #000000; text-decoration-color: #000000\">=</span><span style=\"color: #008000; text-decoration-color: #008000\">\"index.html\"</span><span style=\"font-weight: bold\">&gt;</span>Books to Scrape<span style=\"font-weight: bold\">&lt;</span><span style=\"color: #800080; text-decoration-color: #800080\">/</span><span style=\"color: #ff00ff; text-decoration-color: #ff00ff\">a</span><span style=\"font-weight: bold\">&gt;]</span>\n",
                            "</pre>\n"
                        ],
                        "text/plain": [
                            "\u001b[1m[\u001b[0m\u001b[1m<\u001b[0m\u001b[1;95ma\u001b[0m\u001b[39m \u001b[0m\u001b[33mhref\u001b[0m\u001b[39m=\u001b[0m\u001b[32m\"index\u001b[0m\u001b[32m.html\"\u001b[0m\u001b[1m>\u001b[0mBooks to Scrape\u001b[1m<\u001b[0m\u001b[35m/\u001b[0m\u001b[95ma\u001b[0m\u001b[1m>\u001b[0m\u001b[1m]\u001b[0m\n"
                        ]
                    },
                    "metadata": {},
                    "output_type": "display_data"
                }
            ],
            "source": [
                "soup.select(\"a\", limit=1)"
            ]
        },
        {
            "cell_type": "code",
            "execution_count": 166,
            "metadata": {},
            "outputs": [
                {
                    "data": {
                        "text/html": [
                            "<pre style=\"white-space:pre;overflow-x:auto;line-height:normal;font-family:Menlo,'DejaVu Sans Mono',consolas,'Courier New',monospace\"><span style=\"font-weight: bold\">&lt;</span><span style=\"color: #ff00ff; text-decoration-color: #ff00ff; font-weight: bold\">a</span><span style=\"color: #000000; text-decoration-color: #000000\"> </span><span style=\"color: #808000; text-decoration-color: #808000\">href</span><span style=\"color: #000000; text-decoration-color: #000000\">=</span><span style=\"color: #008000; text-decoration-color: #008000\">\"index.html\"</span><span style=\"font-weight: bold\">&gt;</span>Books to Scrape<span style=\"font-weight: bold\">&lt;</span><span style=\"color: #800080; text-decoration-color: #800080\">/</span><span style=\"color: #ff00ff; text-decoration-color: #ff00ff\">a</span><span style=\"font-weight: bold\">&gt;</span>\n",
                            "</pre>\n"
                        ],
                        "text/plain": [
                            "\u001b[1m<\u001b[0m\u001b[1;95ma\u001b[0m\u001b[39m \u001b[0m\u001b[33mhref\u001b[0m\u001b[39m=\u001b[0m\u001b[32m\"index\u001b[0m\u001b[32m.html\"\u001b[0m\u001b[1m>\u001b[0mBooks to Scrape\u001b[1m<\u001b[0m\u001b[35m/\u001b[0m\u001b[95ma\u001b[0m\u001b[1m>\u001b[0m\n"
                        ]
                    },
                    "metadata": {},
                    "output_type": "display_data"
                }
            ],
            "source": [
                "soup.select_one(\"a\")"
            ]
        },
        {
            "cell_type": "code",
            "execution_count": 167,
            "metadata": {},
            "outputs": [
                {
                    "data": {
                        "text/html": [
                            "<pre style=\"white-space:pre;overflow-x:auto;line-height:normal;font-family:Menlo,'DejaVu Sans Mono',consolas,'Courier New',monospace\"><span style=\"color: #00ff00; text-decoration-color: #00ff00; font-style: italic\">True</span>\n",
                            "</pre>\n"
                        ],
                        "text/plain": [
                            "\u001b[3;92mTrue\u001b[0m\n"
                        ]
                    },
                    "metadata": {},
                    "output_type": "display_data"
                }
            ],
            "source": [
                "soup.select(\"a\", limit=1)[0] is soup.select_one(\"a\")"
            ]
        },
        {
            "cell_type": "code",
            "execution_count": null,
            "metadata": {},
            "outputs": [],
            "source": []
        }
    ],
    "metadata": {
        "kernelspec": {
            "display_name": "base",
            "language": "python",
            "name": "python3"
        },
        "language_info": {
            "codemirror_mode": {
                "name": "ipython",
                "version": 3
            },
            "file_extension": ".py",
            "mimetype": "text/x-python",
            "name": "python",
            "nbconvert_exporter": "python",
            "pygments_lexer": "ipython3",
            "version": "3.8.12"
        },
        "orig_nbformat": 4
    },
    "nbformat": 4,
    "nbformat_minor": 2
}